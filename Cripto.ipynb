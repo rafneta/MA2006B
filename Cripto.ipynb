{
 "cells": [
  {
   "cell_type": "markdown",
   "id": "24c11b51-072e-47b1-990c-5f2e29e9c541",
   "metadata": {},
   "source": [
    "# Criptografía\n",
    "\n",
    "## Definiciones Básicas\n",
    "\n",
    "- **Criptología:** Término genérico utilizado para designar la disciplina que estudia cómo lograr comunicaciones seguras sobre canales que no lo son. \n",
    "\n",
    "- **Criptografía:** Diseño de sistemas y esquemas para realizar comunicaciones confiables sobre canales inseguros (seguridad y protección de la información). \n",
    "  \n",
    "  - Cuando se abre un sitio web\n",
    "  - Cuando enviamos un email\n",
    "  - Cuando nos conectamos al WiFi\n",
    "  \n",
    "\n",
    "\n",
    "- **Criptoanálisis:** Disciplina que estudia cómo romper esquemas criptográficos.\n",
    "\n",
    "- **Texto-claro:** mensaje que desea transmitirse de manera segura.\n",
    "\n",
    "- **Texto-cifrado:** documento que resulta después de haber cifrado el texto-claro.\n",
    "\n",
    "- **Llave o clave:** información secreta que permite cifrar/descifrar documentos.\n",
    "\n",
    "- **Encriptación simetrica** (AES, Twofish, ChaCha20) usa la misma llave para encriptar y decriptar mensajes\n",
    "\n",
    "- **Encriptación asímetrica.** Usa _criptosistemas de llave pública_ (RSA, ECC) y una pareja de llaves: _llave pública_ (llave de encriptación) y la correspondiente _llave privada_ (llave de decriptación) \n",
    "\n",
    "Existen otros tipos de encriptación, pero nuestro objetivo principal son los asímetricos"
   ]
  },
  {
   "cell_type": "markdown",
   "id": "3a499ae7-7157-46b5-969b-b2852ef86365",
   "metadata": {},
   "source": [
    "# Cifrados de sustitución \n",
    "\n",
    "En los cifrados de sustitución simple, se utiliza una reorganización o permutación de las letras del alfabeto, lo que produce una colección de correspondencias que se usará para convertir letras de texto sin formato en letras de texto cifrado. \n",
    "\n",
    "Con cifrados de sustitución más sofisticados, los mensajes y los alfabetos cifrados pueden incluir números, signos de puntuación o combinaciones de varios caracteres, y se pueden realizar sustituciones de palabras o frases completas.\n",
    "\n",
    "<div class=\"eje\">\n",
    "\n",
    "<strong>Ejemplo</strong>\n",
    "\n",
    "<p>Considere un cifrado de sustitución con el siguiente alfabeto cifrado.\n",
    "</p>\n",
    "\n",
    "| | |\n",
    "|----|---|\n",
    "|Plano|ABCDEFGHIJKLMNOPQRSTUVWXYZ|\n",
    "|Cifrado|TVXZUWYADGKNQBEHROSCFJMPIL|\n",
    "\n",
    "Utilizando este alfabeto cifrado, el texto sin formato YOUTH IS WASTED ON THE YOUNG se cifra en el texto cifrado IEFCA DS MTSCUZ EB CAU IEFBY. Este texto cifrado se puede descifrar usando el mismo alfabeto cifrado pero con las correspondencias vistas en el orden inverso.\n",
    "</div>"
   ]
  },
  {
   "cell_type": "markdown",
   "id": "b3a9549a-389a-4576-8f3d-ffb0a5f3830b",
   "metadata": {},
   "source": [
    "Recordemos que una permutación es una función biyectiva, en este caso $$\\phi:\\{A,\\dots,Z\\}\\rightarrow\\{A,\\dots, Z\\}$$\n",
    "\n",
    "En el caso del ejemplo anterior, $\\phi(A)= T$, $\\phi(B) = V$, ..., $\\phi(Z)=L$. Miéntras que,  $\\phi^{-1}(A)= H$, $\\phi^{-1}(B) = N$, ..., $\\phi^{-1}(Z)=D$\n",
    "\n",
    "\n",
    "En total se tienen $26!-1$ (quitamos la permutación identidad) posibles alfabetos planos de sustitución.\n",
    "\n",
    "\n",
    "\n",
    "\n"
   ]
  },
  {
   "cell_type": "markdown",
   "id": "95e961a2-2fbd-47a9-b2c4-6788cac27471",
   "metadata": {},
   "source": [
    "# Cifrados de traslación y afines.\n",
    "\n",
    "_____\n",
    "\n",
    "- Algoritmo de la división\n",
    "- Congruencias\n",
    "- Máximo común divisor\n",
    "- Primos relativos\n",
    "- Solucón de ecuaciones de congruencias\n",
    "____\n",
    "\n",
    "## Cifrados de traslación\n",
    "\n",
    "- Julio cesar\n",
    "- ROT13\n",
    "\n",
    "Para los cifrados de traslación se tiene un orden natural del alfabeto, A, B, ...,Z, y se encripta cada letra del texto plano reemplazandola con la correspondiente un cieto numero de posiciones ala derecha. Se se tiene un alfabeto en un orden distinto al usual (traslación). \n",
    "\n",
    "<div class=\"eje\">\n",
    "\n",
    "<strong>Ejemplo</strong>\n",
    "    \n",
    "Considera un cifrado de traslación donde el texto plano esta escrito en orden usual y se hace una tralación de tres possiciones a la derecha para encriptarlo:\n",
    "\n",
    "| | |\n",
    "|----|---|\n",
    "|Plano|ABCDEFGHIJKLMNOPQRSTUVWXYZ|\n",
    "|Cifrado|DEFGHIJKLMNOPQRSTUVWXYZABC|\n",
    "\n",
    "\n",
    "Entonces por ejemplo \n",
    "    \n",
    "| | |\n",
    "|----|---|\n",
    "|Texto plano|I CAME, I SAW, I CONQUERED|\n",
    "|Texto cifrado|LFDPH LVDZL FRQTX HUHG|\n",
    "\n",
    "</div>\n",
    "\n",
    "\n",
    "Si se realiza la trasformación $f:\\{A,B,\\dots,Z\\}\\rightarrow\\mathbb{Z}_{26}$, entonces para $x\\in\\mathbb{Z}_{26}$ se puede realizar el cifrado con una traslación de $b\\in\\mathbb{Z}^+$ como $y\\equiv x+b\\mod 26$ \n",
    "\n",
    "\n",
    "<div class=\"eje\">\n",
    "\n",
    "<strong>Ejemplo</strong>\n",
    "\n",
    "<p>\n",
    "Considera un cifrado de tralación, con una traslación de $18$ posiciones a la derecha, es decir\n",
    "    $$y\\equiv x+18\\mod 26 $$\n",
    "Usa esta formula pra encriptar el texto plano: JULIUS\n",
    "</p>\n",
    "        \n",
    "    \n",
    "$$\\begin{aligned}\n",
    "&\\mathrm{J} & \\rightarrow x=9 \\rightarrow y=(9+18) \\bmod 26=1 \\rightarrow &\\mathrm{B} &\\\\\n",
    "&\\mathrm{U} & \\rightarrow x=20 \\rightarrow y=(20+18) \\bmod 26=12 \\rightarrow &\\mathrm{M}& \\\\\n",
    "&\\mathrm{L} & \\rightarrow x=11 \\rightarrow y=(11+18) \\bmod 26=3 \\rightarrow &\\mathrm{D}& \\\\\n",
    "&\\mathrm{I} & \\rightarrow x=8 \\rightarrow y=(8+18) \\bmod 26=0 \\rightarrow &\\mathrm{A} &\\\\\n",
    "&\\mathrm{U} &\\rightarrow x=20 \\rightarrow y=(20+18) \\bmod 26=12 \\rightarrow &\\mathrm{M}& \\\\\n",
    "&\\mathrm{S} & \\rightarrow x=18 \\rightarrow y=(18+18) \\bmod 26=10 \\rightarrow &\\mathrm{K}&\n",
    "\\end{aligned}$$\n",
    "    \n",
    "</div>\n"
   ]
  },
  {
   "cell_type": "code",
   "execution_count": 2,
   "id": "f0290081-70a9-4e4a-b58c-3c8c3307038a",
   "metadata": {},
   "outputs": [],
   "source": [
    "import sympy.crypto.crypto as spc"
   ]
  },
  {
   "cell_type": "code",
   "execution_count": 3,
   "id": "c93ef0b1-0d09-4d5f-8250-e84827f71fd2",
   "metadata": {},
   "outputs": [
    {
     "data": {
      "text/plain": [
       "'BMDAMK'"
      ]
     },
     "execution_count": 3,
     "metadata": {},
     "output_type": "execute_result"
    }
   ],
   "source": [
    "m_plano = \"JULIUS\"\n",
    "m_cifrado = spc.encipher_shift(m_plano,18)\n",
    "m_cifrado"
   ]
  },
  {
   "cell_type": "markdown",
   "id": "a2f2c935-f41e-458e-985f-8dfd7a4e92fd",
   "metadata": {},
   "source": [
    "Es claro que para recuperar el valor $x$ a partir de $y$ se tiene que realizar  $x\\equiv y-b\\mod 26$  "
   ]
  },
  {
   "cell_type": "code",
   "execution_count": 4,
   "id": "5482724c-e62a-469b-b36e-61a88077a1de",
   "metadata": {},
   "outputs": [
    {
     "data": {
      "text/plain": [
       "'JULIUS'"
      ]
     },
     "execution_count": 4,
     "metadata": {},
     "output_type": "execute_result"
    }
   ],
   "source": [
    "spc.decipher_shift(m_cifrado,18)"
   ]
  },
  {
   "cell_type": "markdown",
   "id": "9997188f-7395-4957-a0be-736537ba643f",
   "metadata": {},
   "source": [
    "### Criptoanalisis cifrados de traslación\n",
    "\n",
    "Estos cifrados son fáciles de romper. Se puede realizar un ataque de fuerza bruta, solo basta con probar 25 tralaciones diferentes, hasta tener un téxto con _sentido_. Si el texto descifrar es muy extenso, se puede desencriptar una parte (para encontrar la traslación) y posteriromente todo el mensaje.\n",
    "\n",
    "<div class=\"eje\">\n",
    "\n",
    "    \n",
    "<strong>Ejemplo</strong>\n",
    "    \n",
    "    \n",
    "Considera el sigueinte mensaje:<br>\n",
    "    \n",
    "HVSDF CPZSA KWHVG CQWOZ WGAWG HVOHS JSBHI OZZMM CIFIB CIHCT CHVSF DSCDZ SGACB SM,\n",
    "\n",
    "El cual se ha formado con utilizando un cifrado de traslación.\n",
    "    \n",
    "¿Cuál es la traslación asignada?\n",
    "    \n",
    "b=1: GURCEBOYRZ      b=8: ZNKVXUHRKS\n",
    "   \n",
    "b=2: FTQBDANXQY      b=9: YMJUWTGQJR\n",
    "    \n",
    "b=3: ESPACZMWPX b=10: XLITVSFPIQ\n",
    "    \n",
    "b=4: DROZBYLVOW b=1: WKHSUREOHP\n",
    "    \n",
    "b=5: CQNYAXKUNV b=12: VJGRTQDNGO\n",
    "    \n",
    "b=6: BPMXZWJTMU  b=13: UIFQSPCMFN\n",
    "    \n",
    "b=7: AOLWYVISLT b=14: THEPROBLEM\n",
    "    \n",
    "    \n",
    "Entonces el mensaje es:\n",
    "    \n",
    "THE PROBLEM WITH SOCIALISM IS THAT EVENTUALLY YOU RUN OUT OF OTHER PEOPLE’S MONEY\n",
    "\n",
    "   \n",
    "</div>\n"
   ]
  },
  {
   "cell_type": "code",
   "execution_count": 5,
   "id": "496002b9-b125-439a-9ace-9a57d3809c8e",
   "metadata": {},
   "outputs": [],
   "source": [
    "def des_cesar(m_cifrado):\n",
    "    abc = 'ABCDEFGHIJKLMNOPQRSTUVWXYZ'\n",
    "    for key in range(len(abc)):\n",
    "        m_plano = ''\n",
    "        for symbol in m_cifrado:\n",
    "            if symbol in abc:\n",
    "                num = abc.find(symbol)\n",
    "                num = num - key\n",
    "                if num < 0:\n",
    "                    num = num + len(abc)\n",
    "                m_plano = m_plano + abc[num]\n",
    "            else:\n",
    "                m_plano = m_plano + symbol\n",
    "        print(f\"traslación b = {key}, mensaje plano: {m_plano}\") "
   ]
  },
  {
   "cell_type": "code",
   "execution_count": 6,
   "id": "dc9c0840-17b8-4531-baf0-9226afc3408a",
   "metadata": {},
   "outputs": [
    {
     "name": "stdout",
     "output_type": "stream",
     "text": [
      "traslación b = 0, mensaje plano: HVSDFCPZSA\n",
      "traslación b = 1, mensaje plano: GURCEBOYRZ\n",
      "traslación b = 2, mensaje plano: FTQBDANXQY\n",
      "traslación b = 3, mensaje plano: ESPACZMWPX\n",
      "traslación b = 4, mensaje plano: DROZBYLVOW\n",
      "traslación b = 5, mensaje plano: CQNYAXKUNV\n",
      "traslación b = 6, mensaje plano: BPMXZWJTMU\n",
      "traslación b = 7, mensaje plano: AOLWYVISLT\n",
      "traslación b = 8, mensaje plano: ZNKVXUHRKS\n",
      "traslación b = 9, mensaje plano: YMJUWTGQJR\n",
      "traslación b = 10, mensaje plano: XLITVSFPIQ\n",
      "traslación b = 11, mensaje plano: WKHSUREOHP\n",
      "traslación b = 12, mensaje plano: VJGRTQDNGO\n",
      "traslación b = 13, mensaje plano: UIFQSPCMFN\n",
      "traslación b = 14, mensaje plano: THEPROBLEM\n",
      "traslación b = 15, mensaje plano: SGDOQNAKDL\n",
      "traslación b = 16, mensaje plano: RFCNPMZJCK\n",
      "traslación b = 17, mensaje plano: QEBMOLYIBJ\n",
      "traslación b = 18, mensaje plano: PDALNKXHAI\n",
      "traslación b = 19, mensaje plano: OCZKMJWGZH\n",
      "traslación b = 20, mensaje plano: NBYJLIVFYG\n",
      "traslación b = 21, mensaje plano: MAXIKHUEXF\n",
      "traslación b = 22, mensaje plano: LZWHJGTDWE\n",
      "traslación b = 23, mensaje plano: KYVGIFSCVD\n",
      "traslación b = 24, mensaje plano: JXUFHERBUC\n",
      "traslación b = 25, mensaje plano: IWTEGDQATB\n"
     ]
    }
   ],
   "source": [
    "m_cifrado = \"HVSDFCPZSA\"\n",
    "des_cesar(m_cifrado)"
   ]
  },
  {
   "cell_type": "code",
   "execution_count": 7,
   "id": "ce4c5322-7f69-48c8-a384-75a9b3568927",
   "metadata": {},
   "outputs": [
    {
     "data": {
      "text/plain": [
       "'THEPROBLEMWITHSOCIALISMISTHATEVENTUALLYYOURUNOUTOFOTHERPEOPLESMONEY'"
      ]
     },
     "execution_count": 7,
     "metadata": {},
     "output_type": "execute_result"
    }
   ],
   "source": [
    "m_cifrado = \"HVSDF CPZSA KWHVG CQWOZ WGAWG HVOHS JSBHI OZZMM CIFIB CIHCT CHVSF DSCDZ SGACB SM\"\n",
    "spc.decipher_shift(m_cifrado,14)\n"
   ]
  },
  {
   "cell_type": "markdown",
   "id": "49526a5d-61fa-44d1-89e5-abdb1b12c5ad",
   "metadata": {},
   "source": [
    "## Cifrados afines.\n",
    "\n",
    "Tenemos un texto plano expresado utilizando las letras en el alfabeto A, B, C, ... , Z, convertimos estas letras a números utilizando la correspondencia A= 0, B= 1, C= 2, ... , Z = 25. Para $a,b\\in\\mathbb{Z}_{26}$ el **cifrado afín** se define como\n",
    "\n",
    "$$y\\equiv (ax+b)\\bmod 26$$\n",
    "\n",
    "con $mcd(a,26)=1$ (¿por qué?)."
   ]
  },
  {
   "cell_type": "markdown",
   "id": "9283582f-5254-4274-87af-7bbd03caf464",
   "metadata": {},
   "source": [
    "<div class=\"eje\">\n",
    "\n",
    "<strong>Ejemplo</strong>\n",
    "\n",
    "<p>\n",
    "Considera un cifrado afín, con la siguiente fórmula de traslación\n",
    "\n",
    "$$y\\equiv (5x+4) \\mod 26 $$\n",
    "\n",
    "Usando esta fórmula, el texto plano RADFORD se encripta como \n",
    "</p>\n",
    "        \n",
    "<div class=\"polaroid\">\n",
    "<img src=\"imagenes/eje6_17_rk.png\" alt=\"Pareja\">\n",
    "</div>\n",
    "\n",
    "</div>"
   ]
  },
  {
   "cell_type": "code",
   "execution_count": 8,
   "id": "da74b2a4-1bac-44a3-adb7-c1d8596a841b",
   "metadata": {},
   "outputs": [],
   "source": [
    "import sympy.crypto.crypto as spc"
   ]
  },
  {
   "cell_type": "code",
   "execution_count": 9,
   "id": "23a9577c-ad8b-4614-9e22-ec82e28f4d47",
   "metadata": {},
   "outputs": [
    {
     "data": {
      "text/plain": [
       "'LETDWLT'"
      ]
     },
     "execution_count": 9,
     "metadata": {},
     "output_type": "execute_result"
    }
   ],
   "source": [
    "texto_plano = \"RADFORD\"\n",
    "a = 5\n",
    "b = 4\n",
    "key = (a,b)\n",
    "texto_cifrado = spc.encipher_affine(texto_plano,key)\n",
    "texto_cifrado"
   ]
  },
  {
   "cell_type": "code",
   "execution_count": 10,
   "id": "d05609ee-fb85-4c64-af2d-e6614e339700",
   "metadata": {},
   "outputs": [
    {
     "data": {
      "text/plain": [
       "'RADFORD'"
      ]
     },
     "execution_count": 10,
     "metadata": {},
     "output_type": "execute_result"
    }
   ],
   "source": [
    "spc.decipher_affine(texto_cifrado,key)"
   ]
  },
  {
   "cell_type": "markdown",
   "id": "a8e4d562-be61-43cf-8478-0330aa450b51",
   "metadata": {},
   "source": [
    "Es claro, que para decriptar un cifrado afín se debe realizar\n",
    "\n",
    "$$x\\equiv a^{-1}(y-b)\\bmod 26$$"
   ]
  },
  {
   "cell_type": "markdown",
   "id": "4a4470ad-9ed6-45c9-a204-e69f2abb159b",
   "metadata": {},
   "source": [
    "<div class=\"eje\">\n",
    "\n",
    "<strong>Ejemplo</strong>\n",
    "\n",
    "<p> Si se tiene el cifrado afín $y\\equiv (5x+4) \\mod 26 $ encuentra la función que decripta.\n",
    "</p>\n",
    "            \n",
    "</div>"
   ]
  },
  {
   "cell_type": "code",
   "execution_count": 11,
   "id": "476fa2a7-2786-489e-9496-422b968a8e53",
   "metadata": {},
   "outputs": [],
   "source": [
    "import sympy as sp"
   ]
  },
  {
   "cell_type": "code",
   "execution_count": 12,
   "id": "c06dcca9-f793-40b2-a076-0e67412c2c01",
   "metadata": {},
   "outputs": [
    {
     "data": {
      "text/latex": [
       "$\\displaystyle 21$"
      ],
      "text/plain": [
       "21"
      ]
     },
     "execution_count": 12,
     "metadata": {},
     "output_type": "execute_result"
    }
   ],
   "source": [
    "a = 5\n",
    "b = 4\n",
    "m = 26\n",
    "sp.invert(a,m)"
   ]
  },
  {
   "cell_type": "code",
   "execution_count": 13,
   "id": "987263a4-d1f0-4ee0-a301-be9bd1ee851c",
   "metadata": {},
   "outputs": [
    {
     "data": {
      "text/plain": [
       "(-5, 1, 1)"
      ]
     },
     "execution_count": 13,
     "metadata": {},
     "output_type": "execute_result"
    }
   ],
   "source": [
    "# De forma equivalente\n",
    "sp.gcdex(a,m)"
   ]
  },
  {
   "cell_type": "code",
   "execution_count": 14,
   "id": "965d7aed-f457-444a-8214-188bacd50abe",
   "metadata": {},
   "outputs": [
    {
     "data": {
      "text/latex": [
       "$\\displaystyle 21$"
      ],
      "text/plain": [
       "21"
      ]
     },
     "execution_count": 14,
     "metadata": {},
     "output_type": "execute_result"
    }
   ],
   "source": [
    "_[0] + 26 # respuesta anterior _"
   ]
  },
  {
   "cell_type": "code",
   "execution_count": 15,
   "id": "b3e81f5a-bcd9-4a24-8d10-85b1914e1709",
   "metadata": {},
   "outputs": [
    {
     "data": {
      "text/plain": [
       "22"
      ]
     },
     "execution_count": 15,
     "metadata": {},
     "output_type": "execute_result"
    }
   ],
   "source": [
    "- b + 26"
   ]
  },
  {
   "cell_type": "markdown",
   "id": "cdd4a390-08e0-4721-ba65-0e7e59cc1de8",
   "metadata": {},
   "source": [
    "<div class=\"eje\">\n",
    "\n",
    "<strong>Ejemplo sigue...</strong>\n",
    "\n",
    "<p> Así la fórmula de inversión es \n",
    "$$x\\equiv 21(y + 22)\\bmod 26$$\n",
    "</p>\n",
    "            \n",
    "</div>"
   ]
  },
  {
   "cell_type": "markdown",
   "id": "f774f762-147b-46f9-8f12-dd764c20894b",
   "metadata": {},
   "source": [
    "<div class=\"eje\">\n",
    "\n",
    "<strong>Ejemplo</strong>\n",
    "\n",
    "<p> Se tiene el texto cifrado FSLISRSE, se sabe qeu se cifra con $y\\equiv (5x+4) \\mod 26 $, encuentra el texto plano\n",
    "</p>\n",
    "    \n",
    "<div class=\"polaroid\">\n",
    "<img src=\"imagenes/eje6_19_rk.png\" alt=\"Pareja\">\n",
    "</div>\n",
    "            \n",
    "</div>"
   ]
  },
  {
   "cell_type": "markdown",
   "id": "b2d23247-a6f2-4483-b228-c108a66643a4",
   "metadata": {},
   "source": [
    "### Criptoanálisis de cifradoas afines\n",
    "\n",
    "Los cifrados afines pueden ser vulnerados mediante un ataque de fuerza bruta, considerando que los posibles valores de $b$ y los posibles valores de $a$"
   ]
  },
  {
   "cell_type": "code",
   "execution_count": 16,
   "id": "3c3e265d-95d2-435d-853f-17d3446e75c0",
   "metadata": {},
   "outputs": [
    {
     "data": {
      "text/plain": [
       "12"
      ]
     },
     "execution_count": 16,
     "metadata": {},
     "output_type": "execute_result"
    }
   ],
   "source": [
    "m = 26\n",
    "sp.totient(m)"
   ]
  },
  {
   "cell_type": "markdown",
   "id": "1a58951a-a99c-479b-9ccb-742174fddb4e",
   "metadata": {},
   "source": [
    "Entonces, considerando que $a\\neq1$ y $b\\neq 0$ no son usadas (simultaneamente, pues implicaria que no se hizo ninguna encriptación), tenemos que el número total de llaves posibles es $(12 · 26) − 1 = 311 $ (aquí la llave es una pareja de números)"
   ]
  },
  {
   "cell_type": "markdown",
   "id": "3a27a460-4891-4055-b34b-0bfca8b87c0d",
   "metadata": {},
   "source": [
    "# Criptosistema\n",
    "\n",
    "Un criptosistema es una quíntupla \n",
    "\n",
    "$$\\left(M,C,K,E,D\\right)$$\n",
    "\n",
    "$M$ conjunto de todos los mensajes planos.\n",
    "\n",
    "$C$ conjunto de todos los mensajes cifrados\n",
    "\n",
    "$D$ conjunto de las claves que se pueden emplear\n",
    "\n",
    "$E$ es el conjunto de las funciones de cifrado $E_k: M\\rightarrow C$ equivalentemente $E:M\\times K\\rightarrow C$ \n",
    "\n",
    "$D$ es el conjunto de funciones de descifrado $D_k: C\\rightarrow M$ equivalentemente $D:C\\times K\\rightarrow E$\n",
    "\n",
    "De tal forma que \n",
    "\n",
    "$$D_k(E_k(m)) = m;\\;\\;\\forall\\, k\\in K,\\;\\forall\\,m\\in M$$"
   ]
  },
  {
   "cell_type": "markdown",
   "id": "151a7e03-52a0-4fd5-943e-072b622810d9",
   "metadata": {},
   "source": [
    "# Critografía de clave pública (criptografía asimétrica)\n",
    "\n",
    "Los algoritmos simétricos utilizan una llave para encriptar y una segunda llave (pero relacionada matemáticamente con anterior) para decriptar. Algunos ejemplos de este tipo de algortimos son:\n",
    "\n",
    "1. RSA (Rivest–Shamir–Adleman). Se basa en la exponenciación modular junto con la dificultad computacional del problema de factorización entera\n",
    "\n",
    "2. ECC (Elliptic Curve Cryptography). Se basa en las matematicas de las curvas elipticas sobre campos finitos y la dificulatad del problema del logaritmo discreto en curvas elipticas\n",
    "\n",
    "\n",
    "Estos algoritmos tienen la siguiente carácteristica importante:\n",
    "\n",
    "> Es computacionalmente inviable determinar la llave de decriptación conociendo el algoritmo criptografíco y la llave de encriptación\n",
    "\n",
    "Dependiendo del algoritmo, se tiene\n",
    "\n",
    ">  Una de las llaves (privada/pública) es utilizada para encriptar mientras que la otra es usada para decriptar (pública/privada)\n",
    "\n",
    "Esquema de encriptación de llave pública: llave pública encripta, llave privada decripta. Esto provee **confidencialidad**, cualquiera puede preparar el mensaje.\n",
    "\n",
    "\n",
    "<div class=\"polaroid\">\n",
    "<img src=\"imagenes/stal_cn_9_1a.jpg\" alt=\"Pareja\">\n",
    "</div>\n",
    "\n",
    "\n",
    "Esquema de encriptación de llave pública: llave privada encripta, llave pública decripta. Esto provee **autentificación**, solo una persona pudo preprara el mensaje. No provee **confidencialidad**\n",
    "\n",
    "\n",
    "<div class=\"polaroid\">\n",
    "<img src=\"imagenes/stal_cn_9_1b.jpg\" alt=\"Pareja\">\n",
    "</div>"
   ]
  },
  {
   "cell_type": "markdown",
   "id": "4e1e9050-0556-4d0c-8c8f-0701d5120070",
   "metadata": {},
   "source": [
    "Se puede clasificar el uso de los criptosistemas de llave pública dentro de tres categorias\n",
    "\n",
    "- **Encriptación / Decriptación.** El emisor encripta un mensaje con la llve pública del receptor, y el receptor decripta el mensaje con su llave privada.\n",
    "\n",
    "- **Firmas digitales.** El emisor _firma _ un mensaje con su llave privada. La firma se logra mediante un algoritmo criptográfico aplicado al mensaje o a un pequeño bloque de datos que es una función del mensaje.\n",
    "\n",
    "- **Intercambuo de claves.** Dos partes cooperan para intercambiar una clave de sesión, que es una clave secreta para el cifrado simétrico generada para su uso en una transacción (o sesión) en particular y válida por un período corto de tiempo. Son posibles varios enfoques diferentes, que involucran la(s) clave(s) privada(s) de una o ambas partes.\n",
    "\n",
    "Algunos algoritmos pueden ser utilizados para estas tres categorias, se indican algunas posibilidades.\n",
    "\n",
    "| Algoritmo|Encriptación/Decriptación | Firmas digitales | Intercambio de claves|\n",
    "|----|---|----|---|\n",
    "|RSA|Sí|Sí|Sí|\n",
    "|Curva Eliptica|Sí|Sí|Sí|\n",
    "|Diffie-Hellman|No|No|Sí|\n",
    "|DSS|No|Sí|No|\n",
    "\n"
   ]
  },
  {
   "cell_type": "markdown",
   "id": "0edafa27-53de-4a5b-8390-c441699009ee",
   "metadata": {},
   "source": [
    "# Cifrados RSA\n",
    "\n",
    "___\n",
    "\n",
    "**Herramienta**\n",
    "\n",
    "- Algoritmo euclideano\n",
    "- Inversion modular\n",
    "- Operaciones con primos\n",
    "- Exponenciación Modular\n",
    "   - Varios metodos (Teorema chino del residuo es uno)\n",
    "- ASCII\n",
    "- Pequeño teorema de Fermat (asegura invertibilidad)\n",
    "- Pruebas de primalidad\n",
    "- Pseudoprimos\n",
    "\n",
    "____\n",
    "\n",
    "- 1970 y 1973 James Ellis Clifford Cocks y Malcolm Williamson habien elaborado descubrimientos previos.\n",
    "\n",
    "\n",
    "- 1976 Diffie - Hellman: New Directions in Cryptography, la idea de llave publica. \n",
    "\n",
    "\n",
    "- Rivest, Shamir, Adleman (RSA)\n",
    "\n",
    "\n",
    "Cifrados de traslación     -->       adición modular \n",
    "\n",
    "Cifrados afines            -->       multiplicación modular\n",
    "\n",
    "Cifrados tipo Hill         -->       multiplicación matricial modular\n",
    "\n",
    "Cifrados RSA               -->       exponenciación modular con primos\n",
    "\n",
    "\n",
    "Alice quiere mandar un mensaje a Bob pero el canal de comunicación no es seguro. Y quiere usar un cifrado para portejer el mensaje de externos. Los passo básicos en uso de un cifrado de RSA son los siguientes:\n",
    "\n",
    "1. El receptro inicia elegiendo dos nuemros primos $p$, $q$, distintos. Y calcula $m=pq$ y $f = (p-1)(q-1)$ (aquí es totient). Despues eleige un entero $e$ entre $1$ y $f$ con la propiedad de $mcd(e,f) = 1$ y manda los valores de $e$ y $m$ al emisor del mensaje en la linea de comunicación insegura. \n",
    "\n",
    "2. Supón que el mensaje plano numerico es  expresado en entreros positivos $x$ menores a $m$. Entonces,para cada entero de texto plano el emisor encripta $x$ formando $y$ mediante \n",
    "\n",
    "<div>\n",
    "\\begin{equation}\n",
    "\\label{rsaf}\n",
    "y \\equiv x^e \\bmod m\n",
    "\\end{equation}\n",
    " </div>\n",
    "    \n",
    "El emisor envia los enteros del texto cifrado $y$ al receptor en el canal de comunicaciones inseguras\n",
    "\n",
    "3. Para desencriptar los entereos del texto cifrado $y$, el receptor debe encontrar el inverso multiplicativo $d\\equiv e^{-1}\\bmod f$. Entonces para cada entero $y$ de texto cifrado, el receptor desencripta contrutendo al sigueinte cantidad, la cuel resulta ser el eentero de texto plano del cual se formo $y$\n",
    "\n",
    "<div>\n",
    "\\begin{equation}\n",
    "\\label{rsafinv}\n",
    "x \\equiv y^d \\bmod m\n",
    "\\end{equation}\n",
    "  </div>\n"
   ]
  },
  {
   "cell_type": "markdown",
   "id": "f4f36861-3cdd-4600-bc41-36aec2d77849",
   "metadata": {},
   "source": [
    "<div class=\"eje\">\n",
    "\n",
    "<strong>Ejemplo</strong>\n",
    "\n",
    "Su pongamos la asociación $A\\rightarrow 0$, $B\\rightarrow 1$, $\\dots$, $Z\\rightarrow 25$.\n",
    "    \n",
    "El receptor elige\n",
    "    \n",
    "- $p = 3$, $q = 11$\n",
    "- $m=pq= 33$, $f = (p-1)(q-1)=20$\n",
    "- Elige $e = 7$\n",
    "    \n",
    "El emisor recibe los valores $m = 33$ y $e=7$ y se dispone a encriptar el mensaje, supongamos que el mensaje a enviar es _B.B. KING_ $1,1,10,8,13,6$ entonces se tiene\n",
    "\n",
    "                \n",
    "\n",
    "<div class=\"polaroid\">\n",
    "<img src=\"imagenes/eje9_1_rk.png\" alt=\"Pareja\">\n",
    "</div>\n",
    "\n",
    "Para desencriptar el mensaje se calcula $d\\equiv e^{-1}\\bmod f=7^{-1}\\bmod 20$ en este casp $d = 3$. Como ejercicio desencripta el mensaje. \n",
    "\n",
    "\n",
    "</div>\n",
    "\n",
    "\n",
    "\n"
   ]
  },
  {
   "cell_type": "markdown",
   "id": "59bba299-daa8-444a-9412-719f2fed1002",
   "metadata": {},
   "source": [
    "Como se mandan las llaves $e$ y $m$ por un canal inseguro, es por eso que RSA es de _public-key_, es decir, se asumen de dominio público.   \n",
    "\n",
    "Por las condiciones que se piden para  $e$ y para $f$, se tienen que $sf + te =1$ y de ahi que $e^{-1} \\bmod f = t \\bmod f$ \n"
   ]
  },
  {
   "cell_type": "code",
   "execution_count": 17,
   "id": "3f5fc097-d519-4e12-a7db-173a056fb143",
   "metadata": {},
   "outputs": [],
   "source": [
    "import sympy as sp"
   ]
  },
  {
   "cell_type": "code",
   "execution_count": 18,
   "id": "1b3cb356-0bc2-424c-b97d-d69c007fdcb0",
   "metadata": {},
   "outputs": [
    {
     "data": {
      "text/plain": [
       "(3, -1, 1)"
      ]
     },
     "execution_count": 18,
     "metadata": {},
     "output_type": "execute_result"
    }
   ],
   "source": [
    "e = 7\n",
    "f = 20\n",
    "res = sp.gcdex(e,f)\n",
    "res"
   ]
  },
  {
   "cell_type": "code",
   "execution_count": 19,
   "id": "1e904138-ef6f-4464-ad4e-5e4a59b3e382",
   "metadata": {},
   "outputs": [
    {
     "data": {
      "text/latex": [
       "$\\displaystyle 3$"
      ],
      "text/plain": [
       "3"
      ]
     },
     "execution_count": 19,
     "metadata": {},
     "output_type": "execute_result"
    }
   ],
   "source": [
    "t = res[0]\n",
    "d = t % f\n",
    "d"
   ]
  },
  {
   "cell_type": "code",
   "execution_count": 20,
   "id": "0b0efeb9-65a1-4b81-835b-1ffb82ecc953",
   "metadata": {},
   "outputs": [
    {
     "data": {
      "text/latex": [
       "$\\displaystyle 3$"
      ],
      "text/plain": [
       "3"
      ]
     },
     "execution_count": 20,
     "metadata": {},
     "output_type": "execute_result"
    }
   ],
   "source": [
    "sp.invert(e,f)  # de forma directa"
   ]
  },
  {
   "cell_type": "markdown",
   "id": "1653c3cd-cbc4-427e-96d1-3d03f71d6018",
   "metadata": {},
   "source": [
    "\n",
    "\n",
    "<div class=\"eje\">\n",
    "\n",
    "<strong>Ejemplo</strong>\n",
    "\n",
    "Su pongamos la asociación del alfabeto con el código ASCII\n",
    "    \n",
    "El receptor elige\n",
    "    \n",
    "- $p =4333$, $q = 2333$\n",
    "- $m=pq= 1010189$, $f = (p-1)(q-1)=1007424$\n",
    "- Elige $e = 683$ entonces $d = 1475$\n",
    "    \n",
    "El emisor recibe los valores $m = 1010189$ y $e=683$ y se dispone a encriptar el mensaje, supongamos que el mensaje a enviar es _B.B. KING_ $66,46,66,46,32,75,10.5,110,103$ entonces se tiene que separar el mensaje numerico plano en bloques, de tal forma que cada bloque no supere el valor de $m$ (Esto evita no inveribilidad, ¿hay otro motivo, para realizar la separación?)              \n",
    "\n",
    "<div class=\"polaroid\">\n",
    "<img src=\"imagenes/eje9_13_1_rk.png\" alt=\"Pareja\">\n",
    "</div>\n",
    "\n",
    " \n",
    "El mensaje desencriptado\n",
    "    \n",
    "<div class=\"polaroid\">\n",
    "<img src=\"imagenes/eje9_13_2_rk.png\" alt=\"Pareja\">\n",
    "</div>\n",
    "\n",
    "</div>\n",
    "\n",
    "Si los bloques son pequeños el cifrado se puede romper utilizando digrafos o trigrafos en el analisis frecuencial. Así eligiendo numeros $p$ y $q$ muy grandes se hace posible enviar todo el texto cifrado en un solo bloqie y reduce la porbablidad de que el codigo sea _hackeado_. \n",
    "\n",
    "Cabe aclarar que la invertibilidad es debida al pequeño teorema de Fermat\n",
    "\n",
    "De las relacionde del cifrado RSA, se tiene que \n",
    "\n",
    "$$\n",
    "x^{e d}=x^{1+k f}=x \\cdot x^{k f}=x \\cdot x^{k(p-1)(q-1)}\n",
    "$$\n",
    "\n",
    "Si $(x,p)$ satisfaces el pequeño teorema de Fermat, $x^{p-1}\\equiv 1 \\bmod p$\n",
    "\n",
    "$$\n",
    "x^{e d} \\bmod p=x \\cdot x^{k(p-1)(q-1)} \\bmod p=x \\cdot\\left(x^{p-1}\\right)^{k(q-1)} \\bmod p=x \\cdot 1=x\n",
    "$$\n",
    "\n",
    "Y aunque no se tenga la porpiedad de coprimos. Se repite este procede para $q$. Utilizando estas dos condiciones, $x^{ed}-x$ debe ser un múltiplo de $m=pq$ por lo que se tiene el resultado. \n"
   ]
  },
  {
   "cell_type": "markdown",
   "id": "1e1e61b9-6dc4-431d-82c5-5d360ff9d4ad",
   "metadata": {},
   "source": [
    "<div class=\"polaroid\">\n",
    "<img src=\"imagenes/stal_cn_9_7.png\" alt=\"Pareja\">\n",
    "</div>"
   ]
  },
  {
   "cell_type": "markdown",
   "id": "91c8594c-e8c5-468b-ba53-a5de3addb084",
   "metadata": {},
   "source": [
    "## RSA con Sympy"
   ]
  },
  {
   "cell_type": "code",
   "execution_count": 21,
   "id": "276d63f2-28a7-41fc-857b-e70d9c1b215f",
   "metadata": {},
   "outputs": [],
   "source": [
    "import sympy.crypto.crypto as spcc"
   ]
  },
  {
   "cell_type": "code",
   "execution_count": 22,
   "id": "1b36299c-b8c7-4bbb-96fb-b3738730d47c",
   "metadata": {},
   "outputs": [
    {
     "data": {
      "text/plain": [
       "(187, 7)"
      ]
     },
     "execution_count": 22,
     "metadata": {},
     "output_type": "execute_result"
    }
   ],
   "source": [
    "p= 17\n",
    "q = 11\n",
    "e = 7\n",
    "Pu = spcc.rsa_public_key(p,q,e)\n",
    "Pu"
   ]
  },
  {
   "cell_type": "code",
   "execution_count": 23,
   "id": "979842bd-d533-4627-a665-68db970059df",
   "metadata": {},
   "outputs": [
    {
     "data": {
      "text/plain": [
       "(187, 23)"
      ]
     },
     "execution_count": 23,
     "metadata": {},
     "output_type": "execute_result"
    }
   ],
   "source": [
    "Pr = spcc.rsa_private_key(p,q,e)\n",
    "Pr"
   ]
  },
  {
   "cell_type": "code",
   "execution_count": 24,
   "id": "32d2d989-431b-48de-8983-6c4542f1b79d",
   "metadata": {},
   "outputs": [
    {
     "data": {
      "text/plain": [
       "11"
      ]
     },
     "execution_count": 24,
     "metadata": {},
     "output_type": "execute_result"
    }
   ],
   "source": [
    "m_emisor = 88\n",
    "C = spcc.encipher_rsa(88,Pu)\n",
    "C"
   ]
  },
  {
   "cell_type": "code",
   "execution_count": 25,
   "id": "a07ac8b6-e3e3-411e-8443-522025d07f71",
   "metadata": {},
   "outputs": [
    {
     "data": {
      "text/plain": [
       "88"
      ]
     },
     "execution_count": 25,
     "metadata": {},
     "output_type": "execute_result"
    }
   ],
   "source": [
    "m_receptor = spcc.decipher_rsa(C,Pr)\n",
    "m_receptor"
   ]
  },
  {
   "cell_type": "markdown",
   "id": "4867d95a-ef9f-478c-9cc0-e5f667d3cad6",
   "metadata": {},
   "source": [
    "## Aspectos de computo RSA\n",
    "\n",
    "Para implementar el algoritmo RSA es necesario\n",
    "\n",
    "\n",
    "- Elegor $p$ y $q$ para calcular $n = pq$\n",
    "- Elegir $e$\n",
    "- Calcular $d$, inverso de $e$\n",
    "- Realizar potencias en el módulo\n",
    "\n",
    "\n",
    "### Elegir $p$ y $q$ para calcular\n",
    "\n",
    "En la actualidad, no existen técnicas útiles que produzcan números primos arbitrariamente grandes,\n",
    "por lo que se necesitan otros medios para abordar el problema. \n",
    "\n",
    "El procedimiento que generalmente se usa es elegir al azar un número impar del orden de magnitud deseado y probar si ese número es primo. Si no, elija números aleatorios sucesivos hasta que encuentre uno que sea primo.\n",
    "\n",
    "Como ejemplo, uno de los algoritmos más eficientes y populares, el algoritmo Miller-Rabin. Este algoritmo se puede revisar en  el notebook cinco de la [siguiente página](http://illustratedtheoryofnumbers.com/prog.html#notebooks)  \n",
    "\n",
    "### Elegir $e$\n",
    "\n",
    "Para optimizar las operaciones, usualmente se hace una elección especifica de $e$. Algunos de los valores usuales son:\n",
    "\n",
    "-  $65537$\n",
    "- $17$\n",
    "- $3$"
   ]
  },
  {
   "cell_type": "code",
   "execution_count": 52,
   "id": "9ec0ef70-e86f-4546-bc09-2af0f256688e",
   "metadata": {},
   "outputs": [
    {
     "name": "stdout",
     "output_type": "stream",
     "text": [
      "0b10000000000000001 0b10001 0b11\n"
     ]
    }
   ],
   "source": [
    "print(bin(65537),bin(17),bin(3))"
   ]
  },
  {
   "cell_type": "markdown",
   "id": "e2549601-1448-4763-8ca8-27b2215f4e82",
   "metadata": {},
   "source": [
    "Como el exponente solo tiene dos bits unos, entonces el porceso de multiplicación se optimiza. Dentro de RSA debe pasar que $\\operatorname{mcd}(e,\\phi(n))= 1$, pero como se fija la elección de $e$, podría ser necesario generar una nueva $n= pq$ sino se satificace la condición necesaria.\n",
    "\n",
    "## Calcular $d$\n",
    "\n",
    "Se puede realizar mediante el algoritmo de euclides extendido ($ax+by = 1$), pero se tienen que elevar el texto cifrasdo a la potencia $d$, esto se puede optimzar utilizando el _Teorema chino del residuo_\n"
   ]
  },
  {
   "cell_type": "markdown",
   "id": "20cd7745-c1eb-4d7a-bf70-c644a5847204",
   "metadata": {},
   "source": [
    "### Realizar Potencias en el módulo\n",
    "\n",
    "Una forma eficiente de calcular $a^b \\bmod n$ es utilizar el algoritmo de Pingala, que toma de base la representación binaria del exponente. Este algoritmo se puede revisar en la sección _Pingala's exponentiation algorithm_  del notebook cinco de la [siguiente página](http://illustratedtheoryofnumbers.com/prog.html#notebooks)  \n",
    "\n",
    "### Tipos de codificación \n",
    "\n",
    "[DER vs PEM](http://www.gtopia.org/blog/2010/02/der-vs-crt-vs-cer-vs-pem-certificates/)\n",
    "\n",
    "## Seguridad de RSA\n",
    " \n",
    "Los diferentes tipos de ataque para RSA\n",
    "\n",
    "- **Fuerza bruta** Provar todas las llaves  privadas posibles\n",
    "\n",
    "- **Matematicos** Encontrar $\\phi(n)$ equivale a tratar de factorizar $n$ \n",
    "\n",
    "- **Tiempo** Depende del tiempo de ejecución del algoritmo de decriptación\n",
    "\n",
    "- **Con base en falla de software** Inducro fallas de hardware de porcesamiento\n",
    "\n",
    "- **Eligiendo texto cifrado** Explota las propiedades del RSA"
   ]
  },
  {
   "cell_type": "markdown",
   "id": "c9d5d99f-fafc-41b2-8e04-287b3be49293",
   "metadata": {},
   "source": [
    "# Intercambio de llaves Diffie-Hellman\n",
    "\n",
    "___\n",
    "\n",
    "**Herramienta**\n",
    "\n",
    "- Logaritmos discretos\n",
    "\n",
    "____\n",
    "\n",
    "\n",
    "Es un metodo criptografico para el intercambio seguro de llaves criptograficas (DHKE), sobre un canal (inseguro) público, de tal forma que si la comunicación  escuchada no se revela la llave. \n",
    "\n",
    "Fue uno de los primeros protocolos de llave pública. \n",
    "\n",
    "\n",
    "\n",
    "\n",
    "<div class=\"polaroid\">\n",
    "<img src=\"imagenes/stal_cn_10_1.png\" alt=\"Pareja\">\n",
    "</div>\n"
   ]
  },
  {
   "cell_type": "markdown",
   "id": "9604a00f-8ed8-4c47-b6f2-c8f369e11f5a",
   "metadata": {},
   "source": [
    "\n",
    "Siempre es posible romper un intercambio de claves Diffie-Hellman encontrando un logaritmo discreto.\n",
    "\n",
    "Con un módulo muy grande, incluso las técnicas conocidas más rápidas para encontrar logaritmos discretos esencialmente llevarían una eternidad. Más específicamente, para un módulo de cientos de dígitos de longitud, las técnicas más rápidas conocidas para encontrar logaritmos discretos en general tardarían millones de años en encontrar un solo logaritmo discreto, incluso cuando se programen en una computadora capaz de realizar millones de operaciones por segundo.\n",
    "\n",
    "Es la dificultad general de encontrar logaritmos discretos lo que le da al intercambio de claves Diffie-Hellman su alto nivel de seguridad. Los logaritmos discretos son un ejemplo de **one way functions**.\n",
    "\n",
    "\n",
    "\n",
    "\n",
    "\n",
    "\n"
   ]
  },
  {
   "cell_type": "markdown",
   "id": "037ec737-0514-4036-965a-3748ff14e84e",
   "metadata": {},
   "source": [
    "## Ejemplo: DHKE"
   ]
  },
  {
   "cell_type": "code",
   "execution_count": 26,
   "id": "15a324a7-6f42-4241-b1b2-c2ae34244f7c",
   "metadata": {},
   "outputs": [],
   "source": [
    "import sympy as sp"
   ]
  },
  {
   "cell_type": "code",
   "execution_count": 27,
   "id": "959aafac-c011-49cb-a0a4-b5e544658a9d",
   "metadata": {},
   "outputs": [],
   "source": [
    "q = 353\n",
    "alpha = 3"
   ]
  },
  {
   "cell_type": "code",
   "execution_count": 28,
   "id": "b4b97772-95d0-4d95-be79-5e17e5484829",
   "metadata": {},
   "outputs": [
    {
     "data": {
      "text/plain": [
       "True"
      ]
     },
     "execution_count": 28,
     "metadata": {},
     "output_type": "execute_result"
    }
   ],
   "source": [
    "sp.is_primitive_root(alpha,q)"
   ]
  },
  {
   "cell_type": "code",
   "execution_count": 29,
   "id": "06c89adf-5114-4ac3-93fb-73642a5f0a55",
   "metadata": {},
   "outputs": [],
   "source": [
    "# Se eligen\n",
    "X_A = 97\n",
    "X_B = 233"
   ]
  },
  {
   "cell_type": "code",
   "execution_count": 30,
   "id": "ab2ee506-06e0-4ae1-85a7-a66d0be1c053",
   "metadata": {},
   "outputs": [
    {
     "name": "stdout",
     "output_type": "stream",
     "text": [
      "40 248\n"
     ]
    }
   ],
   "source": [
    "Y_A = pow(alpha,X_A,q)\n",
    "Y_B = pow(alpha,X_B,q)\n",
    "print(Y_A,Y_B)"
   ]
  },
  {
   "cell_type": "code",
   "execution_count": 31,
   "id": "2e29b2dd-fcac-4ea6-afc9-6b2e18bd4bd2",
   "metadata": {},
   "outputs": [
    {
     "name": "stdout",
     "output_type": "stream",
     "text": [
      "160 160\n"
     ]
    }
   ],
   "source": [
    "K_A = pow(Y_B,X_A,q)\n",
    "K_B = pow(Y_A,X_B,q)\n",
    "print(K_A,K_B)"
   ]
  },
  {
   "cell_type": "markdown",
   "id": "56a530e6-a174-403b-a4da-6a6d229a5d53",
   "metadata": {},
   "source": [
    "## DHKE con Sympy"
   ]
  },
  {
   "cell_type": "code",
   "execution_count": 32,
   "id": "abfccda2-426f-4c55-8b5b-d935697cacf9",
   "metadata": {},
   "outputs": [],
   "source": [
    "import sympy.crypto.crypto as spcc"
   ]
  },
  {
   "cell_type": "code",
   "execution_count": 33,
   "id": "be4ca4f8-300d-49d3-b84e-221685f0ac21",
   "metadata": {},
   "outputs": [
    {
     "name": "stdout",
     "output_type": "stream",
     "text": [
      "1031 14 415\n"
     ]
    }
   ],
   "source": [
    "key_pr_A = spcc.dh_private_key()\n",
    "\n",
    "q, alpha, X_A = key_pr_A\n",
    "\n",
    "print(q, alpha, X_A)\n"
   ]
  },
  {
   "cell_type": "code",
   "execution_count": 34,
   "id": "62cedf96-5b00-4ab3-8a22-bc835bcac0dc",
   "metadata": {},
   "outputs": [
    {
     "name": "stdout",
     "output_type": "stream",
     "text": [
      "1031 14 479\n"
     ]
    }
   ],
   "source": [
    "key_pu_A = spcc.dh_public_key((q, alpha, X_A))\n",
    "\n",
    "_q, _alpha, Y_A = key_pu_A\n",
    "\n",
    "print(_q, _alpha, Y_A)"
   ]
  },
  {
   "cell_type": "code",
   "execution_count": 35,
   "id": "a248e343-f22d-43a1-a714-7b7007cd44bc",
   "metadata": {},
   "outputs": [
    {
     "name": "stdout",
     "output_type": "stream",
     "text": [
      "1031 14 336\n"
     ]
    }
   ],
   "source": [
    "key_pr_B = spcc.dh_private_key()\n",
    "\n",
    "_q, _alpha, X_B = key_pr_B\n",
    "\n",
    "print(_q, _alpha, X_B)"
   ]
  },
  {
   "cell_type": "code",
   "execution_count": 36,
   "id": "af7df5c1-0546-4ff8-84ec-cd8bf8f797fd",
   "metadata": {},
   "outputs": [
    {
     "name": "stdout",
     "output_type": "stream",
     "text": [
      "1031 14 497\n"
     ]
    }
   ],
   "source": [
    "key_pu_B = spcc.dh_public_key((q, alpha, X_B))\n",
    "\n",
    "_q, _alpha, Y_B = key_pu_B\n",
    "\n",
    "print(_q, _alpha, Y_B)"
   ]
  },
  {
   "cell_type": "code",
   "execution_count": 37,
   "id": "26479cdb-ab86-4f20-8b35-98fc143b716e",
   "metadata": {},
   "outputs": [
    {
     "name": "stdout",
     "output_type": "stream",
     "text": [
      "715\n",
      "715\n"
     ]
    }
   ],
   "source": [
    "K_A = spcc.dh_shared_key(key_pu_B, X_A)\n",
    "K_B = spcc.dh_shared_key(key_pu_A, X_B)\n",
    "print(K_A)\n",
    "print(K_B)"
   ]
  },
  {
   "cell_type": "markdown",
   "id": "8d829e1e-c34a-4793-ac79-295fd26567cb",
   "metadata": {},
   "source": [
    "#  Cifrado  ElGamal\n",
    "\n",
    "____\n",
    "\n",
    "- Raíz primiiva\n",
    "____\n",
    "\n",
    "Recuerde nuevamente que en su artículo de 1976 New Directions in Cryptography, Whitfield Diffie y Martin Hellman explicaron cómo las funciones unidireccionales podrían usarse para crear cifrados de clave pública, y cualquier tipo de función unidireccional sería suficiente.\n",
    "\n",
    "El cifrado de Elgamal hace uso de los logaritmos discretos\n",
    "\n",
    "- Taher Elgamal, (egipcio de Stanford 1985), trabajo en la compañia RSA\n",
    "\n",
    "\n",
    "Sea $a$ menor que un primo $p$, entonces si se calcula \n",
    "\n",
    "$$\n",
    "a, a^{2} \\bmod p, a^{3} \\bmod p, a^{4} \\bmod p, \\ldots, a^{p-1} \\bmod p\n",
    "$$\n",
    "\n",
    "Por el Pequeño Teorema de Fermat, el último módulo es 1. Esto podría pasar para otras potencias más pequeñas pero no necesarimente. Si solo pasa para la última potencia entonces se ve que $a$ es una raíz primitiva de $p$"
   ]
  },
  {
   "cell_type": "markdown",
   "id": "466f9f36-d7bb-42b5-bf38-365cc0cbccf8",
   "metadata": {},
   "source": [
    "Con ElGamal se comvertira el texto plano a numerico con ASCII. \n",
    "\n",
    "Se quiere mandar información sobre un canal de comunicación inseguro, y se quiere usar un cifrado para proteger el mensaje de externos que pueden observar durante la transmisión. \n",
    "El cifrado de ElGamal, pude resumirse como \n",
    "\n",
    "1. El receptor elige un primo $p$. Elige $a<p-1$ que sea raíz primitiva a p. Elige un entero positivo $n<p-1$. Se calcula $b = a^n\\bmod p$, se manda $p$, $a$, $b$ al emisor sobre el canal de comunicación inseguro. \n",
    "\n",
    "2. Suponiendo que el mensaje numerico plano se puede expresar con un numero $x<p$. El emisor elige $k<p-1$ y forma las cantidades $y$ y $z$ (para mayor seguridad se eligen $k$ distintas para cada mensaje numerico plano)\n",
    "\n",
    "$$y = a^k \\bmod p\\\\z=xb^k \\bmod p$$\n",
    "\n",
    "El emisor envia $(y,z)$ al receptor sobre el canal de comunicación inseguro.\n",
    "\n",
    "3. El receptor recupera el mensaje plano $x$ con la pareja (y,z)\n",
    "\n",
    "$$x = zy^{p-1-n}\\bmod p$$\n",
    "\n",
    "Lo anterior se puede ver en el siguiente calculo \n",
    "\n",
    "$$\n",
    "\\begin{aligned}\n",
    "z \\cdot y^{p-1-n} \\bmod p &=x \\cdot b^{k} \\cdot\\left(a^{k}\\right)^{p-1-n} \\bmod p \\\\\n",
    "&=x \\cdot b^{k} \\cdot\\left(a^{k}\\right)^{p-1} \\cdot\\left(a^{k}\\right)^{-n} \\bmod p \\\\\n",
    "&=x \\cdot\\left(a^{n}\\right)^{k} \\cdot 1 \\cdot\\left(a^{k}\\right)^{-n} \\bmod p \\\\\n",
    "&=x \\cdot\\left(a^{k}\\right)^{n} \\cdot\\left(a^{k}\\right)^{-n} \\bmod p \\\\\n",
    "&=x \\cdot\\left(a^{k}\\right)^{0} \\bmod p \\\\\n",
    "&=x \\cdot 1 \\bmod p \\\\\n",
    "&=x\n",
    "\\end{aligned}\n",
    "$$"
   ]
  },
  {
   "cell_type": "markdown",
   "id": "130b47c6-20b6-47cc-b196-6c96206e6854",
   "metadata": {},
   "source": [
    "<div class=\"eje\">\n",
    "\n",
    "<strong>Ejemplo</strong>\n",
    "\n",
    "\n",
    "Mensaje plano: Queen\n",
    "    \n",
    "Mensaje plano numerico (ASCII): 81, 117, 101, 101, 110\n",
    "    \n",
    "Receptor: $p =131$, $a=2$, $n=14$ construye  $b = a^n\\bmod p=9$, manda a emisor $p,a,b$\n",
    "\n",
    "Emisor: Elige $k_1=3$, $k_2=4$ $k_3=5$ $k_4=6$ $k_5=7$\n",
    "\n",
    "Así se forma el sigueinte mensaje numerico cifrado\n",
    "\n",
    "\n",
    "\n",
    "<div class=\"polaroid\">\n",
    "<img src=\"imagenes/eje10_5_rk.png\" alt=\"Pareja\">\n",
    "</div>\n",
    "\n",
    "Se mandan las parejas $(y_i,z_i)$. El receptor utiliza $p,n$ para desencriptar\n",
    "\n",
    "\n",
    "<div class=\"polaroid\">\n",
    "<img src=\"imagenes/eje10_5_1_rk.png\" alt=\"Pareja\">\n",
    "</div>\n",
    "\n",
    "¿Cómo se desencripta $(y_5,z_5)$  (debe ser 110)?\n",
    "\n",
    "\n",
    "</div>\n"
   ]
  },
  {
   "cell_type": "markdown",
   "id": "9e3238e9-84e9-432c-a5f1-946ebe97098b",
   "metadata": {},
   "source": [
    "## Ejemplo: ElGamal "
   ]
  },
  {
   "cell_type": "code",
   "execution_count": 38,
   "id": "a4d93836-90ed-4997-bf1d-c31050c47834",
   "metadata": {},
   "outputs": [],
   "source": [
    "import sympy as sp"
   ]
  },
  {
   "cell_type": "code",
   "execution_count": 39,
   "id": "b3272930-78aa-421b-9d9d-9d13f65f4240",
   "metadata": {},
   "outputs": [],
   "source": [
    "q = 19\n",
    "alpha = 10"
   ]
  },
  {
   "cell_type": "code",
   "execution_count": 40,
   "id": "9d843c14-43ea-4456-9b31-c7b7ae22d04f",
   "metadata": {},
   "outputs": [
    {
     "data": {
      "text/plain": [
       "True"
      ]
     },
     "execution_count": 40,
     "metadata": {},
     "output_type": "execute_result"
    }
   ],
   "source": [
    "sp.is_primitive_root(alpha,q)"
   ]
  },
  {
   "cell_type": "code",
   "execution_count": 41,
   "id": "25d4759e-7039-4bd1-8af6-be642e252c0a",
   "metadata": {},
   "outputs": [],
   "source": [
    "X_A = 5"
   ]
  },
  {
   "cell_type": "code",
   "execution_count": 42,
   "id": "33253526-8dc2-46c1-9aa4-3daf3f36a694",
   "metadata": {},
   "outputs": [
    {
     "data": {
      "text/plain": [
       "3"
      ]
     },
     "execution_count": 42,
     "metadata": {},
     "output_type": "execute_result"
    }
   ],
   "source": [
    "Y_A = pow(alpha,X_A,q)\n",
    "Y_A"
   ]
  },
  {
   "cell_type": "code",
   "execution_count": 43,
   "id": "105f7f0b-c510-4618-8939-1abd07c2cbbf",
   "metadata": {},
   "outputs": [
    {
     "data": {
      "text/plain": [
       "7"
      ]
     },
     "execution_count": 43,
     "metadata": {},
     "output_type": "execute_result"
    }
   ],
   "source": [
    "M_p = 17\n",
    "k = 6\n",
    "K_B = pow(Y_A,k,q)\n",
    "K_B"
   ]
  },
  {
   "cell_type": "code",
   "execution_count": 44,
   "id": "998ba9fe-05f9-4387-8c63-11846add2c9b",
   "metadata": {},
   "outputs": [
    {
     "name": "stdout",
     "output_type": "stream",
     "text": [
      "11 5\n"
     ]
    }
   ],
   "source": [
    "C_1 = pow(alpha,k,q)\n",
    "C_2 = K_B*M_p % q\n",
    "M_c = (C_1,C_2)\n",
    "print(C_1,C_2)"
   ]
  },
  {
   "cell_type": "code",
   "execution_count": 45,
   "id": "0b3fc3db-d89b-40bf-b8aa-feb907ce2d0f",
   "metadata": {},
   "outputs": [
    {
     "name": "stdout",
     "output_type": "stream",
     "text": [
      "7 11\n"
     ]
    }
   ],
   "source": [
    "C_1 = M_c[0]\n",
    "C_2 = M_c[1]\n",
    "K_A = pow(C_1,X_A,q)\n",
    "K_A_inv = sp.invert(K_A,q)\n",
    "print(K_A,K_A_inv)"
   ]
  },
  {
   "cell_type": "code",
   "execution_count": 46,
   "id": "371b090a-3afe-49fd-ba66-88cd33beb2f8",
   "metadata": {},
   "outputs": [
    {
     "data": {
      "text/latex": [
       "$\\displaystyle 17$"
      ],
      "text/plain": [
       "17"
      ]
     },
     "execution_count": 46,
     "metadata": {},
     "output_type": "execute_result"
    }
   ],
   "source": [
    "M_dc = C_2*K_A_inv % q\n",
    "M_dc"
   ]
  },
  {
   "cell_type": "markdown",
   "id": "fd6ce505-42f9-426d-ae4f-723219c9d6e2",
   "metadata": {},
   "source": [
    "## ElGamal con Sympy"
   ]
  },
  {
   "cell_type": "code",
   "execution_count": 47,
   "id": "21971d2b-7fd8-4e2d-9245-518a47f9b023",
   "metadata": {},
   "outputs": [],
   "source": [
    "import sympy.crypto.crypto as spcc"
   ]
  },
  {
   "cell_type": "code",
   "execution_count": 48,
   "id": "83766e55-3e78-4ada-9e67-2f63fe103c6c",
   "metadata": {},
   "outputs": [
    {
     "name": "stdout",
     "output_type": "stream",
     "text": [
      "1031 14 929\n"
     ]
    }
   ],
   "source": [
    "key_pr = spcc.elgamal_private_key()\n",
    "q, alpha, X_A = key_pr\n",
    "print(q,alpha,X_A)"
   ]
  },
  {
   "cell_type": "code",
   "execution_count": 49,
   "id": "0342c609-b3b1-4353-974d-4b20daf8cba9",
   "metadata": {},
   "outputs": [
    {
     "name": "stdout",
     "output_type": "stream",
     "text": [
      "1031 14 334\n"
     ]
    }
   ],
   "source": [
    "key_pu = spcc.elgamal_public_key(key_pr)\n",
    "_q, _alpha, Y_A = key_pu\n",
    "print(_q,_alpha,Y_A)"
   ]
  },
  {
   "cell_type": "code",
   "execution_count": 50,
   "id": "b61c7b83-b99b-42b8-ab93-68d82b33c9e1",
   "metadata": {},
   "outputs": [
    {
     "ename": "NameError",
     "evalue": "name 'M' is not defined",
     "output_type": "error",
     "traceback": [
      "\u001b[0;31m---------------------------------------------------------------------------\u001b[0m",
      "\u001b[0;31mNameError\u001b[0m                                 Traceback (most recent call last)",
      "\u001b[0;32m/var/folders/9b/04l48_ns7016j8k19mqkn_h00000gn/T/ipykernel_1251/2084924400.py\u001b[0m in \u001b[0;36m<module>\u001b[0;34m\u001b[0m\n\u001b[1;32m      1\u001b[0m \u001b[0mM_p\u001b[0m \u001b[0;34m=\u001b[0m \u001b[0;36m17\u001b[0m\u001b[0;34m\u001b[0m\u001b[0;34m\u001b[0m\u001b[0m\n\u001b[0;32m----> 2\u001b[0;31m \u001b[0mM_c\u001b[0m \u001b[0;34m=\u001b[0m \u001b[0mspcc\u001b[0m\u001b[0;34m.\u001b[0m\u001b[0mencipher_elgamal\u001b[0m\u001b[0;34m(\u001b[0m\u001b[0mM\u001b[0m\u001b[0;34m,\u001b[0m\u001b[0mkey_pu\u001b[0m\u001b[0;34m)\u001b[0m\u001b[0;34m\u001b[0m\u001b[0;34m\u001b[0m\u001b[0m\n\u001b[0m\u001b[1;32m      3\u001b[0m \u001b[0mprint\u001b[0m\u001b[0;34m(\u001b[0m\u001b[0mM_c\u001b[0m\u001b[0;34m)\u001b[0m\u001b[0;34m\u001b[0m\u001b[0;34m\u001b[0m\u001b[0m\n",
      "\u001b[0;31mNameError\u001b[0m: name 'M' is not defined"
     ]
    }
   ],
   "source": [
    "M_p = 17\n",
    "M_c = spcc.encipher_elgamal(M,key_pu)\n",
    "print(M_c)"
   ]
  },
  {
   "cell_type": "code",
   "execution_count": null,
   "id": "d68db368-e5d3-4798-b7d7-7c8e5f832729",
   "metadata": {},
   "outputs": [],
   "source": [
    "M_dc = spcc.decipher_elgamal(M_c,key_pr) \n",
    "M_dc"
   ]
  },
  {
   "cell_type": "markdown",
   "id": "caa975e7-0658-4d1a-b603-63636b6d3320",
   "metadata": {},
   "source": [
    "# Funciones Hash \n",
    "\n",
    "Son funciones que mapean los textos-planos, se suponen  funciones en una sola dirección (poco probables de ser invertibles). Se quieren inyectivas, cuando no, se dice que presentan collisiones, ejemplos de estas funciones son: SHA-256 y SHA-512 así como SHA2 y SHA3-256\n",
    "\n",
    "\n",
    "Algunos algoritmos han sido rotos (MD5, SHA0, SHA1), algunos aún se consideran seguros (SHA-2, SHA-3 BLAKE2).\n",
    "\n",
    "\n",
    "## Aplicaciones \n",
    "\n",
    "- Integridad de docuemntos. Verifican la integridad de archivos / documentos / mensajes. Por ejemplo SHA256 checksum puede confirmar que cierto archivo es original (no tiene modificaciones después de que checksum fue calculado). \n",
    "\n",
    "- Almacenamiento de contraseñas. En lugar de tener el texto plano de contraseñas, estas se almacenan con hash. \n",
    "\n",
    "- Generar un único ID. Generar un único ID para ciertos docuementos o mensajes. \n",
    "\n",
    "- Generación pseudoaleatoria. Pueden utilizarse para esto, recabar información aleatoria de la interacción y producir el hash correspondiente.\n",
    "\n",
    "- PoW (Proof-of-Work). Por ejemplo el PoW: emcontrar un numero p tal que hash(x+p) tenga 10 ceros al principio.\n"
   ]
  },
  {
   "cell_type": "markdown",
   "id": "9ff9d657-4e0e-4ead-b232-ac3af04a6c40",
   "metadata": {},
   "source": [
    "# Distribución de llaves públicas\n",
    "\n",
    "Distribución de llaves públicas\n",
    "\n",
    "- Anuncio público\n",
    "- Directorio disponible públicamente\n",
    "- Autoridad de clave pública\n",
    "- Certificados de clave pública"
   ]
  },
  {
   "cell_type": "markdown",
   "id": "144936fe-ef0f-4539-90ad-b2d0c31ec1b1",
   "metadata": {},
   "source": [
    "## Certificador de clave pública\n",
    "\n",
    "<div class=\"polaroid\">\n",
    "<img src=\"imagenes/stal_cn_14_13.png\" alt=\"Pareja\">\n",
    "</div>\n",
    "\n",
    "\n",
    "### Uso del certificado de llave pública X.509\n",
    "\n",
    "<div class=\"polaroid\">\n",
    "<img src=\"imagenes/stal_cn_14_14.png\" alt=\"Pareja\">\n",
    "</div>\n",
    "\n",
    "\n",
    "### Formato del certificado de llave pública X.509\n",
    "\n",
    "<div class=\"polaroid\">\n",
    "<img src=\"imagenes/stal_cn_14_15a.png\"  alt=\"Pareja\">\n",
    "</div>"
   ]
  },
  {
   "cell_type": "markdown",
   "id": "372c5c71-af32-405b-9d0c-d11356d65b9c",
   "metadata": {},
   "source": [
    "# Infrestructura de llave pública (PKI)\n",
    "\n",
    "Se define la infraestructura de clave pública (PKI) como el conjunto de hardware, software, personas, políticas y procedimientos necesarios para crear, administrar, almacenar, distribuir y revocar certificados digitales basados en criptografía asimétrica. El objetivo principal para desarrollar una PKI es permitir la adquisición segura, conveniente y eficiente de claves públicas.\n",
    "\n",
    "<div class=\"polaroid\">\n",
    "<img src=\"imagenes/stal_cn_14_17.png\" alt=\"Pareja\">\n",
    "</div>\n"
   ]
  },
  {
   "cell_type": "code",
   "execution_count": null,
   "id": "872cd310-53c3-40ba-93ed-29778902b92e",
   "metadata": {},
   "outputs": [],
   "source": [
    "from IPython.core.display import HTML\n",
    "css_file = 'css/estilo1.css'\n",
    "HTML(open(css_file, \"r\").read())"
   ]
  }
 ],
 "metadata": {
  "kernelspec": {
   "display_name": "Python 3 (ipykernel)",
   "language": "python",
   "name": "python3"
  },
  "language_info": {
   "codemirror_mode": {
    "name": "ipython",
    "version": 3
   },
   "file_extension": ".py",
   "mimetype": "text/x-python",
   "name": "python",
   "nbconvert_exporter": "python",
   "pygments_lexer": "ipython3",
   "version": "3.8.5"
  }
 },
 "nbformat": 4,
 "nbformat_minor": 5
}
