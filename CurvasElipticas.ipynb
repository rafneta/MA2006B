{
 "cells": [
  {
   "cell_type": "markdown",
   "id": "203c8e2f-88a0-4b93-b8ea-f45f076d121a",
   "metadata": {
    "id": "kHzG5E-UDEgX"
   },
   "source": [
    "# Curvas elípticas\n",
    "\n",
    "<div class='def'>\n",
    "<strong>Definición</strong> <em>[Curva cúbica afín plana sobre el campo $\\mathbb{F}$]</em>\n",
    "\n",
    "Sea $\\mathbb{F}$ un campo con característica diferente de dos y de tres. Sean $a_1$, $a_2$, $a_3$, $a_4$ y $a_6$ $\\in \\mathbb{F}$, entonces el conjunto \n",
    "    \n",
    "$$C(\\mathbb{F}) = \\left\\{(x,y)\\in\\mathbb{F}^2 \\mid y^2 +a_1xy +a_3y = x^3+a_2x^2+a_4x +a_6\\right\\}$$\n",
    "\n",
    "es llamado una **curva cúbica afín plana sobre $\\mathbb{F}$**\n",
    "    \n",
    "</div>\n",
    "\n",
    "Se puede realizar un cambio de variable para llevar la curva cúbica a la forma\n",
    "\n",
    "$$C(\\mathbb{F}) = \\left\\{(x,y)\\in\\mathbb{F}^2 \\mid y^2 = x^3+ ax +b\\right\\}$$\n",
    "\n",
    "con $a$, $b$ $\\in \\mathbb{F}$, esta forma se comoce como **Forma de Weierstrass**\n",
    "\n",
    "- Si $4a^3+27b^2\\neq 0$ (discriminate diferente de cero) se asegura que $C(\\mathbb{F})$ es **suave**\n",
    "\n",
    "<div class='def'>\n",
    "<strong>Definición</strong> <em>[Curva elíptica]</em>\n",
    "\n",
    "Sea $\\mathbb{F}$ un campo con característica diferente de dos y de tres. Sean $a$, $b$ $\\in \\mathbb{F}$, entonces el conjunto \n",
    "    \n",
    "$$E(\\mathbb{F}) = \\left\\{(x,y)\\in\\mathbb{F}^2 \\mid y^2 = x^3+ax +b\\right\\}$$\n",
    "\n",
    "donde $4a^3+27b^2\\neq 0$ es llamado  **curva elíptica**\n",
    "    \n",
    "</div>\n",
    "\n",
    "https://www.desmos.com/calculator/pvqawbnvak"
   ]
  },
  {
   "cell_type": "code",
   "execution_count": 2,
   "id": "2513520e-1cae-42cd-b0af-9ad119b5fb4b",
   "metadata": {},
   "outputs": [],
   "source": [
    "from IPython.display import IFrame"
   ]
  },
  {
   "cell_type": "code",
   "execution_count": 5,
   "id": "1a9cd195-68dd-4911-8ce5-9017ceed709b",
   "metadata": {},
   "outputs": [
    {
     "data": {
      "text/html": [
       "\n",
       "        <iframe\n",
       "            width=\"700\"\n",
       "            height=\"350\"\n",
       "            src=\"https://www.desmos.com/calculator/2ovelz8eis\"\n",
       "            frameborder=\"0\"\n",
       "            allowfullscreen\n",
       "            \n",
       "        ></iframe>\n",
       "        "
      ],
      "text/plain": [
       "<IPython.lib.display.IFrame at 0x7f868c51fa30>"
      ]
     },
     "execution_count": 5,
     "metadata": {},
     "output_type": "execute_result"
    }
   ],
   "source": [
    "IFrame('https://www.desmos.com/calculator/2ovelz8eis', width=700, height=350)"
   ]
  },
  {
   "cell_type": "markdown",
   "id": "4d3beba3-7376-45f3-bfbd-3783e685db5b",
   "metadata": {},
   "source": [
    "Las anteriores gráficas son diferentes curvas elípticas sobre los reales. \n",
    "\n",
    "**Revisa la actividad de SageMath**\n",
    "\n",
    "Se define el siguiente conjunto\n",
    "\n",
    "$$\\overline{E}\\left(\\mathbb{F}\\right)=E\\left(\\mathbb{F}\\right)\\cup\\mathcal{O}$$\n",
    "\n",
    "\n",
    "A continuación se dan las reglas operación en el conjunto $\\overline{E}\\left(\\mathbb{F}\\right)$ (que tiene interpretación geometrica en curvas elípticas sobre $\\mathbb{R}$)\n",
    "\n",
    "- Se utiliza el símbolo $+$ para denotar a la operación\n",
    "\n",
    "Se define lo siguiente:\n",
    "\n",
    "\n",
    "1. $P + \\mathcal{O} = \\mathcal{O} + P = P$, $\\forall P\\in \\overline{E}\\left(\\mathbb{F}\\right)$\n",
    "\n",
    "2. Si $P = (x,y)$ su inverso aditivo es $-P =(x,-y)$  con $ P + (-P) = \\mathcal{O}$, además $\\mathcal{O} = - \\mathcal{O}$ \n",
    "\n",
    "\n",
    "\n",
    "Ahora, si la operación a realizar no cae en las definiciones anteriores, entonces se aplican las siguientes reglas. \n",
    "\n",
    "Sea $P_1 = (x_1,y_1)$, $P_2=(x_2,y_2)$ y la suma se anota como $P_1+P_2 = (x_3,y_3)$ \n",
    "\n",
    "\n",
    "3. Si $x_1\\neq x_2$, entonces $P_1+P_2 = (x_3,y_3)$ con \n",
    "\n",
    "\n",
    "$$\n",
    "\\begin{aligned}\n",
    "x_{3}=\\left[s^{2}-x_{1}-x_{2}\\right]\\\\\n",
    "y_{3}=\\left[s \\cdot\\left(x_{1}-x_{3}\\right)-y_{1} \\right], \\\\\n",
    "\\text { donde } s =\\left[\\frac{y_{2}-y_{1}}{x_{2}-x_{1}} \\right] .\n",
    "\\end{aligned}\n",
    "$$\n",
    "\n",
    "       \n",
    "4. Si $x_1=x_2$ pero $y_1\\neq y_2$ entonces $P_1 + P_2 = \\mathcal{O}$     \n",
    "\n",
    "5. Si $P_1 = P_2$ y $y_1\\neq 0$, entonces $P_1+P_2 =2P_1 = (x_3,y_3)$ con \n",
    "\n",
    "$$\n",
    "\\begin{aligned}\n",
    "x_{3} =\\left[s^{2}-x_{1}-x_{2} \\right] \\\\\n",
    "y_{3}=\\left[s\\cdot\\left(x_{1}-x_{3}\\right)-y_{1} \\right], \\\\\n",
    "\\text { donde } s =\\left[\\frac{3x_{1}^2+3}{2y_1} \\right] .\n",
    "\\end{aligned}\n",
    "$$\n",
    "\n",
    "6. Si $P_1=P_2$ y $y_1=0$ entonces $P_1+P_2=\\mathcal{O}$      \n",
    "\n",
    "\n",
    "\n",
    "\n",
    "\n",
    "Se sabe que con la operación antes definida $+:\\overline{E}\\left(\\mathbb{F}\\right)\\times \\overline{E}\\left(\\mathbb{F}\\right)\\rightarrow \\overline{E}\\left(\\mathbb{F}\\right)$, la tupla $(\\overline{E}\\left(\\mathbb{F}\\right),+)$ es un grupo. \n",
    "    \n",
    "$\\left(\\overline{E}(\\mathbb{Z}),+\\right)$ es llamado **grupo de curva elíptica** de la curva elíptica $E\\left(\\mathbb{F}\\right)$. \n",
    "\n",
    "\n"
   ]
  },
  {
   "cell_type": "markdown",
   "id": "30428611-4375-451d-be71-a698b6716a4d",
   "metadata": {
    "id": "kHzG5E-UDEgX"
   },
   "source": [
    "Grupos importantes en critografía son los que consisten en _puntos de curvas elipticas_. Son importantes pues en contraste a $\\mathbb{Z}_p^*$, pues actualmente no se conocen algoritmos de tiempo subexponencial para resolver el problema del logaritmo discreto en grupos de curvas elípticas elegidos apropiadamente.\n",
    "\n",
    "\n",
    "Para cripto sistemas basados en logaritmos discreto o hipotesis de D-F, implementaciones basadas en grupos de curvas elipticas son más seguros. Si se toma $p\\geq5$ se facilitan las operaciones. Las curvas eleipticas pueden ser definidas sobre campos arbitrarios pero los de carácteristica $2$ y $3$ necesitan más detalles matématicos. \n",
    "\n",
    "Considerese la ecuación $E$ en dos variables $x$ y $y$ de la forma. \n",
    "\n",
    "\n",
    "$$y^2 = x^3 +Ax +B \\bmod p$$\n",
    "\n",
    "donde $A,B\\in\\mathbb{Z}_p$ satisface $4A^3+27B^2\\neq 0\\bmod p$ (Esta condición asegura que la ecuación $x^3 +Ax +B = 0 \\bmod p$ no tenga raíces repetidas). La ecuación es llamada la **representación de Weiersrass de una curva eleptica**. Cualqueir curva eliptica puede ser descrita en esta forma. Se definie el siguiente conjunto\n",
    "\n",
    "$$\n",
    "E\\left(\\mathbb{Z}_{p}\\right) \\stackrel{\\text { def }}{=}\\left\\{(x, y) \\mid x, y \\in \\mathbb{Z}_{p} \\text { and } y^{2}=x^{3}+A x+B \\bmod p\\right\\} \\cup\\{\\mathcal{O}\\}\n",
    "$$"
   ]
  },
  {
   "cell_type": "code",
   "execution_count": null,
   "id": "e2788013-d99c-4a9a-a40d-8bf04c067755",
   "metadata": {
    "id": "d66PVhfdDEgZ"
   },
   "outputs": [],
   "source": [
    "e = EllipticCurve(3,3,modulus = 7)\n",
    "e.points_x(4)\n",
    "#e.__contains__([4,4])\n",
    "\n",
    "class ec(EllipticCurve,EllipticCurvePoint):\n",
    "    def __init__(self, a4, a6, a1=0, a2=0, a3=0, modulus = 0):\n",
    "        super(ec, self).__init__(a4, a6, a1, a2, a3, modulus)\n",
    "        #EllipticCurve.__init__(self)\n",
    "    \n",
    "    #@property\n",
    "    def __contains__(self, point):\n",
    "        #print('hola')\n",
    "        if sp.core.compatibility.is_sequence(point):\n",
    "            #print('hola')\n",
    "            if len(point) == 2:\n",
    "                z1 = 1\n",
    "            else:\n",
    "                z1 = point[2]\n",
    "            x1, y1 = point[:2]\n",
    "                \n",
    "        elif isinstance(point, EllipticCurvePoint):\n",
    "            x1, y1, z1 = point.x, point.y, point.z\n",
    "        else:\n",
    "            raise ValueError('Invalid point.')\n",
    "        if self.characteristic == 0 and z1 == 0:\n",
    "            return True\n",
    "        return (self._eq.lhs-self._eq.rhs).subs({self.x:x1,self.y: y1, self.z: z1})% self.modulus == 0\n",
    "    \n",
    "            \n",
    "e1 = ec(3,3,modulus = 7)"
   ]
  },
  {
   "cell_type": "code",
   "execution_count": null,
   "id": "675f498c-4735-4015-87ea-40778f648581",
   "metadata": {
    "id": "Lxm9ClKZDEgZ",
    "outputId": "c544a3b2-8e75-4890-850c-1ec8bd4b483d"
   },
   "outputs": [
    {
     "name": "stdout",
     "output_type": "stream",
     "text": [
      "O,(3, 2),(3, -2),(-3, -3),(-3, 3),(1, 0),\n",
      "(3, 2),(3, -2),O,(-3, 3),(1, 0),(-3, -3),\n",
      "(3, -2),O,(3, 2),(1, 0),(-3, -3),(-3, 3),\n",
      "(-3, -3),(-3, 3),(1, 0),(3, -2),O,(3, 2),\n",
      "(-3, 3),(1, 0),(-3, -3),O,(3, 2),(3, -2),\n",
      "(1, 0),(-3, -3),(-3, 3),(3, 2),(3, -2),O,\n"
     ]
    }
   ],
   "source": [
    "p1 = e1(1,0)\n",
    "p2 = e1(4,4)\n",
    "p3 = e1(4,3)\n",
    "p4 = e1(3,2)\n",
    "p5 = e1(3,5)\n",
    "p6 = EllipticCurvePoint.point_at_infinity(e1)\n",
    "#p6 = p1+p1\n",
    "\n",
    "lis = [p1,p2,p3,p4,p5,p6]\n",
    "\n",
    "for a in lis:\n",
    "    for b in lis:\n",
    "        print(a+b,end=\",\")\n",
    "    print(\"\")\n",
    "        \n",
    "\n"
   ]
  },
  {
   "cell_type": "code",
   "execution_count": null,
   "id": "27a544c7-34f4-4295-b5e6-f9b57807d64d",
   "metadata": {
    "id": "MLpJ5Y1CDEga",
    "outputId": "110e3cfd-d027-4582-a4fa-cff9dd7a2730"
   },
   "outputs": [
    {
     "name": "stdout",
     "output_type": "stream",
     "text": [
      "(1, 0) O (1, 0) O (1, 0) O\n",
      "(-3, -3) (3, -2) (1, 0) (3, 2) (-3, 3) O\n",
      "(-3, 3) (3, 2) (1, 0) (3, -2) (-3, -3) O\n",
      "(3, 2) (3, -2) O (3, 2) (3, -2) O\n",
      "(3, -2) (3, 2) O (3, -2) (3, 2) O\n",
      "O O O O O O\n"
     ]
    }
   ],
   "source": [
    "for a in lis:\n",
    "    try:\n",
    "        print(a,2*a,3*a,4*a,5*a,6*a)\n",
    "    except:\n",
    "        print(\"An exception occurred\", a)\n",
    "        "
   ]
  },
  {
   "cell_type": "code",
   "execution_count": null,
   "id": "c2c68316-0ddf-49b6-8263-4be714f4864a",
   "metadata": {
    "id": "ljK4rW6NDEgb",
    "outputId": "cfb90e2b-9307-44e0-9dd2-872545d46e64"
   },
   "outputs": [
    {
     "data": {
      "text/plain": [
       "True"
      ]
     },
     "execution_count": 72,
     "metadata": {},
     "output_type": "execute_result"
    }
   ],
   "source": [
    "x = sp.symbols('x')\n",
    "y = sp.symbols('y')\n",
    "\n",
    "a = sp.Eq(y**2 + x*y , x**3)\n",
    "a.subs({x: 0, y: 0})\n",
    "(a.lhs - a.rhs).subs({x: 1, y: 1}) % 3 == 1"
   ]
  },
  {
   "cell_type": "code",
   "execution_count": null,
   "id": "42fa1f27-6814-4146-9021-0680917cfd45",
   "metadata": {
    "id": "8SiU6QErDEgb",
    "outputId": "cb3d06a4-a3c0-4a85-f0e7-1b51368fe8dc"
   },
   "outputs": [
    {
     "name": "stdout",
     "output_type": "stream",
     "text": [
      "{(4, 4), (4, 3), (1, 0), (3, 2), (3, 5)} <class 'set'>\n"
     ]
    }
   ],
   "source": [
    "from sympy.ntheory.elliptic_curve import EllipticCurve\n",
    "\n",
    "e = EllipticCurve(3,3,modulus = 7)\n",
    "\n",
    "puntos = e.points()\n",
    "\n",
    "print(puntos,type(puntos))\n",
    "p = list(puntos)\n",
    "xn = [c[0] for c in puntos]\n",
    "yn = [c[1] for c in puntos]"
   ]
  },
  {
   "cell_type": "code",
   "execution_count": null,
   "id": "2d59d8c4-1486-45b6-9b22-65cf618a626a",
   "metadata": {
    "id": "MXV22I_RDEge",
    "outputId": "f8fdb50e-34af-4441-c6d4-ecdf0eccd96b"
   },
   "outputs": [
    {
     "name": "stdout",
     "output_type": "stream",
     "text": [
      "{(4, 4), (4, 3), (1, 0), (3, 2), (3, 5)}\n"
     ]
    }
   ],
   "source": [
    "from sympy.ntheory.elliptic_curve import EllipticCurve\n",
    "\n",
    "e = EllipticCurve(3,3,modulus = 7)\n",
    "\n",
    "puntos = e.points()\n",
    "\n",
    "print(puntos)\n"
   ]
  },
  {
   "cell_type": "code",
   "execution_count": null,
   "id": "7bb9d169-803e-49ce-8c55-f34a28c493b3",
   "metadata": {
    "id": "S7kU7906DEgf",
    "outputId": "9b1222b4-982c-4555-b9af-a5ad8347c772"
   },
   "outputs": [
    {
     "data": {
      "text/latex": [
       "$\\displaystyle \\text{False}$"
      ],
      "text/plain": [
       "False"
      ]
     },
     "execution_count": 75,
     "metadata": {},
     "output_type": "execute_result"
    }
   ],
   "source": [
    "e.__contains__((4,4))"
   ]
  },
  {
   "cell_type": "code",
   "execution_count": null,
   "id": "fccfd15c-7acd-4824-b20e-111d18c1384a",
   "metadata": {
    "id": "1JIHk6DdDEhF",
    "outputId": "1a321a00-42d5-4beb-a2b6-df58c06323fc"
   },
   "outputs": [
    {
     "data": {
      "text/plain": [
       "-2"
      ]
     },
     "execution_count": 76,
     "metadata": {},
     "output_type": "execute_result"
    }
   ],
   "source": [
    "sp.__version__\n",
    "e.discriminant"
   ]
  },
  {
   "cell_type": "code",
   "execution_count": null,
   "id": "7aec1fa9-7ebb-4728-a186-fe059036113a",
   "metadata": {
    "id": "oC4qvZIwDEhM"
   },
   "outputs": [],
   "source": [
    "e = EllipticCurve(2,1,modulus = 5)"
   ]
  },
  {
   "cell_type": "code",
   "execution_count": null,
   "id": "7a2bcd40-156d-4962-9972-787403478716",
   "metadata": {
    "id": "UgHqsS3qDEhR",
    "outputId": "da30dda4-e545-4a61-d354-56d710f93487"
   },
   "outputs": [
    {
     "name": "stdout",
     "output_type": "stream",
     "text": [
      "{(0, 1), (1, 2), (0, 4), (3, 3), (3, 2), (1, 3)} <class 'set'>\n"
     ]
    }
   ],
   "source": [
    "puntos = e.points()\n",
    "\n",
    "print(puntos,type(puntos))\n",
    "p = list(puntos)\n",
    "xn = [c[0] for c in puntos]\n",
    "yn = [c[1] for c in puntos]"
   ]
  },
  {
   "cell_type": "code",
   "execution_count": 1,
   "id": "c234f93d-fd3e-4385-a509-2226dcbbf32b",
   "metadata": {},
   "outputs": [
    {
     "data": {
      "text/html": [
       "<link href='http://fonts.googleapis.com/css?family=Alegreya+Sans:100,300,400,500,700,800,900,100italic,300italic,400italic,500italic,700italic,800italic,900italic' rel='stylesheet' type='text/css'>\n",
       "<link href='http://fonts.googleapis.com/css?family=Arvo:400,700,400italic' rel='stylesheet' type='text/css'>\n",
       "<link href='http://fonts.googleapis.com/css?family=PT+Mono' rel='stylesheet' type='text/css'>\n",
       "<link href='http://fonts.googleapis.com/css?family=Shadows+Into+Light' rel='stylesheet' type='text/css'>\n",
       "<link href='http://fonts.googleapis.com/css?family=Nixie+One' rel='stylesheet' type='text/css'>\n",
       "<link href='https://fonts.googleapis.com/css?family=Source+Code+Pro' rel='stylesheet' type='text/css'>\n",
       "<style>\n",
       "\n",
       "@font-face {\n",
       "    font-family: \"Computer Modern\";\n",
       "    src: url('http://mirrors.ctan.org/fonts/cm-unicode/fonts/otf/cmunss.otf');\n",
       "}\n",
       "\n",
       "\n",
       "\n",
       "  /*                       vvvv changed from 14px  */\n",
       "  --jp-content-font-size1: 16px; /* Base font size */\n",
       "\n",
       "  /*                        vvvv inserted at the front  */\n",
       "  --jp-content-font-family: 'M+ 2p', -apple-system, BlinkMacSystemFont, 'Segoe UI';\n",
       "\n",
       "#notebook_panel { /* main background */\n",
       "    background: rgb(255,255,255);/*rgb(245,245,245);*/\n",
       "}\n",
       "\n",
       "div.cell { /* set cell width */\n",
       "    background: rgb(255,255,255);\n",
       "    width: 1000px;/* 850 */\n",
       "    margin-left:auto;\n",
       "    margin-right:auto;\n",
       "\n",
       "}\n",
       "\n",
       "div #notebook { /* centre the content */\n",
       "    background: rgb(255,255,255); /*#fff; white background for content */\n",
       "    width: 1150px;\n",
       "    margin: auto;\n",
       "    margin-left:auto;\n",
       "    margin-right:auto;\n",
       "\n",
       "}\n",
       "\n",
       "#notebook li { /* More space between bullet points */\n",
       "    margin-top:0.8em;\n",
       "}\n",
       "\n",
       "/* draw border around running cells */\n",
       "div.cell.border-box-sizing.code_cell.running { \n",
       "    border: 1px solid #111;\n",
       "}\n",
       "\n",
       "/* Put a solid color box around each cell and its output, visually linking them*/\n",
       "div.cell.code_cell {\n",
       "    background-color: rgb(255,255,255);/*rgb(256,256,256);*/ \n",
       "    border-radius: 0px; \n",
       "    padding: 2em;\n",
       "    margin-left:2em;\n",
       "    margin-top: 2em;\n",
       "    margin-bottom: 2em;\n",
       "    margin-left:auto;\n",
       "    margin-right:auto;\n",
       "    width:1000px;\n",
       "\n",
       "}\n",
       "\n",
       "div.jp-RenderedMarkdown{\n",
       "    font-family: 'Alegreya Sans' sans-serif;\n",
       "    line-height: 140%;\n",
       "    font-size: 130%;\n",
       "    font-weight: 400;\n",
       "    width:850px;\n",
       "    margin-left:auto;\n",
       "    margin-right:auto;\n",
       "    padding-left: 0px;\n",
       "}\n",
       "\n",
       "\n",
       "/* Formatting for header cells */\n",
       ".jp-RenderedMarkdown h1 {\n",
       "    font-family: 'Nixie One', serif;\n",
       "    font-style:regular;\n",
       "    font-weight: 400;    \n",
       "    font-size: 30pt;\n",
       "    line-height: 100%;\n",
       "    color: rgb(0,51,102);\n",
       "    margin-bottom: 0.5em;\n",
       "    margin-top: 0.5em;\n",
       "    display: block;\n",
       "}\n",
       "\n",
       ".jp-RenderedMarkdown h2 {\n",
       "    font-family: 'Nixie One', serif;\n",
       "    font-weight: 400;\n",
       "    font-size: 25pt;\n",
       "    line-height: 100%;\n",
       "    color: rgb(0,51,102);\n",
       "    margin-bottom: 0.1em;\n",
       "    margin-top: 0.3em;\n",
       "    display: block;\n",
       "}\t\n",
       "\n",
       ".jp-RenderedMarkdown h3 {\n",
       "    font-family: 'Nixie One', serif;\n",
       "    margin-top:16px;\n",
       "    font-size: 22pt;\n",
       "    font-weight: 600;\n",
       "    margin-bottom: 3px;\n",
       "    font-style: regular;\n",
       "    color: rgb(102,102,0);\n",
       "}\n",
       "\n",
       ".jp-RenderedMarkdown h4 {    /*Use this for captions*/\n",
       "    font-family: 'Nixie One', serif;\n",
       "    font-size: 14pt;\n",
       "    text-align: center;\n",
       "    margin-top: 0em;\n",
       "    margin-bottom: 2em;\n",
       "    font-style: regular;\n",
       "}\n",
       "\n",
       ".jp-RenderedMarkdown h5 {  /*Use this for small titles*/\n",
       "    font-family: 'Nixie One', sans-serif;\n",
       "    font-weight: 400;\n",
       "    font-size: 16pt;\n",
       "    color: rgb(163,0,0);\n",
       "    font-style: italic;\n",
       "    margin-bottom: .1em;\n",
       "    margin-top: 0.8em;\n",
       "    display: block;\n",
       "}\n",
       "\n",
       ".jp-RenderedMarkdown h6 { /*use this for copyright note*/\n",
       "    font-family: 'PT Mono', sans-serif;\n",
       "    font-weight: 300;\n",
       "    font-size: 9pt;\n",
       "    line-height: 100%;\n",
       "    color: grey;\n",
       "    margin-bottom: 1px;\n",
       "    margin-top: 1px;\n",
       "}\n",
       "\n",
       ".CodeMirror{\n",
       "    font-family: \"Source Code Pro\";\n",
       "    font-size: 90%;\n",
       "}\n",
       "\n",
       ".alert-box {\n",
       "    padding:10px 10px 10px 36px;\n",
       "    margin:5px;\n",
       "}\n",
       "\n",
       ".success {\n",
       "    color:#666600;\n",
       "    background:rgb(240,242,229);\n",
       "}\n",
       "\n",
       "\n",
       ".def {\t\n",
       "    border-style:solid;\n",
       "    border-width:4px;\n",
       "    /*-webkit-border-radius:15px;*/\n",
       "    border-radius: 1em;\n",
       "    border-color:rgba(102,194,163,0.9);/**  #366272;#CD853F;/**rgba(112, 156, 169, 0.66);*/\n",
       "    /*background: #366272;rgba(54, 98, 114, 0.9);/*#366272;*/\n",
       "\t/*border-top-left-radius:10%;*/\n",
       "\tcolor:black;\n",
       "\tfont-size: 1em;\n",
       "\t/*box-shadow: 10px 10px 10px #2178a3;*/\n",
       "\t/*overflow:scroll;*/\n",
       "\tpadding: 2% 4% 2% 4%;\n",
       "\tbox-sizing: border-box;\n",
       "\twidth:80%;\n",
       "    margin-left:auto;\n",
       "    margin-right:auto;\n",
       "    margin-bottom:2%;\n",
       "    margin-top:2%; \n",
       "    font-size: 1.0em;\n",
       "\tline-height: 1.6;\n",
       "\tfont-weight: 300;\n",
       "    background:rgba(102,194,163,0.2);/*1(0.40000000596046448, 0.7607843279838562, 0.64705884456634521)*/\n",
       "}\n",
       "\n",
       "\n",
       "\n",
       "\n",
       "\n",
       "\n",
       ".act {\t\n",
       "    border-style:solid;\n",
       "    border-width:4px;\n",
       "    /*-webkit-border-radius:15px;*/\n",
       "\tborder-radius: 1em;\n",
       "    border-color:rgb(255, 51, 255,0.9);/**  #366272;#CD853F;/**rgba(112, 156, 169, 0.66);*/\n",
       "    /*background: #366272;rgba(54, 98, 114, 0.9);/*#366272;*/\n",
       "\t/*border-top-left-radius:10%;*/\n",
       "\tcolor:black;\n",
       "\tfont-size: 1em;\n",
       "\t/*box-shadow: 10px 10px 10px #2178a3;*/\n",
       "\t/*overflow:scroll;*/\n",
       "\tpadding: 2% 4% 2% 4%;\n",
       "\tbox-sizing: border-box;\n",
       "\twidth:80%;\n",
       "    margin-left:auto;\n",
       "    margin-right:auto;\n",
       "    margin-bottom:2%;\n",
       "    margin-top:2%; \n",
       "    font-size: 1.0em;\n",
       "\tline-height: 1.6;\n",
       "\tfont-weight: 300;\n",
       "    background:rgba(255, 51, 255,0.2);/*1(0.40000000596046448, 0.7607843279838562, 0.64705884456634521)*/\n",
       "}\n",
       "\n",
       "\n",
       "\n",
       ".teo {\t\n",
       "    border-style:solid;\n",
       "    border-width:4px;\n",
       "    /*-webkit-border-radius:15px;*/\n",
       "\tborder-radius: 1em;\n",
       "    border-color:rgb(250, 187, 81,0.9);/**  #366272;#CD853F;/**rgba(112, 156, 169, 0.66);*/\n",
       "    /*background: #366272;rgba(54, 98, 114, 0.9);/*#366272;*/\n",
       "\t/*border-top-left-radius:10%;*/\n",
       "\tcolor:black;\n",
       "\tfont-size: 1em;\n",
       "\t/*box-shadow: 10px 10px 10px #2178a3;*/\n",
       "\t/*overflow:scroll;*/\n",
       "\tpadding: 2% 4% 2% 4%;\n",
       "\tbox-sizing: border-box;\n",
       "\twidth:80%;\n",
       "    margin-left:auto;\n",
       "    margin-right:auto;\n",
       "    margin-bottom:2%;\n",
       "    margin-top:2%; \n",
       "    font-size: 1.0em;\n",
       "\tline-height: 1.6;\n",
       "\tfont-weight: 300;\n",
       "    background:rgba(250, 187, 81,0.2);/*1(0.40000000596046448, 0.7607843279838562, 0.64705884456634521)*/\n",
       "}\n",
       "\n",
       "\n",
       ".eje {\t\n",
       "    border-style:solid;\n",
       "    border-width:4px;\n",
       "    /*-webkit-border-radius:15px;*/\n",
       "\tborder-radius: 1em;\n",
       "    border-color: rgba(200, 227, 212,0.9); /*rgba(249,140,97,0.9);#CD853F ; #366272*#CD853F;/**rgba(112, 156, 169, 0.66);*/\n",
       "    /*background: #366272;rgba(54, 98, 114, 0.9);/*#366272;*/\n",
       "\t/*border-top-left-radius:10%;*/\n",
       "\tcolor:black;\n",
       "\tfont-size: 1em;\n",
       "\t/*box-shadow: 10px 10px 10px #2178a3;*/\n",
       "\t/*overflow:scroll;*/\n",
       "\tpadding: 2% 4% 2% 4%;\n",
       "\tbox-sizing: border-box;\n",
       "\twidth:95%;\n",
       "    margin-left:auto;\n",
       "    margin-right:auto;\n",
       "    margin-bottom:2%;\n",
       "    margin-top:2%; \n",
       "    background: rgba(200, 227, 212,0.2);  /*rgba(249,140,97,0.2) /*2(0.98131487965583808, 0.55538641635109398, 0.38740485135246722)*/\n",
       "}\n",
       "\n",
       "\n",
       ".problemas {\t\n",
       "    border-style:solid;\n",
       "    border-width:4px;\n",
       "    /*-webkit-border-radius:15px;*/\n",
       "\tborder-radius: 1em;\n",
       "    border-color:rgba(0, 121, 53);/**  #366272;#CD853F;/**rgba(112, 156, 169, 0.66);*/\n",
       "    /*background: #366272;rgba(54, 98, 114, 0.9);/*#366272;*/\n",
       "\t/*border-top-left-radius:10%;*/\n",
       "\tcolor:black;\n",
       "\tfont-size: 1em;\n",
       "\t/*box-shadow: 10px 10px 10px #2178a3;*/\n",
       "\t/*overflow:scroll;*/\n",
       "\tpadding: 2% 4% 2% 4%;\n",
       "\tbox-sizing: border-box;\n",
       "\twidth:95%;\n",
       "    margin-left:auto;\n",
       "    margin-right:auto;\n",
       "    margin-bottom:2%;\n",
       "    margin-top:2%; \n",
       "    background:rgba(0, 121, 53, 0.3);/*3(0.55432528607985565, 0.62711267120697922, 0.79595541393055635)*/\n",
       "}\n",
       "\n",
       "\n",
       "\n",
       ".jp-RenderedMarkdown {\n",
       "\tfont-size: 1.2em;\n",
       "\tline-height: 1.6;\n",
       "\tfont-weight: 300;\n",
       "\ttext-align: justify;\n",
       "    color: gray;\n",
       "}\n",
       "\n",
       "\n",
       "\n",
       ".jp-RenderedMarkdown p {\n",
       "\tfont-size: 1.0em;\n",
       "\tline-height: 1.6;\n",
       "\tfont-weight: 300;\n",
       "\ttext-align: justify;\n",
       "    color: gray;\n",
       "}\n",
       "\n",
       "div pre\n",
       "{\n",
       "    color: red;\n",
       "    padding: 0.5em;\n",
       "    /*margin-left:1em;\n",
       "    margin-top: 1em;*/\n",
       "    margin-left:auto;\n",
       "    margin-right:auto;\n",
       "    }\n",
       "\n",
       "\n",
       ".polaroid {\n",
       "  width: 80%;\n",
       "  background-color: white;\n",
       "  box-shadow: 0 4px 8px 0 rgba(0, 0, 0, 0.2), 0 6px 20px 0 rgba(0, 0, 0, 0.19);\n",
       "  margin-bottom: 25px;\n",
       "    margin-left:auto;\n",
       "    margin-right:auto;\n",
       "    margin-top:2%;\n",
       "}\n",
       "\n",
       ".despolaroid p{\n",
       "  text-align: center;\n",
       "  padding: 10px 20px;\n",
       "    margin-left:auto;\n",
       "    margin-right:auto;\n",
       "    font-size: 0.8em;\n",
       "\tline-height: 1;\n",
       "\tfont-weight: 200;\n",
       "\n",
       "}\n",
       "\n",
       "\n",
       ".jp-RenderedMarkdown img {\n",
       "    display: block;\n",
       "    margin: auto;\n",
       "    width: 70%;\n",
       "    border-bottom: 4px solid #ddd;\n",
       "    padding: 5px;\n",
       "}\n",
       "\n",
       "\n",
       "</style>\n",
       "<script>\n",
       "    MathJax.Hub.Config({\n",
       "                        TeX: {\n",
       "                           extensions: [\"AMSmath.js\"],\n",
       "                           equationNumbers: { autoNumber: \"AMS\", useLabelIds: true}\n",
       "                           },\n",
       "                tex2jax: {\n",
       "                    inlineMath: [ ['$','$'], [\"\\\\(\",\"\\\\)\"] ],\n",
       "                    displayMath: [ ['$$','$$'], [\"\\\\[\",\"\\\\]\"] ]\n",
       "                },\n",
       "                displayAlign: 'center', // Change this to 'center' to center equations.\n",
       "                \"HTML-CSS\": {\n",
       "                    styles: {'.MathJax_Display': {\"margin\": 4}}\n",
       "                }\n",
       "});\n",
       "</script>"
      ],
      "text/plain": [
       "<IPython.core.display.HTML object>"
      ]
     },
     "execution_count": 1,
     "metadata": {},
     "output_type": "execute_result"
    }
   ],
   "source": [
    "from IPython.core.display import HTML\n",
    "css_file = 'css/estilo1.css'\n",
    "HTML(open(css_file, \"r\").read())"
   ]
  },
  {
   "cell_type": "code",
   "execution_count": null,
   "id": "1f1195c6-ca9e-42ac-8c15-4baa1be7304a",
   "metadata": {},
   "outputs": [],
   "source": []
  }
 ],
 "metadata": {
  "kernelspec": {
   "display_name": "Python 3 (ipykernel)",
   "language": "python",
   "name": "python3"
  },
  "language_info": {
   "codemirror_mode": {
    "name": "ipython",
    "version": 3
   },
   "file_extension": ".py",
   "mimetype": "text/x-python",
   "name": "python",
   "nbconvert_exporter": "python",
   "pygments_lexer": "ipython3",
   "version": "3.8.5"
  }
 },
 "nbformat": 4,
 "nbformat_minor": 5
}
