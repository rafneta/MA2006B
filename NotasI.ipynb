{
 "cells": [
  {
   "cell_type": "code",
   "execution_count": 1,
   "metadata": {
    "slideshow": {
     "slide_type": "slide"
    }
   },
   "outputs": [
    {
     "data": {
      "text/html": [
       "<link href='http://fonts.googleapis.com/css?family=Alegreya+Sans:100,300,400,500,700,800,900,100italic,300italic,400italic,500italic,700italic,800italic,900italic' rel='stylesheet' type='text/css'>\n",
       "<link href='http://fonts.googleapis.com/css?family=Arvo:400,700,400italic' rel='stylesheet' type='text/css'>\n",
       "<link href='http://fonts.googleapis.com/css?family=PT+Mono' rel='stylesheet' type='text/css'>\n",
       "<link href='http://fonts.googleapis.com/css?family=Shadows+Into+Light' rel='stylesheet' type='text/css'>\n",
       "<link href='http://fonts.googleapis.com/css?family=Nixie+One' rel='stylesheet' type='text/css'>\n",
       "<link href='https://fonts.googleapis.com/css?family=Source+Code+Pro' rel='stylesheet' type='text/css'>\n",
       "<style>\n",
       "\n",
       "@font-face {\n",
       "    font-family: \"Computer Modern\";\n",
       "    src: url('http://mirrors.ctan.org/fonts/cm-unicode/fonts/otf/cmunss.otf');\n",
       "}\n",
       "\n",
       "\n",
       "\n",
       "  /*                       vvvv changed from 14px  */\n",
       "  --jp-content-font-size1: 16px; /* Base font size */\n",
       "\n",
       "  /*                        vvvv inserted at the front  */\n",
       "  --jp-content-font-family: 'M+ 2p', -apple-system, BlinkMacSystemFont, 'Segoe UI';\n",
       "\n",
       "#notebook_panel { /* main background */\n",
       "    background: rgb(255,255,255);/*rgb(245,245,245);*/\n",
       "}\n",
       "\n",
       "div.cell { /* set cell width */\n",
       "    background: rgb(255,255,255);\n",
       "    width: 1000px;/* 850 */\n",
       "    margin-left:auto;\n",
       "    margin-right:auto;\n",
       "\n",
       "}\n",
       "\n",
       "div #notebook { /* centre the content */\n",
       "    background: rgb(255,255,255); /*#fff; white background for content */\n",
       "    width: 1150px;\n",
       "    margin: auto;\n",
       "    margin-left:auto;\n",
       "    margin-right:auto;\n",
       "\n",
       "}\n",
       "\n",
       "#notebook li { /* More space between bullet points */\n",
       "    margin-top:0.8em;\n",
       "}\n",
       "\n",
       "/* draw border around running cells */\n",
       "div.cell.border-box-sizing.code_cell.running { \n",
       "    border: 1px solid #111;\n",
       "}\n",
       "\n",
       "/* Put a solid color box around each cell and its output, visually linking them*/\n",
       "div.cell.code_cell {\n",
       "    background-color: rgb(255,255,255);/*rgb(256,256,256);*/ \n",
       "    border-radius: 0px; \n",
       "    padding: 2em;\n",
       "    margin-left:2em;\n",
       "    margin-top: 2em;\n",
       "    margin-bottom: 2em;\n",
       "    margin-left:auto;\n",
       "    margin-right:auto;\n",
       "    width:1000px;\n",
       "\n",
       "}\n",
       "\n",
       "div.jp-RenderedMarkdown{\n",
       "    font-family: 'Alegreya Sans' sans-serif;\n",
       "    line-height: 140%;\n",
       "    font-size: 130%;\n",
       "    font-weight: 400;\n",
       "    width:850px;\n",
       "    margin-left:auto;\n",
       "    margin-right:auto;\n",
       "    padding-left: 0px;\n",
       "}\n",
       "\n",
       "\n",
       "/* Formatting for header cells */\n",
       ".jp-RenderedMarkdown h1 {\n",
       "    font-family: 'Nixie One', serif;\n",
       "    font-style:regular;\n",
       "    font-weight: 400;    \n",
       "    font-size: 45pt;\n",
       "    line-height: 100%;\n",
       "    color: rgb(0,51,102);\n",
       "    margin-bottom: 0.5em;\n",
       "    margin-top: 0.5em;\n",
       "    display: block;\n",
       "}\n",
       "\n",
       ".jp-RenderedMarkdown h2 {\n",
       "    font-family: 'Nixie One', serif;\n",
       "    font-weight: 400;\n",
       "    font-size: 30pt;\n",
       "    line-height: 100%;\n",
       "    color: rgb(0,51,102);\n",
       "    margin-bottom: 0.1em;\n",
       "    margin-top: 0.3em;\n",
       "    display: block;\n",
       "}\t\n",
       "\n",
       ".jp-RenderedMarkdown h3 {\n",
       "    font-family: 'Nixie One', serif;\n",
       "    margin-top:16px;\n",
       "    font-size: 22pt;\n",
       "    font-weight: 600;\n",
       "    margin-bottom: 3px;\n",
       "    font-style: regular;\n",
       "    color: rgb(102,102,0);\n",
       "}\n",
       "\n",
       ".jp-RenderedMarkdown h4 {    /*Use this for captions*/\n",
       "    font-family: 'Nixie One', serif;\n",
       "    font-size: 14pt;\n",
       "    text-align: center;\n",
       "    margin-top: 0em;\n",
       "    margin-bottom: 2em;\n",
       "    font-style: regular;\n",
       "}\n",
       "\n",
       ".jp-RenderedMarkdown h5 {  /*Use this for small titles*/\n",
       "    font-family: 'Nixie One', sans-serif;\n",
       "    font-weight: 400;\n",
       "    font-size: 16pt;\n",
       "    color: rgb(163,0,0);\n",
       "    font-style: italic;\n",
       "    margin-bottom: .1em;\n",
       "    margin-top: 0.8em;\n",
       "    display: block;\n",
       "}\n",
       "\n",
       ".jp-RenderedMarkdown h6 { /*use this for copyright note*/\n",
       "    font-family: 'PT Mono', sans-serif;\n",
       "    font-weight: 300;\n",
       "    font-size: 9pt;\n",
       "    line-height: 100%;\n",
       "    color: grey;\n",
       "    margin-bottom: 1px;\n",
       "    margin-top: 1px;\n",
       "}\n",
       "\n",
       ".CodeMirror{\n",
       "    font-family: \"Source Code Pro\";\n",
       "    font-size: 90%;\n",
       "}\n",
       "\n",
       ".alert-box {\n",
       "    padding:10px 10px 10px 36px;\n",
       "    margin:5px;\n",
       "}\n",
       "\n",
       ".success {\n",
       "    color:#666600;\n",
       "    background:rgb(240,242,229);\n",
       "}\n",
       "\n",
       "\n",
       ".def {\t\n",
       "    border-style:solid;\n",
       "    border-width:4px;\n",
       "    /*-webkit-border-radius:15px;*/\n",
       "    border-radius: 1em;\n",
       "    border-color:rgba(102,194,163,0.9);/**  #366272;#CD853F;/**rgba(112, 156, 169, 0.66);*/\n",
       "    /*background: #366272;rgba(54, 98, 114, 0.9);/*#366272;*/\n",
       "\t/*border-top-left-radius:10%;*/\n",
       "\tcolor:black;\n",
       "\tfont-size: 1em;\n",
       "\t/*box-shadow: 10px 10px 10px #2178a3;*/\n",
       "\t/*overflow:scroll;*/\n",
       "\tpadding: 2% 4% 2% 4%;\n",
       "\tbox-sizing: border-box;\n",
       "\twidth:80%;\n",
       "    margin-left:auto;\n",
       "    margin-right:auto;\n",
       "    margin-bottom:2%;\n",
       "    margin-top:2%; \n",
       "    font-size: 1.0em;\n",
       "\tline-height: 1.6;\n",
       "\tfont-weight: 300;\n",
       "    background:rgba(102,194,163,0.2);/*1(0.40000000596046448, 0.7607843279838562, 0.64705884456634521)*/\n",
       "}\n",
       "\n",
       "\n",
       "\n",
       ".teo {\t\n",
       "    border-style:solid;\n",
       "    border-width:4px;\n",
       "    /*-webkit-border-radius:15px;*/\n",
       "\tborder-radius: 1em;\n",
       "    border-color:rgb(250, 187, 81,0.9);/**  #366272;#CD853F;/**rgba(112, 156, 169, 0.66);*/\n",
       "    /*background: #366272;rgba(54, 98, 114, 0.9);/*#366272;*/\n",
       "\t/*border-top-left-radius:10%;*/\n",
       "\tcolor:black;\n",
       "\tfont-size: 1em;\n",
       "\t/*box-shadow: 10px 10px 10px #2178a3;*/\n",
       "\t/*overflow:scroll;*/\n",
       "\tpadding: 2% 4% 2% 4%;\n",
       "\tbox-sizing: border-box;\n",
       "\twidth:80%;\n",
       "    margin-left:auto;\n",
       "    margin-right:auto;\n",
       "    margin-bottom:2%;\n",
       "    margin-top:2%; \n",
       "    font-size: 1.0em;\n",
       "\tline-height: 1.6;\n",
       "\tfont-weight: 300;\n",
       "    background:rgba(250, 187, 81,0.2);/*1(0.40000000596046448, 0.7607843279838562, 0.64705884456634521)*/\n",
       "}\n",
       "\n",
       "\n",
       ".eje {\t\n",
       "    border-style:solid;\n",
       "    border-width:4px;\n",
       "    /*-webkit-border-radius:15px;*/\n",
       "\tborder-radius: 1em;\n",
       "    border-color: rgba(200, 227, 212,0.9); /*rgba(249,140,97,0.9);#CD853F ; #366272*#CD853F;/**rgba(112, 156, 169, 0.66);*/\n",
       "    /*background: #366272;rgba(54, 98, 114, 0.9);/*#366272;*/\n",
       "\t/*border-top-left-radius:10%;*/\n",
       "\tcolor:black;\n",
       "\tfont-size: 1em;\n",
       "\t/*box-shadow: 10px 10px 10px #2178a3;*/\n",
       "\t/*overflow:scroll;*/\n",
       "\tpadding: 2% 4% 2% 4%;\n",
       "\tbox-sizing: border-box;\n",
       "\twidth:95%;\n",
       "    margin-left:auto;\n",
       "    margin-right:auto;\n",
       "    margin-bottom:2%;\n",
       "    margin-top:2%; \n",
       "    background: rgba(200, 227, 212,0.2);  /*rgba(249,140,97,0.2) /*2(0.98131487965583808, 0.55538641635109398, 0.38740485135246722)*/\n",
       "}\n",
       "\n",
       "\n",
       ".problemas {\t\n",
       "    border-style:solid;\n",
       "    border-width:4px;\n",
       "    /*-webkit-border-radius:15px;*/\n",
       "\tborder-radius: 1em;\n",
       "    border-color:rgba(0, 121, 53);/**  #366272;#CD853F;/**rgba(112, 156, 169, 0.66);*/\n",
       "    /*background: #366272;rgba(54, 98, 114, 0.9);/*#366272;*/\n",
       "\t/*border-top-left-radius:10%;*/\n",
       "\tcolor:black;\n",
       "\tfont-size: 1em;\n",
       "\t/*box-shadow: 10px 10px 10px #2178a3;*/\n",
       "\t/*overflow:scroll;*/\n",
       "\tpadding: 2% 4% 2% 4%;\n",
       "\tbox-sizing: border-box;\n",
       "\twidth:95%;\n",
       "    margin-left:auto;\n",
       "    margin-right:auto;\n",
       "    margin-bottom:2%;\n",
       "    margin-top:2%; \n",
       "    background:rgba(0, 121, 53, 0.3);/*3(0.55432528607985565, 0.62711267120697922, 0.79595541393055635)*/\n",
       "}\n",
       "\n",
       "\n",
       "\n",
       ".jp-RenderedMarkdown {\n",
       "\tfont-size: 1.2em;\n",
       "\tline-height: 1.6;\n",
       "\tfont-weight: 300;\n",
       "\ttext-align: justify;\n",
       "    color: gray;\n",
       "}\n",
       "\n",
       "\n",
       "\n",
       ".jp-RenderedMarkdown p {\n",
       "\tfont-size: 1.0em;\n",
       "\tline-height: 1.6;\n",
       "\tfont-weight: 300;\n",
       "\ttext-align: justify;\n",
       "    color: gray;\n",
       "}\n",
       "\n",
       "div pre\n",
       "{\n",
       "    color: red;\n",
       "    padding: 0.5em;\n",
       "    /*margin-left:1em;\n",
       "    margin-top: 1em;*/\n",
       "    margin-left:auto;\n",
       "    margin-right:auto;\n",
       "    }\n",
       "\n",
       "\n",
       ".polaroid {\n",
       "  width: 80%;\n",
       "  background-color: white;\n",
       "  box-shadow: 0 4px 8px 0 rgba(0, 0, 0, 0.2), 0 6px 20px 0 rgba(0, 0, 0, 0.19);\n",
       "  margin-bottom: 25px;\n",
       "    margin-left:auto;\n",
       "    margin-right:auto;\n",
       "    margin-top:2%;\n",
       "}\n",
       "\n",
       ".despolaroid p{\n",
       "  text-align: center;\n",
       "  padding: 10px 20px;\n",
       "    margin-left:auto;\n",
       "    margin-right:auto;\n",
       "    font-size: 0.8em;\n",
       "\tline-height: 1;\n",
       "\tfont-weight: 200;\n",
       "\n",
       "}\n",
       "\n",
       "\n",
       ".jp-RenderedMarkdown img {\n",
       "    display: block;\n",
       "    margin: auto;\n",
       "    width: 70%;\n",
       "    border-bottom: 4px solid #ddd;\n",
       "    padding: 5px;\n",
       "}\n",
       "\n",
       "\n",
       "</style>\n",
       "<script>\n",
       "    MathJax.Hub.Config({\n",
       "                        TeX: {\n",
       "                           extensions: [\"AMSmath.js\"],\n",
       "                           equationNumbers: { autoNumber: \"AMS\", useLabelIds: true}\n",
       "                           },\n",
       "                tex2jax: {\n",
       "                    inlineMath: [ ['$','$'], [\"\\\\(\",\"\\\\)\"] ],\n",
       "                    displayMath: [ ['$$','$$'], [\"\\\\[\",\"\\\\]\"] ]\n",
       "                },\n",
       "                displayAlign: 'center', // Change this to 'center' to center equations.\n",
       "                \"HTML-CSS\": {\n",
       "                    styles: {'.MathJax_Display': {\"margin\": 4}}\n",
       "                }\n",
       "});\n",
       "</script>"
      ],
      "text/plain": [
       "<IPython.core.display.HTML object>"
      ]
     },
     "execution_count": 1,
     "metadata": {},
     "output_type": "execute_result"
    }
   ],
   "source": [
    "from IPython.core.display import HTML\n",
    "css_file = 'css/estilo1.css'\n",
    "HTML(open(css_file, \"r\").read())"
   ]
  },
  {
   "cell_type": "markdown",
   "metadata": {
    "slideshow": {
     "slide_type": "slide"
    }
   },
   "source": [
    "### Índice\n",
    "\n",
    "1. [Divisibilidad](#1.-Divisibilidad)\n",
    "2. [Cifrados de traslación y afines.](#2.-Cifrados-de-traslación-y-afines.)\n",
    " - 2.1 [Operaciones con parejas ordenadas](#1.1-Operaciones-con-parejas-ordenadas)"
   ]
  },
  {
   "cell_type": "markdown",
   "metadata": {},
   "source": [
    "\n",
    "<div class=\"polaroid\">\n",
    "<img src=\"imagenes/imagengrupos.png\" alt=\"Pareja\">\n",
    "</div>\n",
    "\n",
    "# 1. Divisibilidad\n",
    "\n",
    "<!-- definición -->\n",
    "<div class='def'>\n",
    "<strong>Definición</strong> <em>[Divisibilidad]</em>\n",
    "<p>\n",
    "Un entero $b$ es divisible por un entero $a$, no cero, si existe un entero $x$ tal que $b = ax$ y se escribe $a\\mid b$. En el caso que en que $b$ no sea divisible por $a$ se escribe $a\\nmid b$\n",
    " </p>\n",
    "</div>\n",
    "\n",
    "- $a$ es divisor de $b$ o $a$ es factor de $b$\n",
    "\n",
    "- Sí $a\\notin\\{1,b\\}$  entonces $a$ es un divisor no trivial (en algunos textos el nombre de factor esta reservado cuando no eres un divisor trivial)\n",
    "\n",
    "\n",
    "\n",
    "<div class='teo'>\n",
    "<strong>Teorema</strong> <em>[]</em>\n",
    "\n",
    "i. $a\\mid b$ $\\Rightarrow$ $a\\mid bc,\\ \\forall c\\in\\mathbb{Z}$\n",
    "    \n",
    "ii. Si $a\\mid b$ y $b\\mid c$ $\\Rightarrow$ $a\\mid c$ \n",
    "    \n",
    "iii. Si $a\\mid b$ y $a\\mid c$ $\\Rightarrow$ $a\\mid bx+cy,\\ \\forall x,y\\in\\mathbb{Z}$ \n",
    "\n",
    "iv. Si $a\\mid b$ y $b\\mid a$ $\\Rightarrow$ $a=\\pm b$ \n",
    "    \n",
    "v. Si $a\\mid b$ y $a> 0$, $b>0$ $\\Rightarrow$ $a\\leq b$ \n",
    "\n",
    "</div>"
   ]
  },
  {
   "cell_type": "code",
   "execution_count": 2,
   "metadata": {},
   "outputs": [],
   "source": [
    "import sympy as sp"
   ]
  },
  {
   "cell_type": "code",
   "execution_count": 3,
   "metadata": {},
   "outputs": [],
   "source": [
    "import random "
   ]
  },
  {
   "cell_type": "code",
   "execution_count": 4,
   "metadata": {
    "scrolled": true,
    "tags": []
   },
   "outputs": [
    {
     "name": "stdout",
     "output_type": "stream",
     "text": [
      "Los divisores del numero 595 son [1, 5, 7, 17, 35, 85, 119, 595], en total son 8\n",
      "\t Sus divisores porpios son [1, 5, 7, 17, 35, 85, 119]\n",
      "\n",
      "Los divisores del numero 54 son [1, 2, 3, 6, 9, 18, 27, 54], en total son 8\n",
      "\t Sus divisores porpios son [1, 2, 3, 6, 9, 18, 27]\n",
      "\n",
      "Los divisores del numero 150 son [1, 2, 3, 5, 6, 10, 15, 25, 30, 50, 75, 150], en total son 12\n",
      "\t Sus divisores porpios son [1, 2, 3, 5, 6, 10, 15, 25, 30, 50, 75]\n",
      "\n",
      "Los divisores del numero 390 son [1, 2, 3, 5, 6, 10, 13, 15, 26, 30, 39, 65, 78, 130, 195, 390], en total son 16\n",
      "\t Sus divisores porpios son [1, 2, 3, 5, 6, 10, 13, 15, 26, 30, 39, 65, 78, 130, 195]\n",
      "\n",
      "Los divisores del numero 249 son [1, 3, 83, 249], en total son 4\n",
      "\t Sus divisores porpios son [1, 3, 83]\n",
      "\n",
      "Los divisores del numero 427 son [1, 7, 61, 427], en total son 4\n",
      "\t Sus divisores porpios son [1, 7, 61]\n",
      "\n",
      "Los divisores del numero 556 son [1, 2, 4, 139, 278, 556], en total son 6\n",
      "\t Sus divisores porpios son [1, 2, 4, 139, 278]\n",
      "\n",
      "Los divisores del numero 541 son [1, 541], en total son 2\n",
      "\t Sus divisores porpios son [1]\n",
      "\n",
      "Los divisores del numero 963 son [1, 3, 9, 107, 321, 963], en total son 6\n",
      "\t Sus divisores porpios son [1, 3, 9, 107, 321]\n",
      "\n",
      "Los divisores del numero 151 son [1, 151], en total son 2\n",
      "\t Sus divisores porpios son [1]\n",
      "\n",
      "Los divisores del numero 776 son [1, 2, 4, 8, 97, 194, 388, 776], en total son 8\n",
      "\t Sus divisores porpios son [1, 2, 4, 8, 97, 194, 388]\n",
      "\n",
      "Los divisores del numero 857 son [1, 857], en total son 2\n",
      "\t Sus divisores porpios son [1]\n",
      "\n",
      "Los divisores del numero 944 son [1, 2, 4, 8, 16, 59, 118, 236, 472, 944], en total son 10\n",
      "\t Sus divisores porpios son [1, 2, 4, 8, 16, 59, 118, 236, 472]\n",
      "\n",
      "Los divisores del numero 650 son [1, 2, 5, 10, 13, 25, 26, 50, 65, 130, 325, 650], en total son 12\n",
      "\t Sus divisores porpios son [1, 2, 5, 10, 13, 25, 26, 50, 65, 130, 325]\n",
      "\n",
      "Los divisores del numero 624 son [1, 2, 3, 4, 6, 8, 12, 13, 16, 24, 26, 39, 48, 52, 78, 104, 156, 208, 312, 624], en total son 20\n",
      "\t Sus divisores porpios son [1, 2, 3, 4, 6, 8, 12, 13, 16, 24, 26, 39, 48, 52, 78, 104, 156, 208, 312]\n",
      "\n",
      "Los divisores del numero 471 son [1, 3, 157, 471], en total son 4\n",
      "\t Sus divisores porpios son [1, 3, 157]\n",
      "\n",
      "Los divisores del numero 655 son [1, 5, 131, 655], en total son 4\n",
      "\t Sus divisores porpios son [1, 5, 131]\n",
      "\n",
      "Los divisores del numero 217 son [1, 7, 31, 217], en total son 4\n",
      "\t Sus divisores porpios son [1, 7, 31]\n",
      "\n",
      "Los divisores del numero 773 son [1, 773], en total son 2\n",
      "\t Sus divisores porpios son [1]\n",
      "\n",
      "Los divisores del numero 148 son [1, 2, 4, 37, 74, 148], en total son 6\n",
      "\t Sus divisores porpios son [1, 2, 4, 37, 74]\n",
      "\n"
     ]
    }
   ],
   "source": [
    "for i in range(20):\n",
    "    num = random.randint(2,1000)\n",
    "    print(f\"Los divisores del numero {num} son {sp.divisors(num)}, en total son {sp.divisor_count(num)}\")\n",
    "    print(f\"\\t Sus divisores porpios son {sp.proper_divisors(num)}\")\n",
    "    print()"
   ]
  },
  {
   "cell_type": "markdown",
   "metadata": {},
   "source": [
    "\n",
    "<div class='teo'>\n",
    "<strong>Teorema</strong> <em>[El algoritmo de la división]</em>\n",
    "<p>\n",
    "Si $a$ y $b$ son enteros, con $a\\neq 0$. Existen enteros $q$ y $r$ tal que \n",
    "    $$b = qa +r,\\quad 0\\leq r<|a|$$\n",
    "    </p>\n",
    "</div>\n",
    "\n",
    "\n",
    "Un entero $c$ es un divisor común de $a$ y $b$ si $c\\mid a$ y $c\\mid b$\n",
    "\n",
    "<!-- definición -->\n",
    "<div class='def'>\n",
    "<strong>Definición</strong> <em>[Máximo común divisor]</em>\n",
    "\n",
    "Para enteros positivos $a$, $b$, el máximo común divisor $\\mathrm{mcd}(a,b)$ ($\\mathrm{gcd}(a,b)$) de $a$ y $b$ es el entero positivo más grande que divide a $a$ y a $b$.\n",
    "    \n",
    "Un entero no negatico es el **máximo común divisor** de los enteros $a$ y $b$ si:\n",
    "    \n",
    "1. $d$ es un divisor común de $a$ y $b$\n",
    "2. Si $c\\mid a$ y $c\\mid b$ $\\Rightarrow$ $c\\mid d$\n",
    "\n",
    "</div>\n",
    "\n",
    "<div class='teo'>\n",
    "<strong>Teorema</strong> <em>[]</em>\n",
    "<p>\n",
    "\n",
    "  Si $g = \\mathrm{mcd}(a,b)$ entonces existen enteros $s$ y $t$ tal que \n",
    "  $$g = sa + tb$$\n",
    "</p>\n",
    "</div>\n",
    "\n",
    "<div class='teo'>\n",
    "<strong>Teorema</strong> <em>[Algoritmo Euclideano]</em>\n",
    "<p>\n",
    "Dados los enteros $a$ y $b$ con $b>0$, se hace una aplicación repetida del algoritmo de la división, para obtener una serie de ecuaciónes \n",
    "\n",
    "$$\n",
    "\\begin{aligned}\n",
    "a &=q_{1} b+r_{1} & 0< r_1<b\\\\\n",
    "b &=q_{2} r_{1}+r_{2}& 0< r_2<r_1 \\\\\n",
    "r_{1} &=q_{3} r_{2}+r_{3} & 0< r_3<r_2\\\\\n",
    "r_{2} &=q_{4} r_{3}+r_{4} & 0< r_4<r_3\\\\\n",
    "& \\vdots \\\\\n",
    "r_{n-3} &=q_{n-1} r_{n-2}+r_{n-1} & 0< r_{n-1}<r_{n-2}\\\\\n",
    "r_{n-2} &=q_{n} r_{n-1}+r_{n} & 0< r_n<r_{n-1}\\\\\n",
    "r_{n-1} &=q_{n+1} r_{n}+0\n",
    "\\end{aligned}\n",
    "$$\n",
    "\n",
    "El máximo común divisor $\\mathrm{mcd}(a,b)$ es $r_n$, el último residuo diferente de cerp en el proceso de la división. Los valores de $s$ y $t$ en $\\mathrm{mcd}(a,b) = sa + tb$ pueden obtenerse eliminando $r_1,r_2,\\dots,r_{n-1}$ en el conjunto de las ecuaciones.\n",
    "</p>\n",
    "</div>\n",
    "\n",
    "\n",
    "<div class='def'>\n",
    "<strong>Definición</strong> <em>[Mínimo común múltiplo]</em>\n",
    "\n",
    "\n",
    "    \n",
    "Un entero no negativo $c$ es el **mínimo común multiplo** de los enteros $a$ y $b$ si:\n",
    "    \n",
    "1. $a\\mid c$ y $b\\mid c$ \n",
    "2. Si $a\\mid d$ y $b\\mid d$ $\\Rightarrow$ $c\\mid d$\n",
    "\n",
    "</div>\n",
    "\n"
   ]
  },
  {
   "cell_type": "code",
   "execution_count": 5,
   "metadata": {},
   "outputs": [],
   "source": [
    "def mcd(a, b):\n",
    "    if a < b:\n",
    "        a, b = b, a\n",
    "    if b == 0:\n",
    "        return a\n",
    "    else:\n",
    "        return mcd(b, a%b)"
   ]
  },
  {
   "cell_type": "code",
   "execution_count": 6,
   "metadata": {},
   "outputs": [
    {
     "data": {
      "text/plain": [
       "15"
      ]
     },
     "execution_count": 6,
     "metadata": {},
     "output_type": "execute_result"
    }
   ],
   "source": [
    "mcd(15,60)"
   ]
  },
  {
   "cell_type": "code",
   "execution_count": 7,
   "metadata": {},
   "outputs": [],
   "source": [
    "def xmcd(a, b):\n",
    "    if a == 0:\n",
    "        return (b, 0, 1)\n",
    "    else:\n",
    "        gcd, x, y = xmcd(b%a, a) \n",
    "        return (gcd, y - b//a *x , x)\n"
   ]
  },
  {
   "cell_type": "code",
   "execution_count": 8,
   "metadata": {},
   "outputs": [
    {
     "data": {
      "text/plain": [
       "(15, 1, 0)"
      ]
     },
     "execution_count": 8,
     "metadata": {},
     "output_type": "execute_result"
    }
   ],
   "source": [
    "xmcd(15,60)"
   ]
  },
  {
   "cell_type": "code",
   "execution_count": 9,
   "metadata": {},
   "outputs": [
    {
     "data": {
      "text/latex": [
       "$\\displaystyle 209$"
      ],
      "text/plain": [
       "209"
      ]
     },
     "execution_count": 9,
     "metadata": {},
     "output_type": "execute_result"
    }
   ],
   "source": [
    "sp.gcd(2299, 627)"
   ]
  },
  {
   "cell_type": "code",
   "execution_count": 10,
   "metadata": {},
   "outputs": [
    {
     "name": "stdout",
     "output_type": "stream",
     "text": [
      "(-1, 4, 209) <class 'tuple'>\n"
     ]
    }
   ],
   "source": [
    "res = sp.gcdex(2299,627)\n",
    "print(res,type(res))"
   ]
  },
  {
   "cell_type": "code",
   "execution_count": 11,
   "metadata": {},
   "outputs": [
    {
     "data": {
      "text/latex": [
       "$\\displaystyle 209$"
      ],
      "text/plain": [
       "209"
      ]
     },
     "execution_count": 11,
     "metadata": {},
     "output_type": "execute_result"
    }
   ],
   "source": [
    "2299*res[0] + 627*res[1]  # 2299*(-1) + 627*(4) = 209"
   ]
  },
  {
   "cell_type": "code",
   "execution_count": 12,
   "metadata": {},
   "outputs": [
    {
     "data": {
      "text/plain": [
       "209"
      ]
     },
     "execution_count": 12,
     "metadata": {},
     "output_type": "execute_result"
    }
   ],
   "source": [
    "sp.igcd(2299, 627)"
   ]
  },
  {
   "cell_type": "code",
   "execution_count": 13,
   "metadata": {},
   "outputs": [
    {
     "name": "stdout",
     "output_type": "stream",
     "text": [
      "(-1, 4, 209)\n",
      "(5, -47, 1)\n",
      "(-10, 207, 7)\n"
     ]
    }
   ],
   "source": [
    "print(sp.gcdex(2299,627))\n",
    "print(sp.gcdex(160,17))\n",
    "print(sp.gcdex(52598,2541))"
   ]
  },
  {
   "cell_type": "markdown",
   "metadata": {},
   "source": [
    "<!-- definición -->\n",
    "<div class='def'>\n",
    "<strong>Definición</strong> <em>[Número primo]</em>\n",
    "<p>\n",
    "Se dice que un numero $p>1$ es un número primo, en caso qeu no exista divisor $d$ de $p$ que satisfaga $1<d<p$. Si un entero $a>1$ no es un primo, entonces se dice que es un número compuesto.\n",
    "</p>\n",
    "</div>\n",
    "\n",
    "\n",
    "<!-- definición -->\n",
    "<div class='def'>\n",
    "<strong>Definición</strong> <em>[Primos relativos]</em>\n",
    "<p>\n",
    "Enteros positivos $a$ y $b$ se dicen qeu son primos relativos (o coprimos) si $\\mathrm{mcd}(a,b)=1$\n",
    "    </p>\n",
    "</div>\n",
    "\n",
    "\n",
    "\n",
    "<!-- definición -->\n",
    "<div class='teo'>\n",
    "<strong>Teorema</strong> <em>[Descomposición en primos]</em>\n",
    "<p>\n",
    "Todo entero $n>1$ puede expresarse como un producto de primos.     \n",
    "</p>\n",
    "</div>\n",
    "\n",
    "<div class='teo'>\n",
    "<strong>Teorema</strong> <em>[]</em>\n",
    "<p>\n",
    "Si $p\\mid a_1a_2\\dots a_n$ entnces $p$ divide por lo menos a un factor $a_i$ del producto.\n",
    "</p>\n",
    "</div>\n",
    "\n",
    "\n",
    "<!-- definición -->\n",
    "<div class='def'>\n",
    "<strong>Definición</strong> <em>[Función totient de Euler]</em>\n",
    "<p>\n",
    "La función totient de Euler $\\phi:\\mathbb{Z}^+\\rightarrow\\mathbb{N}$, dado  $n$, $\\phi(n)$ es el numero de enteros positivos menores a iguales a $n$ que son coprimos con $n$ \n",
    "</p>\n",
    "</div>\n",
    "\n",
    "**Propriedades**\n",
    "- Si $p$ is **primp** => $\\boxed{\\phi(p) = p-1}$\n",
    "- Multiplicativa => si $(m,n) = 1 => \\phi(mn) = \\phi(m)\\cdot \\phi(n)$ \n",
    "- Si $ n=p_{1}^{e_{1}} \\cdot p_{2}^{e_{2}} \\cdot p_{3}^{e_{3}} \\cdots p_{k}^{e_{k}} $  es la factorización en primos de $n$ => $\\phi(n)=n\\left( 1−\\cfrac 1 {p_1} \\right) \\left(1−\\cfrac 1{ p_2}\\right)\\dots\\left(1−\\cfrac 1 {p_k}\\right)$\n",
    "\n"
   ]
  },
  {
   "cell_type": "markdown",
   "metadata": {},
   "source": [
    "<!-- definición -->\n",
    "<div class='teo'>\n",
    "<strong>Teorema</strong> <em>[Fundamental de la aritmetica]</em>\n",
    "<p>\n",
    "La factorización de cualquier entero positivo $n$ en primos es única independientemente del orden de los primos.\n",
    "</p>\n",
    "</div>\n",
    "\n",
    "\n",
    "<!-- definición -->\n",
    "<div class='teo'>\n",
    "<strong>Teorema</strong> <em>[Euclides]</em>\n",
    "<p>\n",
    "El numero de primos es infinito\n",
    "    </p>\n",
    "</div>\n",
    "\n",
    "\n",
    "<!-- definición -->\n",
    "<div class='teo'>\n",
    "<strong>Teorema</strong> <em>[]</em>\n",
    "<p>\n",
    "Existen arbitrariamente grandes vacios en la serie de los primos, \n",
    "</p>\n",
    "</div>"
   ]
  },
  {
   "cell_type": "code",
   "execution_count": 14,
   "metadata": {},
   "outputs": [
    {
     "data": {
      "text/plain": [
       "array('l', [2, 3, 5, 7, 11, 13])"
      ]
     },
     "execution_count": 14,
     "metadata": {},
     "output_type": "execute_result"
    }
   ],
   "source": [
    "# ??sp.sieve\n",
    "sp.sieve._list"
   ]
  },
  {
   "cell_type": "code",
   "execution_count": 15,
   "metadata": {},
   "outputs": [
    {
     "data": {
      "text/plain": [
       "array('l', [2, 3, 5, 7, 11, 13, 17, 19, 23, 29, 31, 37, 41, 43, 47, 53, 59, 61, 67, 71, 73, 79, 83, 89, 97, 101, 103, 107, 109, 113, 127, 131, 137, 139, 149, 151, 157, 163, 167, 173, 179, 181, 191, 193, 197, 199, 211, 223, 227, 229, 233, 239, 241, 251, 257, 263, 269, 271, 277, 281, 283, 293, 307, 311, 313, 317, 331, 337, 347, 349, 353, 359, 367, 373, 379, 383, 389, 397, 401, 409, 419, 421, 431, 433, 439, 443, 449, 457, 461, 463, 467, 479, 487, 491, 499, 503, 509, 521, 523, 541, 547, 557, 563, 569, 571, 577, 587, 593, 599, 601, 607, 613, 617, 619, 631, 641, 643, 647, 653, 659, 661, 673, 677, 683, 691, 701, 709, 719, 727, 733, 739, 743, 751, 757, 761, 769, 773, 787, 797, 809, 811, 821, 823, 827, 829, 839, 853, 857, 859, 863, 877, 881, 883, 887, 907, 911, 919, 929, 937, 941, 947, 953, 967, 971, 977, 983, 991, 997])"
      ]
     },
     "execution_count": 15,
     "metadata": {},
     "output_type": "execute_result"
    }
   ],
   "source": [
    "sp.sieve.extend(1000)\n",
    "sp.sieve._list"
   ]
  },
  {
   "cell_type": "code",
   "execution_count": 16,
   "metadata": {},
   "outputs": [
    {
     "data": {
      "text/plain": [
       "[11, 13, 17, 19, 23, 29, 31, 37, 41, 43, 47]"
      ]
     },
     "execution_count": 16,
     "metadata": {},
     "output_type": "execute_result"
    }
   ],
   "source": [
    "[p for p in sp.sieve.primerange(11,50)]"
   ]
  },
  {
   "cell_type": "code",
   "execution_count": 17,
   "metadata": {},
   "outputs": [
    {
     "name": "stdout",
     "output_type": "stream",
     "text": [
      "El numero primo 1, es el 2\n",
      "El numero primo 2, es el 3\n",
      "El numero primo 3, es el 5\n",
      "El numero primo 4, es el 7\n",
      "El numero primo 5, es el 11\n",
      "El numero primo 6, es el 13\n",
      "El numero primo 7, es el 17\n",
      "El numero primo 8, es el 19\n",
      "El numero primo 9, es el 23\n"
     ]
    }
   ],
   "source": [
    "for indice in range(1,10):\n",
    "    print(f\"El numero primo {indice}, es el {sp.prime(indice)}\")"
   ]
  },
  {
   "cell_type": "code",
   "execution_count": 18,
   "metadata": {},
   "outputs": [
    {
     "name": "stdout",
     "output_type": "stream",
     "text": [
      "La cantida de numeros primos menores a 100 es 25\n",
      "La cantida de numeros primos menores a 90 es 24\n",
      "La cantida de numeros primos menores a 80 es 22\n",
      "La cantida de numeros primos menores a 70 es 19\n",
      "La cantida de numeros primos menores a 60 es 17\n",
      "La cantida de numeros primos menores a 50 es 15\n",
      "La cantida de numeros primos menores a 40 es 12\n",
      "La cantida de numeros primos menores a 30 es 10\n",
      "La cantida de numeros primos menores a 20 es 8\n",
      "La cantida de numeros primos menores a 10 es 4\n"
     ]
    }
   ],
   "source": [
    " for i in range(100,0,-10):\n",
    "    print(f\"La cantida de numeros primos menores a {i} es {sp.primepi(i)}\")"
   ]
  },
  {
   "cell_type": "code",
   "execution_count": 19,
   "metadata": {},
   "outputs": [
    {
     "name": "stdout",
     "output_type": "stream",
     "text": [
      "¿El numero 778 es primo? : False. El primo anterior  es 773, el primo posterior es 787\n",
      "¿El numero 612 es primo? : False. El primo anterior  es 607, el primo posterior es 613\n",
      "¿El numero 541 es primo? : True. El primo anterior  es 523, el primo posterior es 547\n",
      "¿El numero 620 es primo? : False. El primo anterior  es 619, el primo posterior es 631\n",
      "¿El numero 841 es primo? : False. El primo anterior  es 839, el primo posterior es 853\n",
      "¿El numero 924 es primo? : False. El primo anterior  es 919, el primo posterior es 929\n",
      "¿El numero 130 es primo? : False. El primo anterior  es 127, el primo posterior es 131\n",
      "¿El numero 934 es primo? : False. El primo anterior  es 929, el primo posterior es 937\n",
      "¿El numero 710 es primo? : False. El primo anterior  es 709, el primo posterior es 719\n",
      "¿El numero 912 es primo? : False. El primo anterior  es 911, el primo posterior es 919\n",
      "¿El numero 624 es primo? : False. El primo anterior  es 619, el primo posterior es 631\n",
      "¿El numero 241 es primo? : True. El primo anterior  es 239, el primo posterior es 251\n",
      "¿El numero 716 es primo? : False. El primo anterior  es 709, el primo posterior es 719\n",
      "¿El numero 7 es primo? : True. El primo anterior  es 5, el primo posterior es 11\n",
      "¿El numero 479 es primo? : True. El primo anterior  es 467, el primo posterior es 487\n",
      "¿El numero 927 es primo? : False. El primo anterior  es 919, el primo posterior es 929\n",
      "¿El numero 239 es primo? : True. El primo anterior  es 233, el primo posterior es 241\n",
      "¿El numero 858 es primo? : False. El primo anterior  es 857, el primo posterior es 859\n",
      "¿El numero 730 es primo? : False. El primo anterior  es 727, el primo posterior es 733\n",
      "¿El numero 81 es primo? : False. El primo anterior  es 79, el primo posterior es 83\n"
     ]
    }
   ],
   "source": [
    "for i in range(20):\n",
    "    num = random.randint(2,1000)\n",
    "    print(f\"¿El numero {num} es primo? : {sp.isprime(num)}. El primo anterior  es {sp.prevprime(num)}, el primo posterior es {sp.nextprime(num)}\")"
   ]
  },
  {
   "cell_type": "code",
   "execution_count": 20,
   "metadata": {},
   "outputs": [
    {
     "data": {
      "text/plain": [
       "[11, 13, 17, 19, 23, 29, 31, 37, 41, 43, 47]"
      ]
     },
     "execution_count": 20,
     "metadata": {},
     "output_type": "execute_result"
    }
   ],
   "source": [
    "[p for p in sp.primerange(11,50)]"
   ]
  },
  {
   "cell_type": "code",
   "execution_count": 21,
   "metadata": {},
   "outputs": [],
   "source": [
    "import seaborn as sns\n",
    "import numpy as np\n",
    "import matplotlib.pyplot as plt\n",
    "# sns.set_theme()"
   ]
  },
  {
   "cell_type": "code",
   "execution_count": 22,
   "metadata": {},
   "outputs": [
    {
     "data": {
      "text/plain": [
       "<AxesSubplot:>"
      ]
     },
     "execution_count": 22,
     "metadata": {},
     "output_type": "execute_result"
    },
    {
     "data": {
      "image/png": "[encoded data removed]",
      "text/plain": [
       "<Figure size 432x288 with 1 Axes>"
      ]
     },
     "metadata": {
      "needs_background": "light"
     },
     "output_type": "display_data"
    }
   ],
   "source": [
    "ejecu = 2000\n",
    "lista_primos = np.array([sp.randprime(2,100) for i in range(ejecu)]) #generamos numeros primos aleatorios entre 2, 100\n",
    "\n",
    "sns.scatterplot(x = np.linspace(1,ejecu,ejecu),y = lista_primos)"
   ]
  },
  {
   "cell_type": "code",
   "execution_count": 23,
   "metadata": {},
   "outputs": [
    {
     "data": {
      "text/plain": [
       "<AxesSubplot:ylabel='count'>"
      ]
     },
     "execution_count": 23,
     "metadata": {},
     "output_type": "execute_result"
    },
    {
     "data": {
      "image/png": "[encoded data removed]",
      "text/plain": [
       "<Figure size 432x288 with 1 Axes>"
      ]
     },
     "metadata": {
      "needs_background": "light"
     },
     "output_type": "display_data"
    }
   ],
   "source": [
    "sns.countplot(x = lista_primos)"
   ]
  },
  {
   "cell_type": "code",
   "execution_count": 24,
   "metadata": {},
   "outputs": [
    {
     "name": "stdout",
     "output_type": "stream",
     "text": [
      "El numero compuesto 1, es el 4\n",
      "El numero compuesto 2, es el 6\n",
      "El numero compuesto 3, es el 8\n",
      "El numero compuesto 4, es el 9\n",
      "El numero compuesto 5, es el 10\n",
      "El numero compuesto 6, es el 12\n",
      "El numero compuesto 7, es el 14\n",
      "El numero compuesto 8, es el 15\n",
      "El numero compuesto 9, es el 16\n"
     ]
    }
   ],
   "source": [
    "for indice in range(1,10):\n",
    "    print(f\"El numero compuesto {indice}, es el {sp.composite(indice)}\")"
   ]
  },
  {
   "cell_type": "code",
   "execution_count": 25,
   "metadata": {},
   "outputs": [
    {
     "name": "stdout",
     "output_type": "stream",
     "text": [
      " La potencia más grande de 5 que divide a 8, es 0\n",
      " La potencia más grande de 5 que divide a 5, es 1\n",
      " La potencia más grande de 5 que divide a 25, es 2\n",
      " La potencia más grande de 5 que divide a 125, es 3\n",
      " La potencia más grande de 5 que divide a 250, es 3\n"
     ]
    }
   ],
   "source": [
    "for n in [8, 5, 25, 125, 250]:\n",
    "    base = 5\n",
    "    print(f\" La potencia más grande de {base} que divide a {n}, es {sp.multiplicity(base, n)}\") "
   ]
  },
  {
   "cell_type": "code",
   "execution_count": 26,
   "metadata": {},
   "outputs": [
    {
     "name": "stdout",
     "output_type": "stream",
     "text": [
      "¿El numero 319 es primo? : False. Su factorización es {11: 1, 29: 1}\n",
      "¿El numero 849 es primo? : False. Su factorización es {3: 1, 283: 1}\n",
      "¿El numero 441 es primo? : False. Su factorización es {3: 2, 7: 2}\n",
      "¿El numero 752 es primo? : False. Su factorización es {2: 4, 47: 1}\n",
      "¿El numero 930 es primo? : False. Su factorización es {2: 1, 3: 1, 5: 1, 31: 1}\n",
      "¿El numero 203 es primo? : False. Su factorización es {7: 1, 29: 1}\n",
      "¿El numero 303 es primo? : False. Su factorización es {3: 1, 101: 1}\n",
      "¿El numero 323 es primo? : False. Su factorización es {17: 1, 19: 1}\n",
      "¿El numero 460 es primo? : False. Su factorización es {2: 2, 5: 1, 23: 1}\n",
      "¿El numero 711 es primo? : False. Su factorización es {3: 2, 79: 1}\n",
      "¿El numero 314 es primo? : False. Su factorización es {2: 1, 157: 1}\n",
      "¿El numero 168 es primo? : False. Su factorización es {2: 3, 3: 1, 7: 1}\n",
      "¿El numero 821 es primo? : True. Su factorización es {821: 1}\n",
      "¿El numero 494 es primo? : False. Su factorización es {2: 1, 13: 1, 19: 1}\n",
      "¿El numero 939 es primo? : False. Su factorización es {3: 1, 313: 1}\n",
      "¿El numero 538 es primo? : False. Su factorización es {2: 1, 269: 1}\n",
      "¿El numero 955 es primo? : False. Su factorización es {5: 1, 191: 1}\n",
      "¿El numero 188 es primo? : False. Su factorización es {2: 2, 47: 1}\n",
      "¿El numero 582 es primo? : False. Su factorización es {2: 1, 3: 1, 97: 1}\n",
      "¿El numero 574 es primo? : False. Su factorización es {2: 1, 7: 1, 41: 1}\n"
     ]
    }
   ],
   "source": [
    "for i in range(20):\n",
    "    num = random.randint(2,1000)\n",
    "    print(f\"¿El numero {num} es primo? : {sp.isprime(num)}. Su factorización es {sp.factorint(num)}\")"
   ]
  },
  {
   "cell_type": "code",
   "execution_count": 27,
   "metadata": {},
   "outputs": [
    {
     "name": "stdout",
     "output_type": "stream",
     "text": [
      "¿El numero 881 es primo? : True. Sus factores primos son  [881]\n",
      "¿El numero 979 es primo? : False. Sus factores primos son  [11, 89]\n",
      "¿El numero 535 es primo? : False. Sus factores primos son  [5, 107]\n",
      "¿El numero 509 es primo? : True. Sus factores primos son  [509]\n",
      "¿El numero 222 es primo? : False. Sus factores primos son  [2, 3, 37]\n",
      "¿El numero 723 es primo? : False. Sus factores primos son  [3, 241]\n",
      "¿El numero 769 es primo? : True. Sus factores primos son  [769]\n",
      "¿El numero 710 es primo? : False. Sus factores primos son  [2, 5, 71]\n",
      "¿El numero 696 es primo? : False. Sus factores primos son  [2, 3, 29]\n",
      "¿El numero 872 es primo? : False. Sus factores primos son  [2, 109]\n",
      "¿El numero 103 es primo? : True. Sus factores primos son  [103]\n",
      "¿El numero 401 es primo? : True. Sus factores primos son  [401]\n",
      "¿El numero 84 es primo? : False. Sus factores primos son  [2, 3, 7]\n",
      "¿El numero 887 es primo? : True. Sus factores primos son  [887]\n",
      "¿El numero 275 es primo? : False. Sus factores primos son  [5, 11]\n",
      "¿El numero 360 es primo? : False. Sus factores primos son  [2, 3, 5]\n",
      "¿El numero 532 es primo? : False. Sus factores primos son  [2, 7, 19]\n",
      "¿El numero 723 es primo? : False. Sus factores primos son  [3, 241]\n",
      "¿El numero 628 es primo? : False. Sus factores primos son  [2, 157]\n",
      "¿El numero 194 es primo? : False. Sus factores primos son  [2, 97]\n"
     ]
    }
   ],
   "source": [
    "for i in range(20):\n",
    "    num = random.randint(2,1000)\n",
    "    print(f\"¿El numero {num} es primo? : {sp.isprime(num)}. Sus factores primos son  {sp.primefactors(num)}\")"
   ]
  },
  {
   "cell_type": "markdown",
   "metadata": {},
   "source": [
    "<!-- definición -->\n",
    "<div class='def'>\n",
    "<strong>Definición</strong> <em>[Congruencia]</em>\n",
    "\n",
    "Sean $a,b, m\\in \\mathbb{Z}$, con $m\\neq 0$. Si $m$ divide a la diferencia de $a-b$, se dice que $a$ es congruente con $b$ módulo $m$ y se escribe\n",
    "    \n",
    "$$a\\equiv b \\bmod m$$    \n",
    "</div>\n",
    "\n",
    "Notas:\n",
    "\n",
    "- Como $m\\mid a-b \\Leftrightarrow  -m\\mid a-b$ solo se toman $m\\in \\mathbb{Z}^+$\n",
    "\n",
    "- $[a\\bmod m]$ denota el residuo de $a$ dividido por $m$\n",
    "\n",
    "__Ejemplos__\n",
    "\n",
    "$\n",
    "\\begin{aligned}\n",
    "&25=4 \\bmod 7 \\\\\n",
    "&6=1 \\bmod 5 \\\\\n",
    "&5=5 \\bmod 6 \\\\\n",
    "&-25=3 \\bmod 7 \\\\\n",
    "&-6=4 \\bmod 5 \\\\\n",
    "&-18=0 \\bmod 6\n",
    "\\end{aligned}\n",
    "$\n",
    "\n",
    "\n",
    "**Def**\n",
    "- Los **enteros módulo $m$**, denotados $\\mathbb{Z}_m$, es el conjunto de las clases equivalencia de los enteros ${0,1,2,...,m−1}$. Suma, resta y multiplicación en $\\mathbb{Z}_m$ se realizan módulo $m$\n",
    "\n",
    "**La operación modulo genera clases de equivalencia**\n",
    "\n",
    "- $x \\equiv x \\bmod m$\n",
    "-$x \\equiv y \\bmod m$ y $y \\equiv z \\bmod m \\Rightarrow x \\equiv z \\bmod m$\n",
    "- $x\\equiv y \\bmod m \\Rightarrow y \\equiv x \\bmod m$\n",
    "\n",
    "**Propiedades de la suma**:\n",
    "\n",
    "- Si $a+b = c$, entonces $a\\bmod m+b\\bmod m \\equiv c \\bmod m$. \n",
    "- Si $a\\equiv b\\bmod m$, then $a+k \\equiv b+k \\bmod m$ con $k\\in\\mathbb{Z}$.\n",
    "- Si $a\\equiv b\\bmod m$ y $c\\equiv d\\bmod m$, entonces $a+c \\equiv b+d \\bmod m$\n",
    "- Si $a \\equiv b\\bmod m$, entonces $-a \\equiv -b\\bmod m$\n",
    "\n",
    "**Propiedad de multiplicación**:\n",
    "\n",
    "- Si $a \\cdot b = c$, entonces $a\\bmod m\\cdot b\\bmod m \\equiv c \\bmod{m}$\n",
    "- Si $a \\equiv b \\bmod{m}$, entonces $ka \\equiv kb \\bmod{m}$ $k\\in\\mathbb{Z}$.\n",
    "- Si $a \\equiv b \\bmod{m}$ y $c \\equiv d \\bmod{m}$, entonces $ac \\equiv bd \\bmod{m}$\n",
    "\n",
    "\n",
    "**Porpiedad de potencias**:\n",
    "- Si $a\\equiv b\\bmod{m}$, entonces $a^k \\equiv b^k \\bmod{m}$ con $k\\in\\mathbb{Z}$.\n",
    "\n",
    "\n",
    "<!-- definición -->\n",
    "<div class='teo'>\n",
    "<strong>Teorema</strong> <em>[Propiedades congruencias]</em>\n",
    "<p>\n",
    "Supóngase que $a,b,c,d,x,y\\in \\mathbb{Z}$, entonces:\n",
    "    <br><br>\n",
    "    a. $a\\equiv b \\bmod m$, $b\\equiv a \\bmod m$ y $a-b\\equiv 0 \\bmod m$ son porposiciones equivalentes<br>\n",
    "    b. Si $a\\equiv b \\bmod m$ y $b\\equiv c \\bmod m$, entonces $a\\equiv c \\bmod m$<br>\n",
    "    c. Si $a\\equiv b \\bmod m$ y $c\\equiv d \\bmod m$, entonces $ax +cy \\equiv bx +dy \\bmod m$<br>\n",
    "    d. Si $a\\equiv b \\bmod m$ y $c\\equiv d \\bmod m$, entonces $ac \\equiv bd \\bmod m$<br>\n",
    "    e. Si $a\\equiv b \\bmod m$ y $d\\mid m$, $d>0$, entonces $a\\equiv b \\bmod d$\n",
    "    \n",
    " </p>\n",
    "</div>"
   ]
  },
  {
   "cell_type": "markdown",
   "metadata": {},
   "source": [
    "<!-- definición -->\n",
    "<div class='def'>\n",
    "<strong>Definición</strong> <em>[Inverso multiplicativo]</em>\n",
    "\n",
    "\n",
    "Decimos que $x$ es el inverso multiplicativo de $a$ modulo $m$  si $$ax\\equiv 1 \\bmod m$$\n",
    "\n",
    "se denota al inverso multiplicatico como $x = a^{-1}$\n",
    "</div>\n",
    "\n",
    "|  $m=26$      |    | ||||||||||||\n",
    "| ------ | -- |--|--|--|--|--|--|--|--|--|--|--|--|\n",
    "|$a$     | 1 | 3| 5| 7| 9| 11| 15| 17| 19| 21| 23| 25|\n",
    "| $a^{-1}$  | 1 |9| 21| 15 |3| 19| 7| 23| 11 |5 |17| 25|\n",
    "\n",
    "\n",
    "- $\\mathbb{Z}_m=\\{1,2,\\dots,m-1\\}$ donde la suma se define como $a+b =[a+b \\bmod m] $\n",
    "\n",
    "**Resultado**\n",
    "\n",
    "\n",
    "\n",
    "- Un elemento $a$ tiene inverso en $\\mathbb{Z}_m$ $\\iff (x, m) = 1$\n",
    "- Si $c$ es in inverso multiplicativo  de $b$ módulo $m$ tambien es lo es $[c\\bmod m]$\n",
    "- Si $a\\equiv b \\bmod m$ entonces $\\gcd(a,b)=\\gcd(b,r)$\n",
    "\n",
    "**Teorema chino del residuo**\n",
    "\n",
    "\n",
    "**Resultado solución de congruencias**\n",
    "\n",
    "Sea $m\\in\\mathbb{Z}^+$, $a, b\\in\\mathbb{Z}$ y $d= (a, m)$.  Si $d\\mid b$, entonces la congruencia $ax≡b \\bmod m$ tiene $d$ soluciones $x_1, x_2, . . . , x_d$ en el conjunto $\\{0,1, . . . , m−1\\}$.\n",
    "\n",
    "\n",
    "Sean $m_{1}, m_{2}, \\ldots, m_{k}$ primos relativos dos a dos, es decir  \n",
    "\n",
    "$$\n",
    "\\operatorname{mcd}\\left(m_{i}, m_{j}\\right)=1 \\quad \\text { para todo } i \\$neq j\n",
    "$$  \n",
    "\n",
    "Sean $a_{1}, a_{2}, \\ldots, a_{k}, \\in\\mathbb{Z} $  \n",
    "\n",
    "El sistema de conguencias simultaneas\n",
    "\n",
    "$$  \n",
    "x \\equiv a_{1}\\bmod m_{1}, \\\\\n",
    "x \\equiv a_{2}\\bmod m_{2}, \\\\\n",
    "\\ldots\\\\\n",
    "x \\equiv a_{k}\\bmod m_{k}\n",
    "$$\n",
    "\n",
    "tiene  solución $x=c $  \n",
    "\n",
    "Aún más, si $x=c$ y $x=c^{\\prime}$ son solución, entonces\n",
    "\n",
    "$$\n",
    "c \\equiv c^{\\prime} \\bmod m_{1} m_{2} \\cdots m_{k}\n",
    "$$\n",
    "\n",
    "Explicación: \n",
    "- https://www.youtube.com/watch?v=aS57JCzJw_o\n",
    "- https://www.youtube.com/watch?v=oKMYNKbFHBE\n"
   ]
  },
  {
   "cell_type": "code",
   "execution_count": 28,
   "metadata": {},
   "outputs": [],
   "source": [
    "def solve_simple_eq(a, b, c, p):\n",
    "    '''\n",
    "    a + bx = c mod p\n",
    "    x = (c - a) * b^{-1} mod p\n",
    "    '''\n",
    "    c = c-a\n",
    "    c = (c * sp.invert(b, p)) % p\n",
    "    return c%p\n",
    "\n",
    "def crt(a_list, m_list):\n",
    "    x = 0\n",
    "    #starting values\n",
    "    a = 0\n",
    "    m = 1\n",
    "    for i in range(len(m_list)):\n",
    "        #general solution for the first equations x = a + m * y \n",
    "        #plug it in into the next equation and solve\n",
    "        x = solve_simple_eq(a, m, a_list[i], m_list[i])\n",
    "        \n",
    "        a = a + m * x\n",
    "        m = m * m_list[i]\n",
    "        #print(a, m)        \n",
    "    return a, m"
   ]
  },
  {
   "cell_type": "code",
   "execution_count": 29,
   "metadata": {},
   "outputs": [
    {
     "data": {
      "text/plain": [
       "(23, 105)"
      ]
     },
     "execution_count": 29,
     "metadata": {},
     "output_type": "execute_result"
    }
   ],
   "source": [
    "a_list = [2, 3, 2]\n",
    "m_list = [3, 5, 7]\n",
    "crt(a_list=a_list, m_list=m_list)"
   ]
  },
  {
   "cell_type": "code",
   "execution_count": 30,
   "metadata": {},
   "outputs": [],
   "source": [
    "from sympy.ntheory.modular import solve_congruence"
   ]
  },
  {
   "cell_type": "code",
   "execution_count": 31,
   "metadata": {},
   "outputs": [
    {
     "data": {
      "text/plain": [
       "(mpz(23), 105)"
      ]
     },
     "execution_count": 31,
     "metadata": {},
     "output_type": "execute_result"
    }
   ],
   "source": [
    "solve_congruence((2,3), (3,5), (2,7))\n"
   ]
  },
  {
   "cell_type": "code",
   "execution_count": null,
   "metadata": {},
   "outputs": [],
   "source": []
  },
  {
   "cell_type": "markdown",
   "metadata": {},
   "source": [
    "<!-- definición -->\n",
    "<div class='teo'>\n",
    "<strong>Teorema</strong> <em>[Pequeño teorema de Fermat]</em>\n",
    "<p>\n",
    "Si $p$ es un número primo y $r$ es un entero con $\\mathrm{gcd}(r,p)=1$ entonces \n",
    "    \n",
    "\\begin{equation}\n",
    "r^{p-1}\\equiv 1\\bmod p\n",
    "\\label{fermat}\n",
    "\\end{equation}\n",
    "</p>\n",
    "</div>\n",
    "\n",
    "<p>\n",
    "Prueba para poner referencias a ecuaciónes $\\eqref{fermat}$ (\\ref{fermat})</p>\n",
    "\n",
    "\n",
    "\n",
    "\n",
    "    "
   ]
  },
  {
   "cell_type": "code",
   "execution_count": 32,
   "metadata": {},
   "outputs": [
    {
     "data": {
      "text/plain": [
       "<AxesSubplot:>"
      ]
     },
     "execution_count": 32,
     "metadata": {},
     "output_type": "execute_result"
    },
    {
     "data": {
      "image/png": "[encoded data removed]",
      "text/plain": [
       "<Figure size 432x288 with 1 Axes>"
      ]
     },
     "metadata": {
      "needs_background": "light"
     },
     "output_type": "display_data"
    }
   ],
   "source": [
    "limite = 1000\n",
    "n = np.arange(1,limite+1,10)\n",
    "y = [sp.totient(i) for i in range(1,limite+1,10)]\n",
    "\n",
    "#sns.set_theme(style=\"whitegrid\")\n",
    "\n",
    "fig, ax = plt.subplots()\n",
    "\n",
    "sns.lineplot(x = n, y = y, ax = ax)\n",
    "sns.lineplot(x = n, y = n, ax = ax)"
   ]
  },
  {
   "cell_type": "markdown",
   "metadata": {},
   "source": [
    "    \n",
    "    \n",
    "    \n",
    "\n",
    "<div class='problemas'>\n",
    "<strong>Problemas</strong> \n",
    "    <ol>\n",
    "        <li><p> Demuestra que si $x\\equiv y (\\bmod m)$ entonces $x \\pm k\\equiv y\\pm k (\\bmod m)$ para $k\\in\\mathbb{Z}$. ¿Que propiedad es un caso particular de este echo?  </p> </li>\n",
    "     \n",
    "    <li><p> Construye gráficas para visualizar la sigueinte aproximación  asintótica para $\\pi(x)$<br>\n",
    "        \n",
    "    $$\\lim_{x\\rightarrow\\infty}\\pi(x)\\frac{\\ln(x)}{x} = 1$$</p> </li>\n",
    "        \n",
    "  <li> Sea un numero con $n+1$ digitos $z = d_n\\dots d_0$. LA representación en base $10$ de este número es \n",
    "            \n",
    "      $$z=d_n\\dots d_0 = \\sum_{i=0}^n d_i\\times 10^i$$ \n",
    "            \n",
    "      Ahora si recordamos que \n",
    "            \n",
    "      $$(a + b)^i= a^i + K_{i-1}a^{i-1}b+\\dots+K_{1}ab^{i-1}+b^i$$\n",
    "            \n",
    "      si pensemos en la descomposición de $10$ como $10 = a+b$, entonces\n",
    "            \n",
    "      $$z = d_n\\dots d_0 = \\sum_{i=0}^n d_i\\times (a+b)^i$$\n",
    "            \n",
    "   Veamos las condiciones para que $z$ sea divisble entre $a$. Por las descomposición del binomio, casi todos los términos son necesariamente divisibles por $a$, excepto los siguientes términos (¿Por qué?)\n",
    "            \n",
    "      $$r =\\sum_{i=0}^n d_i\\times b^i$$\n",
    "          \n",
    "     Entonces para revisar la divisibilida de $z$ por $a$, basta ver bajo que condiciones $r$ es divible por $a$, esto dependera como se descomponga a $10=a+b$.\n",
    "      <br><br>\n",
    "     Por ejemplo, si decomponemos $10$ como $10 = 5+5$, al analizar $r$, casi todos sus terminos (excepto uno)  necesariamente son sivisibles por $5=b$, pero  $d_0\\times b^0 = d_0$ no necesarimente es divible por $5$ al menos que $d_0 = 0$ 0 $d_0=5$, así\n",
    "      <br>\n",
    "       <br>\n",
    "        <em> Un número $z\\in\\mathbb{Z}$ es divisible por 5, si termina en $0$ o $5$</em>            \n",
    "        <br>\n",
    "        <br>\n",
    "        Deduce una regla para las sigueintes divisibilidades\n",
    "         <ol>\n",
    "           <li> Divisibilidad con $2$</li>\n",
    "           <li> Divisibilidad con $3$</li>\n",
    "           <li> Divisibilidad con $4$</li>\n",
    "           <li> Divisibilidad con $6$</li>\n",
    "           <li> Divisibilidad con $7$</li>\n",
    "           <li> Divisibilidad con $8$</li>\n",
    "           <li> Divisibilidad con $9$</li>\n",
    "           <li> Divisibilidad con $10$</li>\n",
    "          <li> Divisibilidad con $11$</li></ol>\n",
    "            \n",
    "       </li>\n",
    "        \n",
    "        \n",
    "   <li>Sea $ E\\left(\\mathbb{Z}_7\\right)=\\{(4, 4), (4, 3), (1, 0), (3, 2), (3, 5)\\}\\cup\\{\\mathcal{O}\\}\\subset\\mathbb{Z}_7\\times\\mathbb{Z}_7$. Sea $P_1,P_2\\neq \\mathcal{O}$ puntos en $E$, con $P_1 = (x_1,y_1)$ y $P_2=(x_2,y_2)$. Se define \n",
    "<br>\n",
    "   <br>\n",
    "1. Si $x_1\\neq x_2$, entonces $P_1+P_2 = (x_3,y_3)$ con \n",
    "    <br>\n",
    "       \n",
    "$$\n",
    "\\begin{aligned}\n",
    "x_{3} &=\\left[s^{2}-x_{1}-x_{2} \\bmod 7\\right] \\quad \\text { y } \\quad y_{3}=\\left[s \\cdot\\left(x_{1}-x_{3}\\right)-y_{1} \\bmod 7\\right], \\\\\n",
    "\\text { donde } s &=\\left[\\frac{y_{2}-y_{1}}{x_{2}-x_{1}} \\bmod 7\\right] .\n",
    "\\end{aligned}\n",
    "$$\n",
    "       \n",
    "<br>  \n",
    "       \n",
    "2. Si $x_1=x_2$ pero $y_1\\neq y_2$ entonces $P_1=-P_2$     \n",
    "    \n",
    "<br><br>\n",
    "       \n",
    "3. Si $P_1 = P_2$ y $y_1\\neq 0$, entonces $P_1+P_2 =2P_1 = (x_3,y_3)$ con \n",
    "    <br>\n",
    "    \n",
    "$$\n",
    "\\begin{aligned}\n",
    "x_{3} &=\\left[s^{2}-x_{1}-x_{2} \\bmod 7\\right] \\quad \\text { y } \\quad y_{3}=\\left[s \\cdot\\left(x_{1}-x_{3}\\right)-y_{1} \\bmod 7\\right], \\\\\n",
    "\\text { donde } s &=\\left[\\frac{3x_{1}^2+3}{2y_1} \\bmod 7\\right] .\n",
    "\\end{aligned}\n",
    "$$\n",
    "       \n",
    "<br>  \n",
    "       \n",
    "4. Si $P_1=P_2$ y $y_1=0$ entonces $P_1+P_2=\\mathcal{O}$      \n",
    "    <br>\n",
    "    \n",
    "   Sen sabe que con la operación antes definida $+:E\\left(\\mathbb{Z}_7\\right)\\times E\\left(\\mathbb{Z}_7\\right)\\rightarrow E\\left(\\mathbb{Z}_7\\right)$, la tupla $(E\\left(\\mathbb{Z}_7\\right),+)$ es un grupo. \n",
    "    <br>\n",
    "    <br>\n",
    "    a) construye la tabla de operación de este grupo finito. <em>Sugerencia: Escribe un programa para esto</em><br> \n",
    "    b) ¿El grupo es abeliano?<br>\n",
    "    c) ¿El grupo es ciclico?<br>\n",
    "    d) ¿A que grupo, con estrutura de suma más sencilla, es isomorfo?<br>\n",
    "    <br>\n",
    "    \n",
    "$\\left(E(\\mathbb{Z}_7),+\\right)$ es el grupo de curva-elliptica de $E\\left(\\mathbb{Z}_7\\right)$, este tipo de grupos son utilizados ampliamente en criptografia, debido a la alta seguridad qeu porporcionan.</li>\n",
    "  \n",
    "  <li>Si $c\\mid ab$ y $\\gcd(a,c)=1$, entonces $c\\mid b$</li>\n",
    "        \n",
    "  <li>Si $a\\mid N$, $b\\mid N$, y $\\gcd(a,b)=1$ entonces $ab\\mid N$</li>\n",
    "        \n",
    "  <li>Demuestra que $a\\equiv b\\bmod m$ si y solo si $[a\\bmod m]=[b\\bmod m]$</li>\n",
    "        \n",
    "    \n",
    "   </ol>\n",
    "   \n",
    "\n",
    "</div>"
   ]
  },
  {
   "cell_type": "markdown",
   "metadata": {},
   "source": [
    "# Introducción \n",
    "\n",
    "Vamos a encriptar y decriptar un mensaje con la siguiente aplicación web \n",
    "\n",
    "- https://aesencryption.net/  (AES)\n",
    "\n",
    "- https://www.fileformat.info/tool/hash.htm (Hash)\n",
    "\n",
    "- https://www.freeformatter.com/hmac-generator.html (HMAC)\n",
    "\n",
    "- https://www.bitaddress.org/ (Generador aleatorio)\n",
    "\n",
    "- http://www.irongeek.com/diffie-hellman.php (DH)\n",
    "\n",
    "- http://travistidwell.com/jsencrypt/demo/ (RSA)\n",
    "\n",
    "- ¿Cuáles son los componentes que se observan?\n",
    "\n",
    "\n"
   ]
  },
  {
   "cell_type": "markdown",
   "metadata": {},
   "source": [
    "# Definiciones Básicas \n",
    "\n",
    "- **Criptología:** Término genérico utilizado para designar la disciplina que estudia cómo lograr comunicaciones seguras sobre canales que no lo son. \n",
    "\n",
    "- **Criptografía:** Diseño de sistemas y esquemas para realizar comunicaciones confiables sobre canales inseguros (seguridad y protección de la infroamción). \n",
    "  \n",
    "  - Cuando se abre un sitio web\n",
    "  - Cuando enviamos un email\n",
    "  - Cuando nos conectamos al WiFi\n",
    "  \n",
    "\n",
    "\n",
    "- **Criptoanálisis:** Disciplina que estudia cómo romper esquemas criptográficos.\n",
    "\n",
    "- **Texto-claro:** mensaje que desea transmitirse de manera segura.\n",
    "\n",
    "- **Texto-cifrado:** documento que resulta después de haber cifrado el texto-claro.\n",
    "\n",
    "- **Llave o clave:** información secreta que permite cifrar/descifrar documentos.\n",
    "\n",
    "- **Encriptación simetrica** (AES, Twofish, ChaCha20) usa la misma llave para encriotar y decriptar mensajes\n",
    "\n",
    "- **Encriptación asímetrica.** () usa _criptosistemas de llave pública_ (RSA, ECC) y una pareja de llaves: _llave pública_ (llave de encriptación) y la correspondiente _llave privada_ (llave de decriptación) \n",
    "\n",
    "Las llaves pueden ser grandes secuecencias alfanumericas y en bastabtesescenarios estas llaves son derivadas de numeros o contraseñas utilizando algoritmos de derivación de llaves (PBKDf2, Scrypt)\n",
    "\n",
    "- encriptar, decriptar\n",
    "\n",
    "- encriptación, decriptación\n",
    "\n",
    "- clave pública\n",
    "\n",
    "- Decodifique\n",
    "\n",
    "Si bien no es difícil encontrar dos primos aleatorios grandes y multiplicarlos, factorizar un número de 150 dígitos que sea el producto de dos primos grandes requería de 100 millones de computadores operando 10 millones de instrucciones por segundo durante 50 millones de años con los mejores algoritmos conocidos a principios de la década de 1990. Si bien los algoritmos se han mejorado, factorizar un producto de dos primos grandes sigue siendo computacionalmente prohibitivo.\n",
    "\n"
   ]
  },
  {
   "cell_type": "markdown",
   "metadata": {},
   "source": [
    "# Cifrados de  Sustitución\n",
    "\n",
    "Reordenas el alfabeto y entonces este es el alfabeto cifrado, haces un asustitución directa simbolica. \n",
    "\n",
    "- Hebew Atbash (ejemplo de cifrado de sustitución)\n",
    "- Codigo Navajo (utilizado en la segunda guerra mundial)\n",
    "\n",
    "No todos los cifrados son faciles de Romper. \n",
    "\n",
    "<div class=\"eje\">\n",
    "\n",
    "<strong>Ejemplo</strong>\n",
    "\n",
    "   Plano: ABCDEFGHIJKLMNOPQRSTUVWXYZ\n",
    "    \n",
    "   Cifrado: TVXZUWYADGKNQBEHROSCFJMPIL\n",
    "    \n",
    "   Entonces  el texto: YOUTH IS WASTED ON THE YOUNG\n",
    "    \n",
    "   se cpnvierte en: IEFCA DS MTSCUZ EB CAU IEFBY\n",
    "    \n",
    "<p>\n",
    "</p>\n",
    "            \n",
    "</div>\n",
    "\n",
    "\n",
    "- Se pueden hacer las sutitucioes con un palabra clave (Keyword)\n",
    "-  \"\" \"\" \"\" la sustitución puede ser mediante columnas"
   ]
  },
  {
   "cell_type": "markdown",
   "metadata": {},
   "source": [
    "## Criptoanalisis de cifrados de sustitución \n",
    "\n",
    "Se pueden romper con el uso el analisus de frecuencia. "
   ]
  },
  {
   "cell_type": "markdown",
   "metadata": {},
   "source": [
    "## Cifrados de Playfair\n",
    "\n",
    "- 1854 Charles Wheatstone\n",
    "\n",
    "Usan una o mas palabras clave. Forman matrices de 5 por 5, el porceso de encriptadp se hace tomando parejas de letras en el texto. \n",
    "\n",
    "\n"
   ]
  },
  {
   "cell_type": "markdown",
   "metadata": {},
   "source": [
    "# Cifrados de transposición.\n",
    "\n",
    "Parece que son una permutación del mensaje. \n",
    "\n",
    "- Ejemplos: scytale, ADFGX ADFGVX\n",
    "\n",
    "\n",
    " "
   ]
  },
  {
   "cell_type": "markdown",
   "metadata": {},
   "source": [
    "# Cifrados de traslación y afines.\n",
    "\n",
    "- Algoritmo de la división\n",
    "- Congruencias\n",
    "- Máximo común divisor\n",
    "- Primos relativos\n",
    "- Solucón de ecuaciones de congruenias\n",
    "\n",
    "## Cifrados de traslación\n",
    "\n",
    "- Julio cesar\n",
    "- ROT13\n",
    "\n",
    "Se entiende el uso de un alfabeto en un orden distinto al usual (traslación). \n",
    "\n",
    "<div class=\"eje\">\n",
    "\n",
    "<strong>Ejemplo</strong>\n",
    "    \n",
    "Considera un cifrado de traslación donde el texto plano esta escrito en orden usual y se hace una tralación de tres possiciones a la derecha para encriptarlo:\n",
    "\n",
    "| | |\n",
    "|----|---|\n",
    "|Plano|ABCDEFGHIJKLMNOPQRSTUVWXYZ|\n",
    "|Cifrado|DEFGHIJKLMNOPQRSTUVWXYZABC|\n",
    "\n",
    "\n",
    "Entonces por ejemplo \n",
    "    \n",
    "| | |\n",
    "|----|---|\n",
    "|Texto plano|I CAME, I SAW, I CONQUERED|\n",
    "|Texto cifrado|LFDPH LVDZL FRQTX HUHG|\n",
    "\n",
    "</div>\n",
    "\n",
    "\n",
    "Si se realiza la trasformación $f:\\{A,B,\\dots,Z\\}\\rightarrow\\mathbb{Z}_{26}$, entonces para $x\\in\\mathbb{Z}_{26}$ se puede realizar el cifrado con una traslación de $b\\in\\mathbb{Z}^+$ como $y\\equiv x+b\\mod 26$ \n",
    "\n",
    "\n",
    "<div class=\"eje\">\n",
    "\n",
    "<strong>Ejemplo</strong>\n",
    "\n",
    "<p>\n",
    "Considera un cifrado de tralación, con una traslación de $18$ posiciones a la derecha, es decir\n",
    "    $$y\\equiv x+18\\mod 26 $$\n",
    "Usa esta formula pra encriptar el texto plano: JULIUS\n",
    "</p>\n",
    "        \n",
    "    \n",
    "$$\\begin{aligned}\n",
    "&\\mathrm{J} & \\rightarrow x=9 \\rightarrow y=(9+18) \\bmod 26=1 \\rightarrow &\\mathrm{B} &\\\\\n",
    "&\\mathrm{U} & \\rightarrow x=20 \\rightarrow y=(20+18) \\bmod 26=12 \\rightarrow &\\mathrm{M}& \\\\\n",
    "&\\mathrm{L} & \\rightarrow x=11 \\rightarrow y=(11+18) \\bmod 26=3 \\rightarrow &\\mathrm{D}& \\\\\n",
    "&\\mathrm{I} & \\rightarrow x=8 \\rightarrow y=(8+18) \\bmod 26=0 \\rightarrow &\\mathrm{A} &\\\\\n",
    "&\\mathrm{U} &\\rightarrow x=20 \\rightarrow y=(20+18) \\bmod 26=12 \\rightarrow &\\mathrm{M}& \\\\\n",
    "&\\mathrm{S} & \\rightarrow x=18 \\rightarrow y=(18+18) \\bmod 26=10 \\rightarrow &\\mathrm{K}&\n",
    "\\end{aligned}$$\n",
    "    \n",
    "</div>\n"
   ]
  },
  {
   "cell_type": "code",
   "execution_count": 33,
   "metadata": {},
   "outputs": [],
   "source": [
    "import sympy.crypto.crypto as spc"
   ]
  },
  {
   "cell_type": "code",
   "execution_count": 34,
   "metadata": {},
   "outputs": [
    {
     "data": {
      "text/plain": [
       "'BMDAMK'"
      ]
     },
     "execution_count": 34,
     "metadata": {},
     "output_type": "execute_result"
    }
   ],
   "source": [
    "m_plano = \"JULIUS\"\n",
    "m_cifrado = spc.encipher_shift(m_plano,18)\n",
    "m_cifrado"
   ]
  },
  {
   "cell_type": "markdown",
   "metadata": {},
   "source": [
    "Es claro que para recuperar el valor $x$ a partir de $y$ se tiene que realizar  $x\\equiv y-b\\mod 26$  "
   ]
  },
  {
   "cell_type": "code",
   "execution_count": 35,
   "metadata": {},
   "outputs": [
    {
     "data": {
      "text/plain": [
       "'JULIUS'"
      ]
     },
     "execution_count": 35,
     "metadata": {},
     "output_type": "execute_result"
    }
   ],
   "source": [
    "spc.decipher_shift(m_cifrado,18)"
   ]
  },
  {
   "cell_type": "markdown",
   "metadata": {},
   "source": [
    "### Criptoanalisis cifrados de traslación\n",
    "\n",
    "Estos cifrados son fáciles de romper. Se puede realizar un ataque de fuerza bruta, solo basta con probar 25 tralaciones diferentes, hasta tener un téxto con _sentido_. Si el texto descifrar es muy extenso, se puede desencriptar una parte (para encontrar la traslación) y posteriromente todo el mensaje.\n",
    "\n",
    "<div class=\"eje\">\n",
    "\n",
    "    \n",
    "<strong>Ejemplo</strong>\n",
    "    \n",
    "    \n",
    "Considera el sigueinte mensaje:<br>\n",
    "    \n",
    "HVSDF CPZSA KWHVG CQWOZ WGAWG HVOHS JSBHI OZZMM CIFIB CIHCT CHVSF DSCDZ SGACB SM,\n",
    "\n",
    "El cual se ha formado con utilisando un cifrado de traslación.\n",
    "    \n",
    "¿Cuál es la traslación asignada?\n",
    "    \n",
    "_b=1:_ GURCEBOYRZ      _b=8:_ ZNKVXUHRKS\n",
    "___    \n",
    "b=2: FTQBDANXQY         b=9: YMJUWTGQJR\n",
    "    \n",
    "b=3: ESPACZMWPX b=10: XLITVSFPIQ\n",
    "    \n",
    "b=4: DROZBYLVOW b=1: WKHSUREOHP\n",
    "    \n",
    "b=5: CQNYAXKUNV b=12: VJGRTQDNGO\n",
    "    \n",
    "b=6: BPMXZWJTMU  b=13: UIFQSPCMFN\n",
    "    \n",
    "b=7: AOLWYVISLT b=14: THEPROBLEM\n",
    "    \n",
    "    \n",
    "Entonces el mensaje es:\n",
    "    \n",
    "THE PROBLEM WITH SOCIALISM IS THAT EVENTUALLY YOU RUN OUT OF OTHER PEOPLE’S MONEY\n",
    "\n",
    "   \n",
    "</div>\n"
   ]
  },
  {
   "cell_type": "code",
   "execution_count": 36,
   "metadata": {},
   "outputs": [],
   "source": [
    "\n",
    "def des_cesar(m_cifrado):\n",
    "    abc = 'ABCDEFGHIJKLMNOPQRSTUVWXYZ'\n",
    "    for key in range(len(abc)):\n",
    "        m_plano = ''\n",
    "        for symbol in m_cifrado:\n",
    "            if symbol in abc:\n",
    "                num = abc.find(symbol)\n",
    "                num = num - key\n",
    "                if num < 0:\n",
    "                    num = num + len(abc)\n",
    "                m_plano = m_plano + abc[num]\n",
    "            else:\n",
    "                m_plano = m_plano + symbol\n",
    "        print(f\"traslación b = {key}, mensaje plano: {m_plano}\") "
   ]
  },
  {
   "cell_type": "code",
   "execution_count": 37,
   "metadata": {},
   "outputs": [
    {
     "name": "stdout",
     "output_type": "stream",
     "text": [
      "traslación b = 0, mensaje plano: HVSDFCPZSA\n",
      "traslación b = 1, mensaje plano: GURCEBOYRZ\n",
      "traslación b = 2, mensaje plano: FTQBDANXQY\n",
      "traslación b = 3, mensaje plano: ESPACZMWPX\n",
      "traslación b = 4, mensaje plano: DROZBYLVOW\n",
      "traslación b = 5, mensaje plano: CQNYAXKUNV\n",
      "traslación b = 6, mensaje plano: BPMXZWJTMU\n",
      "traslación b = 7, mensaje plano: AOLWYVISLT\n",
      "traslación b = 8, mensaje plano: ZNKVXUHRKS\n",
      "traslación b = 9, mensaje plano: YMJUWTGQJR\n",
      "traslación b = 10, mensaje plano: XLITVSFPIQ\n",
      "traslación b = 11, mensaje plano: WKHSUREOHP\n",
      "traslación b = 12, mensaje plano: VJGRTQDNGO\n",
      "traslación b = 13, mensaje plano: UIFQSPCMFN\n",
      "traslación b = 14, mensaje plano: THEPROBLEM\n",
      "traslación b = 15, mensaje plano: SGDOQNAKDL\n",
      "traslación b = 16, mensaje plano: RFCNPMZJCK\n",
      "traslación b = 17, mensaje plano: QEBMOLYIBJ\n",
      "traslación b = 18, mensaje plano: PDALNKXHAI\n",
      "traslación b = 19, mensaje plano: OCZKMJWGZH\n",
      "traslación b = 20, mensaje plano: NBYJLIVFYG\n",
      "traslación b = 21, mensaje plano: MAXIKHUEXF\n",
      "traslación b = 22, mensaje plano: LZWHJGTDWE\n",
      "traslación b = 23, mensaje plano: KYVGIFSCVD\n",
      "traslación b = 24, mensaje plano: JXUFHERBUC\n",
      "traslación b = 25, mensaje plano: IWTEGDQATB\n"
     ]
    }
   ],
   "source": [
    "m_cifrado = \"HVSDFCPZSA\"\n",
    "des_cesar(m_cifrado)"
   ]
  },
  {
   "cell_type": "code",
   "execution_count": 38,
   "metadata": {},
   "outputs": [
    {
     "data": {
      "text/plain": [
       "'THEPROBLEMWITHSOCIALISMISTHATEVENTUALLYYOURUNOUTOFOTHERPEOPLESMONEY'"
      ]
     },
     "execution_count": 38,
     "metadata": {},
     "output_type": "execute_result"
    }
   ],
   "source": [
    "m_cifrado = \"HVSDF CPZSA KWHVG CQWOZ WGAWG HVOHS JSBHI OZZMM CIFIB CIHCT CHVSF DSCDZ SGACB SM\"\n",
    "spc.decipher_shift(m_cifrado,14)\n"
   ]
  },
  {
   "cell_type": "markdown",
   "metadata": {},
   "source": [
    "## Cifrados afines.\n",
    "\n",
    "\n",
    "### Criponalisis de cifradoas afines\n",
    "\n",
    "\n",
    "\n"
   ]
  },
  {
   "cell_type": "markdown",
   "metadata": {},
   "source": [
    "# Cifrados de Alberti y Vigenère\n",
    "\n",
    "## Cifrado de Alberti\n",
    "\n",
    "## Cifrado de Vigenère"
   ]
  },
  {
   "cell_type": "code",
   "execution_count": 39,
   "metadata": {},
   "outputs": [
    {
     "name": "stdout",
     "output_type": "stream",
     "text": [
      "HNOVCHHWPKEAD\n",
      "DAMEESOSCINCO\n"
     ]
    }
   ],
   "source": [
    "key = \"encrypt\"\n",
    "m_plano = \"dame esos cinco\"\n",
    "\n",
    "m_cifrado = spc.encipher_vigenere(m_plano,key)\n",
    "print(m_cifrado)\n",
    "\n",
    "print(spc.decipher_vigenere(m_cifrado,key))"
   ]
  },
  {
   "cell_type": "markdown",
   "metadata": {},
   "source": [
    "## Probabilidad\n",
    "\n",
    "- Definición de espacio de probabilidad\n",
    "- Definición frecuencia\n",
    "- Defnición de probabilidad condicional"
   ]
  },
  {
   "cell_type": "markdown",
   "metadata": {},
   "source": [
    "## Prueba de Friedman\n",
    "\n",
    "Para estimar la longitud de la llave.\n",
    "\n",
    "- Desarrollado en 1920s por William Friedman\n",
    "- El indice de coincidencia puede ayudar a deterninar cunado un texto cifrado ha cido crado utilizando Vignere, y si esto es así, se puede utilizar para estimar la longitud de la llave para el cifrado. \n",
    "\n",
    "\n",
    "El indice de coincidencia $I$, da la porbabilidad que un par de letras seleccionadas de forma aleatoria de textot cifrado coincidan\n",
    "\n",
    "$$\n",
    "I=\\frac{1}{n(n-1)}\\left(n_{1}\\left(n_{1}-1\\right)+n_{2}\\left(n_{2}-1\\right)+\\cdots+n_{26}\\left(n_{26}-1\\right)\\right)\n",
    "$$\n",
    "\n",
    " - $n$ total de letras en el alfabeto cifrado\n",
    " - $n_1,n_2,\\dots,n_{26}$ el numero de letras A's, B's,..., Z's en el texto cifrado  \n",
    "\n",
    "Para estimar la longitud de la llave\n",
    "\n",
    "$$\n",
    "k \\approx \\frac{0.0270 n}{0.0655-I+n(I-0.0385)}\n",
    "$$\n",
    "\n"
   ]
  },
  {
   "cell_type": "markdown",
   "metadata": {},
   "source": [
    "## Prueba Kasiski\n",
    "\n",
    "- Friedrich Kasiski (siblo XIX)\n",
    "- Es bueno cuando Friedman no lo es.\n",
    "\n",
    "Se basa en la coincidencia accidental de la alneación de las letras de grpos del texto plano con las letras en al llave. \n",
    "\n",
    "La prueba de Kasiski establece que para un texto cifrado formado usando un cifrado de palabras clave de Vigenere, un divisor común, siendo el máximo común divisor el más probable, de las separaciones entre algunos de los comienzos de grupos repetidos de letras en el texto cifrado es una buena posibilidad de ser igual o múltiplo de la longitud de la palabra clave para el cifrado."
   ]
  },
  {
   "cell_type": "markdown",
   "metadata": {},
   "source": [
    "## Criptoanalisis de cifrados con llave Vignere\n",
    "\n",
    "### Uso de firmas para la llave\n",
    "\n",
    "### Uso de Scrawls (garabatos)\n",
    "\n",
    "\n"
   ]
  },
  {
   "cell_type": "markdown",
   "metadata": {},
   "source": [
    "# Cifrados tipo Hill\n",
    "\n",
    "Recuerde que los cifrados de sustitución, en los que los caracteres se cifran uno a la vez utilizando un alfabeto de cifrado único, son susceptibles de ser atacados por análisis de frecuencia. Sin embargo, recuerde también que los cifrados de sustitución serían menos susceptibles de ser atacados si los caracteres de texto plano estuvieran cifrados en pares (es decir, gráficos) en lugar de uno a la vez. Ésta es la idea que forma la base de los cifrados de Playfair, que consideramos en el capítulo 2. En este capítulo, consideraremos los cifrados de Hill, que pueden pensarse vagamente que hacen para los cifrados de sustitución matemática lo que hacen los cifrados de Playfair para la sustitución no matemática. cifrados. Específicamente, los cifrados Hill están diseñados para permitir el cifrado matemático de caracteres en grupos de más de uno a la vez. Como veremos, mientras que los cifrados de Playfair están diseñados para permitir el cifrado de caracteres solo en pares, los cifrados de Hill están diseñados para permitir el cifrado de caracteres en grupos de cualquier tamaño.\n",
    "\n",
    "Los cifrados Hill son ejemplos de cifrados en bloque. Los cifrados de bloque incluyen todos los cifrados en los que el cifrado de caracteres se produce en grupos o bloques de más de uno a la vez. Técnicamente, los cifrados de Playfair son cifrados en bloque, aunque el término cifrado en bloque generalmente se reserva para tipos de cifrado más sofisticados, como el Estándar de cifrado avanzado, y otros cifrados que utilizan las matemáticas para el cifrado, como lo hacen los cifrados Hill. Los cifrados Hill utilizan específicamente objetos matemáticos llamados matrices (singular, matriz) y operaciones matemáticas que los involucran.\n",
    "\n",
    "\n",
    "- Matrices con aritmetica modular"
   ]
  },
  {
   "cell_type": "code",
   "execution_count": 40,
   "metadata": {},
   "outputs": [
    {
     "data": {
      "text/latex": [
       "$\\displaystyle \\left[\\begin{matrix}5 & 6\\\\7 & 9\\end{matrix}\\right]$"
      ],
      "text/plain": [
       "Matrix([\n",
       "[5, 6],\n",
       "[7, 9]])"
      ]
     },
     "execution_count": 40,
     "metadata": {},
     "output_type": "execute_result"
    }
   ],
   "source": [
    "A = sp.Matrix([\n",
    "    [5,6],\n",
    "    [7,9]\n",
    "])\n",
    "A"
   ]
  },
  {
   "cell_type": "code",
   "execution_count": 41,
   "metadata": {},
   "outputs": [
    {
     "data": {
      "text/latex": [
       "$\\displaystyle 1$"
      ],
      "text/plain": [
       "1"
      ]
     },
     "execution_count": 41,
     "metadata": {},
     "output_type": "execute_result"
    }
   ],
   "source": [
    "sp.gcd(A.det(),5)"
   ]
  },
  {
   "cell_type": "code",
   "execution_count": 42,
   "metadata": {},
   "outputs": [
    {
     "data": {
      "text/latex": [
       "$\\displaystyle \\left[\\begin{matrix}3 & 3\\\\1 & 0\\end{matrix}\\right]$"
      ],
      "text/plain": [
       "Matrix([\n",
       "[3, 3],\n",
       "[1, 0]])"
      ]
     },
     "execution_count": 42,
     "metadata": {},
     "output_type": "execute_result"
    }
   ],
   "source": [
    "B = A.inv_mod(5)\n",
    "B"
   ]
  },
  {
   "cell_type": "code",
   "execution_count": 43,
   "metadata": {},
   "outputs": [
    {
     "data": {
      "text/latex": [
       "$\\displaystyle \\left[\\begin{matrix}21 & 15\\\\30 & 21\\end{matrix}\\right]$"
      ],
      "text/plain": [
       "Matrix([\n",
       "[21, 15],\n",
       "[30, 21]])"
      ]
     },
     "execution_count": 43,
     "metadata": {},
     "output_type": "execute_result"
    }
   ],
   "source": [
    "C = A*B\n",
    "C"
   ]
  },
  {
   "cell_type": "code",
   "execution_count": 44,
   "metadata": {},
   "outputs": [
    {
     "data": {
      "text/latex": [
       "$\\displaystyle \\left[\\begin{matrix}1 & 0\\\\0 & 1\\end{matrix}\\right]$"
      ],
      "text/plain": [
       "Matrix([\n",
       "[1, 0],\n",
       "[0, 1]])"
      ]
     },
     "execution_count": 44,
     "metadata": {},
     "output_type": "execute_result"
    }
   ],
   "source": [
    "C.applyfunc(lambda x: x % 5)"
   ]
  },
  {
   "cell_type": "code",
   "execution_count": 45,
   "metadata": {},
   "outputs": [
    {
     "data": {
      "text/latex": [
       "$\\displaystyle \\left[\\begin{matrix}13 & 18\\\\31 & 45\\end{matrix}\\right]$"
      ],
      "text/plain": [
       "Matrix([\n",
       "[13, 18],\n",
       "[31, 45]])"
      ]
     },
     "execution_count": 45,
     "metadata": {},
     "output_type": "execute_result"
    }
   ],
   "source": [
    "D = 5*A - 4*B\n",
    "D"
   ]
  },
  {
   "cell_type": "code",
   "execution_count": 46,
   "metadata": {},
   "outputs": [
    {
     "data": {
      "text/latex": [
       "$\\displaystyle \\left[\\begin{matrix}13 & 3\\\\1 & 0\\end{matrix}\\right]$"
      ],
      "text/plain": [
       "Matrix([\n",
       "[13, 3],\n",
       "[ 1, 0]])"
      ]
     },
     "execution_count": 46,
     "metadata": {},
     "output_type": "execute_result"
    }
   ],
   "source": [
    "D.applyfunc(lambda x: x % 15)"
   ]
  },
  {
   "cell_type": "code",
   "execution_count": 47,
   "metadata": {},
   "outputs": [
    {
     "data": {
      "text/latex": [
       "$\\displaystyle \\left[\\begin{matrix}21 & 15\\\\30 & 21\\end{matrix}\\right]$"
      ],
      "text/plain": [
       "Matrix([\n",
       "[21, 15],\n",
       "[30, 21]])"
      ]
     },
     "execution_count": 47,
     "metadata": {},
     "output_type": "execute_result"
    }
   ],
   "source": [
    "E = A*B\n",
    "E"
   ]
  },
  {
   "cell_type": "code",
   "execution_count": 48,
   "metadata": {},
   "outputs": [
    {
     "data": {
      "text/latex": [
       "$\\displaystyle \\left[\\begin{matrix}21 & 15\\\\4 & 21\\end{matrix}\\right]$"
      ],
      "text/plain": [
       "Matrix([\n",
       "[21, 15],\n",
       "[ 4, 21]])"
      ]
     },
     "execution_count": 48,
     "metadata": {},
     "output_type": "execute_result"
    }
   ],
   "source": [
    "E.applyfunc(lambda x: x % 26)"
   ]
  },
  {
   "cell_type": "markdown",
   "metadata": {},
   "source": [
    "## Criptoanalisis de cifrado tipo Hill"
   ]
  },
  {
   "cell_type": "code",
   "execution_count": null,
   "metadata": {},
   "outputs": [],
   "source": []
  },
  {
   "cell_type": "markdown",
   "metadata": {},
   "source": [
    "# Cifrados RSA\n",
    "\n",
    "___\n",
    "\n",
    "**Herramienta**\n",
    "\n",
    "- Algoritmo euclideano\n",
    "- Inversion modular\n",
    "- Operaciones con primos\n",
    "- Exponenciación Modular\n",
    "   - Varios metodos (Teorema chino del residuo es uno)\n",
    "- ASCII\n",
    "- Pequeño teorema de Fermat (asegura invertibilidad)\n",
    "- Pruebas de primalidad\n",
    "- Pseudoprimos\n",
    "\n",
    "____\n",
    "\n",
    "- 1970 y 1973 James Ellis Clifford Cocks y Malcolm Williamson habien elaborado descubrimientos previos.\n",
    "\n",
    "\n",
    "- 1976 Diffie - Hellman: New Directions in Cryptography, la idea de llave publica. \n",
    "\n",
    "\n",
    "- Rivest, Shamir, Adleman (RSA)\n",
    "\n",
    "\n",
    "Cifrados de traslación     -->       adición modular \n",
    "\n",
    "Cifrados afines            -->       multiplicación modular\n",
    "\n",
    "Cifrados tipo Hill         -->       multiplicación matricial modular\n",
    "\n",
    "Cifrados RSA               -->       exponenciación modular con primos\n",
    "\n",
    "\n",
    "Alice quiere mandar un mensaje a Bob pero el canal de comunicación no es seguro. Y quiere usar un cifrado para portejer el mensaje de externos. Los passo básicos en uso de un cifrado de RSA son los siguientes:\n",
    "\n",
    "1. El receptro inicia elegiendo dos nuemros primos $p$, $q$, distintos. Y calcula $m=pq$ y $f = (p-1)(q-1)$ (aquí es totient). Despues eleige un entero $e$ entre $1$ y $f$ con la propiedad de $mcd(e,f) = 1$ y manda los valores de $e$ y $m$ al emisor del mensaje en la linea de comunicación insegura. \n",
    "\n",
    "2. Supón que el mensaje plano numerico es  expresado en entreros positivos $x$ menores a $m$. Entonces,para cada entero de texto plano el emisor encripta $x$ formando $y$ mediante \n",
    "\n",
    "<div>\n",
    "\\begin{equation}\n",
    "\\label{rsaf}\n",
    "y \\equiv x^e \\bmod m\n",
    "\\end{equation}\n",
    "    </div>\n",
    "    \n",
    "El emisor envia los enteros del texto cifrado $y$ al receptor en el canal de comunicaciones inseguras\n",
    "\n",
    "3. Para desencriptar los entereos del texto cifrado $y$, el receptor debe encontrar el inverso multiplicativo $d\\equiv e^{-1}\\bmod f$. Entonces para cada entero $y$ de texto cifrado, el receptor desencripta contrutendo al sigueinte cantidad, la cuel resulta ser el eentero de texto plano del cual se formo $y$\n",
    "\n",
    "<div>\n",
    "\\begin{equation}\n",
    "\\label{rsafinv}\n",
    "x \\equiv y^d \\bmod m\n",
    "\\end{equation}\n",
    "  </div>\n"
   ]
  },
  {
   "cell_type": "markdown",
   "metadata": {},
   "source": [
    "<div class=\"eje\">\n",
    "\n",
    "<strong>Ejemplo</strong>\n",
    "\n",
    "Su pongamos la asociación $A\\rightarrow 0$, $B\\rightarrow 1$, $\\dots$, $Z\\rightarrow 25$.\n",
    "    \n",
    "El receptor elige\n",
    "    \n",
    "- $p = 3$, $q = 11$\n",
    "- $m=pq= 33$, $f = (p-1)(q-1)=20$\n",
    "- Elige $e = 7$\n",
    "    \n",
    "El emisor recibe los valores $m = 33$ y $e=7$ y se dispone a encriptar el mensaje, supongamos que el mensaje a enviar es _B.B. KING_ $1,1,10,8,13,6$ entonces se tiene\n",
    "\n",
    "                \n",
    "\n",
    "<div class=\"polaroid\">\n",
    "<img src=\"imagenes/eje9_1_rk.png\" alt=\"Pareja\">\n",
    "</div>\n",
    "\n",
    "Para desencriptar el mensaje se calcula $d\\equiv e^{-1}\\bmod f=7^{-1}\\bmod 20$ en este casp $d = 3$. Como ejercicio desencripta el mensaje. \n",
    "\n",
    "\n",
    "</div>\n",
    "\n",
    "\n",
    "\n"
   ]
  },
  {
   "cell_type": "markdown",
   "metadata": {},
   "source": [
    "Como se mandan las llaves $e$ y $m$ por un canal inseguro, es por eso que RSA es de _public-key_, es decir, se asumen de dominio público.   \n",
    "\n",
    "Por las condiciones que se piden para  $e$ y para $f$, se tienen que $sf + te =1$ y de ahi que $e^{-1} \\bmod f = t \\bmod f$ \n"
   ]
  },
  {
   "cell_type": "code",
   "execution_count": 49,
   "metadata": {},
   "outputs": [
    {
     "data": {
      "text/plain": [
       "(3, -1, 1)"
      ]
     },
     "execution_count": 49,
     "metadata": {},
     "output_type": "execute_result"
    }
   ],
   "source": [
    "e = 7\n",
    "f = 20\n",
    "res = sp.gcdex(e,f)\n",
    "res"
   ]
  },
  {
   "cell_type": "code",
   "execution_count": 50,
   "metadata": {},
   "outputs": [
    {
     "data": {
      "text/latex": [
       "$\\displaystyle 3$"
      ],
      "text/plain": [
       "3"
      ]
     },
     "execution_count": 50,
     "metadata": {},
     "output_type": "execute_result"
    }
   ],
   "source": [
    "t = res[0]\n",
    "d = t % f\n",
    "d"
   ]
  },
  {
   "cell_type": "code",
   "execution_count": 51,
   "metadata": {},
   "outputs": [
    {
     "data": {
      "text/latex": [
       "$\\displaystyle 3$"
      ],
      "text/plain": [
       "3"
      ]
     },
     "execution_count": 51,
     "metadata": {},
     "output_type": "execute_result"
    }
   ],
   "source": [
    "sp.invert(e,f)  # de forma directa"
   ]
  },
  {
   "cell_type": "markdown",
   "metadata": {},
   "source": [
    "\n",
    "\n",
    "<div class=\"eje\">\n",
    "\n",
    "<strong>Ejemplo</strong>\n",
    "\n",
    "Su pongamos la asociación del alfabeto con el código ASCII\n",
    "    \n",
    "El receptor elige\n",
    "    \n",
    "- $p =4333$, $q = 2333$\n",
    "- $m=pq= 1010189$, $f = (p-1)(q-1)=1007424$\n",
    "- Elige $e = 683$ entonces $d = 1475$\n",
    "    \n",
    "El emisor recibe los valores $m = 1010189$ y $e=683$ y se dispone a encriptar el mensaje, supongamos que el mensaje a enviar es _B.B. KING_ $66,46,66,46,32,75,10.5,110,103$ entonces se tiene que separar el mensaje numerico plano en bloques, de tal forma que cada bloque no supere el valor de $m$ (Esto evita no inveribilidad, ¿hay otro motivo, para realizar la separación?)              \n",
    "\n",
    "<div class=\"polaroid\">\n",
    "<img src=\"imagenes/eje9_13_1_rk.png\" alt=\"Pareja\">\n",
    "</div>\n",
    "\n",
    " \n",
    "El mensaje desencriptado\n",
    "    \n",
    "<div class=\"polaroid\">\n",
    "<img src=\"imagenes/eje9_13_2_rk.png\" alt=\"Pareja\">\n",
    "</div>\n",
    "\n",
    "</div>\n",
    "\n",
    "Si los bloques son pequeños el cifrado se puede romper utilizando digrafos o trigrafos en el analisis frecuencial. Así eligiendo numeros $p$ y $q$ muy grandes se hace posible enviar todo el texto cifrado en un solo bloqie y reduce la porbablidad de que el codigo sea _hackeado_. \n",
    "\n",
    "Cabe aclarar que la invertibilidad es debida al pequeño teorema de Fermat\n",
    "\n",
    "De las relacionde del cifrado RSA, se tiene que \n",
    "\n",
    "$$\n",
    "x^{e d}=x^{1+k f}=x \\cdot x^{k f}=x \\cdot x^{k(p-1)(q-1)}\n",
    "$$\n",
    "\n",
    "Si $(x,p)$ satisfaces el pequeño teorema de Fermat, $x^{p-1}\\equiv 1 \\bmod p$\n",
    "\n",
    "$$\n",
    "x^{e d} \\bmod p=x \\cdot x^{k(p-1)(q-1)} \\bmod p=x \\cdot\\left(x^{p-1}\\right)^{k(q-1)} \\bmod p=x \\cdot 1=x\n",
    "$$\n",
    "\n",
    "Y aunque no se tenga la porpiedad de coprimos. Se repite este procede para $q$. Utilizando estas dos condiciones, $x^{ed}-x$ debe ser un múltiplo de $m=pq$ por lo que se tiene el resultado. \n",
    "\n",
    "Los cifrados de exponenciación (algo muy parecideo RSA) ya existian, pero no son publicos, pues revelar las llaves (en el esquema de encriptado) hace que se quibre el cifrado \n",
    "\n"
   ]
  },
  {
   "cell_type": "markdown",
   "metadata": {},
   "source": [
    "## Criptoanalisis de cifrados RSA\n"
   ]
  },
  {
   "cell_type": "markdown",
   "metadata": {},
   "source": [
    "## Pruebas de primalidad\n",
    "\n",
    "Lo complicado de rompero RSA en el dificultad de factorizar $m = pq$. Los alortimos mas rápidos de factorización podrían tardar millones de años para factorizar $m$. \n",
    "\n",
    "¿Qué tan grades pueden ser los primos y como lso encontramos?\n",
    "\n",
    "\n",
    "Tanto como se quiera. La forma de encontrarlos es investogada por un área de las matemáticas llamada _primality testing_. La mayoria de estas pruebas son certeras indicando cuando el numero no es primo.\n",
    "\n",
    "\n",
    "Dado un entero positivo $n$ se puede probar si algún primo entre $2$ y el primo más grande menor que $\\sqrt{n}$ divide a $n$ (esto se llama prueba de _trial divisions_), esn caso que esto sea cierto, entonces el $n$ no es primo.\n",
    "\n",
    "<div class=\"eje\">\n",
    "\n",
    "<strong>Ejemplo</strong>\n",
    "\n",
    "Para probar si $839$ es primo. Se tiene que $\\sqrt{839}\\approx 28.97$. Los primos en el intervalo de interés son $2,3,5,7,11,13,17,19,23$. Ninguno de estos numeros divide a $839$, $839$ es primo.  \n",
    "\n",
    "    \n",
    "</div>\n",
    "\n"
   ]
  },
  {
   "cell_type": "code",
   "execution_count": 52,
   "metadata": {},
   "outputs": [
    {
     "data": {
      "text/latex": [
       "$\\displaystyle 9$"
      ],
      "text/plain": [
       "9"
      ]
     },
     "execution_count": 52,
     "metadata": {},
     "output_type": "execute_result"
    }
   ],
   "source": [
    "num = 839\n",
    "sp.primepi(sp.sqrt(num))"
   ]
  },
  {
   "cell_type": "code",
   "execution_count": 53,
   "metadata": {},
   "outputs": [
    {
     "data": {
      "text/plain": [
       "[2, 3, 5, 7, 11, 13, 17, 19, 23]"
      ]
     },
     "execution_count": 53,
     "metadata": {},
     "output_type": "execute_result"
    }
   ],
   "source": [
    "listap = list(sp.primerange(sp.sqrt(num)))\n",
    "listap "
   ]
  },
  {
   "cell_type": "code",
   "execution_count": 54,
   "metadata": {},
   "outputs": [
    {
     "name": "stdout",
     "output_type": "stream",
     "text": [
      "el numero 839 es primo\n"
     ]
    }
   ],
   "source": [
    "bandera = False\n",
    "for p in listap:\n",
    "    if num % p ==0:\n",
    "        print(f'el numero {num} no es primo, lo divide {p}')\n",
    "        bandera = True\n",
    "        \n",
    "if not bandera:\n",
    "    print(f'el numero {num} es primo')"
   ]
  },
  {
   "cell_type": "code",
   "execution_count": 55,
   "metadata": {},
   "outputs": [
    {
     "data": {
      "text/plain": [
       "True"
      ]
     },
     "execution_count": 55,
     "metadata": {},
     "output_type": "execute_result"
    }
   ],
   "source": [
    "sp.isprime(num) # de forma directa"
   ]
  },
  {
   "cell_type": "code",
   "execution_count": 56,
   "metadata": {},
   "outputs": [
    {
     "data": {
      "text/plain": [
       "True"
      ]
     },
     "execution_count": 56,
     "metadata": {},
     "output_type": "execute_result"
    }
   ],
   "source": [
    "# otro ejemplo de prueba de primalidad\n",
    "num = 84308508309887\n",
    "sp.isprime(num)"
   ]
  },
  {
   "cell_type": "code",
   "execution_count": 57,
   "metadata": {},
   "outputs": [
    {
     "name": "stdout",
     "output_type": "stream",
     "text": [
      "Cantidad máxima de pruebas de división para el numero 84308508309887\n"
     ]
    },
    {
     "data": {
      "text/latex": [
       "$\\displaystyle 613781$"
      ],
      "text/plain": [
       "613781"
      ]
     },
     "execution_count": 57,
     "metadata": {},
     "output_type": "execute_result"
    }
   ],
   "source": [
    "print(f'Cantidad máxima de pruebas de división para el numero {num}')\n",
    "sp.primepi(sp.sqrt(num))"
   ]
  },
  {
   "cell_type": "markdown",
   "metadata": {},
   "source": [
    "_primality testing_. La mayoria de estas pruebas son certeras indicando cuando el numero no es primo y con una cierta verosimilitud cuando será primo. \n",
    "\n",
    "\n",
    "Por ejemplo (de acuerdo al pequeño teorema de Fermat) Dado un entero positivo $n$, si $r ^{n-1}\\not\\equiv  1 \\bmod n$ para algun entero de $1$ a $n-1$, entonces puede concluirse que $n$ no es primo.  \n",
    "\n"
   ]
  },
  {
   "cell_type": "code",
   "execution_count": 58,
   "metadata": {},
   "outputs": [
    {
     "data": {
      "text/plain": [
       "156"
      ]
     },
     "execution_count": 58,
     "metadata": {},
     "output_type": "execute_result"
    }
   ],
   "source": [
    "pow(2,160,161) # por lo que 161 no no es primo "
   ]
  },
  {
   "cell_type": "code",
   "execution_count": 59,
   "metadata": {},
   "outputs": [
    {
     "data": {
      "text/plain": [
       "False"
      ]
     },
     "execution_count": 59,
     "metadata": {},
     "output_type": "execute_result"
    }
   ],
   "source": [
    "sp.isprime(161) # de forma directa"
   ]
  },
  {
   "cell_type": "markdown",
   "metadata": {},
   "source": [
    "Existen valores de $n$ y $r$ para los cuales $r ^{n-1}\\equiv  1 \\bmod n$ aunque $\\mathrm{mcd}(r,n)=1$ y $n$ no es primo (segun yo porque no es si slo si, es una manera de expicarlo rápido). en este caso $n$ es llamado **pseudo primo** respecto la base $r$.  "
   ]
  },
  {
   "cell_type": "code",
   "execution_count": 60,
   "metadata": {},
   "outputs": [
    {
     "data": {
      "text/latex": [
       "$\\displaystyle 1$"
      ],
      "text/plain": [
       "1"
      ]
     },
     "execution_count": 60,
     "metadata": {},
     "output_type": "execute_result"
    }
   ],
   "source": [
    "n = 341\n",
    "r = 2\n",
    "sp.gcd(r,n) # son primos relativos"
   ]
  },
  {
   "cell_type": "code",
   "execution_count": 61,
   "metadata": {},
   "outputs": [
    {
     "data": {
      "text/plain": [
       "1"
      ]
     },
     "execution_count": 61,
     "metadata": {},
     "output_type": "execute_result"
    }
   ],
   "source": [
    "pow(2,340,341) # se da la congruencia"
   ]
  },
  {
   "cell_type": "code",
   "execution_count": 62,
   "metadata": {},
   "outputs": [
    {
     "data": {
      "text/plain": [
       "False"
      ]
     },
     "execution_count": 62,
     "metadata": {},
     "output_type": "execute_result"
    }
   ],
   "source": [
    "sp.isprime(n) # n no es primo , pero es pseudoprimo base r \n",
    "\n",
    "# 341 no es pseudoprimo a la base 3 ¿Por qué?"
   ]
  },
  {
   "cell_type": "markdown",
   "metadata": {},
   "source": [
    "Los pseudoprimos son escasos respecto a los primos. \n",
    "\n",
    "Existen numeros $n$ que son pseudoprimos respecto a la base de $1$ a $n$ pero que no son primos. Estos numeros se llaman numeros de **Carmichael** \n",
    "\n",
    "Un primo fuerte descuebierto en $2^{77232917}-1$ descuebierto en 2017. Es de la forma $2^p -1$ que tabien es un primo de Mersenne"
   ]
  },
  {
   "cell_type": "markdown",
   "metadata": {},
   "source": [
    "## Factorización entera\n",
    "\n",
    "Motivado por que se rquiere factorizar a $m = pq$. Intertar hacer a factorización con el trial division es poco eficiente. Se pued utiizar la **factorización de Fermat** para esto. \n",
    "\n",
    "Se basa en una descomposición d ela factorización, y se busca sobre los posibles candidatos que satisfagan cuadrados perfectos. Sea $x = \\frac{p+q}{2}$ y $y= \\frac{p-q}{2}$\n",
    "\n",
    "$$m = pq = x^2-y ^2 = (x+y)(x-y)$$\n",
    "\n",
    "Cuando los números no son relativamente cercanos el algoritmo no es eficiente. Así los numeros no deben de ser extremadamente gandes ademas deben de estar reativamente separados.\n",
    "\n",
    "La compañia RSA durante muchos años lanzo premios a los que pudieran factorizar en primos numeros de distintas cantidades de digitos, en 2007 quitaron el reto del mercado debido a las técnologias diponibles para la impementación. Thorsten Kleinjung de University of Bonn en 2009, logro factorizar un un digito de 232 cifras. \n",
    "\n",
    "\n"
   ]
  },
  {
   "cell_type": "markdown",
   "metadata": {},
   "source": [
    "# Cifrado ElGamal\n",
    "\n",
    "Diffie y Hellman explicaron la ide a de llave publica, pero no sugirieron como hacerlo. Explicaron que las operacions matematicas que son facile sde hacer pero dificiles de deshacer pueden ser usados para contruir cifrados de llave publica.\n",
    "\n",
    "Estas dinciones son llamdas **one-way functions**. En el ejemplo de RSA, formar $m = pq$ pero es dificil dado $m$ encontrar $p$ y $q$.\n",
    "\n",
    "> Malcolm Williamson, a British cryptologist, while working for the British intelligence agency GCHQ, is now credited as independently inventing the Diffie-Hellman key exchange around the same time as Diffie and Hellman. This discovery, however, was not revealed publicly until 1997, when its top-secret classification expired\n"
   ]
  },
  {
   "cell_type": "markdown",
   "metadata": {},
   "source": [
    "# Intercambio de llaves Diffie-Hellman\n",
    "\n",
    "Se estudia como este intercambio puede ser usado en RSA. \n",
    "\n",
    "Para dos partes que se comunican a través de una línea de comunicación insegura y desean usar un cifrado RSA para intercambiar un mensaje, se puede argumentar que podría ser beneficioso para el exponente de cifrado que el cifrado se mantenga en secreto para los extraños. Los pasos básicos en el uso del intercambio de claves Diffie-Hellman para lograr esto se pueden resumir de la siguiente manera.\n",
    "\n",
    "\n",
    "1. El receptor inicia elegiendo dos numeros primos $p$, $q$, distintos. Y calcula $m=pq$ y $f = (p-1)(q-1)$. Despues eleige un entero $k$ entre $1$ y $m$ con la propiedad de $mcd(k,m) = 1$ y manda los valores de $k$ y $m$ al emisor del mensaje en la linea de comunicación insegura. \n",
    "\n",
    "2. El recepto elege un entero $r$ entre $1$ y $m$, Para fromar $k^r \\bmod m$ y manda el resultado al emisor (no manda $r$). Mientras que el emisor elige un entero $s$ entre $1$ y $m$, forma $k^s \\bmod m$ y manda el resultado al receptor (pero no $s$)\n",
    "\n",
    "3. El emisor y el receptor forman el exponente de encriptación  $e \\equiv k^{rs} \\bmod m$, el receptro lo puede calcular como $\\left(k^{s} \\bmod m\\right)^r\\bmod m$ y el emisor como $\\left(k^{r} \\bmod m\\right)^s \\bmod m$\n",
    "\n",
    "4. El receptor determina si $e$ es un exponente aceptable de encriptación verificando que $(e,f)=1$. Si $e$ no es aceptable se repide el porceso, tantas veces omo se necesario hasta que se obtenga un exponente de encriptación aceptable. \n",
    "\n",
    "Dspues de ontener un exponente de encriptación aceptable. las dos partes puede porceder con la encirptación RSA usual. \n",
    "\n",
    "\n",
    "<div class=\"eje\">\n",
    "\n",
    "<strong>Ejemplo</strong>\n",
    "\n",
    "<p>\n",
    "</p>\n",
    "            \n",
    "</div>\n",
    "\n"
   ]
  },
  {
   "cell_type": "markdown",
   "metadata": {},
   "source": [
    "## Logaritmos discretos\n",
    "\n",
    "EL atacante puede conocer $k$, $m$, $k^r\\bmod m$ y $k^s\\bmod m$, puesto que se trasnmite sobre un canal de comunicación no seguro. Entonces debe de resultar complicado par ael atacante calcuar $e \\equiv k^{rs} \\bmod m$ (con lo que conoce), este es el _problema de Diffie-Hellman_ \n",
    "\n",
    "Se puede comenzar por querer calcular $r$ (o $s$). Esto es resolver un problema de logaritmo discreto, especificamente ecntrar el logaritmo discreto $r$ de el conocimiento de  $k$, $m$, $k^r\\bmod m$ (o de los correspondiente si se hace con $s$)\n",
    "\n",
    "\n",
    "\n",
    "<div class=\"eje\">\n",
    "\n",
    "<strong>Ejemplo</strong>\n",
    "\n",
    "<p>\n",
    "</p>\n",
    "            \n",
    "</div>\n",
    "\n",
    "\n",
    "Siempre es posible romper un intercambio de claves Diffie-Hellman encontrando un logaritmo discreto.\n",
    "\n",
    "Con un módulo muy grande, incluso las técnicas conocidas más rápidas para encontrar logaritmos discretos esencialmente llevarían una eternidad. Más específicamente, para un módulo de cientos de dígitos de longitud, las técnicas más rápidas conocidas para encontrar logaritmos discretos en general tardarían millones de años en encontrar un solo logaritmo discreto, incluso cuando se programan en una computadora capaz de realizar millones de operaciones por segundo.\n",
    "\n",
    "Es la dificultad general de encontrar logaritmos discretos lo que le da al intercambio de claves Diffie-Hellman su alto nivel de seguridad. Los logaritmos discretos son un ejemplo de **one way functions**.\n",
    "\n",
    "\n",
    "\n",
    "\n",
    "\n",
    "\n"
   ]
  },
  {
   "cell_type": "markdown",
   "metadata": {},
   "source": [
    "##  Cifrado  ElGamal\n",
    "\n",
    "____\n",
    "\n",
    "- Primitivo Relativo\n",
    "- \n",
    "\n",
    "____\n",
    "\n",
    "Recuerde nuevamente que en su artículo de 1976 New Directions in Cryptography [6], Whitfield Diffie y Martin Hellman explicaron cómo las funciones unidireccionales podrían usarse para crear cifrados de clave pública, y cualquier tipo de función unidireccional sería suficiente.\n",
    "\n",
    "El cifrado de Elgamal hace uso de los logaritmos discretos\n",
    "\n",
    "- Taher Elgamal, (egipcio de Stanford 1985), trabajo en la compañia RSA\n",
    "\n",
    "\n",
    "Sea $a$ menor que eun primo $p$, entonces si se calcula \n",
    "\n",
    "$$\n",
    "a, a^{2} \\bmod p, a^{3} \\bmod p, a^{4} \\bmod p, \\ldots, a^{p-1} \\bmod p\n",
    "$$\n",
    "\n",
    "Por el PTF, el último módulo es 1. Esto podría pasa r para otras potencias más peruqles pero no necesarimente. Si solo pasa para la última potencia entonces se ve que $a$ es un primitivo relativo a $p$"
   ]
  },
  {
   "cell_type": "code",
   "execution_count": 63,
   "metadata": {},
   "outputs": [
    {
     "data": {
      "text/plain": [
       "1"
      ]
     },
     "execution_count": 63,
     "metadata": {},
     "output_type": "execute_result"
    }
   ],
   "source": [
    "pow(4,6,7)"
   ]
  },
  {
   "cell_type": "markdown",
   "metadata": {},
   "source": [
    "**Def**\n",
    "\n",
    "Si $n$ es el entero positivo más pequeño para el cual  $a^{n} \\bmod p = 1$, entonces decimos que $a$ genera $n$ valores módulo $p$.\n",
    "\n",
    "Con ElGamal se comvertira el texto plano a numerico con ASCII. \n",
    "\n",
    "Se quiere mandar infromación sobre un canal de comunicación inseguro, y se quiere usar un cifrado para proteger el mensaje de externos que pueden observar durante la transmisión. \n",
    "El cifrado de ElGamal, pude resumirse como \n",
    "\n",
    "1. El receptor elige un primo $p$. Elige $a<p-1$ qei sea primitivo relativo a p. Elige un entero positivo $n<p-1$. Se calcula $b = a^n\\bmod p$, se manda $p$, $a$, $b$ al emisor sobre el canal de comunicación inseguro. \n",
    "\n",
    "2. Suponiendo que el mensaje numerico plano se puede expresar con un numero $x<p$. El emisor elige $k<p-1$ y forma las cantidades $y$ y $z$ (para mayor seguridad se eligen $k$ distintas para cada mensaje numerico plano)\n",
    "\n",
    "$$y = a^k \\bmod p\\\\z=xb^k \\bmod p$$\n",
    "\n",
    "El emisor envia $(y,z)$ al receptor sobre el canal de comunicación inseguro.\n",
    "\n",
    "3. El recepot desencripta la pareja (y,z)\n",
    "\n",
    "$$x = zy^{p-1-n}\\bmod p$$\n",
    "\n",
    "Lo anterior se puede ver en el sigeuinte calculo \n",
    "\n",
    "$$\n",
    "\\begin{aligned}\n",
    "z \\cdot y^{p-1-n} \\bmod p &=x \\cdot b^{k} \\cdot\\left(a^{k}\\right)^{p-1-n} \\bmod p \\\\\n",
    "&=x \\cdot b^{k} \\cdot\\left(a^{k}\\right)^{p-1} \\cdot\\left(a^{k}\\right)^{-n} \\bmod p \\\\\n",
    "&=x \\cdot\\left(a^{n}\\right)^{k} \\cdot 1 \\cdot\\left(a^{k}\\right)^{-n} \\bmod p \\\\\n",
    "&=x \\cdot\\left(a^{k}\\right)^{n} \\cdot\\left(a^{k}\\right)^{-n} \\bmod p \\\\\n",
    "&=x \\cdot\\left(a^{k}\\right)^{0} \\bmod p \\\\\n",
    "&=x \\cdot 1 \\bmod p \\\\\n",
    "&=x\n",
    "\\end{aligned}\n",
    "$$"
   ]
  },
  {
   "cell_type": "markdown",
   "metadata": {},
   "source": [
    "<div class=\"eje\">\n",
    "\n",
    "<strong>Ejemplo</strong>\n",
    "\n",
    "\n",
    "Mensaje plano: Queen\n",
    "    \n",
    "Mensaje plano numerico (ASCII): 81, 117, 101, 101, 110\n",
    "    \n",
    "Receptor: $p =131$, $a=2$, $n=14$ construye  $b = a^n\\bmod p=9$, manda a emisor $p,a,b$\n",
    "\n",
    "Emisor: Elige $k_1=3$, $k_2=4$ $k_3=5$ $k_4=6$ $k_5=7$\n",
    "\n",
    "Así se forma el sigueinte mensaje numerico cifrado\n",
    "\n",
    "\n",
    "\n",
    "<div class=\"polaroid\">\n",
    "<img src=\"imagenes/eje10_5_rk.png\" alt=\"Pareja\">\n",
    "</div>\n",
    "\n",
    "Se mandan las parejas $(y_i,z_i)$. El receptor utiliza $p,n$ para desencriptar\n",
    "\n",
    "\n",
    "<div class=\"polaroid\">\n",
    "<img src=\"imagenes/eje10_5_1_rk.png\" alt=\"Pareja\">\n",
    "</div>\n",
    "\n",
    "¿Cómo se desencripta $(y_5,z_5)$  (debe ser 110)?\n",
    "\n",
    "\n",
    "</div>\n",
    "\n",
    "ElGamal es ma seguro si se encriota en grupos\n",
    "\n",
    "Los bloques deben de ser menor a $p$\n",
    "\n"
   ]
  },
  {
   "cell_type": "markdown",
   "metadata": {},
   "source": [
    "## Criptoanalisis de ElGamal\n",
    "\n",
    "\n",
    "Para qeu el atacante pueda desencriptar el mensaje cifrado necesita hacer los siguientes pasos\n",
    "\n",
    "1. Encontrar el logaritmo discreto $n$ qeu satisfaga $b = a^n\\bmod p$\n",
    "\n",
    "\n",
    "2. Recuoerar el cloque de tecto plano $x_i = z_i y_i^{p-1-n}\\bmod p$\n",
    "\n",
    "\n",
    "El paso uno es el realmente el complicado, y al igual qie el algoritmo de D-H es lo que le da el nivel de seguridad a ElGamal, por eso un $n$ grande mejora la seguridad.\n",
    "\n",
    "Otra forma de romperlo es si no se utiiza por ejemplo $a$ primo reltivo con $p-1$\n",
    "\n",
    "Y otras formas ...\n",
    "\n",
    "\n"
   ]
  },
  {
   "cell_type": "markdown",
   "metadata": {},
   "source": [
    "> En la práctica el cifrado ElGamal, es tipicamente impelemntado utilizando curvas elipticas, porque esto da un alto nivel de seguridad con poco computo. Un tipo de curbas elipticas son los pares ordenados de $$y^2 = x^3 +ax +b \\bmod p$$ \n",
    "\n",
    ">para un primo $p>3$ y enteros $a$, $b$ que satosfagan que $4a^3+27b^2\\neq 0$ (Esta condición asegura que la ecuación $x^3 +ax +b = 0 \\bmod p$ no tenga raíces repetidas). Tomese x=3, y=6, p=19,a=1, b=6 por ejemplo. Una curva eliptica es un grupo. Los procesos de encriptación y desencriptación para el cifrado ElGamal pueden generalizarse para trabajar con algún grupo. \n",
    "\n"
   ]
  },
  {
   "cell_type": "code",
   "execution_count": 64,
   "metadata": {},
   "outputs": [],
   "source": [
    "from sympy.ntheory.elliptic_curve import EllipticCurve, EllipticCurvePoint"
   ]
  },
  {
   "cell_type": "code",
   "execution_count": 65,
   "metadata": {},
   "outputs": [],
   "source": [
    "e = EllipticCurve(1,6,modulus = 19)"
   ]
  },
  {
   "cell_type": "code",
   "execution_count": 66,
   "metadata": {},
   "outputs": [
    {
     "name": "stdout",
     "output_type": "stream",
     "text": [
      "{(2, 4), (6, 0), (18, 17), (4, 13), (4, 6), (12, 13), (14, 16), (3, 13), (10, 16), (12, 6), (14, 3), (0, 5), (3, 6), (18, 2), (2, 15), (0, 14), (10, 3)} <class 'set'>\n"
     ]
    }
   ],
   "source": [
    "puntos = e.points()\n",
    "\n",
    "print(puntos,type(puntos))\n",
    "p = list(puntos)\n",
    "xn = [c[0] for c in puntos]\n",
    "yn = [c[1] for c in puntos]\n"
   ]
  },
  {
   "cell_type": "code",
   "execution_count": 67,
   "metadata": {},
   "outputs": [
    {
     "data": {
      "image/png": "[encoded data removed]",
      "text/plain": [
       "<Figure size 432x288 with 1 Axes>"
      ]
     },
     "metadata": {
      "needs_background": "light"
     },
     "output_type": "display_data"
    }
   ],
   "source": [
    "x = sp.symbols('x')\n",
    "y = sp.symbols('y')\n",
    "\n",
    "p1 = sp.plot_implicit(sp.Eq(y**2, x**3+x+6 % 19),(x,-5,20), (y,-50,50))\n"
   ]
  },
  {
   "cell_type": "code",
   "execution_count": 68,
   "metadata": {},
   "outputs": [
    {
     "data": {
      "text/plain": [
       "[<matplotlib.lines.Line2D at 0x7fbeb0c093a0>]"
      ]
     },
     "execution_count": 68,
     "metadata": {},
     "output_type": "execute_result"
    },
    {
     "data": {
      "image/png": "[encoded data removed]",
      "text/plain": [
       "<Figure size 432x288 with 1 Axes>"
      ]
     },
     "metadata": {
      "needs_background": "light"
     },
     "output_type": "display_data"
    }
   ],
   "source": [
    "from sympy.plotting.plot import MatplotlibBackend, Plot\n",
    "\n",
    "def get_sympy_subplots(plot: Plot):\n",
    "    backend = MatplotlibBackend(plot)\n",
    "\n",
    "    backend.process_series()\n",
    "    backend.fig.tight_layout()\n",
    "    return backend.fig, backend.ax[0]\n",
    "\n",
    "#p = sp.plot(x, x**2, show=False)\n",
    "fig, axe = get_sympy_subplots(p1)\n",
    "\n",
    "# add additional plots\n",
    "axe.plot(xn, yn, \"o\")\n",
    "#fig.show()"
   ]
  },
  {
   "cell_type": "markdown",
   "metadata": {},
   "source": [
    "# Curvas elipticas\n",
    "\n",
    "Grupos importantes en critografía son los que consisten en _puntos de curvas elipticas_. Son importantes pues en contraste a $\\mathbb{Z}_p^*$ o al grupo mutiplicativo de un campo finito, pues actualmente no se conocen algoritmos de tiempo subexponencial para resolver el problema del logaritmo discreto en grupos de curvas elípticas elegidos apropiadamente.\n",
    "\n",
    "\n",
    "Para cripto sistemas basados en logaritmos discreto o hipotesis de D-F, implementaciones basadas en grupos de curvas elipticas son más seguros. Si se toma $p\\geq5$ se facilitan las operaciones. Las curvas eleipticas pueden ser definidas sobre campos arbitrarios pero los de carácteristica $2$ y $3$ necesitan más detalles matématicos. \n",
    "\n",
    "Considerese la ecuación $E$ en dos variables $x$ y $y$ de la forma. \n",
    "\n",
    "\n",
    "$$y^2 = x^3 +Ax +B \\bmod p$$\n",
    "\n",
    "donde $A,B\\in\\mathbb{Z}_p$ satisface $4A^3+27B^2\\neq 0\\bmod p$ (Esta condición asegura que la ecuación $x^3 +Ax +B = 0 \\bmod p$ no tenga raíces repetidas). La ecuación es llamada la **representación de Weiersrass de una curva eleptica**. Cualqueir curva eliptica puede ser descrita en esta forma. Se definie el siguiente conjunto\n",
    "\n",
    "$$\n",
    "E\\left(\\mathbb{Z}_{p}\\right) \\stackrel{\\text { def }}{=}\\left\\{(x, y) \\mid x, y \\in \\mathbb{Z}_{p} \\text { and } y^{2}=x^{3}+A x+B \\bmod p\\right\\} \\cup\\{\\mathcal{O}\\}\n",
    "$$\n",
    "\n",
    "\n",
    "\n"
   ]
  },
  {
   "cell_type": "code",
   "execution_count": 69,
   "metadata": {},
   "outputs": [],
   "source": [
    "e = EllipticCurve(3,3,modulus = 7)\n",
    "e.points_x(4)\n",
    "#e.__contains__([4,4])\n",
    "\n",
    "class ec(EllipticCurve,EllipticCurvePoint):\n",
    "    def __init__(self, a4, a6, a1=0, a2=0, a3=0, modulus = 0):\n",
    "        super(ec, self).__init__(a4, a6, a1, a2, a3, modulus)\n",
    "        #EllipticCurve.__init__(self)\n",
    "    \n",
    "    #@property\n",
    "    def __contains__(self, point):\n",
    "        #print('hola')\n",
    "        if sp.core.compatibility.is_sequence(point):\n",
    "            #print('hola')\n",
    "            if len(point) == 2:\n",
    "                z1 = 1\n",
    "            else:\n",
    "                z1 = point[2]\n",
    "            x1, y1 = point[:2]\n",
    "                \n",
    "        elif isinstance(point, EllipticCurvePoint):\n",
    "            x1, y1, z1 = point.x, point.y, point.z\n",
    "        else:\n",
    "            raise ValueError('Invalid point.')\n",
    "        if self.characteristic == 0 and z1 == 0:\n",
    "            return True\n",
    "        return (self._eq.lhs-self._eq.rhs).subs({self.x:x1,self.y: y1, self.z: z1})% self.modulus == 0\n",
    "    \n",
    "            \n",
    "e1 = ec(3,3,modulus = 7)"
   ]
  },
  {
   "cell_type": "code",
   "execution_count": 70,
   "metadata": {},
   "outputs": [
    {
     "name": "stdout",
     "output_type": "stream",
     "text": [
      "O,(3, 2),(3, -2),(-3, -3),(-3, 3),(1, 0),\n",
      "(3, 2),(3, -2),O,(-3, 3),(1, 0),(-3, -3),\n",
      "(3, -2),O,(3, 2),(1, 0),(-3, -3),(-3, 3),\n",
      "(-3, -3),(-3, 3),(1, 0),(3, -2),O,(3, 2),\n",
      "(-3, 3),(1, 0),(-3, -3),O,(3, 2),(3, -2),\n",
      "(1, 0),(-3, -3),(-3, 3),(3, 2),(3, -2),O,\n"
     ]
    }
   ],
   "source": [
    "p1 = e1(1,0)\n",
    "p2 = e1(4,4)\n",
    "p3 = e1(4,3)\n",
    "p4 = e1(3,2)\n",
    "p5 = e1(3,5)\n",
    "p6 = EllipticCurvePoint.point_at_infinity(e1)\n",
    "#p6 = p1+p1\n",
    "\n",
    "lis = [p1,p2,p3,p4,p5,p6]\n",
    "\n",
    "for a in lis:\n",
    "    for b in lis:\n",
    "        print(a+b,end=\",\")\n",
    "    print(\"\")\n",
    "        \n",
    "\n"
   ]
  },
  {
   "cell_type": "code",
   "execution_count": 71,
   "metadata": {},
   "outputs": [
    {
     "name": "stdout",
     "output_type": "stream",
     "text": [
      "(1, 0) O (1, 0) O (1, 0) O\n",
      "(-3, -3) (3, -2) (1, 0) (3, 2) (-3, 3) O\n",
      "(-3, 3) (3, 2) (1, 0) (3, -2) (-3, -3) O\n",
      "(3, 2) (3, -2) O (3, 2) (3, -2) O\n",
      "(3, -2) (3, 2) O (3, -2) (3, 2) O\n",
      "O O O O O O\n"
     ]
    }
   ],
   "source": [
    "for a in lis:\n",
    "    try:\n",
    "        print(a,2*a,3*a,4*a,5*a,6*a)\n",
    "    except:\n",
    "        print(\"An exception occurred\", a)\n",
    "        "
   ]
  },
  {
   "cell_type": "code",
   "execution_count": 72,
   "metadata": {},
   "outputs": [
    {
     "data": {
      "text/plain": [
       "True"
      ]
     },
     "execution_count": 72,
     "metadata": {},
     "output_type": "execute_result"
    }
   ],
   "source": [
    "x = sp.symbols('x')\n",
    "y = sp.symbols('y')\n",
    "\n",
    "a = sp.Eq(y**2 + x*y , x**3)\n",
    "a.subs({x: 0, y: 0})\n",
    "(a.lhs - a.rhs).subs({x: 1, y: 1}) % 3 == 1"
   ]
  },
  {
   "cell_type": "code",
   "execution_count": 73,
   "metadata": {},
   "outputs": [
    {
     "name": "stdout",
     "output_type": "stream",
     "text": [
      "{(4, 4), (4, 3), (1, 0), (3, 2), (3, 5)} <class 'set'>\n"
     ]
    }
   ],
   "source": [
    "from sympy.ntheory.elliptic_curve import EllipticCurve\n",
    "\n",
    "e = EllipticCurve(3,3,modulus = 7)\n",
    "\n",
    "puntos = e.points()\n",
    "\n",
    "print(puntos,type(puntos))\n",
    "p = list(puntos)\n",
    "xn = [c[0] for c in puntos]\n",
    "yn = [c[1] for c in puntos]"
   ]
  },
  {
   "cell_type": "code",
   "execution_count": 74,
   "metadata": {},
   "outputs": [
    {
     "name": "stdout",
     "output_type": "stream",
     "text": [
      "{(4, 4), (4, 3), (1, 0), (3, 2), (3, 5)}\n"
     ]
    }
   ],
   "source": [
    "from sympy.ntheory.elliptic_curve import EllipticCurve\n",
    "\n",
    "e = EllipticCurve(3,3,modulus = 7)\n",
    "\n",
    "puntos = e.points()\n",
    "\n",
    "print(puntos)\n"
   ]
  },
  {
   "cell_type": "code",
   "execution_count": 75,
   "metadata": {},
   "outputs": [
    {
     "data": {
      "text/latex": [
       "$\\displaystyle \\text{False}$"
      ],
      "text/plain": [
       "False"
      ]
     },
     "execution_count": 75,
     "metadata": {},
     "output_type": "execute_result"
    }
   ],
   "source": [
    "e.__contains__((4,4))"
   ]
  },
  {
   "cell_type": "code",
   "execution_count": 76,
   "metadata": {},
   "outputs": [
    {
     "data": {
      "text/plain": [
       "-2"
      ]
     },
     "execution_count": 76,
     "metadata": {},
     "output_type": "execute_result"
    }
   ],
   "source": [
    "sp.__version__\n",
    "e.discriminant"
   ]
  },
  {
   "cell_type": "code",
   "execution_count": 77,
   "metadata": {},
   "outputs": [],
   "source": [
    "e = EllipticCurve(2,1,modulus = 5)"
   ]
  },
  {
   "cell_type": "code",
   "execution_count": 78,
   "metadata": {},
   "outputs": [
    {
     "name": "stdout",
     "output_type": "stream",
     "text": [
      "{(0, 1), (1, 2), (0, 4), (3, 3), (3, 2), (1, 3)} <class 'set'>\n"
     ]
    }
   ],
   "source": [
    "puntos = e.points()\n",
    "\n",
    "print(puntos,type(puntos))\n",
    "p = list(puntos)\n",
    "xn = [c[0] for c in puntos]\n",
    "yn = [c[1] for c in puntos]"
   ]
  },
  {
   "cell_type": "markdown",
   "metadata": {},
   "source": [
    "# Algoritmos de teoría de numeros\n",
    "\n",
    "\n",
    "<div class='def'>\n",
    "<strong>Definición</strong> <em>[ Ordenenes de crecimiento]</em>\n",
    "\n",
    "Sea $f,g:\\mathbb{Z}^+\\rightarrow\\mathbb{R}^+$, entonces \n",
    "    \n",
    "- Si se anota $f(n)=\\mathcal{O}(g(n))$, significa que existen enteros positivos $c$, $n^\\prime$ tal que para toda $n>n^\\prime$ se satisface que $f(n)\\leq cn$ \n",
    "\n",
    "- Si se anota $f(n)=\\Omega(g(n))$, significa que existen enteros positivos $c$ $n^\\prime$ tal que para toda $n>n^\\prime$ se satisface que $f(n)\\geq cn$ \n",
    "\n",
    "- Si se anota $f(n)=\\Theta(g(n))$, significa que existen enteros positivos $c_1$, $c_2$, $n^\\prime$ tal que para toda $n>n^\\prime$ se satisface que $c_1g(n)\\leq f(n)\\leq c_2g(n)$ \n",
    "    \n",
    "- Si se anota $f(n)=\\mathcal{o}(g(n))$ significa que $\\lim_\\limits{n\\rightarrow\\infty}\\frac{f(n)}{g(n)}= 0$\n",
    "\n",
    "    \n",
    "- Si se anota $f(n)=\\omega(g(n))$ significa que $\\lim_\\limits{n\\rightarrow\\infty}\\frac{f(n)}{g(n)}= 0$\n",
    "</div>"
   ]
  },
  {
   "cell_type": "code",
   "execution_count": 79,
   "metadata": {},
   "outputs": [
    {
     "data": {
      "image/png": "[encoded data removed]",
      "text/plain": [
       "<Figure size 432x288 with 1 Axes>"
      ]
     },
     "metadata": {
      "needs_background": "light"
     },
     "output_type": "display_data"
    }
   ],
   "source": [
    "n = sp.symbols('n')\n",
    "f = n**4 + 3*n + 500\n",
    "\n",
    "\n",
    "p1 = sp.plot(f,(n,1,10))"
   ]
  },
  {
   "cell_type": "code",
   "execution_count": 80,
   "metadata": {},
   "outputs": [
    {
     "data": {
      "image/png": "[encoded data removed]",
      "text/plain": [
       "<Figure size 432x288 with 1 Axes>"
      ]
     },
     "metadata": {
      "needs_background": "light"
     },
     "output_type": "display_data"
    }
   ],
   "source": [
    "g1 = n** 4\n",
    "g2 = n **5\n",
    "g3 = n**3 * sp.log(n)\n",
    "p = sp.plot(g1,g2,g3,(n,1,10),legend = True)\n",
    "sp.init_printing()\n",
    "p[0].label = r'$g_1(n) = n^4$'\n",
    "p[1].label = r'$g_2(n) = n^5$'\n",
    "p[2].label = r'$g_3(n) = n^3\\log(n)$'\n"
   ]
  },
  {
   "cell_type": "code",
   "execution_count": 81,
   "metadata": {},
   "outputs": [
    {
     "data": {
      "image/png": "[encoded data removed]",
      "text/plain": [
       "<Figure size 432x288 with 1 Axes>"
      ]
     },
     "metadata": {
      "needs_background": "light"
     },
     "output_type": "display_data"
    },
    {
     "data": {
      "text/plain": [
       "<sympy.plotting.plot.Plot at 0x7fbeb1809c10>"
      ]
     },
     "execution_count": 81,
     "metadata": {},
     "output_type": "execute_result"
    }
   ],
   "source": [
    "sp.plot(f/g1, (n,8,20))"
   ]
  },
  {
   "cell_type": "markdown",
   "metadata": {},
   "source": [
    "- $f(n)=\\mathcal{O}\\left(n^{4}\\right)$\n",
    "- $f(n)=\\mathcal{O}\\left(n^{5}\\right) .$ In fact, $f(n)=o\\left(n^{5}\\right)$.\n",
    "- $f(n)=\\Omega\\left(n^{3} \\log n\\right) .$ In fact, $f(n)=\\omega\\left(n^{3} \\log n\\right)$\n",
    "- $f(n)=\\Theta\\left(n^{4}\\right)$."
   ]
  },
  {
   "cell_type": "markdown",
   "metadata": {},
   "source": [
    "- $||a||=   \\left \\lfloor \\log(N) \\right \\rfloor + 1$ es el numero de bits con el que se representa en entero $a$"
   ]
  },
  {
   "cell_type": "markdown",
   "metadata": {},
   "source": [
    "<div class=\"polaroid\">\n",
    "<img src=\"imagenes/algo_gcd1.png\" alt=\"Pareja\">\n",
    "</div>"
   ]
  },
  {
   "cell_type": "code",
   "execution_count": 82,
   "metadata": {},
   "outputs": [],
   "source": [
    "def gcd(a,b):\n",
    "    \n",
    "    a1 = a\n",
    "    b1 = b\n",
    "    \n",
    "    a = max(a1,b1)\n",
    "    b = min(a1,b1)\n",
    "    \n",
    "    r = a % b;\n",
    "    \n",
    "    if r == 0:\n",
    "        return b\n",
    "    else:\n",
    "        return gcd(b,r)"
   ]
  },
  {
   "cell_type": "code",
   "execution_count": 83,
   "metadata": {},
   "outputs": [
    {
     "data": {
      "image/png": "[encoded data removed]",
      "text/latex": [
       "$\\displaystyle 125$"
      ],
      "text/plain": [
       "125"
      ]
     },
     "execution_count": 83,
     "metadata": {},
     "output_type": "execute_result"
    }
   ],
   "source": [
    "gcd(125, 625)"
   ]
  },
  {
   "cell_type": "markdown",
   "metadata": {},
   "source": [
    "<div class=\"polaroid\">\n",
    "<img src=\"imagenes/algo_egcd1.png\" alt=\"Pareja\">\n",
    "</div>"
   ]
  },
  {
   "cell_type": "code",
   "execution_count": 84,
   "metadata": {},
   "outputs": [],
   "source": [
    "def egcd(a,b):\n",
    "    \n",
    "    a1 = a\n",
    "    b1 = b\n",
    "    \n",
    "    a = max(a1,b1)\n",
    "    b = min(a1,b1)\n",
    "    \n",
    "    q,r = divmod(a,b);\n",
    "    \n",
    "    if r == 0:\n",
    "        return (b,0,1)\n",
    "    else:\n",
    "        d, X, Y = egcd(b,r)\n",
    "        return (d,Y, X-Y*q)"
   ]
  },
  {
   "cell_type": "code",
   "execution_count": 85,
   "metadata": {},
   "outputs": [
    {
     "data": {
      "image/png": "[encoded data removed]",
      "text/latex": [
       "$\\displaystyle \\left( 209, \\  -1, \\  4\\right)$"
      ],
      "text/plain": [
       "(209, -1, 4)"
      ]
     },
     "execution_count": 85,
     "metadata": {},
     "output_type": "execute_result"
    }
   ],
   "source": [
    "egcd(2299,627)"
   ]
  },
  {
   "cell_type": "code",
   "execution_count": 86,
   "metadata": {},
   "outputs": [
    {
     "data": {
      "image/png": "[encoded data removed]",
      "text/plain": [
       "<Figure size 432x288 with 1 Axes>"
      ]
     },
     "metadata": {
      "needs_background": "light"
     },
     "output_type": "display_data"
    }
   ],
   "source": [
    "import numpy as np\n",
    "import matplotlib.pyplot as plt\n",
    "import matplotlib.animation as animation\n",
    "\n",
    "fig, ax = plt.subplots()\n",
    "\n",
    "x = np.arange(0, 2*np.pi, 0.01)\n",
    "line, = ax.plot(x, np.sin(x))\n",
    "\n",
    "\n",
    "def animate(i):\n",
    "    line.set_ydata(np.sin(x + i / 50))  # update the data.\n",
    "    return line,\n",
    "\n",
    "\n",
    "ani = animation.FuncAnimation(\n",
    "    fig, animate, interval=20, blit=True, save_count=50)"
   ]
  },
  {
   "cell_type": "code",
   "execution_count": 87,
   "metadata": {},
   "outputs": [],
   "source": [
    "ani.save(\"movie.mp4\")"
   ]
  },
  {
   "cell_type": "code",
   "execution_count": 88,
   "metadata": {},
   "outputs": [
    {
     "data": {
      "text/html": [
       "<video src=\"movie.mp4\" controls  >\n",
       "      Your browser does not support the <code>video</code> element.\n",
       "    </video>"
      ],
      "text/plain": [
       "<IPython.core.display.Video object>"
      ]
     },
     "execution_count": 88,
     "metadata": {},
     "output_type": "execute_result"
    }
   ],
   "source": [
    "from IPython.display import Video, HTML, display\n",
    "\n",
    "Video(\"movie.mp4\")"
   ]
  },
  {
   "cell_type": "code",
   "execution_count": 89,
   "metadata": {},
   "outputs": [
    {
     "data": {
      "text/html": [
       "<video width=\"432\" height=\"288\" controls autoplay loop>\n",
       "  <source type=\"video/mp4\" src=\"data:video/mp4;base64,AAAAIGZ0eXBNNFYgAAACAE00ViBpc29taXNvMmF2YzEAAAAIZnJlZQAAL2htZGF0AAACrwYF//+r\n",
       "3EXpvebZSLeWLNgg2SPu73gyNjQgLSBjb3JlIDE2MSByMzAzME0gOGJkNmQyOCAtIEguMjY0L01Q\n",
       "RUctNCBBVkMgY29kZWMgLSBDb3B5bGVmdCAyMDAzLTIwMjAgLSBodHRwOi8vd3d3LnZpZGVvbGFu\n",
       "Lm9yZy94MjY0Lmh0bWwgLSBvcHRpb25zOiBjYWJhYz0xIHJlZj0zIGRlYmxvY2s9MTowOjAgYW5h\n",
       "bHlzZT0weDM6MHgxMTMgbWU9aGV4IHN1Ym1lPTcgcHN5PTEgcHN5X3JkPTEuMDA6MC4wMCBtaXhl\n",
       "ZF9yZWY9MSBtZV9yYW5nZT0xNiBjaHJvbWFfbWU9MSB0cmVsbGlzPTEgOHg4ZGN0PTEgY3FtPTAg\n",
       "ZGVhZHpvbmU9MjEsMTEgZmFzdF9wc2tpcD0xIGNocm9tYV9xcF9vZmZzZXQ9LTIgdGhyZWFkcz02\n",
       "IGxvb2thaGVhZF90aHJlYWRzPTEgc2xpY2VkX3RocmVhZHM9MCBucj0wIGRlY2ltYXRlPTEgaW50\n",
       "ZXJsYWNlZD0wIGJsdXJheV9jb21wYXQ9MCBjb25zdHJhaW5lZF9pbnRyYT0wIGJmcmFtZXM9MyBi\n",
       "X3B5cmFtaWQ9MiBiX2FkYXB0PTEgYl9iaWFzPTAgZGlyZWN0PTEgd2VpZ2h0Yj0xIG9wZW5fZ29w\n",
       "PTAgd2VpZ2h0cD0yIGtleWludD0yNTAga2V5aW50X21pbj0yNSBzY2VuZWN1dD00MCBpbnRyYV9y\n",
       "ZWZyZXNoPTAgcmNfbG9va2FoZWFkPTQwIHJjPWNyZiBtYnRyZWU9MSBjcmY9MjMuMCBxY29tcD0w\n",
       "LjYwIHFwbWluPTAgcXBtYXg9NjkgcXBzdGVwPTQgaXBfcmF0aW89MS40MCBhcT0xOjEuMDAAgAAA\n",
       "EVhliIQAL//+9q78yytHC5UuHVl7s1Hy6Ely/YgwfWgAAAMAANVp5QZSk1YjvoAAHkhvCA/j8wCQ\n",
       "lzhXsXIVHyLPps6E1bYNQc9Irz1+nM5gaXr6cXRMfn56kmNIoapcPkIr1xzvrFi/a+euRUXu/vuF\n",
       "yfKNRNvjEksC1DfBuxBI/+6jBgp8PClN/8dPCetsnJTNn1u8JeTcmb9giacmhaUikffdG4BfTzVI\n",
       "jdVZQsKM9GSdVnDX/bqtDGxS2gkyUSzIwRXIsYS3NajbTNuxcXevE9r/vS4TDa6qUGYLIHKEfViJ\n",
       "iaMzapMmqLApvZv2xJvacMlmPRQZjoG8GliVT/N+n+LfEe7f+NvwoaevAcBDOA6DllZos9D7xwb1\n",
       "gmWFUuBuB+oGbCsnGNmFAvn1bKKCOAfyQckIBXbCRwFUIJQVENrTShY6+YYVAISuSCMmT1rDOMEG\n",
       "RsVh244d4gnXJnX+joXbT38IO9x7B3uTkTlUjGP5PnWTvYUaJX38Mscs9AiNnRmoN9+5l1IB9qUT\n",
       "Ht4xHrtk3xSYI3ZB5sC0b+/1hgXXA1GACb1kBWZpKJgp7HkX0xsGVvHqvFF05pqd7oYKP+1jD8xy\n",
       "dS9t7XwC9VGoycYYoQsB8Kz+V58BrNWLI1GMn+a4z7pDrtHbchw3/RGH1JCGmiZRu5EyO9jcl666\n",
       "r1Jbl9nzrTEzRZQO3g6N7e/6VTj5+Kc0Z+Cp1gV7ecPq5geAA7AhYgdhJ81PFpsL9a1M4CPSGZwF\n",
       "fvioYiL9AuD5n1Mg31xvvfDA48wLc2u6lnECChJ2qqgvTTO7YRbWxaqp9AB7GOe3xAT3el+bzZ+j\n",
       "KSi4UsZb08kL5S6RP9BDFVm/Dn+wf+7kVJY+dBa8/bio92pq70ERF+O5E3SSg5yviAS7usOlyjzt\n",
       "vZfLGsg8WsdDtR+Onn/zkVgfbug36SY17QHWIOfuL14CjYYB4IcTzEvwL+XxmAqAi2gV39yx5srm\n",
       "LV+Sal3HTtQRwIi6MvdzAYngX3+zrVFGWxTb/2gg/acwFA4PbLleilij/IVmBOTj8hxelFuaV0HL\n",
       "tSL3l+642M25APvfUi1zjJfCAmLZrMUFOfzjSqcwopILZUBZISB0NRxQH55smcVS9u2wXnwqrSMa\n",
       "ZbfoZNEGbjQMsMXGxI4thFB9Uhqtrhnjnw3QlGExZrudYnpjKMBuoxRjbaD/3PCnkNPtzOkXIIvp\n",
       "6LJNT1YAQjGyxJd6snyt2ECqb0nr5e91iWkFVnFEzFrPRRVJFEhhZ+nih5/4Fm7Yfqfaa1/5bWbL\n",
       "iyBnWWhb6H61lwpu8K6mAI1Wj35i3r9xcJ4ImxzzOkAXkFl+IWctLccVbxShn90nUBd38QzIFyv9\n",
       "ODEedLHqt87/gXt2BWxdLMzrQSzIgQRs7Ey2Ut9FP2FV5n8Y9oE/nYjPZKEtKng1/pfMRPHwTQFg\n",
       "aj6qfwxe6ePLsym3Kjn57GKWDxrcCfvx2wb/gxv6fgtma28syZHRO01yt5Vz/R0JwzYu2dK5CVJj\n",
       "2nyXrPIJnqs5wYUyr+U9d1IyZ7Oa4znLXAuwgHaH/jeOe9oNTowediR6xBfee/nirqMPaSk3h/EC\n",
       "s3TEQ82eLR46G7OEniEBkgeM1CKEnN+1GHRiCVzVeeU72Ivq7VDCW4U8/6dxtEcJiUCMbIHP5bsG\n",
       "HpAkawaXXoMPmHetqrMi615DamgucLgjUpe50YwrVFneNTX/+vU8T9vHn/yrCnaXVKogBHr3GJJe\n",
       "B9OnMAeo1RJGUDF5q1UmU7OvxsPa68QvHVV/BLK8SgWCWhj0ggCa0RTumJGBuhujJbsYPaT+MOKM\n",
       "3MaC6Bo8hQ6cRYd0Nwe/Axm+5rDpO9QjL5BeXn6C+2q9PSCGXtJmGV08qckO99nOlDOiQ9wwhwzH\n",
       "m2dU9Ez5V6K3taE7y1hjerTaXUHjlEZlEzgUc13GAXRSVb3WfOfh1k/AtODTgN1W5eEJvjEBRP9K\n",
       "5l0dVrJUovJ5bX4NbzE5bOmD2q2fFjP4jlmVZA3cZKxoYyZSM31KCGpSUq4QvVjS8ONKy1LM2bCv\n",
       "DNyDdkupK5eM5UhnXg46JnpvFrNw7pm7Cx1UAahkITPvrpMKwsn6JOVevmPAMOz4cHIFFjrF8UfN\n",
       "CAVwTYHJji+dsp9i0WctgCrH0jqkNLt2YuPB0vBWUAMv9CyHiKzQKUGeFcEXUF8XBr7rtS+n1E5U\n",
       "DLj2D4grlAR/RUPRLZ+vHYoGCS06sOoYkVQzJUy9u6d1eP4xx+Ui7AIZcynr39ecNJpee8T0UgGT\n",
       "hSNPeZ9TgSv3jG8zivOle9cRSTuhznPpZGVxelcjfYMsM0a1IXTTTFfwcQAT4qv4IFPCrd8AyOil\n",
       "8UPA6Rvck42uFtw4iuMG75lQhsU+rgzHtkHFkWYzeghGyt2y+QRf5z/ir3NNSt7cOg0rRwyBi5Rt\n",
       "jld9yYCYGAr68evsiAi6QUrEcFHAoYKtpdeE5jAbvynKGx7bY0Xc4JVgMtN5tHuOXnPTIJ1Gp03a\n",
       "LyDzHTPe/ECLx78Ww1AcPwX2JdhdMAIAfWFPXJ6pRejsHVODbtKcB4IrjloXdWcjOcLJWDTEW3uC\n",
       "1EV/EzqZxjt69kBpcY68nIdrlIh1bF6VWYDc7wxcPoxaHDCwUIFgGGaL9YBmvxGJ7zJBd5MKSbPb\n",
       "RnnVE1qozhYwI2iBtvfArsDQG8GrENPfIUvgejVrPKjZo/WLnV4O3AEs1fY1D52ij6iGstlQ1fd8\n",
       "YCppRi7nhBrcYkgEjiwWnw69sWfUo2OTueZN1cYutxf0aAL7VDRmiMWlPFxwOJu8WoLOmAArEWDn\n",
       "eND5xXKfzfZ0UW/c9YeRRl51GbR7SR56ZoOe6qOAEdgYiJgdWZMR6OocKkmMf5nhpXEERPEpS4rP\n",
       "CcHxWPD4CA0MrWPJy8ifAapz7ev3B7vTWWqrNEr5hLhs7aSN4RK24lOZGseJzLXkAKotrmGXoD+5\n",
       "Z/dXAyU7pw5A6To+IDxNDINb0WP/UbbB8bdITm+jNL8soYgZAn5ZM6VQB+7p+6gMqhq/O7KOl8Nc\n",
       "0to2T6UqFMxIrtuPfdat2FL0QXdga4vkisrZHlr1zcHOEgChSZ7Gja8n5nC3wgdqaXBFDSHB8wpW\n",
       "LlaI/ZVCYdV4hdakechkFBDioBd/KyGmw1WO+mzpEzJhyeWK45GbLp+xH7y/WC73mBKHMn/Hu6/z\n",
       "ER3p9uv8IfQoYlBLGdr4Pw0gZEnURD56AuX/8d2Um4jDbuL4N5TQPjP8f2uq19SECI23lMZBCkFK\n",
       "FzuNnPTYCSO5pa9rUdXILgrWtlSiGTm8U6x0czIRHifoHHho/zt5YJhrhActL3OyOIoUAoWy2OaT\n",
       "ce/VNzNa/h5tDkI/RsU7wd1gfbo5ZuKsmIrWsxSTDLyl8wOmj0AH72wLx3QtTi+1xAT5fZVyhkUw\n",
       "1h0UD5FmKoo3LspqkQoppELfC3TTY9BgD4RQW/0oSru5Ko+3yCUvWxVKRSoofMTHgKaRYXh24ySN\n",
       "WvRJSU7znvxpwiiJKaYJadgAxD4P9pduPRxP5B3iuzUCv0oKErczgi4+m8u1zcSnFA/J5U4k+Z3Z\n",
       "eDfAZ2+KW3sDEdZAvrj27jKF5AOTnAARvSrttNuLx/f/bnNk/YSBHBs33Ht/X/Y6+kyNyR2AZj+p\n",
       "TvtQebJFJVvD23DwuvtCrJDGVm1eoUyxiBRxhgsMh3Jue31meWkHUx8i4STymyQZtA5XN1IpuvEt\n",
       "1xMp+kqOn69/DjAaGqOPJwmX+kCORzv/jqbluZkUJje6/odhyHAbxleAjTcUyVFr0GueSzPSinmg\n",
       "Pybcl+YmIE0toWbDnF2ytezFilUXPRRltHgIHRszGy67GLIqHKQyCKThidLYIZzXF/apoL0rlJ1f\n",
       "MJGGzZbW3vV/iR4ORaq8miRxV/x3c8fcVEeL/b9bfLpCmxnMhE9FCn91CVw3AhVzP7fmrowMTGvv\n",
       "E88rDIbmnb9d4s+YJ3cvAPCNEn/2h2n6Ns2p2OeDvJZev0HopZZua5YGkE9k+VdFBWWhSsLDXJgG\n",
       "E+1jXNoOePL/PcQmMA1VQP9B8B+CTAgP30Y2/lqAXfzL4K2/9fk9oL3dpgBmN4IZWJ4aoQ83l8dp\n",
       "Ysg9gzjYYb+x7gzKAm3un7LhKnSk1v99d2NWYAppWxxrRiiD6HKX3hqUZ+ZjjsQW0kYQTK3ascp3\n",
       "uj6fvjqWdfl9zXaKrIArmeW+YuY4V6XfqMXOUhKwrSzXhRldWfXQv8j4il2euAAAJP7cs2lQbHYw\n",
       "WOwaENh1Tjjz1HrEAxoini8INg0Y0U1sLJ2e8LJ6h9DnJQ2DT4lEfu4g2UiSWUS9O/IuEvoiUYWG\n",
       "o+a7pi7UH//JfQNmXIhGk4S2hMczNUz7h6sefz466LPcUbgUy/VQGZNKO4KIVffR1EPv6LULqifx\n",
       "hrSI1aHr58s/BwEDanzpqPgqLzT9A1clE+XKqeYHvuYE8+3ceBEbnYBD//4KiE3I1Ohmm9WC2fcL\n",
       "5KK1tms86VqViTphB2uWHzYeOlGQsmz9tpp6zkG1d8jG8LpejjAlsi/AAr3veLgsP/iiXX/xvdWU\n",
       "5GGRpQCwD/xfzD/zGWV695ViX0GfQoQNwi82syOvSWGosBjZ/JdZYwEWZ+x5SlT+15/jxY+z9jSO\n",
       "v+44LSI+OaPiTVpTVGG4o2uj1sOBif54TjKcP1d8TyGeAo3Mtsid5W5DH4TU3uY/d5uhYLZ7gKj5\n",
       "FaHrKPH92UuN1sUpoAXNknFbLFctUlMsOSxxQZFTCXDg4JQHiWhlxqY1a+wpn+UyaR4CFIMqpsVe\n",
       "IsXocOwjPx+bXAhjToCSE3KT3sVg+I3bzYDQivZx1KcjoClcVTC7p494WCyGJ2KwBNH/6xYrn3Es\n",
       "LKe1q5Vgq2GxrCytIMfbyccRVz2XnW4Ufq920c7By+C1E9OEqm5HoltYciFWVsTNluD5dlkP9REX\n",
       "gvCLQooqaBziIHAzJNLuYWhfHk93qGCWoEzQjWUBLnwtH+abyCyVt82Jj7kVvY+BIzZN+y7VHJhS\n",
       "VdRFnAB4OTKPmepJpuLQBjbNxWKh7WW8Rp/uOwLZkgVWCnZaexHLxWPTyqHHQzMYqOoLQ4+BBjl9\n",
       "JdVhORCU2vcNxZLPhRp75iM6DFG5Z+VQg2bDBGQ5kOMZWyGgjNqRy55WIP2VbjEsPjE2kpbb1ju9\n",
       "4VbNtNR4lD7eyZBVx//VElu777WV/PFYfzK9wUr8huVve4PpluJon5nTNySMxBEcOS72fLi5OuLX\n",
       "GUcgtErn/+nLv2pR/Njpxhy05pOF7P3Fe4xOj1RkkD4s2kEB6DIuD6O7LjsA9dR5EddYw0Dl/Gku\n",
       "IN5Dz6QjEmIuvbIBVB7T+EezoFgQE2cMMGDIP1RqJkP36TGgwEom2IjUy9UnMw9qvBm85/AYJ9AE\n",
       "AVab+DFs/F55Nrtm8hJ1If/nN3lF+Zon4j8yYJ8co+O8E4a6ILVrez0D/QYfFX9iWpvV6x7z+bKh\n",
       "CQ2tyFx3qbpEwDOSrQ3zzAYH1LhgzIQHMZ5yaQVhMGHmWbNDPy85hbl0dC3NVu4mOSmGapgD+uoA\n",
       "0FOnwh4HVpb1HFsUSC39M/KmFNuC70NuYEOVZfXVDRiTAsJwm5zgjC7Ggy5yOVtIZN3KrVQlqUdm\n",
       "6BPKRt/1bRrclgNaDbsoh/MlTNciMgZN6aYKzXRZgh4NwIproPYt3rTTW0GGWDSjPSv5/R7yQlmu\n",
       "SAeVJB6X/hA0ufS8oDZUj4snyo588RT/dtb1RwqQu6bFhk76mnujzpRBULcMnpft9kKDA+IL9Da+\n",
       "SttecpaCkBL5zX7X8VvnyOfuspiptTxQAw1DT7WjVz/NdIbNJGboDLyz8myEzg04cPzEd+HG8/sN\n",
       "uccDuolR/9+KswXhHKF5vArFv6yScFi7r8OOz5kIYyMSjgSn8fh7DsZ55iqeBigPtVH69NkAAAJk\n",
       "QZokbEL//oywCKDqcAmGxCZBmIwyl8bKRFC6mQPn+s+S26it9GTSnb5t8U2xlArQCQd6SXRiU7hb\n",
       "qhsXSIa31hGJRMvhqgPDnPmE/MEjdDoOxu173BZv25spfeTD0GIRv0DfeXp97gBFVuzLwuz3GSfO\n",
       "6YgKnzJa6GdowSPji3ihDl9dIkz9o1YCcYOTHjiIzTN8JkPp6tE2doeHwQ86GVcxSr0T+UmboKom\n",
       "bFUqoXx2DkGQLPGI4jlkdHOf3l9x9T4oBhQYYNZOKtRl4l14ImPQhb/ajsV3UIW0v7z7ZsxLEV0K\n",
       "SydwiMX+CqMTbZl/rlfToPb96VjA54dFSIXEYPs7M3YvG+z/WrwQKlx2zge+p+OvaiPpYJN26Ck9\n",
       "iucjeUcBCgaxBmkZVCKNVq4cGY+jcoxPOaik7CmhOh44J5bXH7DQDkfC27CDfpO1Uol9biTF9s+9\n",
       "8/v0+cofwJ1x0S99Qm8og6CozipVBOqKq4vS2rA0O9XukJL5LtpJIeo3rW6gPh5wX7oPJXSbCVCf\n",
       "pTSv0bz3ZMIf6H+WUHeu4LNIaky6W0glnxuKkTWktxm0kPMyske31LyWlBxYxHVkW9pV1ECNzQ/1\n",
       "quX6MHVolxfnHUAi3dOFaNoPBHCW5r/wKUH8ezp18A0fmcR7SdR06eGPmAbfTYkJMiT0GA1iHNHb\n",
       "hf8OIgRkRYWwjJKxt9Cxw4UtY8xj0g6RXJJ1qEl29h7Ml+3idpASswpxjke7bAhS/mR0lwEFMIWg\n",
       "GZUFJ6FoTQhGfpfALQ6ao7T/RwBCluP9ssEk1qFYECu7io608vGlcjFpAAAAmEGeQniEfwVZxdqj\n",
       "m4Afn8wNVb9NnqbhSpjk+3ske3yH6DEkm1boRKskp86oddaY4rlv9OWrDIpP78Ux7VmW4Q3uwxrT\n",
       "nVzg5Ec6haU5ul4KfAuovAUdqoS/VNX1A+VSxTX7hKu4E3Hbg4KI79crR+uv9uyAULDvo4cQDwHg\n",
       "4Kf0z+dtNJMI7ItUwXDInlyCFMCVkwKeFIMTAAAAZQGeYXRH/wObGXaygBxwQpI7DAAAAwAFilEp\n",
       "ad5BnkaAIZ7Odl7E1S2MSOpE2fQyD3mRAX3ZUN1jrfuHnQ4tc9nJBioO2rjp7QkSLx6SRhbskq6d\n",
       "aBfxXkIU7sypfaLj+7VI1ENAAAAAaAGeY2pH/wfqNLfiv0mvqUUKewAAAwAC5zD4Vnxs5tT83BOG\n",
       "ginEYmcMVhkWrMCvwTVI8NtaSYrf6+FOnsrNN4sqww/o1FpMj5CG/L7pBS/CMHLKrBAOZpuV4A0l\n",
       "DQHKuHiIBmKH0BmxAAABJkGaaEmoQWiZTAhf//6MsITiczOEfBtU9fz14UavQk6YNCIcUi9osvkL\n",
       "MSm+xeJE2dStbgo4XOjbP8JxGy29kVS3zmqSMWvcWgeXKXB99AvQxJ+YVoGVnKifKLoZc7NfXbRw\n",
       "JB3DPXaxAiywrP0J+acm1GwdY7MW2O+QupHavi2AGn6wRC7S7K4uscHMa7GI9ZUObGRz4y6jes0/\n",
       "mj/1XpN3z9U6KuV4GQ1DXsVSySeV7MNvrmG80gDE+d+LV8D3nbrW2bxr7UOEs8G1Cq30O/0idnfJ\n",
       "RuEwTxqclORhBh7Gn53hfo0MNrJli17zaoc5Psq7ts+XdswqAyA4qWsuig8VG6lmG3xy/t9e5UnZ\n",
       "vLScCUpWh5HaAAcQi5bD55fyctceJPs22QAAAHBBnoZFESwj/wVVTsBv/MYihCoSW2AAAAe7Nbps\n",
       "Q6hcp54U4mC9q+7QWIARSRgVB++EVLIlBz6U2Ks3l1tq/B/zDdJZHg+bMX8sCkx6CRrTI/TNcejd\n",
       "Ked8K6hnJ/Tp85OWvohqxW9kUIz3k+ne8CnhAAAAVwGepXRH/wfik1cfjYh53aTWmhEgAAADAwYZ\n",
       "Sl1ytTRgqX54s1w+JZE0w8rc/u31QIfHWe0EO8GLjuSaiwN1lVV+LUxCUiGZuA5wN3FppNElxuuo\n",
       "69YE1QAAAFcBnqdqR/8DH6ULgGO05CQCqseWrb4/v2PPRpVU9EG1ohpODfyel/pEsLXA2YV9P8im\n",
       "b3lHizndNRK0Yi3NoCUCJ/FSX3Da6KCA6ivwmaYESmPTj3c2DQgAAAC8QZqqSahBbJlMFEwv//6M\n",
       "sAaNWTaddutiGpsiAWYT9ofr1VzVyNiwun0CbWJ3BCs+Nuo7rbEphxErWGrKANpiBj/0REDM43TP\n",
       "62gJgesbk5itHyFE1qDTtswMKfqrP44rxtfzHcL2xmUrQzTnYYJxJjrC0cC26HSmYIN3E3e743+O\n",
       "9P0j3NXLhg8ZnrqhPrmv8KXeldxw0KFgaFtc+rELlrtLzxegHV46t3EzMRtC8LKhuCDqua3dyvfq\n",
       "24AAAABOAZ7Jakf/Ax+lC4BjwfIk+jvd79V8bDo/j7AXSZYEkh1GlKN0HsHlEodTV2HGJhYt8o8e\n",
       "K429wzOhnB9Z1V2sd6lAlxLMYxE16PekDALXAAAA1EGazknhClJlMCF//oywBo07HDhK9ZsJfqOA\n",
       "K3PwKvXg/IaT/I6calUOskyUAGPUz5ZEZ4QRSht817ruSL9ACTzftparDLi1tfsIKVhV+i0qKfBJ\n",
       "8VkBKjDtBUlnYfyuub5q8xdSrdhVJrrLOJnJpo7RpQEc6h3mCOtCn2A734lErbawGpjCrrymFh6w\n",
       "HL5vRKD3VjYCX8T2dBoDFE70Jj+R92N+FVxlVwk50FJNcLjkcumLeioSN/ovqOkUkaQhcZKcDE/4\n",
       "hrBLiItBVm8EFWlpoj64AAAAbkGe7EU0TCP/AfDQW7UkGwv580sv7eGnH2eZ67QZo6SbabFIN04O\n",
       "sVEmhDl+t2bul3jthLOQhrkV64Qp7WiLXMOfY3Uft8zk1Gy/byt0w5uEqNiqv9qINvklkpnqtMiE\n",
       "r9+OuS8a1GTnu6gH1C5gAAAATQGfC3RH/wMhQSTZodQLJVmDGUzjVuPBDmajCAoQuqfNChv+nBWM\n",
       "eCwZ3uipZzJ9jGshsLdh2qmBZ8oFnhlJOYW7gqJtIIcw7JSb5kGBAAAAVAGfDWpH/wMfpQuAY7hP\n",
       "6Nn7AKgrqJYFKVcn9DuhQnf6PeWVRB06GYmL/B9HBG4RyuQlH5N+odlpZsHJ6DkQWvBtfWbzwxhB\n",
       "TppH3NlfQQzzH4d0XQAAAO1BmxJJqEFomUwIV//+OEAbLUoQnORvwOo95O+zswviPrDfjQ/+6GED\n",
       "45aaQqJqQPxekKdoN+wa7DNxOZRZU04Be11M3U2eKQvHhYbJhDe4Eg2adoM0tPllPd92tk0MK4B+\n",
       "FcCOgZ3WrCexRG7vPYDy4/PQeUfRufv2auBdXgBN+lkeynGxjZGJbD+kiSnvnqQHc7FhWyfZpGAO\n",
       "HTfKllkbIT2ZCVjXXHRYpp9gncdSM91Gk8P63G75SH5pr8ezIaSQ/SR2Oaco6KKjGl2icHtoVARF\n",
       "AalaxzinESJ1NciAAk7FPdZ9C3pWngTXskEAAABvQZ8wRREsI/8CC8w9x3UIqlz1AsX2AVNlhsdN\n",
       "FAw5Z+D3bMcBAqwnrenQP7K2IJRA8a70OEat3CkNFaRYB8e9zQs2ec3sUdB7YN7rwWwJr4LAp8Lr\n",
       "wC65GjCPKF9JcS9A4gvzmrKEtikbEAGNnAKaAAAAVgGfT3RH/wMfVLUKYAvcaV+6GmJRQaq2w7h5\n",
       "vVcKCt4LHkpMDaYWTINzJP1Tf4ZvRzpd1S1jH/dys92wuVJIEOlQcltF6RkxYPy8Q3PdJNzxwkUV\n",
       "MDKgAAAAUgGfUWpH/wNJK5vbGcSZbu4R94C5oV71rTlxgfLmx9d1T04FNagy1fmY+S9PRPKXnnwx\n",
       "Cx+P1sF8GhFUlMsbUsTfKNUfmZ7DzBzQGqPjUnamBp0AAADNQZtTSahBbJlMCFf//jhAGuXM0o/r\n",
       "HNY+xG1sisoHMbo0bw+CjtIq4ZAfip/PQKTtdLFkXeUh0qkaRO3KAkx7KoLBWWuaAzNJKsYf5VlG\n",
       "XLmupNBmtPWwrInGyRuWwo343lae3blvhetQXYSrw9f9XRVBMMQMXFV6mlZAjvVVbPhpQ5SimfMH\n",
       "ym/mFLgD+p0miAY1uVWhlbJDBdhTrETd5VcKJSzG7WRaAv3L1fM/i9u5/Pw5b1QCmE3241RyBsNE\n",
       "3aMUDQTOgtdN+hj/4AAAALhBm3RJ4QpSZTAhf/6MsAbNMkk6M1JikGkE0KCz0qCsAOdlUd8EJFFa\n",
       "62I+F9MPXDu1cuJyGcDIsJwF20ydY/mm6EeFmvUM0mPAjuMISiXTmS1AwqPqAkyiZIS87cGGobWB\n",
       "wafV0Pfk4XQEkbRnq+FUNTL/k+Ehajr2tq1ddc4W1K0f8aeTUu6RXxQJW5MI5zAcWJnlDYHo+yzy\n",
       "OSsoTz0lSSkENRm3v+zeJpFAGoCpBVhymmElLmeAAAAA40GblUnhDomUwIX//oywBtGlpp1kZ5qn\n",
       "BwBSApBut8eiPuEHD7EsV/jszrxhppIEuSL0dzVjn0LJ3MeFe1ov8pM+ue9wv87xTkCR970MDiHX\n",
       "MbMTZ73g15kEMegy/DQQy1ErEd7PERjUHZeLVXaeiDBxz7cj8v7DvQTdIjOoWxN3oFPl/qrwzXNI\n",
       "nbitV9XIRGUMOTlCl9XVlrmNcyPkAOQGPIoaU4sz96dS8p4uIjtzIHG7A/yN8hf7ZitLjQU0nykC\n",
       "vZWx6J3pTqEjVnziAhIsGYYHI30oNoBWkQjvAolmNpQFAAAA4UGbuUnhDyZTAhf//oywBs8+HD1V\n",
       "IE/De9i47gBObjMpbHU1bM/D53KB91UlwMRr8cWGiP60fTlZQjevDss4VeNL1IyOrU0YYcEYWO1+\n",
       "UzYRuFOgBff+VORa/MqT2hrbUYanGQZRvvO1AH//V389yI4KyByjww4yLLvWc16kxRJRcheo0i5H\n",
       "ymPZA930kkKa/n20wL8+hmGkGIRBQHbRFbVbbSI6qMib6O/lwqbDhxD2Vl3lRvdbX/E6m0YzgaqY\n",
       "wO1Vfx6jriE7hDxZIJfbkIcQaRGScqoeDDARXB7cLg5jhQAAAGxBn9dFETwj/wH70Fj33Zk62E3m\n",
       "F/uZRTaYCx2lH3HxXEgSHnTG/4qxAs2Lah2QLAn49Q6dGAh8qYA+ikBGhq+xulXakJ9369hZB+IF\n",
       "34SZB1Uus0LRPgmwLSgAMRBjEz86PlquA0iYadHtEhsAAABRAZ/2dEf/AzU7H3+9f/tQkgA4wE8Q\n",
       "rjyLuY27z+9Bz5upX1ALY2UVEdxoqT0WDY6ceYrOewXBt82NcUYBVj5LQ4zfRBnQRdua4ncnJPqN\n",
       "YwN7AAAATQGf+GpH/wMzpQuAY7TkJxLjpql6xXZFpGhGbnaNoak2Fgrv/VxVTDs5QRQSV0Vwa9cA\n",
       "AXnbfNI8JCA300rB7WbMjSMzehrahyEVVCZgAAAA0EGb+0moQWiZTBTwv/6MsAbPWTaddutfNrrx\n",
       "3ACbJJ4KBhOTTq3jCZYS5rYd0/IzI83r/KAl0ZhQezf8nvliZoUOHazkBs6L6HBUSVdzJzG0fTs6\n",
       "4IGf+ug/Uj6kUgORFvEmwRVDPMLDzy8EF/ZSe62cdaEIux6OdmdVIGuAmqtT2AOto/K9KXnugGf1\n",
       "shYCg+wUE3gwThdx9xgmvlij4w7Rd18sEqIZy7JJgSSTyh+1liG4jss/dyHBUnfWrBtBez5FoRfO\n",
       "LwwthVkRyz7THoEAAABRAZ4aakf/AzOlC4BjtOQr+MK5+XZO1PfZRu5r25/6usgV8m6sobO+YWd6\n",
       "WvD+NF4W1XN3AVV4zngf1sJhueCsB1dMpU47H4rwgqTw8pFJoEpAAAAA1kGaHUnhClJlMFLC//6M\n",
       "sAbPXwn07RWWSYmggTzHuQEL0HrFGufekW+blMxwtjEnZuUr7QNb40tmxi5d7mp+kihdREjaMqqh\n",
       "gF5GfGLaXLMRiiM3tgf+EUGq327XbAGny+siCsgB0NDgNG+fV9uAlV7Y2YXiqldBQCyB36oKK4oK\n",
       "e9qQdNM/OIxoibKC/QnaslQox2VT0/dmcnqO9/SNmmwGsHG+2Os+1q8K86rD/ajWr1xY7Xcr/upZ\n",
       "1f2YtNIPlYidwLCN7DY3pOnsXVpDQDIjnfb+1cEAAABXAZ48akf/AzOlC4BjtOQsLW0znLCPtUi4\n",
       "4Zj9KLMPKipxIRZRw+Ck194qNrmsT2l6qVZfH//bdH7opkdbmmyYcsxJrpjoKNQv36O2Ph5iEOGF\n",
       "pa7c2OyBAAAAvkGaP0nhDomUwUTC//6MsAbPWTadp+LEAvtH2Bm8G05I246JOHV1YACF9LILzv+g\n",
       "FOI5YSHIK+qPNBsM/Dyf5RIlNKVcge/GTJ3U/CY7CkvGSMqri2rgkehIjn+4VDhMCL2hGP1eRhsz\n",
       "8/vLtZQ59g3jp8ZulCrH9ShiGN2A6RoqJDkck0tBVtJHnZHad+9Ogx2iCA1QUvdBs5dxiLOiR5rP\n",
       "N7IQcQvdS2eWVuTh8WBmLlvL8dC5HU1+BJAqpxQAAABNAZ5eakf/AzOlC4BjtUtnSFCblwhKoUj6\n",
       "l8ZLRy0am2Q1+uvAbpjzsfLc7Ti617+JUmqh9McpwLdEWSmp5lYZXFYDg3un98wHiDHQOKAAAADa\n",
       "QZpDSeEPJlMCF//+jLAHKwjiBsk8hL736XiRI3qUJk7HQeF3L1hj7lDf4AvJNTcaVfxTTYI0rO0Q\n",
       "oajiyc7qALLiFxNoKXwbZAJ4DK5nyWcf/1nPVj3UHh1SuPO5Bhf/53aL2PiUiS4V5jQ+sZZAsCvE\n",
       "uQYfXkgR9cejLJNoWPCIoJjjvmCN0GVrwOEZdmG1nTazNBvlWujXtFQt1esrhAoEuRFmdmLuRllf\n",
       "U+1a9lH9SabpbdGN7UwKRrSCmBFqgIlRz5ZB+SESH34wOGtLiNdpkCAPpjlHQiEAAABfQZ5hRRE8\n",
       "I/8B+9BbsG1AoCKNpuzag/XGw7dCIHeKDAWZl9+EfFlKa74VgNWJS6rJQTKdk1VLjObOtnI77e5j\n",
       "o8+7b87btdO+GqhqsohON97ZuMAUyorCeffo9MemMmoAAABMAZ6AdEf/AzU7H4ETB9K+KIbZDa6H\n",
       "SVBT6MLnhPl82vBGFEjn1OZNhyKgr/2lLnkKViLb/KfZ3rDsq1euQqDLNAY38zSaILLGFLUNZQAA\n",
       "AEwBnoJqR/8DM6UZBYWJyvyad4Jz62Aivn6JYGRUJ5KO1xtDqZNvjZ9I5MYJJeh85zITo4jD6XQR\n",
       "EB4+jVa0sSN8EpekeWIMf9FQgckIAAAA5EGah0moQWiZTAhf//6MsAcbFQES5JZD0oJVTu2fwku+\n",
       "jgFdzZ5djaAGd7Ugi2y8wldnf2oOIP11IbXhnPq0R92RjzWhr/nzu9T80AVpZbSaacaQPXfqxIk/\n",
       "rae7mqK/xLB8hIwiBSyIGQnm0vA5LGRGEON4jVVe3uB16w9YkEbuLeQE/mTg5n7ezXrHidJXaG3Y\n",
       "SjJwMhX8qBaXBUDUfnmd/AnOjAA1OpRgQXkKFDcca/flfDA8IlRCb+GyX2/N8WoG7+5gQdpsGXRY\n",
       "P8KyYRFa7m7H2fO/LJUy9irO9NoK+hwtPwAAAGlBnqVFESwj/wIKxtj33Zk6LiSaniOs5XXtqg5b\n",
       "9aiyZLSpaGFPnGVUL3c5QZogUtpxTqQxgK67kXOC/WpTnpgXNT+ZU3I0Mjalk5SYflSyj/2Ye3xv\n",
       "Ek2HCe8jiYO8vhFf/T/F/XpzF4sAAABHAZ7EdEf/A0l23qaLVPAFyKIN69mttRQSQMh7cyLhGAXt\n",
       "3wrTJ6dDa/xZ0mFXVJEcK5veAfJgIeU2SykdsVEMtFyUwgdHg+UAAABaAZ7Gakf/A0elC4BjtLoG\n",
       "gGczK+uzzg0wJod4pbQTeuo8d8YheN3QOvo1P0IVwAOdrywHBt6spqjQZCaOh9e7ucYJEOmEeM66\n",
       "Deu5R7vDVX8ustDSaYXTJp+BAAAAqEGay0moQWyZTAhX//44QBrZYewZhUi39F7vzfg3B7vI0rVA\n",
       "Bu9I00N+ueHIM4MDJP+R14o/2NK3VOkVqNiN+c11tfoLRToLRqUKFsdA0UhG3MgGsLneXvXLKP1s\n",
       "/+fCX/eJi9TkX3UdORDP4wGvNbmylJ7qQOAcVYBfufkPcJrwr++easNOvPYbDWSq26omNIZn6Cn3\n",
       "6ZDVRI3lmmIG/dBUdvKUNjdngAAAAGZBnulFFSwj/wIKxtj3vI19E6TzUC+5HoxWPWMNpqEC0Nn8\n",
       "iUCKVjYP4WGey9ObHlsCs4vDtRQfIG7g5u3Whdo27SH1z9JPmXJfrdv5ZGjA9hFRkzomk4dTKVjJ\n",
       "v8oTZzeAeuDNlHwAAABWAZ8IdEf/A0dUtQjjMAwSaMPpP48iNx+ej+Rduu+dWFIER+aIF7zOV4Zh\n",
       "6INyrgL6v0N+0AVhofM0v5pK2RoXLTJn6cqJwLp5Mu3VOZpp7b6VnGFL1cUAAABMAZ8Kakf/A0el\n",
       "C4BjtUto+WsB95DLEZT8U+RwlmWy71Qivjx17LisBKgiLogBB0KkcdNxNBvzxM4LBw6uL8rmrLlB\n",
       "C+3rlajJ4g6QgAAAAHxBmw1JqEFsmUwUTCv//jhAGtoUsgkiw4s+oMrFgTnL7Ne+lPlDOHmgZ9Ah\n",
       "5+UbxFeHLMu9jZbXRc+4y4BQuKCe5GTN/vEAcw/Uov472iP5NdWlFdHlsHSeXhi4QkfSDqplBYgC\n",
       "gfT4Gql5XOUaPRugSzSejTx4rDlgPSqpAAAATwGfLGpH/wNHpQuAY7TkK/xu4ITtnyTuG1zkQtRY\n",
       "ppshq5EEymMiVtSIT7Tqbvmi6YXwcKZAr7KqwAHg+n41hUwA6CoO0rBwt261dkSQjIEAAACWQZsw\n",
       "SeEKUmUwIR/94QBnL/JW3bsG4lnGwAOLB/2iJf66bGnh13zWwIHY1gUoH2SI3XAc71gt4oCL2b3a\n",
       "zqfltUgFKj5Ie09N46DjCJWWSGh0xgNid8GU67iOH1M0WrSsbJq8O6lX5NdeNIPU0JZCTq2p7kOP\n",
       "J+huEwaVPbT3AdClL7v6uJZ+P0sltZiSJ07ktET8//wRAAAAX0GfTkU0TCP/AgrG28hyr+Laz0az\n",
       "OXb8wXA+BI0TtGA4vlFkhg5PR+/eZEZ/FSBWWldPER3lKB5m3OAPlzOlQJKHKw5k29Uchx3FYJs+\n",
       "hhY2WOQCBekImn4TUBaiKFjBAAAAUwGfb2pH/wNHpRk1jfP4/V0C+U0LrVRucenjadzueTsJUQFM\n",
       "bpti3Qp1URR4HkGCzt3JVcc5EOc0pR0dwGkC9/J3EnSYlfqOeYMUQJSIa0BqajaAAAAAYUGbcUmo\n",
       "QWiZTAj//IQBjQhnkhKchF1OvalGtZLsvJ+xMdQYtiw991K7/5BDEtfx/WLLySTdqgN6IqqoZVch\n",
       "iTfv1aoMvzaN5Q+eslpGM74ZnBUIY5BHYoQ0VyCE0OijvoAAAAVybW9vdgAAAGxtdmhkAAAAAAAA\n",
       "AAAAAAAAAAAD6AAAA+gAAQAAAQAAAAAAAAAAAAAAAAEAAAAAAAAAAAAAAAAAAAABAAAAAAAAAAAA\n",
       "AAAAAABAAAAAAAAAAAAAAAAAAAAAAAAAAAAAAAAAAAAAAAAAAgAABJx0cmFrAAAAXHRraGQAAAAD\n",
       "AAAAAAAAAAAAAAABAAAAAAAAA+gAAAAAAAAAAAAAAAAAAAAAAAEAAAAAAAAAAAAAAAAAAAABAAAA\n",
       "AAAAAAAAAAAAAABAAAAAAbAAAAEgAAAAAAAkZWR0cwAAABxlbHN0AAAAAAAAAAEAAAPoAAACAAAB\n",
       "AAAAAAQUbWRpYQAAACBtZGhkAAAAAAAAAAAAAAAAAAAyAAAAMgBVxAAAAAAALWhkbHIAAAAAAAAA\n",
       "AHZpZGUAAAAAAAAAAAAAAABWaWRlb0hhbmRsZXIAAAADv21pbmYAAAAUdm1oZAAAAAEAAAAAAAAA\n",
       "AAAAACRkaW5mAAAAHGRyZWYAAAAAAAAAAQAAAAx1cmwgAAAAAQAAA39zdGJsAAAAt3N0c2QAAAAA\n",
       "AAAAAQAAAKdhdmMxAAAAAAAAAAEAAAAAAAAAAAAAAAAAAAAAAbABIABIAAAASAAAAAAAAAABAAAA\n",
       "AAAAAAAAAAAAAAAAAAAAAAAAAAAAAAAAAAAAAAAAGP//AAAANWF2Y0MBZAAe/+EAGGdkAB6s2UGw\n",
       "loQAAAMABAAAAwGQPFi2WAEABmjr48siwP34+AAAAAAcdXVpZGtoQPJfJE/FujmlG88DI/MAAAAA\n",
       "AAAAGHN0dHMAAAAAAAAAAQAAADIAAAEAAAAAFHN0c3MAAAAAAAAAAQAAAAEAAAGIY3R0cwAAAAAA\n",
       "AAAvAAAAAQAAAgAAAAABAAAFAAAAAAEAAAIAAAAAAQAAAAAAAAABAAABAAAAAAEAAAUAAAAAAQAA\n",
       "AgAAAAABAAAAAAAAAAEAAAEAAAAAAQAAAwAAAAABAAABAAAAAAEAAAUAAAAAAQAAAgAAAAABAAAA\n",
       "AAAAAAEAAAEAAAAAAQAABQAAAAABAAACAAAAAAEAAAAAAAAAAQAAAQAAAAADAAACAAAAAAEAAAUA\n",
       "AAAAAQAAAgAAAAABAAAAAAAAAAEAAAEAAAAAAQAAAwAAAAABAAABAAAAAAEAAAMAAAAAAQAAAQAA\n",
       "AAABAAADAAAAAAEAAAEAAAAAAQAABQAAAAABAAACAAAAAAEAAAAAAAAAAQAAAQAAAAABAAAFAAAA\n",
       "AAEAAAIAAAAAAQAAAAAAAAABAAABAAAAAAEAAAUAAAAAAQAAAgAAAAABAAAAAAAAAAEAAAEAAAAA\n",
       "AQAAAwAAAAABAAABAAAAAAEAAAQAAAAAAgAAAQAAAAABAAACAAAAABxzdHNjAAAAAAAAAAEAAAAB\n",
       "AAAAMgAAAAEAAADcc3RzegAAAAAAAAAAAAAAMgAAFA8AAAJoAAAAnAAAAGkAAABsAAABKgAAAHQA\n",
       "AABbAAAAWwAAAMAAAABSAAAA2AAAAHIAAABRAAAAWAAAAPEAAABzAAAAWgAAAFYAAADRAAAAvAAA\n",
       "AOcAAADlAAAAcAAAAFUAAABRAAAA1AAAAFUAAADaAAAAWwAAAMIAAABRAAAA3gAAAGMAAABQAAAA\n",
       "UAAAAOgAAABtAAAASwAAAF4AAACsAAAAagAAAFoAAABQAAAAgAAAAFMAAACaAAAAYwAAAFcAAABl\n",
       "AAAAFHN0Y28AAAAAAAAAAQAAADAAAABidWR0YQAAAFptZXRhAAAAAAAAACFoZGxyAAAAAAAAAABt\n",
       "ZGlyYXBwbAAAAAAAAAAAAAAAAC1pbHN0AAAAJal0b28AAAAdZGF0YQAAAAEAAAAATGF2ZjU4LjQ1\n",
       "LjEwMA==\n",
       "\">\n",
       "  Your browser does not support the video tag.\n",
       "</video>"
      ],
      "text/plain": [
       "<IPython.core.display.HTML object>"
      ]
     },
     "metadata": {},
     "output_type": "display_data"
    }
   ],
   "source": [
    "video = ani.to_html5_video()\n",
    "html = HTML(video)\n",
    "display(html)"
   ]
  },
  {
   "cell_type": "code",
   "execution_count": 90,
   "metadata": {},
   "outputs": [
    {
     "data": {
      "text/html": [
       "<video width=\"432\" height=\"288\" controls autoplay loop>\n",
       "  <source type=\"video/mp4\" src=\"data:video/mp4;base64,AAAAIGZ0eXBNNFYgAAACAE00ViBpc29taXNvMmF2YzEAAAAIZnJlZQAAldNtZGF0AAACrwYF//+r\n",
       "3EXpvebZSLeWLNgg2SPu73gyNjQgLSBjb3JlIDE2MSByMzAzME0gOGJkNmQyOCAtIEguMjY0L01Q\n",
       "RUctNCBBVkMgY29kZWMgLSBDb3B5bGVmdCAyMDAzLTIwMjAgLSBodHRwOi8vd3d3LnZpZGVvbGFu\n",
       "Lm9yZy94MjY0Lmh0bWwgLSBvcHRpb25zOiBjYWJhYz0xIHJlZj0zIGRlYmxvY2s9MTowOjAgYW5h\n",
       "bHlzZT0weDM6MHgxMTMgbWU9aGV4IHN1Ym1lPTcgcHN5PTEgcHN5X3JkPTEuMDA6MC4wMCBtaXhl\n",
       "ZF9yZWY9MSBtZV9yYW5nZT0xNiBjaHJvbWFfbWU9MSB0cmVsbGlzPTEgOHg4ZGN0PTEgY3FtPTAg\n",
       "ZGVhZHpvbmU9MjEsMTEgZmFzdF9wc2tpcD0xIGNocm9tYV9xcF9vZmZzZXQ9LTIgdGhyZWFkcz02\n",
       "IGxvb2thaGVhZF90aHJlYWRzPTEgc2xpY2VkX3RocmVhZHM9MCBucj0wIGRlY2ltYXRlPTEgaW50\n",
       "ZXJsYWNlZD0wIGJsdXJheV9jb21wYXQ9MCBjb25zdHJhaW5lZF9pbnRyYT0wIGJmcmFtZXM9MyBi\n",
       "X3B5cmFtaWQ9MiBiX2FkYXB0PTEgYl9iaWFzPTAgZGlyZWN0PTEgd2VpZ2h0Yj0xIG9wZW5fZ29w\n",
       "PTAgd2VpZ2h0cD0yIGtleWludD0yNTAga2V5aW50X21pbj0yNSBzY2VuZWN1dD00MCBpbnRyYV9y\n",
       "ZWZyZXNoPTAgcmNfbG9va2FoZWFkPTQwIHJjPWNyZiBtYnRyZWU9MSBjcmY9MjMuMCBxY29tcD0w\n",
       "LjYwIHFwbWluPTAgcXBtYXg9NjkgcXBzdGVwPTQgaXBfcmF0aW89MS40MCBhcT0xOjEuMDAAgAAA\n",
       "CIFliIQAL//+9q78yytHC5UuHVl7s1Hy6Ely/YgwfWgAAAMAANVp5QZSk1YjvoAAHPi1wiTT/4AE\n",
       "wz8uoqOgtTIr60pJEGxl880ciNqDj7MiE1vlE/m6/sYrEKrbnYJpJWPV8r6Er9eWlV3s9WQ5XqDJ\n",
       "HgbxJu9uxhTCj6E2aEN2RqGgJTICSVtwYGBD+SypVz7mKMBWQx2/ksFqzpDHkNDkIMZfRcBgCYyw\n",
       "rgwwfJCpzqeZ7Q5npWKIKRyvfNlavz9iv/HL+Vm0q1xTsFLG7TLtAbi7CCDB0VIHml0ypySj3eiN\n",
       "rDCfePi//7Q28sd9aZo8exHwZjEfA0BhhwA/2ZJadJPC7WjTKUjt9a705jQlNzzF/Leughn58PCi\n",
       "iJQOODjQ8Q2T/C9OtRfbQyElCmvBCsSiukdIt7380B67GPoAShtgJLz8iFv+sA2JjGIGIoSs/jNF\n",
       "HX8p7zXpuikU1VolVBeqjxGLwDk1QltYrRmVSKNlnvuNo+hyyduFIqQn4hX0UuaDmAVBeZ69yTXG\n",
       "jN1jABVoLUNijjrC72QLqoVeNRSh3Y93Jm/2OQzjCgZcGS58imMaX2GD8luLJv1yqBScCRD47VY9\n",
       "yFhJ0/Qs6hC5Pze7WC3zbOKwjIWJvLmFl+1qXy8NDUn89AYt2BpL/7k1PkKKNJCI0jqj5sQW270k\n",
       "/XmIzNtwQsqyGGRk01Y7Sx+hhcAbM0P5c5h0Bpgt4IBUWyNqLSPCgURugjnaEKuKeWN/iiybCJeR\n",
       "dfI5uyyEhSq1MJRPnSSXBHd9JKNl1NdcuWMDfuQNNm3vC6+aYWnfZ6iCYmObeCTswWZjd58XC/xX\n",
       "WQec4Crw293zTLH6K7BmPjp0HA8LE37Bz6C2+jHGxTbi8xYPo066ngiMbO19xpnS55pnnffHVCmd\n",
       "cp8FwUFE5ZAY5bf+/8/hy9OYgFpLsWREU5gLWZpsAVivcITL0AV31T0A5PdIijCkZDABn6Kc9Trt\n",
       "BeVyxENFLtGetMiBsgaMh4WlyMJMLQEsVtzKHj2zmlYMF5M53B9GhDpwMdMb2qeuAxQAd0+9Y/PM\n",
       "ZTKZolZw4k8BFmgEsNCycNms4lspynCv4EPDv/ZKrxpsIcNFU0q+/IoGjDHxfOu0atL2vAfvArKW\n",
       "/mpT7yMX6/c4l9qkRv+0+NjJk1Al2JsakvQ5zdsZbKeLcgic063JyW62ahRGxgmPcuteyj8jQyqX\n",
       "N50byLnnh53QQc9i/+01+2vmZwsd6L7V+nAi6CiVky/MqBNN9A0G/B3GlMJKSmDX5Y9do4DWkSKS\n",
       "G392DZdEQJYF0gvqe1gnUmTDxXE/GVZBwzBS6DxEa8zTVFsdT7y1arJmI+Tpu7cGcByN8r7/Bmn8\n",
       "XX4hHzAm5yGqRAR1ETPbMCiUem3F0u2Szfy6pRAIaWMx+7nH33hB8ZplQ93k+JVE6lzmkvy3i4eO\n",
       "/YI4VZfZzECUyTB08TSUL1xSs3tSaWbX8nLr+K+m+OwWroqwa1WH8nSNXp9y21nS55Q9IfIZ/Tjb\n",
       "sI2cv0LQjBFlhjwfQDcTcaRjmxFgMEOm6pIsKRz59EglNwy4ofDP5tI5FZIvH/71U1DbjjNCx7RZ\n",
       "GCUAfM399Olg8J5BEJNxLdbxM5nCDv///4AispIzAMegECA3U1TZ1j0q+lIaJe3vjMOOAFQ0aZGS\n",
       "7QUtLmKfZXQ5opvxHTLn+jujhOq3fZ4DWzyzRYLfOEiZOcXmd3vnbLG8R+bPK9W1VxejL9/0yoMU\n",
       "2hmUAxiWjIKY3Iri+2roT323GYaj/csW16K+L/uV1pYFraV5MBllbKSkFAfNhT43vSOlF8DN2fw1\n",
       "HO/HbjQNofF2rS+rtD3MofqHlYOrPJl9HVNX6kdikLom+xDBNV7LMg2WS72E9OU71PN7ZHU/FSha\n",
       "P4pk8Po02QsiZbRf5Kn+2zHuT6kdXh5M+PVcwYSzJLXnVAOZ78lTFENOxJJ+GOSDOk26ws1f7n4Q\n",
       "l4Txwhn4uuGM2BYL/cx4/4gX8dahExke5RJJIvpPxcT0zOnozRhJHUBfMg06kms2IjozljTlN6Nb\n",
       "Qt0Xzb4ojOBc/qtshGyWIk1mpzRJA+fyk++ZaPNAqjQzJTa6c0LDcB/7PSpPHz0GfiXzP/3BuKvO\n",
       "utt9vTiHbYIu2j59VKHdzI1Iiml6FFbEZcXXfIFu4P/Lafm0M0GoGk/SPGr7SpjZTSN6QDq3C+BE\n",
       "MT/c4ZnaXpijTLG3sO1OcDjd4h0IusSjsLSzOoQ/O5mZfKREMaPA199aGG/rmCBavLo87ihoT/f9\n",
       "SHozU7sZ6DWBq9FKH3uMywOuoocrWu3fjABvKfKjeIHTG7XAZaAG/ZT/pUtP3UOTWrkDFg2QuuQJ\n",
       "BHLCff/+vaE6EMe9NOX6PwCD3/ZpwFQfcz5eJll6xv2ZuP+3dOHqrTmRtUzPr+7y3K+ABd2dbO95\n",
       "37kvxCl4EGlVcM5jBSQy8dBpqu2lQUlCttBShAnsLlUHT41D3YZ9ma0Hudwr8GPZNKjdp9MjMVuU\n",
       "ZHT2NvNjuQQuEcVU5Zu/DeowMZaNZZHfS3mpvT7cnceJJ6PrzPEmP4aF303LlPZnffjNHmztuUPg\n",
       "2FnIp20jQGYSUiDBhR1Gj9XyLPm473dfH4b8WwsiLRI9iC4CwjWbYKeRcCMe+x2zhlflTH141E2H\n",
       "+4uDYlSlm3gbnreaMDsEp+fuLttHCOCHGZ1gvw8fCOo4REPKx1iJwBWgs57dsLAd+6nJBbOaXhFD\n",
       "YpDT2J5NtIZxZUhXW0iadxrZMxz/24CbbXqnuqQ+XjS5M1Z4a3t+d4efJZszrh+ZCAnAk3TKIwFb\n",
       "JwgieVUDXI+6N58Dabcu9Bd1vvMPmNozgA4Nr+0YKXEyGV2EDsP62ISAHiZYHk5tkIY6MkdHnBEX\n",
       "j5Iez9IghGYVtuCugQAAAcZBmiRsQv/+jLAEH0krESQ53XKuoBIzC+jUAeTUCXG7HQu/XSisk/MO\n",
       "/+U/g1byKULzdOV+G32qiPHrZJ9rNGAx/GTHELX6sVmSm5nY8Z8m8YzKsWiq10Ax/cT9T83Hg2BC\n",
       "ZfrRijRhKAMFeItY/Y+pzeNXBvTVq9AuZu8L+v7uV0XJnyL1E5b6vMy+j0BJyyU+f00Kfe6Dv7or\n",
       "zK0rNZVB7bKoeeIChKaZn9f7OaYAuiPothA8kKv7Gv98/KQ8xqf1DmAP4SO5n22pPntguat05qE2\n",
       "beXKCTdUMC9hM5cdWP7CWZ3++9AJi1tSXH1LLfh+sBCyzqvgtzyhUzizJ6gcZEF8U5XhrQibei2K\n",
       "/FebRQiVnXC8mFnoqLPVYyGhZEB2FSYV5RRGPzOOWydZPPSFQgpxUByIG+VXmkZ+DzXjl5XxBry8\n",
       "xgT1TaQzaodOtY6N4YQL8Rh4CNfROML+IbwnYTKNUxq3Y9qjRlcECjxI3KDQ1W4HQUZza5sydaTY\n",
       "pg5n86FmBBqusE4MynlQKy/j5ESA/AModro2eqredkwDZe6VwKTWeDOy4jnfOxIsafl/IRiwZQ8j\n",
       "p6vP2qYXrIdLSvPc9ouAAAAAoUGeQniEfwFYQ9G+QqPpVPTOsP0GWhdidU42dAtsxcp2iXR+6DpR\n",
       "tK0v0iKhP+HbRPLalDWzOMwkgBLCINpf4oILDjCaSCRwlmZlQ29qpkOr1S2k45uhPAwcSblxcWwx\n",
       "aXE/5LfWXKNbnARWlg9FU64lObhB2tVzaJxd3jd6hpbOtBw/tlliDKBsnOiKbAzaMU87pFJVxkGv\n",
       "DM3R5d34q46pAAAAZAGeYXRH/wG5wzsThH0OeeFScu0/Xd/QhyWtn+peH5OKW++dBFzP4A+ijq3U\n",
       "TF3DyD9AuGq23O6iLimqFqebtXr4pngyoNDiRT8/0WJ1OtBPZOKSSxzHh//TnsbYrenDIqdIX0AA\n",
       "AABYAZ5jakf/ARX4OMttGDZBxm+ae+3A6vWfsPSeDM2JGyx2u+gbYbVBIFQnxkHywcAbjqBmzOI/\n",
       "TmT5S0GBJqsMgizUHo0QDBeimp8WSZET+3IxRn1hz8RLuwAAARZBmmhJqEFomUwIX//+jLAEJTQH\n",
       "jaOAEYo9mc4DvejgKyRK7O+PmxpFOYW0rerF71skV4aEpS04eZE8HkLK8C5hPWmcm9L//VD3+C38\n",
       "mzwd4fU/ZhD5inFxbLNx9+fGK/vttTL0BeQzcSNOHOumkT0MdVHj+wlzR/dY0FBkdEM/js78Q1H9\n",
       "izF/ZncGG2D02qrTPK8OWDtFpu9FBN7SuD7Cnu8ZSoDy/Q/MBK11AeUAtHgqNlZCb25gtLzEyJcH\n",
       "RhMFYUDHZe7+b1diqJxUzJvmBI3Ml5hfL3AwOdN98/6qFQigtuvCEQ3dyCpeu1But1uPU46ZIxDC\n",
       "GXqaTQt0M2mhjslPJB8/ZP6vcO5nKYuw7PukJm6qYQAAAIZBnoZFESwj/wKo8qB1f279XfjuFqMi\n",
       "Gt1lu2KKFMbGpt8FaSgfZX5OFFp/1VBc1TsjDNVMAG/JQB55m7BVN8wC9JK35jlV5OAF0ATFi+NC\n",
       "nxokn1cW+TCHpz0yBqCVgXSY40r50k0mSCtw6Il33s2bKV0ru8Q32k1AuX87BlZ9yrBGNMIvYQAA\n",
       "AFYBnqV0R/8EMYiMH8SoEOey8Qnkis6chzzr/giU571Xj61AB+0AFQzsVj2rzWvnK5/Ih25Wzrtx\n",
       "2ERT4epQ11pC3dxO3CFvWSD0YRkUDIs8/E0gSXx5wQAAAHEBnqdqR/8EM+QTK68iyNMsW7uWQ+Ek\n",
       "dW3XzG7er54AB+l2nB9iHQ9fzw+Bbd9r3N1Xz4/wPwvlBWVsESE/7GW4mo9lvYH+RqoxI5pwdP+4\n",
       "d1jiAAUr1nb72jC/ShfYzayUYs3v0ppUmrMnm1R6qOzjgAAAAQpBmqxJqEFsmUwIX//+jLAEJTZq\n",
       "JSHAR1B6AOiRAHIli9lo+JzlHglNop059Mf38b6J2DmPqFVnvX1rwQfYN6a31e1WeIpZrGybKW4A\n",
       "uoRQfqC/rsIY2KvNGYBA95O7Yhwo14uGxKVniwO6xV7CkkR/Z5+m2FZqYhCVFxofCuPDxYnEiEzP\n",
       "sVkcfL0kAQkCqK2wJrWZOFr4usswsNkIadg9YKficGOpJ0Xa1Ulq+l4DFyE7tt2iJJ/F0CqVQYGj\n",
       "Ec5HBgh7zbR/lhJLzZBy6lcaJcroTtwm1YGKRXM3MQtKjQNu/bi4Abm2shhnQ0xVDKpfAitRhTGk\n",
       "qXTBMr9wlM9uX35bLKV5hAAczAAAAIJBnspFFSwj/wKyE+eCgCGivcPBcq9cVc8QFzKqr4cvsN8e\n",
       "Kgt/LXjvMf7K03LG+DkkZhowFDC/EIP5l3cF+2onL593jFDUHqj4hoIOB8NGRW0tyrmEVrNCP5My\n",
       "vqST+hwaigw7rFyuj+PpyvM4ZPNg/9jm4AEhkk0qhfRtvph5OywhAAAAXgGe6XRH/wQxiIfaRrLC\n",
       "1MTZjpvYsKjRdLaED/7usa6dqUqp2aD085ACT7Vn6hLr0IRhNfyCww10r2IGYztUiEfuiuNpU3bg\n",
       "4vNb6YzA5CYCJxdc/N7oQSJjXAF7C0gAAABAAZ7rakf/BDPkEUWHhu4/qiWmU9yyAj6uTCagDof9\n",
       "yC/eher54Q5FUG3vn887LGbUYhjHUBHI1rUeE4ChfN0FRAAAAO1BmvBJqEFsmUwIX//+jLAEJTQH\n",
       "knbAESo4Mbr8cEL9F/ET2SU4ucnZlPXdvfxNJPFBSErnYs/AVlX/8qi3gh5WLE+bFG9KtugSAqKV\n",
       "TtHEEPFQq6+95f/4ieJJoXpWkkoq/Ii1QNlVtfRn56Mtf7kJU+8STo/OK5oG60rXfn2YdeWjygeo\n",
       "gviOAgvEA/Rf7o7eCw/lrON/RJOWWOqJQBTiGLA7jyiwkpY7G8o2AIk6HSHkYQje6yfjuHWDI0sE\n",
       "rxlDmVw+qo4Ftfw/eecJ1smEmhlgIt+jFvV87lsxJaDLdy0JORubogNsBVWJYTEAAABnQZ8ORRUs\n",
       "I/8CshPFoPCXP8OL565vS0KoeK+ydxtyLyUXqYk9eajSeUaqRjgK3tUC5DT4+eJR8bglfAdek4fp\n",
       "B1J/+sgQIgQpXdWFajU/6UCe+O2L6+LWEzZmx75oaGDfZGHfuUk5wQAAAFQBny10R/8EMYiMOXpF\n",
       "lZXuBJVhg0us5zmKS8SBusDlI5RKndoAP2gASyogR81wU5claAgjRr3LKF0TSvZrO/V4W8xgNpZs\n",
       "OMCddH5SGYeVFvEmiNkAAABUAZ8vakf/BDPkE0WF5HW3bf9bPjeZXfFygEWmvDvHHdw0mIhq/QAA\n",
       "TpgAAheSgwjmxlmn5gqSOQBxdGI4ewPvLEU2beryiCoqrNw1Ce2MFs/ccZs/AAABD0GbNEmoQWyZ\n",
       "TAhf//6MsAyvE5uYgXqlwAjFG+LLVWjJ58NQfQmsFm5yKohN+jeILzo1yvLZf1N768f6lGTGXYSl\n",
       "0hp7atxw+lnpk3Ip3YvGGRlXl76IG6FRQ02coCvirFM47gFAv98tFX/lcN/2t1ysbARlpyPZ81iL\n",
       "rx3iMy4ebj/dgmII/hszt1kA2UnWrcWTbuc9FI4HALp+xE9vkKSv/AIrhc/T8foWi1CA6o6Esucd\n",
       "7fsSo2XslV9dMUDa77Ybh3hCLQtX0bjfmVq0dspmy7mGWzURhq3Hi8IoQjyfJcdm8i25f/FV2J+Y\n",
       "xzpqtHsON7YZuiwsuaSdFtDtMSIvlGEy88vh7gaB70L92iAAAABwQZ9SRRUsI/8CshPtPmLt4ve4\n",
       "1AsQSVfnGC3rArap+qt/F95uaAQSq5YtxEH70FKyEftRc6pQIAHEwhV3CmGwV4HGwzgnAR5JIG08\n",
       "EcH70FdrFhpH/v+BpdjsNBiM2E0cjqtfr0sUQadIrdTRNyuxqwAAAEYBn3F0R/8EMYiMpwfyKw9g\n",
       "IEcP0Le9/R9fzP36vGb4yUivWzFsrkfY34xNh1MqbXPibTb4dz83uOC1kUxjaMLbyRCZStcsAAAA\n",
       "UQGfc2pH/wQz4pJt9AuTX3/w+4Bktt0d0AHCrnqnwp+wP2DsWZsanIATRhkrxccSV9aA0uwARobO\n",
       "MCDUQZG0xrRNaAz6cqYVMSm2RsQegbfhNgAAAMdBm3hJqEFsmUwIV//+OEAP20f5TeXYAFfwRGpM\n",
       "G2zSBs7lHf1erbYmyHDKyhXbQaukXVvH3HvxnxzDunnUoG6GzxNP62FRXKpXT/wreo58uhHjx3vk\n",
       "kvN+D1g8kLlWbLTDX4Ud1VtAut3wwrmX7I6f7UMFJfAoTZ7SgWGiOv7MGm7q5NU+BGcSztzpT31m\n",
       "djU8N7EnSoiJYJDw7S3emzvsGJG5KRVG6LIn9xhLsp16dQp8jP8Lxps158+r9VzUv8t/z32ARMfB\n",
       "AAAAaUGflkUVLCP/ArIT62VLPKsXxofHxvpfr1Bd+haczNh1ehbhQC/1eqvbzR7aWjfFwYLcYbeu\n",
       "bKr5atlQfh0uyLpL9fIhpUrO6LxeSV5PWNgESfktcAEKh8QoWsNyABrG0zQkAT6zrY4dQAAAAE0B\n",
       "n7V0R/8EMYc8XnC5mINSN3jea2S+WrhdQCUg4EVTQV1hSEVk99EF8cV0y/4W6iLfUX7KLLabGE33\n",
       "Qwqo4lZMKQ3b40qdagyfr/xXYwAAAEgBn7dqR/8EM+QTLBxUOilVhGK1CpadwcsB9lF/OOYnSBXN\n",
       "8j+/8cx1SP/+U5VwT/NWW3RLwm73zEBvf3irkjxlSznG4mHg8nEAAADdQZu7SahBbJlMCFf//jhA\n",
       "EFVqUc57aoAR1rrHQEYy6hmMTzipvv0ZtRYP+8WXgSrf8sH9ZZGRoccsLht8Ff1s0fDXprzKYqj+\n",
       "rHBD+7phcs91G/noR3Hke72dXtmKsaVQCWZZNK1VUGSY6MevaV9ED2R9uYtCn3xKE4o7NRSiSwUp\n",
       "SyiXWuOVZjRfP52unTdheoaufdJDUFEwav62iucpMJocoPBrvloV+BzXytgHFgX0f3QOmEa4mSkk\n",
       "0UI8XUWPaInCLZsMxJOtSTU9InpVxskHqB5IozyI86YYvSAAAABRQZ/ZRRUsfwIr6jNHhqgk3174\n",
       "4wAUIaXO4A/34JevCQkV1drtFgZjHGpxAsCXPS8gEWWj3kRNeiwGNfljxH64604IHDYhel/AqbTj\n",
       "jWQ1HfeRAAAARwGf+mpH/wET3NFrY/huIPGUa+rWottRGwRq+ubYe4SRFFr1LJQaSkThNcvYQ1xE\n",
       "S14+z8wqm2dKy35qzyYMCR2A3Hawr33AAAAA7EGb/EmoQWyZTAhf//6MsARGS8q1LRvqAEV3Gh+a\n",
       "uEXBB8WfJ4gmTFdhSFLm7ZmSJfKypyMZq3uONHdeSa81qrfK9b72h4ZK8ghHzugPmyFN7S66RLko\n",
       "XnC5LyTrCAPvU7VrBxHOUX4mBoc6Gf+nuiRJblaSn3E+wS628ZM+tnpbS4VleYFy4zptPC3LdrFE\n",
       "SaiGk9IlRXEAory1NNVifZJ/fzWnFbCHg+jlI5P03N7rxzuneI3Jz/2nDK3FTrJ8I2sf2wEsTxus\n",
       "Aj29f8Kt2loFG8xNZgXFQ3Ctpj7+rDD7Z5PSM4x4WuYkScYhAAAA30GaH0nhClJlMCF//oywBEAy\n",
       "q3AJrtA2EmKQUTXzNE89RsPXdC4CYigZHhh0LfKjFopOQEP5xIXMc3+E8Y93UHgd+VQF4rF2g0Y2\n",
       "mN67e3bcPWBOS1Puo1rMHqSJeh1T88PAfc21WcA6J3IiRLJeR69DXK0beIZDRxFLSbvi/UP56VRB\n",
       "k/PTCN4QXiI/LYnh/wmiaKBLFNXBjyRzVOuPkUhFbptl+4vIXGwlECkF5BweFAZdqNuOGPVvYjU4\n",
       "FwMCB36xW57Jra7XH1tT5slv5cKxlJuVS4TxiLsHcqilfmEAAABbQZ49RTRMfwIqDW+AMPCKkjWy\n",
       "OOjX4aoVJ17AK0hUa6pRv+LxI2n3PZbmQQPBLF90AFZHdT6oAmOhZ4hEGzekiw2T5tTmJEIN7BFA\n",
       "pjgnUsbxsC6zUv9Ae/XEEAAAAEwBnl5qR/8EUkkKiCSxP22ldCwe6AX3QxBqE1BEAJnTKrwgYyVx\n",
       "FbSRxo3ased9NKD5qQpIFXnzVMWEe9gx7otyNAwzaKUW+UV0AuXyAAAAxUGaQ0moQWiZTAhf//6M\n",
       "sARBRbRSNuG/gn4rF8bXlPEsjym70ajlYAKwdRnyerimL+t3keW0teJbBNDWtvmgW+Ss2VTKusOc\n",
       "tsQVhV8sSR5vIbuUzUlTl0O87/d3dzRV/M5H6cDgBp2M/zcM4KM18Fk1oJPQjp1uecKMbqovkSvg\n",
       "H6CzqMjkgl7JGHAd5WqmnXslFuLfUtqVrEiMOM0CmESIvO03Tzmg9mOh3VqHtF1xb4FlhTUrIxo3\n",
       "epNS4udxeCrwyULZAAAAZ0GeYUURLCP/AWG9refO/e75B0VsRqfx/4zoP6869LQXveUIO/R9G7Op\n",
       "8LBiEbqd3q3sbWS1MgfYCgp1jL/lKKjnMSDXsKdsfqPug78aVfDBPRhEkQblndJb0OgBLBUsTloe\n",
       "yQ6JvoAAAABOAZ6AdEf/Aiodd/3/CZAj1IgeZxQZ6eNtIwZ6+60qzWL8q39QBKK0tS6gCXRPyUzu\n",
       "KuGD03m2/p3as0I+Cb2mR9uhy8WO+1ThZ2CHeDutAAAARAGegmpH/wEVz+QX3LAY2qFoBK8qA153\n",
       "CBZGkxQ8bczG5KyXpwv2KU8+KOoX2hdDWnpvZ4y4Wb3BIIbOlF/rjTvsqhlKAAAAvUGah0moQWyZ\n",
       "TAhf//6MsARFNlTkNGqAIPc0UVv1oTeg7xzomVdBllpxQOJsCYmjsThkNQbj/lVSX9azau0Hg1sd\n",
       "L52Vw2jHXpVNf6J55etPJAfsXdmJE1EEyvQkf2R9bb5VqFJTU14xBxglHyzq4eTt1GmZpauNm0NX\n",
       "TKeq8UOGbbsJu1RSQBGsZ+uJT/YagRKhx8jkmz1ZfuwcL9w5mg8qoTQx9QZ8APatCJbl6HsRWOho\n",
       "WH/5d62DbWOogQAAAHBBnqVFFSwj/wFhvAgWXTfCCt8LP1iVPOuHhNpcWbp6SZWVkNOhSf7zAAal\n",
       "mScUXACsmSK8FyPE1DwoTHvF+/6hLojI4i7xRDNKr4Mtsexh/3uPlGpjhadcjiR0ENo22ffpZE4t\n",
       "a+8IOb0F0jnpvnXPAAAASwGexHRH/wEeF7TY4uFDHMLRn84n8iuRw1+iKbLV/v7uRBTyKWOLWrs0\n",
       "9W/xNsT4cm2JBbOyQ8GgYw9VwcnErt6DWSMzlplPhH+IgQAAAE8BnsZqR/8BHj3R8w+QwkRp5Ml6\n",
       "yfTC275KnI3/XTFBHHLLmPl+GtOiz5CLB6eppMyFYEb5NR2FF8ABLqXwJR1yGgxvZgnxfMFB8JI/\n",
       "qovRAAAAv0Gay0moQWyZTAhf//6MsARFM/oNF9gBGNIjgkeI9CJ3/bGrBHKbNRU96Bn2x245n1IE\n",
       "d77C9TbaaYGqMTuWhv0yB6EeD+FXte6D01iL7t+Hk3e8XghxN83RzUOuxICDDmtAOxH21vsp1svK\n",
       "QQW4a5OOaRQdCcwWmf9PrhSNoT1ZMOPdI62rGnMKDlDFgTvyQRvIKLUb2vmy71lN7shGpCK0mPOE\n",
       "0Hx4vry3pEEDPL+Aiv6zneu/WapWyay+eFaIAAAAdUGe6UUVLCP/Aqjypc4QpCvThGT/V/le6X7T\n",
       "pgadljwJswSVTAVf3/027H89eyAAD9HHHLQVVixveG30YZlhyG+gdo1+/k2Vu6y3xHM/ewVYc/sT\n",
       "bsW20FGKQKt3f0GvhnsFyrfCrjO/wTSRf3z3Y7u1y9DYgAAAAEkBnwh0R/8EMYkVYNqMeimgLqVi\n",
       "ZcLgYaoTQU42qOfkQqbsEH3U4luSNUPiuibIDewjAgVZPu9QGlMQ5RU8umx5I3d7PXCpOSu7AAAA\n",
       "VgGfCmpH/wQz5GKruojKxjTqJqAen23X9QMLIl60nm/ifrJz8W27LBxa3/dmFoAJ151Y9VQFCRbd\n",
       "8xkSQzLhzp8KZMG9Mk1fad2g1ZQ35YeOVlmSHiRAAAAArEGbD0moQWyZTAhf//6MsARFM/oNIzoA\n",
       "ccBEYenbw+3pNP3r4wZxD1RrWvrBHWLzwVlaGAaQucL22X7Apv8SVW3OOSxn15LgD8xhijEgagz8\n",
       "4A+MJjZcyDZ2NCxfpVRkXj4o23dpNSS6Wm3puupuoECmsjN4dAUyJXNCbk+GZJuf/B2CZicnwZyI\n",
       "TKEV4++ayD9iILr0z5UEOOXJPeir1UKDFE7PuOT1eGMNlbgAAAB3QZ8tRRUsI/8CshQik6B9POT5\n",
       "Gn5B9tVuwyQP5Q/Ta5r1Ycp+tIBk1a5F0BkCPyACbu/fGCkUDH1fuDwqF8MRCUCx38FiPQA5cnPA\n",
       "O0FetKiP94Ai9tyD7aM+KsG7ohSkqy4spb3p83tujqtdHuY7pqt57j/VwS8AAABIAZ9MdEf/BDGJ\n",
       "GGkd/WzjFi33nAGBDd+yl9uBkuAdJk/A4YloVIRiS2hpUbHN9AABCLIQMfsMDXAqNb56o2J8/GwL\n",
       "THFmPJOBAAAAYAGfTmpH/wQz5BVvg3VJ0BRm7TVzhJNQR1gaokgnih/I0ADUh6rhvVJPhPdCXKgF\n",
       "Ct1/3CjwL5zkxsNcsUG920p1/btQgBdcfRB2dX3mWYNggnoW/2b+gt0gezowaCh4oQAAAIlBm1NJ\n",
       "qEFsmUwIX//+jLANlxObmCLxSLXAER6deFcViU55+/gTrxeHN9DnLfdjCf7HtWmZhHbCb6gND9vu\n",
       "cDOH/AUkPlYaj3+Nov2xUX/pWgpiGbTUtr6d9I+uH9ycWrQI5zYO8jLplaI25QdJ2gHP28/gFBLZ\n",
       "avFAziVKWvr7s+eCgskSSaTA6AAAAE9Bn3FFFSwj/wKyFCKWHGmunJO/cR8TEN22Aq3RjIS0KXoc\n",
       "2E05MH0ITCsEzNxoAoqswuvK750x12fybTX+jNVR7y2DifdRx8vGbhIBoZouAAAAUQGfkHRH/wQx\n",
       "iQ4g080CKa0TCcecSMui81kGaSJfv6huUPn0oyAA/Pr7k1h5Ix3e4h2bkckoYsluoyHMTMDa98Bb\n",
       "Fh+qSZkYm+xxFM+H2hsCAwAAAEoBn5JqR/8EU+CD4Vlmpta3fy6fudATuOtlYUEQtCOvxoZksJ1Z\n",
       "yAE0kQIDJNyJSxTt16QYusuNb9gTIAInVZ4KQD9S9VWeRSHjJgAAAIhBm5dJqEFsmUwIX//+jLAE\n",
       "Z7nqBLalgG6VSi8GaNq+nYMeIyTf3pOMYiPkHRwzlvYnhSykdk9opQCVJ+qDWXNfbTGsIRXQ1O5M\n",
       "FKG6+7bTgrgiN5GI4FudpB6DD2siQcrqCXepl0B/xeq2Aly9YJdSKu2AIfKdUohdr3ihsaDitqZU\n",
       "YAsXpnYoAAAASUGftUUVLCP/AsQTZ+2gfb49/Gtf4v/CKw9umeh8qTPKtd3FLx6UnY9cCsn3B7Cx\n",
       "Vo3UsT8qsscU65JPqFE9kTN8mLQf1413n1UAAABBAZ/UdEf/BFF/DGVFrodJ8oWYLzz3mMkLULFE\n",
       "Fll308M3mQuedIlMxCEdJZUb1sF1eFK4RK4w6Rf6dee2J1efWasAAAA9AZ/Wakf/BFPghjSxMsE2\n",
       "IeUZq4qV4riVg/eiGmaeTmnCarnLgArSvzq2pZDUyjtaSgu5H9wu4eGrk1QZsQAAAIxBm9tJqEFs\n",
       "mUwIX//+jLAERTP6DSM6AEreOW0W+NqChogV/UECy1bJdnoB4mxmxntM1QB6ZF4ky9UivC58Fzj6\n",
       "K36kuRDWxxYB9NcrkpwXdfcbo9ZcSVUVfcIVeigxJ0rFMTGUT1xjJhqq8ddJA1W0bF2qBiUw8xbG\n",
       "Fhi2+A6u/m3O6Uzy9Bb2XmoqrQAAAERBn/lFFSwj/wLEE2fjL6Z0TpJEUq1A9Ki3LfokBnyW9XZg\n",
       "auqtQC9HKUGKUOxJYiJR3VfZ7ffkN0Im1F89nqyCiTo1EAAAAEUBnhh0R/8EUX8MZUWvEEOueayt\n",
       "Hfe2otcnK26uwEQ5mPo4eaJgJoATRgBBjn61FpjqWnmQXZNXhUHAoSvEZYwiYqtNbUEAAABHAZ4a\n",
       "akf/BFPghjS/4roFQ91foboppUY6lVb/Io6t5VgAl2LmxAZ07Q3L8hm28IEFdwRtV6e4yyfzbQ8p\n",
       "wPn4h3t3eWhLg3AAAABXQZofSahBbJlMCF///oywBEUz+g5PNkEFeA0UmMWxBOvzxK5tQhO+55OB\n",
       "2SO83jJkmiIoX3DjQOdNbfm+3ZvsgdJDXMPA8bohPjfWCYHQ3VzsidrEL8nBAAAAS0GePUUVLCP/\n",
       "AsQTZ+2GiRZ82Na/2tCMaNSJV494vKiATb6mS2CRnwYMZxz3pEWymVwN9ZZTPYC9b2J+Vwk/cCiR\n",
       "qFMmW7Dj3LsPYQAAAEABnlx0R/8EUX8MZUWu1pkf/Y/SS4nK8H+uTtL+9xPTvsXvJSwVzUHK71sh\n",
       "/ltSE9Y8NP6nCykZbLkfMuBs17pAAAAASQGeXmpH/wRT4IVfbhPRNDWaqP4kX5+xj9WgPLVi7kaa\n",
       "clQAO1hXUAsxiEcLOPN5gSzLBqT/vizvCVSVf4bsbA7neAX97PVaySwAAABpQZpDSahBbJlMCF//\n",
       "/oywBD8lfg+mq6I4AON2G1AjOPR1BtBTTaJKrVhfjhD5Mu08lKFZ4a+oS8PuYOCQkYzItzQlCboq\n",
       "NxpWdVjItZ/Eu/p325MBkNa46hGahoeXvIrR6jY88Rl//ng5AAAASUGeYUUVLCP/AsQTZ+FGW+TN\n",
       "4oa5hd+wSeThABFtTUh91e74DiNAFRzNaI2l4GHP+Eyd+zRjA2dLMxAsbRtwH47FyfJfxWCwoowA\n",
       "AABBAZ6AdEf/BFF/DGVFrtaZRtmgp1euj3hDf59hc0B7fMwcT3XvzgcAAk4h1cJ80EnRDmALj44d\n",
       "GQbsxIifsBnUTM0AAAA4AZ6Cakf/BFPghjW/4V7JNuJ8BobJxYojWmlJX051s6XmH8BXrqIm0f4W\n",
       "yeV2lDo/d0z03TADWWAAAABnQZqFSahBbJlMFEwv//6MsAQ/TXG5MWvj29s/E7XANgqFcAqmw+e/\n",
       "os0PcuMntDeNnN3MIADTDHkDhBLKJKit2E+HwpTq1/80ELMnCU0xKKlblDbfeFdeS++1FztBVs3l\n",
       "1YnhPrAPQQAAAEMBnqRqR/8EVPexdbeywwSGQw/z3PCnfCZIG6Lcgt5gM4r/HrMKY9Wiid3HJmn9\n",
       "JhWFTC3lE7/YT2LNSD4rj4kBmdthAAAAhUGaqUnhClJlMCF//oywBEApi8EAN1lnqv3ip2qfOyOw\n",
       "kjft0ARaPUSjYj07tIxjuYAtZAVly+a5GSZP2jTl+B4TrIyEhWK0chwQpHdiAjlvNfYulHmpT0Do\n",
       "HZDFA87iw+aJZ+X7dzC7IJNblAXGvjHO0Igf75b+lzXaEm8Gn3pIz5HQ0uEAAABEQZ7HRTRMI/8C\n",
       "w9RzwNwRFf5sa1/taFcWYKVJ52OcyEU6unLOXiIJXziRMxSahWBubs6/fFFZym6kqLoiQjdDJMmC\n",
       "rskAAAA8AZ7mdEf/BFF/DGVFrtaZH/2P1FfFk3dO+igDHRN0UabsgcMsx4sJY553SnjvvjuICQPG\n",
       "JZKXhliJ6GtAAAAAPwGe6GpH/wRT4IVfbhOfqTeR8sJ0KFs7yJBANXZEKoe1dDK7voVJQ8SJkHKx\n",
       "sR5OoomQPo713ptIb+qNp7eXEAAAAH1Bmu1JqEFomUwIX//+jLANlxOcirj3vR2jstG8qfMW+v5N\n",
       "AX9IIhAOcxe2BGuDuDPG9NT5ZFTdvSs81Ex1I1bJbZDyXoIE8Hy1NDy1KRJViHfZ+IUf351KNY0p\n",
       "qWIpA3BAPy0j/aAnF2sSE8qB2VMypsIU30UtsUpJSxH8gQAAAEVBnwtFESwj/wLEE2gMUdY1B69y\n",
       "OIV8UpQkFVb9M2N5cPOkxe9pyeFvevRv9j45cJV6eU2y6l58rO9WMPBjqLWOWLiedY4AAABEAZ8q\n",
       "dEf/BFF/DmtofdLuC7/hAfIpLucDOocuCle6fvoW5nAAJ0wAgxmAzM1qsHksJPYqyP1+nFxzmK5W\n",
       "m+ELrJ9kp8AAAABEAZ8sakf/BFPghOu+ucxYTr8Ppc9BkCXGHmRH2DS8f/MwATZ4ZCHLEXAltyq3\n",
       "gCI2nWBiCiQSOIhGwpVolHmT1PeHQU8AAAB5QZsxSahBbJlMCF///oywBF9CMQqk32+xLHiWtN+i\n",
       "d2fOiMJh1yy7HvPrrMlbgZFxZTdOGAAVXV05OzTgZnPfWzunBaI1sZ+OqvkynFrSv+7vAlrWacJ/\n",
       "IL4ijwHWBOiwnwsyUovJHpAUF3F7traciLWntrmqaaO6gQAAAEhBn09FFSwj/wKyFCWtEtAOfPSh\n",
       "XWBzz0FIWaY20K0tXZCJX8duhynjr8Naup5E2waeO6iZYSVtCXRhYISNjvBLmxoMVdugVikAAABH\n",
       "AZ9udEf/BDGJGGkd/is385hK/DiCvg1pX3KPO6bPH5lqXs7wAkIfKJKdhv6qK7IMhIAXXH+n79HF\n",
       "i1eFZ2Kyjk3SJdLgqEsAAABKAZ9wakf/BDPkYetPaapnUTOpflOs01zXll45KfHMepz5cyG0pmnj\n",
       "3M4/oATRhk7A2uwGfPSjAQk+rIBsFfG5cA2w7VdwPuZyiM4AAACYQZt1SahBbJlMCF///oywBGXr\n",
       "hYtPQAdDYq4SheoX5+y2qk/VqgkkvmThJEs59y71pb+59Sh9ceVD0nvR9r2Stq31m/ld/c9hNHYX\n",
       "qWMrhZuITsdAVe2MduH6d4fE3E1qrlCQ6/wfe5wSDKD1TFhVxk4g71N4Bbm368QLIQ2VmHN/fkAS\n",
       "kX7UCY9bVCysdJvCSRqU8fR2RrkAAABIQZ+TRRUsI/8CuvKlzizo+6KDsBmEhTKLabpqnKLATJej\n",
       "oSV/MjiPFZ11QGROII5+YxPO9wDZwbfJAxWsr5jmIi7sd57hQ5cMAAAARgGfsnRH/wRRh6J+63EF\n",
       "mJUb0/JUeh75OBhmT5P/InJgvMQAmjACDGf+kFFatJSpS0kuW6gWe0Fk3pTMQitWtRkdrChFh7gA\n",
       "AABIAZ+0akf/BFPkEugi491yIllxiGPOBAdGLyQt9qVPnf0HgA4A3ti8MZ2/gh7N9zKIPMvFo8A6\n",
       "gr6i4ui6M1CzIoDiR3vBVUphAAAAsEGbuUmoQWyZTAhf//6MsARgKLgwA36oiDKutxI2rpv17FH6\n",
       "uoaDE06OKIxqx6YXUaR80uwjsBAasEjCpnMvXZYtDCkmetN0sTg9Ol4vjtg7IxRb8rOkX1bSBs5X\n",
       "H2qNgr31RQI2fvjPvITQH2qJKhfF5O8MWKdKUCi50XpJbbtu/SRirVtSZT8FETa9xEsbd9OtesIZ\n",
       "YeByjt8RBzLAYt32HksGPHOw9YUJMVYVi4hAAAAATkGf10UVLCP/AsQUIpPv37yQC+IWmQckv7qG\n",
       "2SYeyQG2o5P7VDpnqA7K9ZxLke567EzzW7woyR30QpNfwsnbcxgQcLf64l4c5aIKFa9ioQAAAEcB\n",
       "n/Z0R/8EUYkWKSBR9k7Wb+jalMXG/pqn+nQP2f+sD3Zs+/GxCn8Sr/5jqYK4MzW2y4/417kSXNYV\n",
       "PgQTJXWNn+HxBtPqgQAAAEQBn/hqR/8EU+RipCCde4xuTHvzbatyHEQ5w5zZ867RyUkuPxmqZGGG\n",
       "i16Ua3/43mwQI6vU7rOkdgmovMtHOWnWCEOtQAAAAIpBm/1JqEFsmUwIX//+jLAEZorZiWLjdAqV\n",
       "nFW6KNacKeABqC/HcjHdg3nDfUkxND1DZm4yjbm3nB3mpRS6FReR56272LMAp7ERTL3bQNDcpeKp\n",
       "2SUcf01cXVcOzMNbL99TNNt9uZZqN4SzNprNb3sKzf8mFgwoCjEtQVxHNdrYNYtI1ArMGGY4XGMA\n",
       "AABKQZ4bRRUsI/8CxBQi77Mk1I3aAB8E/QlgUNtTqTTnz0m51Ml1YJyABGIXCNCzfvqogjWSQ0ZE\n",
       "BJn2ovvRbB0irzA8gnGuycjjs9oAAABFAZ46dEf/BFGJGGkQ09KwDvEXgCC5zL329757iNo+fAab\n",
       "w9voIAH751/ecEQE4kF7wFIE8payfuDDY46S8myCSp1y2r+5AAAAQwGePGpH/wRT5GTtEpygFTc5\n",
       "0Lbisill2gY3k4atHc/Jl6D6DbFYX1tDynbUSwOunTDCOpdgYD8LZ3GYX//QEN0hzMMAAAC4QZoh\n",
       "SahBbJlMCF///oywBGApCdACMUu4IKVhauVXL4NltBpXpi9hz3G6tbplJc4XYdB2ncnLhQqwP7o2\n",
       "VUNhvx+Dj7EVmT6+lSiquQKXp7ysY4acx8ji6Bsh3LeqMIjeCnSuv+bzehfh1XQyTBT8nvQ/+/nW\n",
       "9ymgKN5H7FFWEBwemn66zQeQ401rImFM/DIeQOaHi/MPyQjpmch62I4Zk8JEVfuGq5qq0BeR3LMb\n",
       "EikflJbDOWKCwAAAAE1Bnl9FFSwj/wLEFCLvs1zLB8OHSkxFoCo8yTWrLX62HTXn2S7MJ1Y4dKyp\n",
       "5H19kYJ4HBzhbKEEp2EKVliiNsyT9xI5gLXBLpmAXYxnFAAAADsBnn50R/8EUYkYaR0wD2KyeF2E\n",
       "YQZZ7HavLr+RXQCmIV/J3yjr5kZRt6J2NfsJjDpcJcvDM+Lev5iWTwAAAEMBnmBqR/8EU+Rk7Q9/\n",
       "F6cZmyZOcm2T5EBbkZtoR39XZH6c6ekm8n/BVoT2ooJCg3fhhf3E7KU9EjQ5OZ6aPkEfn1JAAAAA\n",
       "eUGaZUmoQWyZTAhf//6MsARmR2ApH86AHHkKmwsFHoDvITAzep1JjWyCNMRr4onVnePmR3kag9Cg\n",
       "EOGWmIpjWBokkRw+GtSzFw5kjwBmKzoKY02+y7TKlFWxqxJfgFaQoqZWdqylj81AqqH4ZMNTrDVJ\n",
       "3Prv3vQkLsEAAABPQZ6DRRUsI/8CxBQiad1vnjrsxVrW845HHGvMxhi5EYiwXF3FyjsWkPh991ga\n",
       "Kfc4sqe/MYmS6J/uaNc9K0CdVVNkb1CdEgoP/YPwvURgkAAAADgBnqJ0R/8EUYkYaR39Y/mpYqIM\n",
       "iAbnr1pPr6h5vhXYOdrCDGl+VmMfbFQIeNVeaYXq4gXXPw1VMQAAADoBnqRqR/8EU+Rk7RKQn0u+\n",
       "iUmLGukJElW3Az6XWo74L3lG3ml0nZcQ7oF0iRXfdn1kXIbc1D7zCUUnAAAAkUGaqUmoQWyZTAhX\n",
       "//44QBE7IA4TnExor6lkAEFJ4V+ZYN17lU3dxbb3P8vVXYWPS6DZbFEkmMA7S6Nrx958F+FOyB0o\n",
       "aWEm2k/YftZGfZ2HLHxMEaksE42bR+Ex+ut/gtALq13s8qsjGFJ82LTntbX4QKxx0sY/LC1TxMiC\n",
       "jj3nfi97bz64d21KEJI/cdcXLoUAAABUQZ7HRRUsI/8CxBQi77OT1sjO5loAgY5IJ8AtdcGNgewC\n",
       "E3U0ToQ/hAkMHxUtcj+rep1mM/eNt/CFWN+1mKEv3Jvagj1eS+LUe6BSVAN7iDXmJSxhAAAAOQGe\n",
       "5nRH/wRRiRhpHf498gI5Orvy4/VbRyTuGl7WC7IQn7TOafuECF/nRj1HdG9nfONVXUVuxTm5oAAA\n",
       "ADwBnuhqR/8EU+Rk7RL/i0Vl4OCzZRdEApkSfnJmUcGIabs6QvolAVby5QTUQ/BvpB6aDS3pwJT2\n",
       "kccxuOAAAAByQZrqSahBbJlMCF///oywBIUrGlAdH2gBaRhtP1ugqEh2pKDnaMY107FOUbQpj6vF\n",
       "u1Z8iugD2Sg2jzVd3/xHNWgsHLkIiCG4ypw0LdO3flqybfDc53/9Xlmjk2oj4A+qqsqo0p2KWwHe\n",
       "nIo7VAQoJbFhAAAAjUGbDUnhClJlMCF//oywBKEb6Mfbm6y+id0Id2d+7PBi5NL8JSKsHaDCZOoV\n",
       "bfbOM7mSgE6FwbsOqR0NQY7CWJr3x+GB+DguXr/cCSkT3WXxrC5vIdIA1tcvTskd8PaYEc+IrOxe\n",
       "WUbWZE0P2Y8KP1G//eaFg9D6Ya9aToRdLpxGpdpOR79kdxxrKr8bIAAAAFFBnytFNEx/BFR3nC8E\n",
       "xcq7C9325XC/helZP3NoNXl6dxYFBje5Dfc7qq2EnfMiiwG5cT0SY+OsVr9o0n5+cWRwDutMFkHX\n",
       "5PMFVKvk41o5ojoAAABLAZ9Makf/BFPkYdKQQvtCWLQ6QH95UYsQd+ijxT+uk5L9U4r1TEAJowAg\n",
       "scl2HXLgQxZ+5vECDqis4+oMV9O0nRC4cAkjcJEfh9UhAAAAjEGbUUmoQWiZTAhf//6MsATAHbtJ\n",
       "OI0AHU1RNT0L0AcufLV+mxm021Z/WAlmbicWmEO4tMhQNW1JQPOfm8o5Zryapzf7NtAf4kGcQKJd\n",
       "9Q+HOTtvRWa0ZqEW0zwgFQOcT0O+VQBjjh6EG9Fa1thAXt1pGcLqulXraLLr5G/s8dk1cTTbiNjj\n",
       "cI5fN8wRAAAAXEGfb0URLCP/AsQUIpWqwcKIC9yvGt4r1oVcnt5OeCjbiR0MKGw5fidMVxxYgBbg\n",
       "JG06tatjQ56hWAwV6ginQQlrtULQGDMEqBEErW4aEeF5FQbvfV21urIMcPCBAAAARwGfjnRH/wRR\n",
       "iRhpHf4+HBfJi6IdEr5sJf564YulRXc+c2rAJLIrhlUGeCsXzwx+p9w66TCSbOZvw7SDC0YrMwG8\n",
       "iyLcsOBBAAAATgGfkGpH/wRT5GTtEv+GPsmcIWEuILxKQEyEv+P1qZ+SNe4kAQAPkLjec7mQLAR5\n",
       "FLVIYPXmPIeKN1mSIxWaxhAO0kDOztrffQh8yT4tEAAAAI1Bm5VJqEFsmUwIX//+jLAEZkdBb6ZA\n",
       "A4qv9HRhPnz2sRv/DzNI8QZEqQ17q86peUX/GIUB70FMHgUJnA6o6gi+LwDS2AwcIkPz9wb+cEKr\n",
       "UPUImQ/O5b9eGIuH+57An52hhEQQmrYlU4PoJh8NFgiGFDoRwEu6e+XjvUHS55Nbt53dZ58luQuh\n",
       "Ky9tT40AAABhQZ+zRRUsI/8CxBQinFteHMRgXGW4SWfj3Jwc4dQyVtqOBVs6FcntgFGJqoBXHfGF\n",
       "faZ2PIQeUBUdzbBHlCRVbWEyunk4bg3mJVciS6OMoEtEwote71gCfsYPoCdbIvm7+AAAAE0Bn9J0\n",
       "R/8EUYkYaR39KdTACm3RxD6q8XgslROgPfRPj0cf3cc4oAJg0NDd1ncy/XTSVlSC0VRV2yQ/GaWn\n",
       "oPbtoWPFy/iv/Z/UrXlOaAAAAEMBn9RqR/8EU+Rk7RL+SxqHgwL29K4hXtkbohmlQQHrowG2Vhso\n",
       "wrKzG6phOUPcee2AOHZJf9JQICZsGwH9CWdOdGCBAAAAlUGb10moQWyZTBRML//+jLAEZpEUDf6t\n",
       "EAEeQYcKRuggtLz/1ssdXmE5KitTqoF3lcc60dsY/DteONcDuaLcbZ/iLDQtlQNjx3Ocem90B5GD\n",
       "Ou8agMrpAaJVYmQuTV8h/+uuHB60pKnAMRc6heTGkVB2L9KEGI0AJztgAYHwwOqPaULLagDiufHm\n",
       "ATtqPTJhlcD7VS8gAAAAQgGf9mpH/wRz4XWTtGLK/+jUDGQmnGIhR185wrOibfkk8cruvm7z8hRo\n",
       "o8mUVq8QnRAYv/QHgSxRZPefrQYmigQKKQAAALRBm/tJ4QpSZTAhf/6MsARfMzvXXvH5fgCtiXXp\n",
       "HfBiYhzSuBOsVsDaYEmNiug8RNwaP6kX0kgnR+ykDQSZZzpAaVWV+dwnjGTgCN+rpTJKkXZKFTKI\n",
       "GKz2tl2G2z1kbn4FOL0Ech6zMJBdBlcuX04VNxiqrxkDTvumY4H+Xbz8QALRBXshPKeC6tCqxCz4\n",
       "2bNI1UXUrUZglr3FjBTfasg9GkkYCTkKq0xQ5uQLr7Ju7Uojk+kAAABpQZ4ZRTRMI/8C1hNIVoQM\n",
       "ZTMVx6uXF/R+laRmCM1Cw0h0zSBEyCgsFsb24CyA1gZLSs/zz8CqgO3O2JwN96TQFoMfz9ip08So\n",
       "lm4Y6REWlp9UX3rB4swTB/TXkFR0tWBD0PHnJgOA9P+YAAAASgGeOHRH/wRxfwxlRa6ln1I8Vt4f\n",
       "AMOR80a1NUkV3n4HumHmDALklFnUCSYXfblPYCyoALE5fDQsrIPbLuTdwD2imAEDtl5Tj/nRAAAA\n",
       "SgGeOmpH/wRz4IVfbhO/ESx3zG4WcZlzwd1WpfYHg/GLNM9oEOYPaiG3MRvSt97lempgT17x5nUK\n",
       "JsLpOtui3nLeABD2+B1qeyaAAAAAsEGaP0moQWiZTAhf//6MsASn6Ex/vmebnrWFt3E0okzHlvR6\n",
       "Jgo1eaDHQF7T54UvpAqZ3FeTwCABcvD0rts9g5Xw6F7PIF+b/LPmXI+5HrrIJLHpP5WXpRIuNZ1G\n",
       "3HSaEsF1yZyTKARyS0L+yF3K2lYRG2qISftsMr+NvVZyqyCwu9brle0dzQG9zyBo7OoECLjjEotW\n",
       "5tq0OkoZctCvkUuCqHzFooQOlr+CcVx9Pj1BAAAAXUGeXUURLCP/AtYTaAwdn8zEC1ykjZTrr5ym\n",
       "uV4WKCXpmXIBp3QkY2zzpW95zPquyLc7t+TZ80gd6nyXbqpthZ7x2eDzAA2z/tsRqdr3vXUd9F6S\n",
       "6gV2tZlEdUzTnQAAAEABnnx0R/8EcX8OzjONjzAJFcjfE6wH/COmEOQAszRkNtwkmI3OY+MXU2W4\n",
       "EMJmBum+aDVAGlgfoE4rRfGHGbsEAAAAPgGefmpH/wRz4IVfbhNbS/8d7Wxr1+VkLHZ21EBclSp+\n",
       "1B7tRIMzq9CYM5fvInO4T3b/RfcSOFb1K0OUfXlgAAAAkEGaY0moQWyZTAhf//6MsASFzSju4lac\n",
       "E0NFjoqQTVKhhoW3D0LVWvdanahEt3/4nGMzIukzkaEn7//vxa3OC2dxH0ZjPHSZltTJgc4Fxdkf\n",
       "nbyVSdtX99QF3IqCrTEZ2zDcCq1WGHxoDJTKLKsH/tGnYoHjrXby1PrJiOA0lJuubCr9Fa4Mwur2\n",
       "vy7cCBnUwQAAAFpBnoFFFSwj/wLWE2gMPU8zDXFyf9Fib3av0UxiUezLD2+Aoll7H8XMACdqn2Vh\n",
       "EJmEbAMTUYpKFRXHjy0GIukTTx0FgUm6wClU8Wp08Vn07OQKWL62DRc4+7gAAAA/AZ6gdEf/BHF/\n",
       "Ds2qE7pj+JAcb/+IULUcoEqe1YrghZKNhoJocXWVQk5EJkGTxWY321klo5rHEi/n4ZO8qRWjAAAA\n",
       "QwGeompH/wRz4IZoO2rThF4zyOagMZWSSOYsHlBEwT1zaBnexJkQRME9DoZh/3BcN/uzsvnXisJ8\n",
       "OTPUsRroczOuISgAAADFQZqmSahBbJlMCF///oywBOAcbSTj1OfQBfvob92FqGV7mg7vP0Xpt0VA\n",
       "2DbQMWsnEBnXXgseEW6T9R3xIIjl2LQwMO1ZvNs2VdbBhfV6ebzRwsdHDWre9rRYH1SnS4sZe97n\n",
       "sNUi8ZgySCAHUYhkc9Ogti4GQaLqz4K9A89KxNOrx+Lp5lVk6fHjrp2McE3qN5eP5FerYBQkD1JA\n",
       "KXIoLgDreKZSx650D9nhc7+HfF3SFex6F0LuKAq8/oCIDd9HQw+9FcEAAABUQZ7ERRUsfwR097G2\n",
       "hJZUjE0kmEujbSrCNyi+w4tg1Ds5UO3KuWnN9PfRNhuNkto+wlULECQ0p/349P+McF8o/+IHMFlY\n",
       "3DfHcdmkYrWpHk2068b9AAAARgGe5WpH/wRz4IT7iGavox19mTFcEitsDjAQtL6pvGMMER87YEzx\n",
       "i61f5HtmUYY5/+nmsjo/uxPoDPvHcAK03/TYFkE+hFEAAAC2QZrpSahBbJlMCF///oywBQVpaW7L\n",
       "Y7BAFtkSZjeNG9g5uiL6lCHfyzaeZWt8klyBrNNOWoN+uD1zdH4Voj1I15UyOyZ6CpHgX/K5+phi\n",
       "v+6lRH2OWTRq8oI9DVfoHvJAsGORcKPConB0IMcp+i8LIlzif5CIBsrQIIUy//l2umTmqXqyAIjP\n",
       "aXLzaAP97kOvrErNvZmW0On+Uk6ffm8VwHyzf5//3DvDu3m1THtWa/57q8Sn2NUAAABWQZ8HRRUs\n",
       "fwR097G2DPvhGQLZphdsX9LfKtg0wvyEJ3uQNlW+tkLkRDIDFyrFya+a4vk/lYx+/dEOMIxIw6j6\n",
       "0VhW6U0inGQ5qR+zNCzUNJXspZfVcIAAAABIAZ8oakf/BHPghmO917nSdkmyxSiWTFTZVx35J0ve\n",
       "kJwGFv67qVOeojP1GherDBTZReKGCaY1JpgISBJskNekiv3aOXN2bDrNAAAA20GbLUmoQWyZTAhf\n",
       "//6MsAUtaWlt4Jn5CAHGcpJ2fvxWv9MyM0h5i3RGtrgwy2yLxhWt9y8pBPEpns5nZ/LjHfrVj7ll\n",
       "smGfdCYj+uQI9CPCBtqe3U3wNr4dBMiGajl+KAq8TA5Nvl4niZvwcIuXa/w9+BE/94mN91a3RqUF\n",
       "z8ZTyiLkCWxCfJuVppBy+MRC1ktTQcefVv2hajc2hQH4W+gdJZuqFh0hGgYagA+QgWoyECRue8Jq\n",
       "YsPwQK4M5jywKvlGi7P3b+AHBDZjCZWAdUO1FkMl+Xzgu13TgQAAAGlBn0tFFSwj/wLWE2gMPU8a\n",
       "t7gK3+nxysF3wM1DmysLINtcq7zqsx/2bNkr7YbPncOPvz4b20Mg88v7ewqlQma3lh5SAP1ERxlR\n",
       "F6ziH/N+3jvyYcuWFbfEOwWw7Vv3QFG/5w/5mymK9EkAAABLAZ9qdEf/BHF/Ds2qE7vxggmE/BJO\n",
       "D9mouLsDESnvMW8R26BP2eDX67Uae/wVKtgh0ZgNrq16/Ljkg709BbxmaBe+KuUoYpS3m+tYAAAA\n",
       "VwGfbGpH/wRz4IZjcaJ8vd6cDJs8Z6SpPHJ/5ITqDnYwrT/9GfuJ8EWCuIUz3HXikAA2esa6EgxF\n",
       "pa4WDkpeDk865IK1TJoZlZQDj1BML+MtvYwNhOgFNQAAAPxBm3FJqEFsmUwIV//+OEAUU+jWeNw4\n",
       "5Y9YIAOOCI7/MT+qE2H3VEAPgisss08uX5Can2H1zTy6cQA93ogcx0vgvnNFYpDew6AAXuD4vnDG\n",
       "ybf8ESlnqOZlRukI4JyLYcKIYViVf1XfKPp3MsRrbqLpRmMnt56qYrQ9fpvhKotsr8+7AmbLieW5\n",
       "IUrrbdIfqkEAbgEBUPLgZk74ZSK3IHXPGSq4uVlxe3wwELgqzVO2HMh0WpN5zZKWVCli5wjdYosx\n",
       "8w83+/6uFFruQDLD9k4eSoEIpWB1j7xYrNb1j9jz+kyxPhZaEl8rn1IGqz6pOvdGC9XC5V3CLF7k\n",
       "UKEAAAB0QZ+PRRUsI/8C1hNoDB2hCJ90rxzpatJqWbT7aMMk6oU9V8ukXJTKMUTMGPRSNBvLp+u4\n",
       "jddoKOZI3wATZedVPctJRxDdhudLNwA3VEhJMAj8cXnBMr80Sk7vKMWJy6Yz8n6OKl2l1PphXsxc\n",
       "wQfzs8Z9cGEAAABOAZ+udEf/BHF/DsVTxzN46ziMG9V8OIPRDNPdBqUZK0kSSbbmznTIrZrIqc1K\n",
       "ocmpyq2KF8qjG89gc/QtTtRrD7p4ghv6I4fq2iSC4F/AAAAATAGfsGpH/wRz4IZoO2rT8G6F8squ\n",
       "lR/pcDXrsj5lCWRYv340YfYv3in+arXjVkrSC6dVS4D5PMDOEYljYQPd3Y098tOwx47SSVTiCRQA\n",
       "AADvQZuzSahBbJlMFEwr//44QDX8ERSBwZ4Qnv8ADjMGB0v4WCKyx3Zw7+OjThE0L1A7WO8oZP/M\n",
       "TQAauPub0uqOa/wiG07ekbYQX4f27TOkynBn9wBJYTeTRQDHUMv0wJBByKzrg2aoyFaj9av1r09Y\n",
       "LK+MRBbbQqpJHHMvW8j5hx1jtsVvxgzYHUI1Uga+lWoZLR2JXHvJwa46k2opHXjTQBW0pSg5vJPD\n",
       "d3Butd+L5oWmStlTkwFtyiuxwg3puX3zGIyiMTbN0JyejE5o+IFz78GmMjo/Lii7Y1s76LwjC9om\n",
       "Fj3NaFCzdCvqYP6HuWEAAABfAZ/Sakf/BHI/5NFSR3RXOFAkcgAvJJ7uUMCNxvw2GzGNkjCUsH18\n",
       "bny2MiKXTe6raPbTvRUbKzWWdEIlgecheujlfYCb4jejv/v7r7v0wR4xCnTjeBTZ/f74mTjS2tAA\n",
       "AAGLQZvWSeEKUmUwIV/+OEAVrJDPTVFzBEUkAz/oS8YaSXb/3/q1K/9hB2GnNHRs4UKpM+//gGIa\n",
       "Lk8YmLoTBnFjsCHoczhuHuHanjwQJkNJt9N79zjuXPru14YQ9LzLOxJb078zI/iQJJ3/bGsIdmPu\n",
       "FZXFDg1USlkTadkFSvGcOnelip2w4AZ5BAoFIhRwMfGo4GhFTPjuKfm3uLq23J9Aet5HQl+Jr1wS\n",
       "iC0PTMFAxCWZ0+tNHAsHguoKKZSbIuKHROLGA0oS+S83cwGxjGNh7BpL0cMp3uNth3LucktRAOJh\n",
       "O9E0zWo96KTAJRPQBcLsAreCqaIH74UCm+nEsNSBEdpyID8CTPxTh2OLsfIWOB1WtjT41uOG1y5h\n",
       "iDikIEAXkQIWSUqQ7ksv4UsSiy4gWhuAqgW2JQ6Cshim/pWzJvP+iOlMfizk+pEHyM8tu8FL0qK0\n",
       "yvmvefsArb9qMKbxc9n+n5KKCtTS+vyhKCflnbE5DA0l0+8oP9+IVHjBEsxY/oBJbBgv7bu1cYAA\n",
       "AABmQZ/0RTRMfwRUd5voBSfsxYVJQ53td2GyDgpWpOt2de5Wc0LYIGyXN5ORCO+KBHeJo+H18qII\n",
       "HotJ3eOES6+TjKTQwa5Sq/k5jpusIGmeG5wYu28UMYI/2VtXILGKYNuFIYzOhm2ZAAAAcQGeFWpH\n",
       "/wRT5G6P+4zVWhNnemReYLnphOUGfidKWI7+OEbzXG9mfTRxDsMAB/OiPfSL4vgzR/DkCwnMv7Dt\n",
       "ZN+XJcqYaeqKAdeIcfSCAD7Vh96Yex2X5vgFwbqXUFC7CCYKjqNrl1SyYqE4dl7eBpeAAAABKEGa\n",
       "F0moQWiZTAhf//6MsAXe+NzIB3h3FtKUdd1YAhtLPEFABLRof+86tgBq0m+mLtopdfev+C+jsNTS\n",
       "KUN/OkaedVPfSrhLr7x4qtE/2rkKq7h/XOphEiQQe/n3cOx29B91H+pxs7js0hYaDsakeK6cLi1Q\n",
       "OtPpmbD5i+oesoU3ZT4ZDRXsIDXuyJ8OMGYfqN4w2lgz9QaAHEW/AEH6zwwGxFf2j3fw8LzRMAY3\n",
       "PYq7Bm7yj5KDA8/Yq1ybCnjTdiSSnrgJPw/YrAuN5LYPEfWb8ksLLh+ykkR1yAAiIdI0fQucfB/E\n",
       "m/cHMYswF0J4chQziEYKZEQYhLutN9pvLf5JmPGw0yToDykChGMiajAd22GyWzFGb9+nF8Fzxhoj\n",
       "WTeIZdkhpRJfAAABjkGaO0nhClJlMCFf/jhAFxltc7QRAD4vRWwBEUIepMCn3518vHJuIuCQb+CE\n",
       "RrRQbTMNi3/NrFsGBmF26M9/67VFji+aLWR+3Gcq+F/0S1JrtB+4XEqM46j1AkfpnqHGQLxIhqxK\n",
       "lKCRZhZSSNE+e6B3P+bYkyL1lup6S6r0quP3v7UxUqJyDYG+PW8dO9hg/U8fu8oefjYmzEB9zhIR\n",
       "OG5dNqNCMlgvWol1vAZuOLOQPuud+4IEH9VC+SDMS4D2GQpqrwZe6R7k8YhNJmwlRbHlisGLFu5s\n",
       "lhKWcJ6Zk2MlnRvD6O4SOI0Dn218E0/mBWOHOr+RwUCPu3qEty6kZiT8vWNVdRcHQdByzsJgEINO\n",
       "eqox1AkNhiOh3NGANxWxgOb0WxR6hoc63ufj4R5KnR6uU7OrfJowjTCH/lYjmwXhV75QgmPy7JzG\n",
       "RSzaoC2aep4pzE2zP9s4Ou7d1t0z/OnIzriOmrskFx09KC8YpoIUFlWB3fgVErQeTjnNp10ZbIQj\n",
       "u2V96IPJ2fwikrpBAAAAbUGeWUU0TCP/AsPU9TH/oisVJCD0KtYL+lPL7lSTF9KeolmtyGpwCGbE\n",
       "BG82sgLdIhNnDjdIft+tEFVTR2sRPvmo0q0xFem6tCHxJLv0j5UMeTs8YRV9Yk/WP6ufTgNVow9p\n",
       "HqzLLcFVEYrJd5kAAABkAZ54dEf/BFGJKxLLYt3Hwzmh+3S5aATaHGxwyl9JfB/geguDOEwLDMan\n",
       "+q5qR9vGDB9X6m322z0ZX1v8u1meT0YLXSV0LP2DJ4lEmG3lN6BNw04oPkPYQp664i3qu+PPkGmi\n",
       "6QAAAG0BnnpqR/8EU+RxxfU7y3tFDcygztGeqgidODkNL6Z5gIGloGR/gv8GCT41R28VxM0sf/RQ\n",
       "AQ5gWLlquGy7XOvG6RrH58hIbP4mVpECUhhX4ZQr/DgUK2PYL+Gc+X+R4YPoq8McQiLD4NBIE+Ng\n",
       "AAAA30GafUmoQWiZTBTwv/6MsAZOWQCPjJpD54p5/RwWWdVZZf3eapWQrYG22iPZsACV2HMk9WSh\n",
       "5MFxNjRaxg5L9P/TRkiQp7rDtU24lIMgH0C1Sedbrd5p/D8P6LJw7jmnZiXEQ54fF9ZDUZP83kym\n",
       "BK5Yc15AiJen65OUjupNUh08N7YxZYNkPIYx5Csy6Y1AMMAHBaedxLrCuRgYIa4Hl+D0oOprhLfu\n",
       "vX6hE50ETeVHHwaeVZBKvoAQ5sT0JI+nxuRFcTx7yUDr0j+hBAZSaI579YZ/pNSQYTTXB2CsLEEA\n",
       "AABbAZ6cakf/BFT5SjSY1kqUDPHEv9Jkm8HwMUjQiH7vynAqBr8eQibJ5IXLGnb/or+ARK+rN27a\n",
       "ti/Ix8C1f2LzpiRakyOCj+QgxSpXPTySn2uuwVltsDmaIu+MxwAAAO1Bmp9J4QpSZTBSwv/+jLAG\n",
       "jVLS0USzN7/XoARdvI9FB3FN+ubC0jkxSYoqN2ekXSZ8nLd3DOg5hD6+2RcF8DWpV4MXp2JfSIfq\n",
       "tTlniICRD866bTKn/MX6qTV32G+mJ3jVpeNl4sQ1ufWFsOjNmmUdtJJ+EeL4WmldoZlbRc//pYIy\n",
       "7n21oWCAeTp1Jroi9t/vLOybn6zjSKf4tMdW/vxEw5svh7G7DYA+w4kUKD10+IBiQf25hYXxyA2y\n",
       "pJkjBq49PL3KeCJJuajypxM0RG8HxPOwk0hHregq5hQQSqNFlr2NbWI+l9mvPPuw0swAAABSAZ6+\n",
       "akf/Akorc+k9VI7alSyADlp+pH6SmIuBsBG33QAmazFTDf8FvVRzVn9J1tn2tP8WYkeMoqHQGt3h\n",
       "flenWRKpz52WF3uzCFdjcF8pzZQcxAAAAQlBmqNJ4Q6JlMCF//6MsAbPUtLPb4IPXttSAIlNJCyD\n",
       "sjcNxmpLNnci7NLhszX1yhpdGsTv/793wqWjXxFtH9DxbXFUcsBS6ocvkw/EqBkpnZlg7Z3ZyxYF\n",
       "THMI7+xQUow00gtvYqtJFqTUSCoxmtOr6vunteo9JVv3UP5/sZTwAT10jHyEbfWaU2Vh5o8zgO//\n",
       "OY5fMTiuxzUk5jMVxqZx1xfNbq/EfCewQx451W1O55Xp5llN+WeV3Q9bzCP8xBIkQ2gS/a8MroE7\n",
       "9wNyotpdAplEgGLtq4DSfJXwvTi/YBPSgvN+Yi+Ybq0P4oEJIvT9lwvYA7KSCcV4Pw2k9rbOgMee\n",
       "R4sbzsSZAAAAaEGewUUVPCP/AXQ5pjVIdl4dwyfKFOhdpDRVoN8eBQXmOSX2rGiu1K3KQytoazzv\n",
       "Fig1MX0JOrGCaOgvPmfZBwg6jQ5nw/Sdx3XYHXMLEOjWO0puYYdKpavy/0SDkmupxgMfZB6gVeF3\n",
       "AAAASQGe4HRH/wJLf/WllM0i47RrWVt9kqUU756HXS369dVOPsjBMIsMN6ettF+FZkq5lGN6L3ow\n",
       "JWjNhflAnamy6cieeKb2EEpvyIEAAABIAZ7iakf/Akl8M0zRYeGcSEE9xS3NGNsnvWaL7EDJtQIu\n",
       "XH6gIUxqs/kMI9U93dXDtOL/+kFpyhCa+InpCTQ4aD2uCz5S25C1AAABXEGa50moQWiZTAhf//6M\n",
       "sAcbNbmI+UH8FM3CJdShMtiYvx2ems9KEaHV120urexN4kVyvOSz5MLVkle/B7DOWAK20v0a/J+t\n",
       "nM2GiQIF7AJ1u6lqWDhr1ZitJViPNYYn91SwjFE9R8ckvi/jMW4isxVPhzpKexrc7OEglX+WXA54\n",
       "m62/2miWXyeIQZZv5LHUdeG6RrxoI2e0qjDiR3Yg31mxY8geNL6s4NE4auikPr/7aENETmnidPq3\n",
       "bO+d3bECb5vNyUKdgNKFK+Nj1xb4Myb6SV9i6UeiFHFSScxHHMt+kv/IfHlfMCp7EJLTq5idLz+l\n",
       "71DTyPbwoxL7Vqjcvu+P9acJTjj8KYAGXkID3mhg6IkUHSuSOPNoRMHstF2udwaVquiaF7jR+3Ay\n",
       "UHBCScWVuYYNCij+sKtSUr8lOPGZ9eJG/6fZKclY04uTGRyvr3TPXpouQseCmwcp4QAAAHBBnwVF\n",
       "ESwj/wF+vhY+nXDEFlTgjpfE/qkrnXypB8OcF8AxqPpOUzwy1fut4mqpVEU58UaMVGjvVpNJwAmp\n",
       "U9rDEGcPlgY1FQaaGFX62nQzB4p/Q/GvHK5DrCzQgkmxxxH58YswIiZWZdj9Iun9x9t/AAAASgGf\n",
       "JHRH/wJKA3asGJPFnP7LyGGVvDd3J04p4shvEZ+o0IiFdAIIGP4uN55TkzKkWCRWgq2MGdXhPV6r\n",
       "VdVbC/ZOP0jA6IUQDIFVAAAAUQGfJmpH/wJb7se6fX2XI3QPLwK9gIAfzpzlvnrIzsgzUq2FpqIQ\n",
       "KSXzlO/I9Qjj9ykUjoGI4q3kKBrrlrBqje3s5UJWWDhEnXQtyeqMLGyg6wAAAN1BmytJqEFsmUwI\n",
       "X//+jLAHbnG5hxG8GwxL3kkzogCJJcj/N5GZ00hAaByTkDS87hJdIEm1jdyjjSsohACvef/O8Gwz\n",
       "sNNl25euW5urRiaChCaKe7J9YG+IzV96bnMSUXd2+cA3XaF3Oa5fJobYvJQ4yfQZ/V+9klPUWfpz\n",
       "9iX5wh0IKXxMwM2M0xa4DA1Hbh2eEQH3sGxBy65QhBkT8FeMm+3rU6SYvpKeGV7Nvr0JLG4lPqdp\n",
       "iQuQtLfaFXiXqlJTQFIVWgx0kFdsN9f3FjADpXz4MyHHw6C1Ap0XgAAAAGRBn0lFFSwj/wF+uYjW\n",
       "iY1zH8z+pqFcnMOm7IznXX86r1KqjwyW5arZeoXUU3uaX/rT7GVukLjYyIEe8gFYvgTtjhrqCZI/\n",
       "GOslsQ7LxIa9Y6uP/CBzi8scAByDvbnw4sqoWimYAAAAQwGfaHRH/wJabhuzP1EH8fqVrVLpykR+\n",
       "hsH2nK6FWJf8SiBL5a8ZScvkuLM8sM0wD1ejxQchkUXMGt3j3XkhT+1WSGEAAABLAZ9qakf/AlsA\n",
       "cyh5KmWhZ8iwD+mq98JCGac8vMNlGI2AUD9COMwRZRYLeTIynpv+aI1P/v7zzy2ZEDPm9GxwfgOC\n",
       "LAumErJwlMCAAAAA20Gbb0moQWyZTAhf//6MsASlYGsM1i2CJeX/gbziUtnTbt71SuTEWvyBCvrt\n",
       "FE+M6iopZk0vT/VJjeof3wQzh7bafF1uvdIQXJxG+UwMOxX6IPbNomrvwj8fKEfuZAh+jZevUEVt\n",
       "rGhodHe7mp+CKI5npi72nMqP7hXF+He8hjQiXPlovrNBeroTWCkuJbuBggDbrLbPHYWhOcRGqzl+\n",
       "L6aWTDdbIoTyeyDfPckHnta+X50XQbQ54ommz/OMZNxhi+ovrakt1OoLJeBHxw/stHgccDIPEwv1\n",
       "pLZtDAAAAGJBn41FFSwj/wF+jextJm1t24m0JRZTGb07mCuP26l6R5ytDIwrRTfG8TAKUaikDUoZ\n",
       "hsAfNTIt29IopWle1SV8BO+OK6FXZytYkCOQjzadfbY+BpjDki3NyMR7yPmRybLbbQAAAEABn6x0\n",
       "R/8BNV+lnoEM9V+kxnYQ0KVH074B5ixHGuiSMQZXoWeEPhOKF6imXl1uODmt4059Thi8SEJAnjNV\n",
       "GvLBAAAAQgGfrmpH/wJKjmj8l5+UiTvo+Q7Kszj0h1RnY5l2h2h9tDU1c2At9J1URx2xaAzMZMK0\n",
       "x1X8J5kYisOtwi9PeW3lgQAAAQFBm7NJqEFsmUwIX//+jLAEpWBrEPbAHE2JeBI4WnDespHcdAkW\n",
       "7UUqkwQt8X0fV/wN9kV53MddpXfigKvEwOF+F6Cn5aN0CdkkP2jTocjTfYDrLkHEAe0Q56VuNCku\n",
       "cXMJrVlFptBK9iOV6TiM5g2o83YlhreJtZ2DUWsKf7IkO/6+IF0+gMMQzXVSQ7p+glemP05+nDJU\n",
       "wTg+ykVWzgDPSzacnji5kv/Pv5evWQRKZ2Cu4WOTgaF9+BcyAxXJRkOM16XlYtovR1WIC7ZEHVdR\n",
       "MWPzgMk6naPYWdw8KK/Cd15OPzgsTdLdQ+K7PiM8M8+oVwDqdC021iNDu8r0IUBQOAAAAGJBn9FF\n",
       "FSwj/wF8oevSxfr4KU2+y4WNXQpl8SePX44Cv7yH5yvdqsuBLJs2qr7RZfajOAvI0eu8QsJJclgT\n",
       "CMheFKzRrohe+DatgIBDXrnxUrLq4bLNbzzARyJ03BWYrLLu8AAAAEcBn/B0R/8CWq6exFBtndw9\n",
       "mvYXVm1ntGEbK/uhR5gHL63ShEwfG33Y2CUiveOsR42ONPZobhzK5y3ZlT3XNL+Z15hnPrm0YQAA\n",
       "AEcBn/JqR/8BNXkuqWVq4QZkDHBrD3Kp6EnWlLJTM3zXHD127zYQpkruZVkt5e6j0J3/vXXrQEtW\n",
       "NHYkNzUesIz0hodEmDRlFAAAAOtBm/dJqEFsmUwIX//+jLAEpTG29Q1wAI7kcNUekpnA05JMH/xU\n",
       "qjrda0zOjXMbEW+ukB512ptnk5qlAXsiCLtXCw6NV0px1v6df28/XRJcPcoqGpkXMErWMdhWM+AP\n",
       "vvtoH/eKX4ZQmmClTmq0qyq60oxqS+NKOmCTIDiBeJEKUWZExzuXUDdKUHwiAAisxH+1L5jPVzBp\n",
       "sTivNFl2olpYhBssUp9g4sz1dP106eEBCBIy61X7A40jp6VylGwuP7zqPdz5VNBmxPceK6o9HoAt\n",
       "XJR16bXyGmIqDmuHu4NP01HaXM1imlIo56qmAAAAU0GeFUUVLCP/AXycv71XjKVKK5iSIeAaXZLt\n",
       "vPUEv5eHkcnkg1ACsfYrfHRu72hrgI0hYX2GxHnjr9mWgytYRz5nyWQfuj3ZsunrjqbPH0NCZBBf\n",
       "AAAAQwGeNHRH/wJYTcGZY8jCrTTyJhzFbqqgjHpIP0gn+pSR53KZDxVxp33s/pjxDPxWZ6MXC5ap\n",
       "btFNhBNpDVCD1GVawWAAAABHAZ42akf/AlxyEQO05uJScJmbMjvXgdl/OkFjTqES+mDGrBx6chjP\n",
       "LQh2VjcYPvxAEZhWNvdlmocpyVGHCBukaYB61XYSsFMAAADdQZo5SahBbJlMFEwv//6MsASfKEDi\n",
       "jWoAjgAusYoeBus0b/4NgJ+JdG6HSchWA8ProJSwv4l/kRfCgjfYm9qaP3lMreInU8lyPaDHaDk3\n",
       "H49f45sqtDe6HRhR4lNGc/kQXMCzyM9lEQBoYzR4TmtFUvFfUhqI8gU3RjpOaQN21hs5ERHG50iH\n",
       "J5c7YUY8CAcQNHH0NbF8fS2hsbiRWIXI/aUF6cHVFfQ97wDOxZN/ZADrFPrnG6YcZQPOhqOnQ1pe\n",
       "vn0Z6mEHk8EFpQjplm/HlJthxj6x/d2KRPn8cYEAAABCAZ5Yakf/BLT479bKTsMxe5B1HfPzBHlh\n",
       "sTZu1l4T7X/Yh9EqbdtvOjfyNJAPANTMs+zhZsZPCQLw6A/ONd81ZK4cAAAA/UGaXUnhClJlMCF/\n",
       "/oywBJ9HOocq8dRefM4NXoA3P2xGr/AUtB+D6X6dLGZjWJN0MzywxDv1bWxjCeX+z9VFD48MIZMR\n",
       "y966UhSi9r6deZoab1JACji29S95NyFbGMW8QevEmyMwKMOhu7l2Xv2bgJmSurE8FsyGFGQcxWLs\n",
       "fLedGEo0JVPh4Ut8o/cJLi+Lsw46sQmsCBqhmdjQQn9xWQ2DadFX6Z/ctZRvmZwxxbH3K1upEE+/\n",
       "OLk8Ozt55kVRfyINbBnEx+ea8GE52QkHace7tk1pVD6abInRqDk/2IzJzGGnSEz6duIjJRcVlvUJ\n",
       "5ewoVAYUqPj+yqPCd30AAABOQZ57RTRMI/8BfJv/YA3piAFSuSqa1rcmOcSKQILfUz0ucDHccGkw\n",
       "SMg7ccvEef+AlLirEp2FMponQ1Otp1dwyV3U7kpu2Mj3Lct47wxgAAAAOwGemnRH/wJaN4Grgnw0\n",
       "KY9EZSQE9H3ICR2rf7TdPoNlHWXv3uuaisL8ZyqSqUHpJU1pCuDdaP1JJUSxAAAAOgGenGpH/wJa\n",
       "LiAW2KLJK7jOp7vRfqHfLHSfoGZXYhG5/GHLILUNleeUZE95OMKGXH4lIH8GOHXcmVEAAADQQZqB\n",
       "SahBaJlMCF///oywBJ8oHshxN+0OZA3aV9LtxJK0LUAUoJAoi1nE50FcMymQM1B+0Wcw2RZcwpk4\n",
       "bJA3KcuGIngIfpcZtXgHx04olwFkGdPNfpfonbfmve/BMkH08tj6pjIVrVyUdTv890TX+rV7tYzF\n",
       "otTWin51c5Xga3YNau0+cROz8JDeEH3qycb62vKxgia4KZu0ZC+WOO0aD40xiWfsX5qLfsPTbNVM\n",
       "3aUihKI5YC9+RoSi2gNY7pHOB1qsIk2Etu4Pmu/zkeVFSwAAAFtBnr9FESwj/wF9iR+pghXgrtyU\n",
       "OidTUNtBN81wuCXHMuu/oI8xm7EzKu4iPF9KclCcXRbiH4ig/pZ0ECGsaEp/gTHCA/62G1WVwqjE\n",
       "I9krtbcNGnPkTh5bcs8QAAAAPwGe3nRH/wJaAZU2Qd3PTw4ze6mSPNKXaVkrLBBLACH/TjH6tyD6\n",
       "bdulwcjzqeHQxDPbJPlzgvJUEthd3qKHsQAAAD4BnsBqR/8CWEGd9ZZlXfjGfH/lBLJ/n55Hc4iF\n",
       "/3TKmvviL5zlHqj8j4ijzC8NBUzT3/TQ5YhtK7jOBbmbcAAAAN9BmsVJqEFsmUwIV//+OEARv3/7\n",
       "gAH83D8EnOrLeI2/G8coqY6RAZnLHTwhWar6LNIBdgG9GC6iDzrr6cPN5+7SxgAgbtIuP9CkYh05\n",
       "vnyH50GQJNUFNFm7o2xRDXXTAYolZukKhTsaLwxnlftVGscDKuorLwvLV0Q0wM74YbjB8oaZhfZV\n",
       "lMmvuqZlMg2tthzi3l77+U8nlFV1jjENcSDL30Oqtkl16hmksJhkLEN+anxUirYB/mv7jslwjVzt\n",
       "s8jpZCjGu0UZKLAyyDy349eoL9YkmnY1W7sda1WoUsBBAAAAVEGe40UVLCP/AX0bzorZAFxntnMn\n",
       "U2IxvSV2YirU1G7BhIU1/x9bOkAp/KFs3n1e+Xe2pdTIEz2s3ANrCNmOjdWnKKKc+Uus8yaW7YlB\n",
       "nUXI/H60jAAAADsBnwJ0R/8BNd7q+dgctlhGdazM1PERBEIZuKGqTO07R+Kh3IeYaDF4wLrHzEkp\n",
       "oke6zi3d4k5iMW9EEQAAADoBnwRqR/8CWo5iF80/T+SfyjtJV7n6+Z5wBvwQV/s3Szpmy1r1rTHW\n",
       "z9S/huQ/wGtF5j1Ft7cRskNrAAAAw0GbB0moQWyZTBRML//+jLAEpTpiuhtHhyTjbwBs7i1A8Mz/\n",
       "ePtPQwQvjKM1ReNJk147pR0jCU0liUrh/uu05LnnJhZkG7fpu72bcPZjENVsv0AQPGkwwpl70Jz4\n",
       "2ClmYttpNv8FQV+r82+m5N8LY3cF48nDMBOsUL9Xf0VDaDrRcGHD6GHS8DKMGinlUxHR9L6KeiD6\n",
       "82jrk4BItCeczARrSFFRdX+eKdKntYPYpZh4nzg7fYuMZPPAcbSBZNNTpFiuoQAAADoBnyZqR/8C\n",
       "Wo74B29i6oCWr/QNBMRnWTCl2/7nUJCDkBr3DANLYFfu4bX5raFqxmHg9bMV34nfXgS1AAAAxUGb\n",
       "K0nhClJlMCF//oywBKAiFZkAB+3AUKrz8UmM+jlLnTmJ9d8agHKttGyQmxmzoBk/afsvRd46lzZd\n",
       "A/WNVuefIM9hS+96bINofdy+kliRj/jADjiD+Drmqddq4kXomeyMFJ8tKnYk1+NN8TjjBnx6EkWS\n",
       "cRtPaqPs3f6gAu93H2j1+nsc3Up6m+77ME+jVSzJTZZw2TMwJqNc2B0UzftGbGv6HPCLueVunsQo\n",
       "xa3w50vrUAMix3fpB5YlrM2xO8c8pOtsAAAAWEGfSUU0TCP/AX1cbsrZAbSxN6lN1bt8nMI/NAmZ\n",
       "9uZsiaE08nSauoPjKYWbRkWeaYEzctRaHmlXs6cJhQquklPPewIw1v6TSmEzIvP74Lt3tdr7YCNa\n",
       "I6AAAAA3AZ9odEf/AlowS8Jz8TYSDK+quY7FYFC7cHPPwyZ8je649bummRrxkcgkcL6pCHzBntL4\n",
       "GrpULwAAADYBn2pqR/8CWwEK8EY5s8CBZUDMwqNqGID81wctnGM1wQu0Gk4vN4d0qxo0akhqIT/i\n",
       "rNqVWKgAAADzQZtvSahBaJlMCF///oywBMAhxyAITNivlCWe3NmNQFlF2lhMEREqaUi859ATZxAj\n",
       "0/l+nosgHmomxzxF4KsREKaBMbwYjuJdv083qwrbkMt/RUUty++AJ1FiGTySe/u7cNZgBq8CbLHV\n",
       "QCMAopNJAwDo26qXQ5c73919WTMIwSvtzvj4/we7RXqCPO4sAHsBKDiOHMsuh+hdxVQyWZOLtm7w\n",
       "xu2CsAUpXHXZ6x0X+X8oIPYNN8Ot9tc1z/neVA8IJ443njdkb1dlVbmiL6JDD3sWrPD5JCwi99Je\n",
       "LFL75QR7ub+sXEQhuWpT+mogCRLYgPtgAAAAVkGfjUURLCP/AYgIdh5wREdldmBdCiFBM7V3MYWf\n",
       "fS+sfAoteC/ylWhSiIlAQQjLFDJYbKRz0MFcXWe1wvv6ROwebHmoXV3hsRwotiThmx8W3Z52xuAV\n",
       "AAAAOAGfrHRH/wJsMCFLsGELXY8xvcN7gqcSv4Jin0NAMHMdcso1ZgJ7Sc7yUUJzIQKOBmbnXk9U\n",
       "m3xNAAAAQgGfrmpH/wJaS50TSvt3Ccu2rojiBj1o5/OoWamC6Yt3Ms4gjqHUC7l3pVhSOgEjlKo8\n",
       "6ZIvd8akox2rHkJII5h1QQAAALxBm7FJqEFsmUwUTC///oywBMWF2QIOEgN8nfvDXeQBAPuxrhGD\n",
       "XIBWcYkMqVw0vnRR2AoiOmAEtRjdlA7BiEOu0AjaBJyw3ad2e/5+EEbyI1uBRuisI67mxN5QnmuR\n",
       "5ELSI28yFhmGnNfSU3uAtffWwuqHmjoDDtFi85dt1xWeajNPXJBFSgB+iYcERHM36mmio/226+eP\n",
       "G6PHgko7nVzsvs72vRJeFuuTN1olJvnLozerWdmo6yzZGeF6DgAAAD4Bn9BqR/8EtPjv125tw4qd\n",
       "5mr+UAGOjCMV7QeqLouUXlrUYibICh+OiUeCEeH2qKat9kF1yylaCXepvVHQQAAAAPJBm9VJ4QpS\n",
       "ZTAhf/6MsATFy7tFYAuISwq/oCvHmsg3kepwHblNU1jJ5wwVWW0i2TYKEhHyRHq7myRaMvT/MlNz\n",
       "O4gsiL0eQFd6pdsMJ6o/VL+gOZhH/HuqJVXgU070WTd/suHKRZppm7LIJxbExrU42hy457hxKYmH\n",
       "nf/52mfOlvZdrN1E5CCHbRf2lpss6bYnCnbeq3VLPeuFq8Jv5JO9NuXaX+2cawknbtCY21fMR5oE\n",
       "3O/3OfskfOSJCfRU+S2n8Ta02cQqWZb2xJIytImKmKeUTueBmQaYJ1Q7DdBa1SZ96zd00TGRQHDG\n",
       "NFbw0LlgsQAAAFdBn/NFNEwj/wGHIgxVd/caZ70LfImWk3TDnRq+f6PWpFdNNVCj8Jjz/BPiIwwj\n",
       "J4GX9VUZTIWgYedC8ISToKS3lt7/BzDuaykRaupi7cAAa65kz+X3tSgAAAAtAZ4SdEf/AlwV7mo1\n",
       "rjf0EY0zogWuScyrgOoMhTzZOFcFUr4a1KuR1uBDfTeCAAAAMwGeFGpH/wJrAL282u1BUZ0OdkZa\n",
       "cgWiHo+ppSEomhoQiZ9dWGQcdesubLAl+Z1a401EnQAAAMZBmhlJqEFomUwIX//+jLAExWOMVwBT\n",
       "76+4CI2sl1zyUT8c0MxUzHLaARJrEh0RVfmyJl+x7qRKiIZthiUNzH4zSKpzR4clifIH8btzI4WX\n",
       "dsTKZGRE0UPbA1m3nXgxSQmotRkRgvhTLQ209kMp67YfCnpqqs70C2wJtdbp0RGSiqpuLoZrs/5/\n",
       "DIkfK60rAo9SBRrw8xSTGiRsvi40Ohz1X6jYEFh5+j7vKqUEAf+QOYUhBAiVOdli8KChnKhEzBRr\n",
       "2337VIAAAABWQZ43RREsI/8Bh2e40OmdfCIsBIuFeh7rxLMZbChUDPOIgeosvOEeZz2bl/af3709\n",
       "+EBCHL0enaZBDw7+pIHaCRE1zfWjJwOCidr8RKmfABgGyX5SgB0AAAAxAZ5WdEf/AlwV70uDaEkP\n",
       "ZLxELoSChd92T3YrRpX0WbvZmM8zSA/XHmoMxF5VEh6j4QAAACgBnlhqR/8CawCHpM6uyUER4+zT\n",
       "B4SICXWl/NyOhMzhITWjYpurksv/AAABAUGaXUmoQWyZTAhf//6MsATFZC8KwBGjJ7UtmwfuWG+q\n",
       "7651zeujo6kP+OEFhP9JZdDCYvENzmUeGa8x+CU+MuJMVbfBhs8xcdDwc/e+W5tyJlHUNgx96/rV\n",
       "bGQ1EMRYItuZKao0tMrNzKBqYjT2AiucxglCDxLJZUD/ay8j+slalrB/Xq/E6rAkYW19a8AtvNOO\n",
       "jrILUxwP6Pfv9FdCf3LWYqx5zABtFfbZzmPLEuIGSHvXj6YYpROwWGzV9vcR7VxnDnCQb9lNXji0\n",
       "VpseBtwUSb/zhxQI86VFQYsZ/RbvZzXvZkhlRj5BrAbtj23dCchvFcR9UzXwLYpZdhnldhX3AAAA\n",
       "V0Gee0UVLCP/Av0SSV0RQXO0XgwNjnWvRRyI+kAs3FvhURX6qYZxXPCHdL3vGRhYwrjsxGcgIOgD\n",
       "N3YNP8xyvA/MNU1qJAbp3GdVACT6IbIPKBdLoIaNMAAAADQBnpp0R/8Ca37emOK5lotDhKmAJStK\n",
       "3BvvPq5j2oEQ2cm/EgR7g71eJRkgS2LrrqfN7xTbAAAAMgGenGpH/wSz5GRSQdUnWCrnFkkhM5St\n",
       "1Efzeovhupski1TDyI4dNg4yFcmCWL7GcXnJAAAA40GagUmoQWyZTAhf//6MsATAIfXAAcepa4oF\n",
       "sPZQKbCMT/39EtkKJ3LTNT1uLe1jh1ppdg06g95VFNTis7f3AXF4F7KrVIgEJI7jnjIqIm2jpkrP\n",
       "VsMjt8ohk0ILWJgKLXtQLyBdc4E9CQf29RXxmOFPAuENqXXonk1Ry9BBUQK9iCugEKL/HwXbhRQr\n",
       "td4WBQnfCGMc3y3LN+ozbFpvF5aGMIWLuzMhy3LylxyMTd6Yjp2WGGsdpq/ub2yelqrPRfGkjECs\n",
       "gxCeHNoolXDvj9deTH4JPqGtyN/BPyTppHyfTkUEAAAAWEGev0UVLCP/Av25JwDfpxoHqORJiF6k\n",
       "xuAP+912Rr5fZgoLIGmuSNbw5K6iHetk48XRKhULKaEABDErngLtqf+YVbEhhSKAeqg6nQDWAD90\n",
       "i1wNkLWvcMUAAAAxAZ7edEf/BLGIkBnhBdohNmi+dXqYFWgbYdlLepAUIe/gEi1NrYg91XIWi+s3\n",
       "bRR0YQAAADEBnsBqR/8Es+RjYMNN13MOMyC0ZkJULtiCQIpIU+1hXIoprkBKwOCJPTo56SIjfXpO\n",
       "AAAA9EGaxUmoQWyZTAhf//6MsATFMcRwGACy6iUHzALanVypBRmQxIVqSA/kGTPMYMQbZ2XINXVg\n",
       "mnsik7SUZBZfazpGjhaztrrYCCqaxwCFUnOkc7gjDpE15aPj03EgMm4sk/9STuDwBiosn3/hoDrX\n",
       "hivQN61CEwt5mRoeejjj4XV14sYsYoCi67LZmAUhd1J+uOA32p/DOvtf8YJZWn35mYyzSQkFtaSl\n",
       "UXiTKQ8gnxrWOWeOMtMo28tJmvDKrfAQvacZKzxwU0vUWt/3ivjorjdRLgtmIXhr/BiAAVqHTd8Y\n",
       "2P5gjHp8ZkMFyhlC+QrINMacOfMAAABPQZ7jRRUsI/8C/bknWxL8TlbHIXHdFU6kXQkGkdX7weLb\n",
       "I0B2uydSRxWBwmBdsq7PVEC+d+Av7Btcj4s6BAKLlTwKNUuCkAEsWhojjBCf9AAAAC4BnwJ0R/8E\n",
       "sYkYucXiMQULTsY5JUIc4sEvev1P3Q653xzbIr4KC/IF8E2fT3aBAAAAMwGfBGpH/wSz5GTsO8nS\n",
       "PtGQdNYgmRCMM/Rta7U2otAu0CxDQc8B+jMxQ6xQ8O6OPY6TcQAAAO5BmwlJqEFsmUwIX//+jLAR\n",
       "jn9X9h3dmzIAEtA5uEkaGWMOBSjBRZrEj+VSgXPLx0y0EsEpwbQ93FSDMFkeDKLMWbDytNJ1tGo3\n",
       "kyexZ+ulM0T1NZTXsOJQjEPw7Gc231JY3eO2HAF1gCKOxamT8vLPSX4A7nUaOV8qfYGklK96bns9\n",
       "F6LnL2SR2AfRR4nBoPfPSCZAic+24D0sShg7jRFXxoqr9wMPN+nJEyLdK3YQSHFKs53vWwJU89rJ\n",
       "L9CGE0YtZGi5sUZJkv7AnU+DFsxPCr40W6hYV1ZH7CRLquDKHEvZIG5VD6EUM5sDdHhBAAAAS0Gf\n",
       "J0UVLCP/Av25Jy1HD6iuX64Bk7kDbn0jP31rxeNC3Lsr5ex7saob13OTB5ro7cuY8CtczHxi9okr\n",
       "ia8FQhObWADyan1zhi6H7wAAADIBn0Z0R/8EsYkYZ1IB5AJ9VMhLs7UQTOV7d0Ki0FRgpysVISxr\n",
       "f2Bp/Sah+H3O3GH8UAAAACsBn0hqR/8Es+Rk7D/7JOAnKcPtc1RhQW0cFl1of0zIU5Q+inmDrUIJ\n",
       "zul6AAAA20GbTUmoQWyZTAhf//6MsATFMcQ49gEdnx3oG1lyMXMy2t1gPjJgcyB7T0rX1DymaimP\n",
       "zh+kHHocaTQWKC8vV4I/MPH/QEn+lx2RlXRSPq+6zt0mAfnIh0OO1VVwXX+WgSdRbvRplGXwn/2T\n",
       "N0I1B2S0v91dQTmh6Nz6s7AANWRQaodlHl9IUackTz2QYs9vpDzpNvEDp0On9slI4FnXpy3+JKk0\n",
       "yaZhYxp0r7TV7AUUPLyym4QxuF1q8QGwdpzrvifNPoTXnIl4MT1o3lv5Rbs6akwy3cy0mYvQhQAA\n",
       "AE9Bn2tFFSwj/wL9uSbRrdYVqiIjAPISufnS/Y9fJxZcIAPecNQpkPsMtbu5VqJ7nV9PWebN6TCV\n",
       "ehXlkSYcfwTJKEFl6RrlNLtU9HJQOzEhAAAALwGfinRH/wSxiRlhL2MpkJd6XbXbwbYdWnxj6Lgh\n",
       "iKmFqif/SvzT32+MtH8bqK10AAAALAGfjGpH/wSz5GNgw03bunv61xIm6hBKdXRq0mKDQx3iJhWa\n",
       "1SXZKelZ063PAAAA3kGbkUmoQWyZTAhf//6MsAS/ZKL9tQ/3MgAjtCJCP4vhNACSOOxNSQcZDjcd\n",
       "aPNpukfEybEocEUynYAUVKZsbS69AGMN6IbSCBqu9rv5kesW42IT91PtnX87AGl+e/+x/moUbzZX\n",
       "Tms8QqCZf+WUEhVMfnHEcY0EuP5qrxau8xFHTe8JEi5faq0m0JQR7Ys1rwNhmVHB3ChCrul0Ve5E\n",
       "xmCEHHJrf2L5KH9RQTrQuqvJEo0QHIiG7R2nHR/T2Bs5jAWGd0SbasRwz4SHAvwb9pIzwt/gq755\n",
       "75vZ/faO7wAAAENBn69FFSwj/wL9uSctTVrbPeEiLmLqNMgRFNeU9/LYptXjjorH+zcUvMe8oGwx\n",
       "+K3HiIKaaRFvjBLjRfIGUc7MfseBAAAAJwGfznRH/wSxiRhnUgmzFMAfN/irwcwXvJyE2TnBLIC/\n",
       "yZvYMZUdOAAAACgBn9BqR/8Es+RjYMPN0ncD3t6+bWh7Wp2nFiIkDob/hHieeJXWOn65AAAA3UGb\n",
       "1UmoQWyZTAhf//6MsATgIYnQ9feGrIgCEhHTF8yZYMyBMfx/r/9WkrBO5QXuqGMNeD22HbMwcVN+\n",
       "qiMf81ZQwz+xHmwcSvu/vhyQaEntGZMFvAFYw6qIcRJcYIjIoIwKaJsfRneUXdnEVIOWj12NTMGv\n",
       "8LKsKEFiBRfTI10yLX6XrPfg+/U2WTGmmghgiLjoEZN3OxjmAgDjXwyIhquqzlPAIE9Cq957Fmn4\n",
       "ZJQAxmZN2Nw57KbdYG4T12AuAO/RHl/AHSn5PinlqBHdG7BqreTnd2z2VBgHc04NAAAAPEGf80UV\n",
       "LCP/Av25J1sVdKUUd/bjkSPPPyFmEsau4y/iFiClls5/kH+aEvs7hbVOI0wX3Y8mmc2pzUk9MAAA\n",
       "ACwBnhJ0R/8EsYkubHN40uDDqiw6x3n3F08YtamLZqwirTnoik1cjGFtmonfQAAAACYBnhRqR/8E\n",
       "s+Rwm3r8g5pzQASqhQgptJjU0cmYg+qMj3Nm5craRQAAANdBmhlJqEFsmUwIX//+jLAE4CHHIAQg\n",
       "aY1ZdEF4mr51rXHEvLZWqL7IT+FXawQNM5n49/dYuZuFpHSPa2GR55VoXMT5wcuI39HfBVwRtZgF\n",
       "8TI5TorjfeqoTmxuSTzrnx+ZLiQQtnjnZSGYZGerQwVtTrzteYwYdpVRTblmIxWxnZl8VtCPU1oD\n",
       "T22MSsBtjzMbjt/EqZ3NiRAGy7piOpJvsP9krEOaOzgEg9PBaUgskPcUv6jR8nbvqVX4IEX1LdRj\n",
       "TJflE9GBSEuTyb0MfWD16OUSpbIngAAAAElBnjdFFSwj/wL9uSoGhuuV4jYwyPRoYwZG1LVExTTD\n",
       "jzSM3DFbKxtbsc5sCNk1mW4oOHzUuTT8rIKsHgqlejAzJuAFCpiOpHVNAAAAJAGeVnRH/wSxiRhn\n",
       "Ugm8twqOpcwYvw8tg0yHZFGjQZ2DXu8qfwAAACsBnlhqR/8Es+RyhDpkNwaMglwgSV5Vokx+p1kf\n",
       "Vx8ovVJGc9olsRaxDx3QAAAJf2WIggAO//73Tr8Cm0WXagOSVwr2yqQmWblSawHypgAAAwAAEbBu\n",
       "fJcNeavSJAAAr1vfSP0z/mAS4ZBe0W6Wim9vMNl2x0aD82aLpHTnWaWIJIvgh0K6/9bKH1mUAixM\n",
       "tAXSHd3Xvy+FPEaWq4JPd3EBLV9tnr1SlDHnLTBPF6ELqloEViVa2YGy/hrINnuTCtTUaq/hZ/S8\n",
       "vLU6TZivZJp57vbst4cOGnSo0GfWYVzYFKjYm1XFZj7uIUWUKJGhfxWqzt7zbezF3AESUSQFxIqU\n",
       "K3Rx5gGW3/Ikx+dVsD8xOZGQDN/6orWfXo1RiJ3P6yqb5r6mNXEilGhYS1BRztD6+vxasCVLzTwT\n",
       "UCWV/j7AV8P/010NowO0Sd7FrzzX5izCgoI1piazjji+fbTKcHp8gW2Ptq2I7xTq9RXvesr/fmDQ\n",
       "/yxrApfX3m94tx+60Fxp8nHn6mZsu3YHkdW1+wGopT9Evv1fRXsUvyG3jf57ZRdQvq2uJAe9dFVZ\n",
       "bwCdSvsRkTdPHoG9WNNNp0xAmnvrOfYc0+EjY7vsITBqL8kAYyDIYF6ydfIF66PYIZ/LzO0oBnJp\n",
       "LsztYHq5bHlklY63OJQ3z1aOErJ2A1JzpxL/21qrGSHQvBVvE1SvtDsn0bBTxe75cFqanACpbITk\n",
       "5WZYqRODfJOyn9DP7qKsub9D94dKaTiw4ASxw4CG/YC8BQrRqOYtd6PgduOBBnmq/fMNc/57HW2m\n",
       "lwFgH+cBLZDB4mAPDH+7Gii/QKZWJyAETm+f0a70GFoBBVhw2Pk9Q+fB5uNC9ImrB/I5anjHssvS\n",
       "vlNy+DSG1ESiPjq+j9bE5oebZsf2W2tErHYpc5vmYn18xMaXUoD8v/hgwClvEKeQJjoztNqd9mPb\n",
       "5/5xB9k9Uu6eHZgmfbRO9TjyY7PXvDNuzHGcCj3wbRnr8rhvtUFUsGYcu6WZkNQ5zpGkL1L5KuBX\n",
       "bgM+JPgFBf/e+ndhw/mmUPy5FqEOyHOp7G6A0iXHOmY5gOpzlDGAo4MfPMKwFIxupoqwIp2kUKau\n",
       "N9xxmdaP0UdAg2OUnygDTtO/nLfp/6IYL3/9G7NCb89eW9UpEQEum/TFjgl+rNA5mJhCUIDXSoHm\n",
       "M0NPvmCkDPwsWgPfwmgaURNZHii3F+NRdiOfFmgcG66BjeZkYiqvfwz4Ry/HpsEbh6IZFAKjU8XH\n",
       "frfGLWRxIW2zuMtMvar3129JyLiOlxtnEntFIiJop6mYhCYzAxmaOO58mVjYF79vSqysAkBoUPAS\n",
       "3B5vsZVl8cAC1ycjY5MKfZ/rNV3yFMD3L5PLf+qdXDFTXJMyMX+nSDpOqUQORC27WWrfsI70RrdH\n",
       "cN1ACbYOwDcTRcucfRQSEFrB6PW7KX5pAk63cSup7CrvG7iAJLphE7S+aR/gyZZfU2PkUa1YB7LC\n",
       "NjjYwyuu97ypfuUl9E5dr2My5WaWrSSN2dG94gi3eP1tlj7xe+ZnpA9zrjwmU3jMJ1uymoZSulaE\n",
       "s0DshJiJFlXuUmb/rCi+pr9pKCUJ9ewGCb8pDIOElUACBAMfhbppTkQ+VaXGSn8kZ1eiasswhE5I\n",
       "ySaDXUf638nwfUXw1TUznoynDw3DOQmAoosjaR5IFIbgbcjGIBtS2nxsaM1a0fjt//0q1ntiWZGq\n",
       "7sAUHIWCgFuPMKn6d3MUlf0EQFV+rcDkZlWeMUwuaauFBbwljNIjBsgLmf8981tLJzpTqf/KI+A5\n",
       "WEA+9gpiekMDyv9GzKqgVqg+3gVVXihfFJFgH1hoSOSCrule5qdW1AAjVPGIa5bVAOMdmi/RcSO6\n",
       "EFKFOviuAXMr1E6/RTfXEuEXNjPqB80DsYFD0Umxm1jUPZj7uSAb+9OiShD0HvQaf7LNyAAfGAIt\n",
       "rnY1zKgss9mM7Ge/Y78ovMIWQRClZ2j3D4Biw3RaUGXrgl/JOZp3wP2RtGYhpYqMvfWuKobZ4wNc\n",
       "GcEzmTQLfsf+GHQakiA7QzkPDAhAMcESf5TuFDZ8TYZhz0CRJx5VQeGJIjrxqCtWPU5+eiLDQAs7\n",
       "gqcQftwQF9PIGLcUQGW1qYzPw/4YE2vDLIwCy26NculhWEFLAP/d4/2pjLWEPjfe3NpdVU4bWlX6\n",
       "MVk/FoLdDoARdI+XOERWBSqA+PoXfcqROhugbH+sSFSDVoxKGDh60qrR5/0mwGHH7MTUXAtKvwkW\n",
       "zGZ1ajdpN8hVMkh36Ng9CMyptbBNyk6NWwISAWrEx/upk5Mj1wMYECRi4NN/8gx8zA3GeDmezqt5\n",
       "DXo8fJQ2af8+Rvq2/oS7+KlkjQv8NLkQKGuE4osBVS3khkII+OeGDV7KH9/CCiR/LEKk1MX52q3z\n",
       "ljD5aJMzgqI2Je88skhkNH7Qsr6rWbDD4FULOwz7Gs/gN8LKvuqTC6o4M8zln/KqN7Qap2trlLzC\n",
       "i5ZbZH4XNi4bmdFLO15n1dMcbL93sGFM4aOuGJ1gAq1typEJIVahqJWcFgZ3Jnt5leBOL2GgyGLb\n",
       "ws11e8KiYNrFBIxJ1MfAUk5m70FN6mNfmVguslnVP7b0Q+fxzrWDhsEuSaaaQ5i4P6m0ppUNPWM8\n",
       "71NZBYBn48Uqco9AxetMVFx/S/k3dbFf05Hzq4p1DKI4yPzgqeGclNCmLPVyMW0VzfpkNsvNpwBM\n",
       "oZ56s1bA85wvrEdX/jLuyoCdI3tPpiPqdwoiaR5kwyxfVqawSwAG6pmCkPhdHmf7fcL4v1wM3sXx\n",
       "zq91mumgGDdEyW88X5lyyxz7O3tSLUHWeXosVnc96yhQ/invWam44dek8CCIN91jRLIXsqljjyjR\n",
       "SpjDOhj7SgKm8CkZOahXgc2kNBuy1n6ZpWo1ZztfLvTR8rnqdSJsK/IS/FpZA32kfc0zMHyvs3YM\n",
       "5ZtM9mQg2sKvreO3gnvmyAXgri3zrwwR4xksoq58qiWJ+yOTbqZno6/M4KCxfdfmRtvGBXyAGpj7\n",
       "qnYRhvTpnXprXNkTryldOBywujQGAUTltr5vb2K0mBaioFg6RkYINLTNJvCWgbJaCxO5HJQfZ8Vr\n",
       "c5kmZVg0OZAuBxupy/muUevWJB2I9hTdexIRniWjofTXl4QKYGON0bE9HBoxcID2sw4tk7rtajiq\n",
       "daGZrDInjtWtk9OY3iIegpt159DmMzOg8kaAyws5i7/rsBw3VWsGacTR7XJmagidPUWli9+OjDbR\n",
       "ULZtZjBIpcS4inQhhYtnNmibelJdo/TRas34vj7XxjWRfIYXmCvd2n/zW4VWIfMDFJx+EhDwLOEA\n",
       "AAEzQZokbEL//oywBOCPjkAIBOJ/Frz79F+rQZEm/3rZgRoHxOZLeLTIr0LsLWtgNjkwc3ylDn+y\n",
       "179vqeW7zlnXzmKyNg5N73P4AjGbLzZeTIoGtvnLS/g/ozTzCkwqB2rgm5zfByfQl1zfObJxaz4C\n",
       "uB4wXDGxEFtf3wEA0ToEtsD2AKs0H6c7z3KZeZgdVpOr8s7RiF8FW8sXkLR48yEMpXb4bdPZq0Y9\n",
       "ZBnA1ZCGlRAMT9rFJfrrInHS3OKSKReH6etNLEKC3lu4GwwGEXbP9nkRnJ35kkeXcyPnis+ram1V\n",
       "vqs0dBJ7fMo1kEvGkb2a2LuHFJqkWzBS1nj6/u4mV/3neiOiLwVht8hL7yiCbI3OKyHpijPJkh/z\n",
       "ktUQEJmsn+9IvPB4GAXN/rxKdvyooi/m7AAAAExBnkJ4j/8E1GnI5U00LATwzWnJ0vjHot/7O0rL\n",
       "JuD1NmMoHb8I07EtRs+9GVlZhrfNDVCT0XzBvMQR3UFe31IR8j34lUZt2Vp3uQjpAAAAQAGeYXRH\n",
       "/wJ8Fab7SQnbFoyGzPE6mlUJJg5381kYHbA2HbqbA0lWwXc3Yb2peH4kaa6OlkG2Byiu+TJYxnZD\n",
       "VQUAAAA6AZ5jakf/BNPkZFJeipe5ZQh1ESdsuEjxwEIVNB57jEj6wDOi4LeeMfBC5wxlW8hkdH9E\n",
       "Sa//OqYt4AAAAKtBmmhJqEFomUwIX//+jLATHn9XX7KSuxABcEDXKnUsUk/q5UJsNy6W2CnoXdPU\n",
       "AbBDtMFOdNFMrK0T3La6e4raUcrD1bfU8B7T+hL1/MtpRnMW+rEHyeVmUvFp5rg8/A4VG/o0H8BZ\n",
       "4KYwGf6nyz9D6FrR3ShOSabDDerTpNXpR1s4DkGNtmnaVF7Wq5eGPYH0ym0z195eaV5JPxAB+mQG\n",
       "UqrOSCvvuDvJxR0AAABOQZ6GRREsI/8DE7kgeqOcn3B/WKrS2VQi3xiUIIrNXE8EEkHlUgEY2Ri7\n",
       "EmeTls8szI/ZRZzxumW30+mLWPO/bN3Mt8Bp6B9qFMR/GQOzAAAANwGepXRH/wTRiRhnQljjajbk\n",
       "fvB7Fn8XQhvJwLc5R5f044OndXPcN0MaOWPu1ADblhLao7a0FvAAAAAyAZ6nakf/AnsAvbz7EFyK\n",
       "CnKe456+qLdpacutIPhBUl5VQtZUFawu5D0GIYNpuFFxC5kAAACeQZqsSahBbJlMCF///oywBOAk\n",
       "4jgEww8Prw426tLnLxbdyTyyqYghGi5g3i6iT3jk+t1+ydfa3J+Gd+1uOthgl2zwu46GjK2TErRM\n",
       "A7UGxADveI6oS21TJVoWME00kDHzRIiS80AoFSZ7n3MGkxrHpHVy7j1RQ5Q97TJ12QlM89EnCwVc\n",
       "d3s5rav5t9Lq90nxirR2Hiksq/ZHk7LWXDgAAABIQZ7KRRUsI/8DE7kgSF2OdeOhy/VE7T226tgn\n",
       "ZdhuUT4c1/CK+lR0aWWIwaSvAfGQCQcoxjnuzNvOLHz2GvU5Ms1gkvPI7AO3AAAAMwGe6XRH/wJ4\n",
       "jcF/obOnyyvNtTRAEL9hbnPuM9H5MklV+zAkbSti9JZnbDFhwX7dF2ClgQAAACwBnutqR/8E0+Ri\n",
       "+icGl4N2FuhL99ktBHVRSfBEfeDMdXCkw8LtJUKIJLBOQQAAALlBmvBJqEFsmUwIX//+jLAE4CH1\n",
       "wAI8oTwZYaKIAhJByO2REpV6Vbne5qzUXc2N1+4HCsUqM6Qt78p/wvc1FGJfq2hQB3jIhU++Bbz8\n",
       "771vGtnBKmMVATffRXQggG/msu9VBIrfCPnN5CwoponTXuj5pB4VeQ76rrudDJInAidCRtfWiYsx\n",
       "oJ6h3WKFtEwYcJomGkoGbESYtcmkROX7Z0s+rZhlMOevekHBZURqVq5yP4V1xl02B/OpEwAAAEFB\n",
       "nw5FFSwj/wMTuSAjgEZIJYa9vxCz2UGE1/NYKBglYJNYxQ66G/jTGBwCaLiJBf/VY66amkaeNei+\n",
       "kKBU3XwOiAAAAC8Bny10R/8E9F4QU2iie9DuIRbhHiwWkjgJHIkBz/ubFWFe2W4QZtUgGyVuzpqI\n",
       "uAAAADwBny9qR/8E9Pfxg3EXXjhwraCUECdcfapT1+1HvTAJ2wk7Gr6CmrYbU083SzGcf4mkcfMa\n",
       "/kUMGRO8OmEAAAClQZs0SahBbJlMCF///oywBOAlOMwAjBjnGXJN2Z8J3/XbD74c0rz/N6tmw7QX\n",
       "/sLTiHUhPcNhSKqzN1GbWwOjrQY4BQff5qcTMjqj8GU0fO3cvOlq2lBDmwSUjqImgwtN9egjGT0q\n",
       "H1LiP/+YcCsasw8pSgOsU+ew6+XEjM4rFhx1Ll4TYm9bqc2OAvXUK0ZhfRjzRW6haSqkSlMP/suT\n",
       "teYsyhPAAAAAQEGfUkUVLCP/AxO5IEhdjoOsNpzHRPcyrKIV7frjscNsef0AvaU194puauz52QT0\n",
       "M0R5FG9sFOBT/IDm5gv7wEAAAAA0AZ9xdEf/BNGJGLnF5PZepN3eyiOgeV+xCOsZQxEVQh3ssWY0\n",
       "8mxBVysf/r6VwT5n6mcEnQAAACwBn3NqR/8E0+Ri+icGkEmM5yxfaFXncynL3KUedJBoIPwzx6IX\n",
       "bDsVJLCDGwAAAKJBm3hJqEFsmUwIX//+jLAE4UQI/NAESepXWIUmYu3wKTPZjuXQJuf7b/G27Y8L\n",
       "+dZoja6ivBdw8W+jm5NbY8zaf5j5+c/beKFMfeX2DXk1uVSyx6GpuYMTbXye19GRY6th/f31BbpT\n",
       "y00nhtgoHYInZEFF8pCgsYuqnbJWSXn6Vj6Fibew74icS7C096c4+bD7Le1q8yLixcuUsbx//x5V\n",
       "L1MAAAA9QZ+WRRUsI/8DE7kgeqOconpflGgM9vmkbKZa1906VRVwTUMSTXAGA2ICoIvY/KtLjLWE\n",
       "zIblgXNf0iBNwAAAADABn7V0R/8E0YkWlYJ4StnzN+DOCZRTERnOfNjtY4v38EG/qdsBOnDS8psq\n",
       "Ro7sKqAAAAAwAZ+3akf/BNPkZOxDBVQ3OiFzX2pEJFscrksf8mD0hDlwGuS0GSCEKNvbfg/CeB7x\n",
       "AAAAp0GbvEmoQWyZTAhf//6MsBMef1eya5/b5t5H7GVsLmv6/5nwYawoO3UVl8KuAt/60gNmCsTg\n",
       "0aconCh+2RFiHij1YxxojR5cP5SHjOOf50uRUWAFucoFDTSLvD63TjYcBWZdBSompof7dS4oV9rm\n",
       "VAtQcgY4+TauAHOlquaoD0KcxiXcJ/X4eipEXvhstSB1EgOadU7bwlkB5/BX8G5bt+n+b9JznUdE\n",
       "AAAARkGf2kUVLCP/AxIE5hpiR7DYDPpNIMvuBO20Vh87ygv4v8bG7gHdUQyATufpETUVUiEgKFp5\n",
       "0nBBZqrNJYL5LrNkr50wBuQAAAAtAZ/5dEf/BNGJFjhjkaWgyP0hv2nKk6Ze67ZDsI42mp6Gwhp6\n",
       "BVpDpgzZTg1JAAAALwGf+2pH/wJ4uNYYM1pK1oRRZgO3p5qXaj3XdGhm0fWjwTskpNoo4/6twXuM\n",
       "KEzAAAAAqUGb4EmoQWyZTAhf//6MsAUF2ZAGb6lCZOx4z63X0cZqnJD8+IsnvwIotsyu0sZdfRAx\n",
       "zB5NfNyaaY/dYCpxB0nR+51SnM5eDJtbNtILy259eTInCJFK1sLtdtkpwNHOY8ZKFBMuNiBqLoZu\n",
       "4kYRYVqNBEi7UtUX6clmn2dmV4FUcQ4pK1f6t2p7u6yt8NvuJlCK5R0256yFIhV2ehBHgyRyICeq\n",
       "5dp4yqkAAAA+QZ4eRRUsI/8BnJgyZCMfPnooL6dBLWLdMoH70rJcw8r7pMPioA30OW7a6p4RcSJ6\n",
       "xWo9tBhSNCVj7XbQIeEAAAAuAZ49dEf/Ana+VXVm+LGJbDXPea9oDafLyNLS8Mkfucnlkg7QiRc4\n",
       "2RAHJIqEfAAAAC0Bnj9qR/8CdzKXQXkqdFhhDuXGGFcR+lALIqzhVYVlYKS5lsiwJlHb2uLsEvEA\n",
       "AABsQZokSahBbJlMCF///oywBQaJhMo8JL8zfLAmkx2nbQm6AFhTGZMpfUyNOhVZ5qr0Hts62Sq0\n",
       "5a3PzTLbm1J3D7BTCGhcPiUt2c73UOzcNIYP5TvI6jm/NWeeHvhIDbMb/MXLb243Ra3ImfC6AAAA\n",
       "TEGeQkUVLCP/AZyN7GzgmCtadWiCvInKwIjt8zqqOslvVtel4pGkGT000PZnxYDdhHbowkSdUHg1\n",
       "wIVXtacLK9p8DTXTEswDrqmAKWEAAAAqAZ5hdEf/Ant+4+QJ5QBX6UYt6EBv4BqDaVWlUBEYVU6V\n",
       "3leARMqXEMyBAAAAKQGeY2pH/wJ8csDk6fhzsVKDSv/7z5IajtIF+vJPHNR6YDhANgScV4JeAAAA\n",
       "Z0GaaEmoQWyZTAhX//44QBNE6l6/B9n0tKsxP9dn+QR/QJ54kSYsEZV6i241hFfOnMDgAON+ceDh\n",
       "YBRKbZfzT7gJj3yI3CCP2U/Lxm6wdbCDeiI6hpyJC3jQTfWtat3PoMkTHBfiG2wAAAA4QZ6GRRUs\n",
       "I/8BnI3v+PYAoaZ2gvt8BFefQBaK7bpe27I324KE2SkPOBkXueWDpGemuAJQG0XEAusAAAAqAZ6l\n",
       "dEf/AowXThtc5tbVlfOsyrPyTwYWmx5RovcfxGDyja0P+UNOhoesAAAALAGep2pH/wJ7AQrBMdMp\n",
       "3Q3/NNJo4dvD0sy+5hEiNuOOz99KGrK+J1dGfCFhAAAAcEGarEmoQWyZTAhX//44QBNXNJI3aQwx\n",
       "/le/10/0iSeoAbVgDvMkQI9mmKsBukqb4XRW3NM8s2+gkib+s3JowV0vGXE9AlagB6CTR3S/bNMV\n",
       "pGUjAQ6UROOCJX47cjr+Fy3j6vTkys79uKevBsESk2gAAABFQZ7KRRUsI/8BnI3k2YbNPTx2pHLg\n",
       "YrtQDsHuYB5tK6ft7R4DF3HjgKL5jjXA6QBqxWBi+E0vUphNlCGoj+C8x4WaKAMfAAAAKQGe6XRH\n",
       "/wJ7f/W44rqIYqAByMlxvEcMtBLrgvKcwA9PDo9Ic4R4oYi5AAAAKAGe62pH/wKONmdxC1qv49ir\n",
       "edU/jfrEmzu/DmduZCQXAxa+jl3cCLkAAABCQZrwSahBbJlMCEf//eEAS1WpyXGOipnzpTcySg4n\n",
       "41yp7LBCIVpWzvbJ4cr2ez5FGGX/E8wDXpkOnmxgmweSZ3NXAAAAMkGfDkUVLCP/AZy6nbT01tOW\n",
       "HaGLkLFaa1hLlx9nadgRpnx+ECgXcVKqJ7iS8cC1TsoQAAAAIQGfLXRH/wFQhbypCwzjtdumLxf5\n",
       "KS3bfidajffdzGVDUgAAACQBny9qR/8BSBs1syOEaMm1CczVYCFLIXzmX0wEtYv+uNjSB/kAAAAi\n",
       "QZsxSahBbJlMCP/8hACWR9q9HEvqIC6smuYeAZfQT8A1oAAAERVtb292AAAAbG12aGQAAAAAAAAA\n",
       "AAAAAAAAAAPoAAATdAABAAABAAAAAAAAAAAAAAAAAQAAAAAAAAAAAAAAAAAAAAEAAAAAAAAAAAAA\n",
       "AAAAAEAAAAAAAAAAAAAAAAAAAAAAAAAAAAAAAAAAAAAAAAACAAAQP3RyYWsAAABcdGtoZAAAAAMA\n",
       "AAAAAAAAAAAAAAEAAAAAAAATdAAAAAAAAAAAAAAAAAAAAAAAAQAAAAAAAAAAAAAAAAAAAAEAAAAA\n",
       "AAAAAAAAAAAAAEAAAAABsAAAASAAAAAAACRlZHRzAAAAHGVsc3QAAAAAAAAAAQAAE3QAAAFMAAEA\n",
       "AAAAD7dtZGlhAAAAIG1kaGQAAAAAAAAAAAAAAAAAACcQAADCiFXEAAAAAAAtaGRscgAAAAAAAAAA\n",
       "dmlkZQAAAAAAAAAAAAAAAFZpZGVvSGFuZGxlcgAAAA9ibWluZgAAABR2bWhkAAAAAQAAAAAAAAAA\n",
       "AAAAJGRpbmYAAAAcZHJlZgAAAAAAAAABAAAADHVybCAAAAABAAAPInN0YmwAAAC2c3RzZAAAAAAA\n",
       "AAABAAAApmF2YzEAAAAAAAAAAQAAAAAAAAAAAAAAAAAAAAABsAEgAEgAAABIAAAAAAAAAAEAAAAA\n",
       "AAAAAAAAAAAAAAAAAAAAAAAAAAAAAAAAAAAAAAAY//8AAAA0YXZjQwFkAB7/4QAXZ2QAHqzZQbCW\n",
       "hAAAAwFMAACcQDxYtlgBAAZo6+PLIsD9+PgAAAAAHHV1aWRraEDyXyRPxbo5pRvPAyPzAAAAAAAA\n",
       "ABhzdHRzAAAAAAAAAAEAAAEsAAAApgAAABhzdHNzAAAAAAAAAAIAAAABAAAA+wAACUBjdHRzAAAA\n",
       "AAAAASYAAAABAAABTAAAAAEAAAM+AAAAAQAAAUwAAAABAAAAAAAAAAEAAACmAAAAAQAAAz4AAAAB\n",
       "AAABTAAAAAEAAAAAAAAAAQAAAKYAAAABAAADPgAAAAEAAAFMAAAAAQAAAAAAAAABAAAApgAAAAEA\n",
       "AAM+AAAAAQAAAUwAAAABAAAAAAAAAAEAAACmAAAAAQAAAz4AAAABAAABTAAAAAEAAAAAAAAAAQAA\n",
       "AKYAAAABAAADPgAAAAEAAAFMAAAAAQAAAAAAAAABAAAApgAAAAEAAAKYAAAAAgAAAKYAAAABAAAB\n",
       "TAAAAAEAAAKYAAAAAgAAAKYAAAABAAADPgAAAAEAAAFMAAAAAQAAAAAAAAABAAAApgAAAAEAAAM+\n",
       "AAAAAQAAAUwAAAABAAAAAAAAAAEAAACmAAAAAQAAAz4AAAABAAABTAAAAAEAAAAAAAAAAQAAAKYA\n",
       "AAABAAADPgAAAAEAAAFMAAAAAQAAAAAAAAABAAAApgAAAAEAAAM+AAAAAQAAAUwAAAABAAAAAAAA\n",
       "AAEAAACmAAAAAQAAAz4AAAABAAABTAAAAAEAAAAAAAAAAQAAAKYAAAABAAADPgAAAAEAAAFMAAAA\n",
       "AQAAAAAAAAABAAAApgAAAAEAAAM+AAAAAQAAAUwAAAABAAAAAAAAAAEAAACmAAAAAQAAAz4AAAAB\n",
       "AAABTAAAAAEAAAAAAAAAAQAAAKYAAAABAAAB8gAAAAEAAACmAAAAAQAAAz4AAAABAAABTAAAAAEA\n",
       "AAAAAAAAAQAAAKYAAAABAAADPgAAAAEAAAFMAAAAAQAAAAAAAAABAAAApgAAAAEAAAM+AAAAAQAA\n",
       "AUwAAAABAAAAAAAAAAEAAACmAAAAAQAAAz4AAAABAAABTAAAAAEAAAAAAAAAAQAAAKYAAAABAAAD\n",
       "PgAAAAEAAAFMAAAAAQAAAAAAAAABAAAApgAAAAEAAAM+AAAAAQAAAUwAAAABAAAAAAAAAAEAAACm\n",
       "AAAAAQAAAz4AAAABAAABTAAAAAEAAAAAAAAAAQAAAKYAAAABAAADPgAAAAEAAAFMAAAAAQAAAAAA\n",
       "AAABAAAApgAAAAEAAAM+AAAAAQAAAUwAAAABAAAAAAAAAAEAAACmAAAAAQAAAUwAAAABAAACmAAA\n",
       "AAIAAACmAAAAAQAAAz4AAAABAAABTAAAAAEAAAAAAAAAAQAAAKYAAAABAAADPgAAAAEAAAFMAAAA\n",
       "AQAAAAAAAAABAAAApgAAAAEAAAHyAAAAAQAAAKYAAAABAAADPgAAAAEAAAFMAAAAAQAAAAAAAAAB\n",
       "AAAApgAAAAEAAAM+AAAAAQAAAUwAAAABAAAAAAAAAAEAAACmAAAAAQAAAz4AAAABAAABTAAAAAEA\n",
       "AAAAAAAAAQAAAKYAAAABAAACmAAAAAIAAACmAAAAAQAAApgAAAACAAAApgAAAAEAAAM+AAAAAQAA\n",
       "AUwAAAABAAAAAAAAAAEAAACmAAAAAQAAAz4AAAABAAABTAAAAAEAAAAAAAAAAQAAAKYAAAABAAAB\n",
       "8gAAAAEAAACmAAAAAQAAApgAAAACAAAApgAAAAEAAAFMAAAAAQAAAz4AAAABAAABTAAAAAEAAAAA\n",
       "AAAAAQAAAKYAAAABAAAB8gAAAAEAAACmAAAAAQAAAfIAAAABAAAApgAAAAEAAAM+AAAAAQAAAUwA\n",
       "AAABAAAAAAAAAAEAAACmAAAAAQAAAz4AAAABAAABTAAAAAEAAAAAAAAAAQAAAKYAAAABAAADPgAA\n",
       "AAEAAAFMAAAAAQAAAAAAAAABAAAApgAAAAEAAAM+AAAAAQAAAUwAAAABAAAAAAAAAAEAAACmAAAA\n",
       "AQAAAz4AAAABAAABTAAAAAEAAAAAAAAAAQAAAKYAAAABAAADPgAAAAEAAAFMAAAAAQAAAAAAAAAB\n",
       "AAAApgAAAAEAAAHyAAAAAQAAAKYAAAABAAADPgAAAAEAAAFMAAAAAQAAAAAAAAABAAAApgAAAAEA\n",
       "AAM+AAAAAQAAAUwAAAABAAAAAAAAAAEAAACmAAAAAQAAAz4AAAABAAABTAAAAAEAAAAAAAAAAQAA\n",
       "AKYAAAABAAAB8gAAAAEAAACmAAAAAQAAAz4AAAABAAABTAAAAAEAAAAAAAAAAQAAAKYAAAABAAAD\n",
       "PgAAAAEAAAFMAAAAAQAAAAAAAAABAAAApgAAAAEAAAHyAAAAAQAAAKYAAAABAAADPgAAAAEAAAFM\n",
       "AAAAAQAAAAAAAAABAAAApgAAAAEAAAM+AAAAAQAAAUwAAAABAAAAAAAAAAEAAACmAAAAAQAAAz4A\n",
       "AAABAAABTAAAAAEAAAAAAAAAAQAAAKYAAAABAAADPgAAAAEAAAFMAAAAAQAAAAAAAAABAAAApgAA\n",
       "AAEAAAM+AAAAAQAAAUwAAAABAAAAAAAAAAEAAACmAAAAAQAAAz4AAAABAAABTAAAAAEAAAAAAAAA\n",
       "AQAAAKYAAAABAAADPgAAAAEAAAFMAAAAAQAAAAAAAAABAAAApgAAAAEAAAM+AAAAAQAAAUwAAAAB\n",
       "AAAAAAAAAAEAAACmAAAAAQAAAz4AAAABAAABTAAAAAEAAAAAAAAAAQAAAKYAAAABAAADPgAAAAEA\n",
       "AAFMAAAAAQAAAAAAAAABAAAApgAAAAEAAAFMAAAAAQAAAz4AAAABAAABTAAAAAEAAAAAAAAAAQAA\n",
       "AKYAAAABAAADPgAAAAEAAAFMAAAAAQAAAAAAAAABAAAApgAAAAEAAAM+AAAAAQAAAUwAAAABAAAA\n",
       "AAAAAAEAAACmAAAAAQAAAz4AAAABAAABTAAAAAEAAAAAAAAAAQAAAKYAAAABAAADPgAAAAEAAAFM\n",
       "AAAAAQAAAAAAAAABAAAApgAAAAEAAAM+AAAAAQAAAUwAAAABAAAAAAAAAAEAAACmAAAAAQAAAz4A\n",
       "AAABAAABTAAAAAEAAAAAAAAAAQAAAKYAAAABAAADPgAAAAEAAAFMAAAAAQAAAAAAAAABAAAApgAA\n",
       "AAEAAAM+AAAAAQAAAUwAAAABAAAAAAAAAAEAAACmAAAAAQAAAz4AAAABAAABTAAAAAEAAAAAAAAA\n",
       "AQAAAKYAAAABAAADPgAAAAEAAAFMAAAAAQAAAAAAAAABAAAApgAAAAEAAAM+AAAAAQAAAUwAAAAB\n",
       "AAAAAAAAAAEAAACmAAAAAQAAAUwAAAAcc3RzYwAAAAAAAAABAAAAAQAAASwAAAABAAAExHN0c3oA\n",
       "AAAAAAAAAAAAASwAAAs4AAABygAAAKUAAABoAAAAXAAAARoAAACKAAAAWgAAAHUAAAEOAAAAhgAA\n",
       "AGIAAABEAAAA8QAAAGsAAABYAAAAWAAAARMAAAB0AAAASgAAAFUAAADLAAAAbQAAAFEAAABMAAAA\n",
       "4QAAAFUAAABLAAAA8AAAAOMAAABfAAAAUAAAAMkAAABrAAAAUgAAAEgAAADBAAAAdAAAAE8AAABT\n",
       "AAAAwwAAAHkAAABNAAAAWgAAALAAAAB7AAAATAAAAGQAAACNAAAAUwAAAFUAAABOAAAAjAAAAE0A\n",
       "AABFAAAAQQAAAJAAAABIAAAASQAAAEsAAABbAAAATwAAAEQAAABNAAAAbQAAAE0AAABFAAAAPAAA\n",
       "AGsAAABHAAAAiQAAAEgAAABAAAAAQwAAAIEAAABJAAAASAAAAEgAAAB9AAAATAAAAEsAAABOAAAA\n",
       "nAAAAEwAAABKAAAATAAAALQAAABSAAAASwAAAEgAAACOAAAATgAAAEkAAABHAAAAvAAAAFEAAAA/\n",
       "AAAARwAAAH0AAABTAAAAPAAAAD4AAACVAAAAWAAAAD0AAABAAAAAdgAAAJEAAABVAAAATwAAAJAA\n",
       "AABgAAAASwAAAFIAAACRAAAAZQAAAFEAAABHAAAAmQAAAEYAAAC4AAAAbQAAAE4AAABOAAAAtAAA\n",
       "AGEAAABEAAAAQgAAAJQAAABeAAAAQwAAAEcAAADJAAAAWAAAAEoAAAC6AAAAWgAAAEwAAADfAAAA\n",
       "bQAAAE8AAABbAAABAAAAAHgAAABSAAAAUAAAAPMAAABjAAABjwAAAGoAAAB1AAABLAAAAZIAAABx\n",
       "AAAAaAAAAHEAAADjAAAAXwAAAPEAAABWAAABDQAAAGwAAABNAAAATAAAAWAAAAB0AAAATgAAAFUA\n",
       "AADhAAAAaAAAAEcAAABPAAAA3wAAAGYAAABEAAAARgAAAQUAAABmAAAASwAAAEsAAADvAAAAVwAA\n",
       "AEcAAABLAAAA4QAAAEYAAAEBAAAAUgAAAD8AAAA+AAAA1AAAAF8AAABDAAAAQgAAAOMAAABYAAAA\n",
       "PwAAAD4AAADHAAAAPgAAAMkAAABcAAAAOwAAADoAAAD3AAAAWgAAADwAAABGAAAAwAAAAEIAAAD2\n",
       "AAAAWwAAADEAAAA3AAAAygAAAFoAAAA1AAAALAAAAQUAAABbAAAAOAAAADYAAADnAAAAXAAAADUA\n",
       "AAA1AAAA+AAAAFMAAAAyAAAANwAAAPIAAABPAAAANgAAAC8AAADfAAAAUwAAADMAAAAwAAAA4gAA\n",
       "AEcAAAArAAAALAAAAOEAAABAAAAAMAAAACoAAADbAAAATQAAACgAAAAvAAAJgwAAATcAAABQAAAA\n",
       "RAAAAD4AAACvAAAAUgAAADsAAAA2AAAAogAAAEwAAAA3AAAAMAAAAL0AAABFAAAAMwAAAEAAAACp\n",
       "AAAARAAAADgAAAAwAAAApgAAAEEAAAA0AAAANAAAAKsAAABKAAAAMQAAADMAAACtAAAAQgAAADIA\n",
       "AAAxAAAAcAAAAFAAAAAuAAAALQAAAGsAAAA8AAAALgAAADAAAAB0AAAASQAAAC0AAAAsAAAARgAA\n",
       "ADYAAAAlAAAAKAAAACYAAAAUc3RjbwAAAAAAAAABAAAAMAAAAGJ1ZHRhAAAAWm1ldGEAAAAAAAAA\n",
       "IWhkbHIAAAAAAAAAAG1kaXJhcHBsAAAAAAAAAAAAAAAALWlsc3QAAAAlqXRvbwAAAB1kYXRhAAAA\n",
       "AQAAAABMYXZmNTguNDUuMTAw\n",
       "\">\n",
       "  Your browser does not support the video tag.\n",
       "</video>"
      ],
      "text/plain": [
       "<IPython.core.display.HTML object>"
      ]
     },
     "metadata": {},
     "output_type": "display_data"
    }
   ],
   "source": [
    "y, x = np.ogrid[-5:5:100j, -5:5:100j]\n",
    "#play with the limits of a and b\n",
    "a = np.linspace(-10, 10, 300) \n",
    "b = np.linspace(-10, 10, 300)\n",
    "\n",
    "fig = plt.figure()\n",
    "#get the line\n",
    "lines = plt.plot([])\n",
    "line = lines[0]\n",
    "\n",
    "#other setup\n",
    "plt.xlim(-5, 5)\n",
    "plt.ylim(-5, 5)\n",
    "\n",
    "#animate functions\n",
    "def animate(frame):\n",
    "    fig.clear()\n",
    "    plt.contour(x.ravel(), y.ravel(), pow(y, 2) - pow(x, 3) - x * a[frame] - b[frame], [0])\n",
    "\n",
    "#call this to animate \n",
    "anim = animation.FuncAnimation(fig, animate, frames =300, interval = 16.6)\n",
    "video = anim.to_html5_video()\n",
    "html = HTML(video)\n",
    "display(html) #draws the display\n",
    "plt.close()"
   ]
  },
  {
   "cell_type": "markdown",
   "metadata": {},
   "source": [
    "# Funciones Hash \n",
    "\n",
    "Son funciones que mapean los textos-claros, se suponen  funciones en una sola dirección (poco probables de ser invertibles). Se quieren inyectivas, cuando no los se dice que se presentan collisiones, ejemplos de estas funciones son SHA-256 y SHA-512 así como SHA2 y SHA3-256\n",
    "\n",
    "\n",
    "Algunos al goritmos han sido rotos (MD5, SHA0, SHA1), algunos siguen siendo considerados seguros (SHA-2, SHA-3 BLAKE2).\n",
    "\n",
    "![](https://wizardforcel.gitbooks.io/practical-cryptography-for-developers-book/content/assets/hash-function.jpg)\n",
    "\n",
    "\n",
    "\n",
    "## Aplicaciones \n",
    "\n",
    "- Integridad del docuemnto. Verifican la integridad de archivos / documentos / mensajes. POr ejemplo SHA256 checksum puede confirmar que cierto archivo es original (no tiene modificaciones despues de que checksum fue calculado). en el sitio de openssl esta esto de ejemplo\n",
    "\n",
    "- Alacenaiento de contraseñas. en lugar de tener el texto plano de contraseñas se almacenan con hash. EN linux asi se almacenan las contraseñas\n",
    "\n",
    "- Generar un unico ID. Generar un unico ID para ciertos docuemntos o mensajes. En Github hacen esto para los commits\n",
    "\n",
    "- Generación pseudoaeatoria. Pueden utilizarse para esto, recabar información aleatoria d ela interacción y producir el hash correspondiente\n",
    "\n",
    "- PoW (Proof-of-Work). Por ejemplo el PoW: emcontrar un numero p tal que hash(x+p) tenga 10 ceros al principio\n"
   ]
  },
  {
   "cell_type": "code",
   "execution_count": 91,
   "metadata": {},
   "outputs": [
    {
     "name": "stdout",
     "output_type": "stream",
     "text": [
      "SHA-256:    b'2cf24dba5fb0a30e26e83b2ac5b9e29e1b161e5c1fa7425e73043362938b9824'\n",
      "SHA3-256:   b'3338be694f50c5f338814986cdf0686453a888b84f424d792af4b9202398f392'\n",
      "BLAKE2s:    b'19213bacc58dee6dbde3ceb9a47cbb330b3d86f8cca8997eb00be456f140ca25'\n",
      "RIPEMD-160: b'108f07b8382412612c048d07d13f814118445acd'\n"
     ]
    }
   ],
   "source": [
    "import hashlib, binascii\n",
    "\n",
    "text = 'hello'\n",
    "data = text.encode(\"utf8\")\n",
    "\n",
    "sha256hash = hashlib.sha256(data).digest()\n",
    "print(\"SHA-256:   \", binascii.hexlify(sha256hash))\n",
    "\n",
    "sha3_256 = hashlib.sha3_256(data).digest()\n",
    "print(\"SHA3-256:  \", binascii.hexlify(sha3_256))\n",
    "\n",
    "blake2s = hashlib.new('blake2s', data).digest()\n",
    "print(\"BLAKE2s:   \", binascii.hexlify(blake2s))\n",
    "\n",
    "ripemd160 = hashlib.new('ripemd160', data).digest()\n",
    "print(\"RIPEMD-160:\", binascii.hexlify(ripemd160))"
   ]
  },
  {
   "cell_type": "markdown",
   "metadata": {},
   "source": [
    "# Codigos MAC y funcines de derivación de llaves\n",
    "\n",
    "MAC (Message authentication codes) HMAC (hash-based Message authentication codes) KDF (key derivation functions)\n",
    "\n",
    "MAC es un código criptogafico, calculado con una llave y un mensaje.\n",
    "\n",
    "<pre>\n",
    "auth_code = MAC(key, msg)\n",
    "</pre>\n",
    "\n",
    "Con la idea anterior es que se aplica para la genración de numeros pseudoaleatorios. \n",
    "\n",
    "Conoicda tamben como _keyed hash functions_. \n",
    "\n",
    "\n",
    "\n",
    "\n"
   ]
  },
  {
   "cell_type": "code",
   "execution_count": 92,
   "metadata": {},
   "outputs": [
    {
     "name": "stdout",
     "output_type": "stream",
     "text": [
      "b'32885b49c8a1009e6d66662f8462e7dd5df769a7b725d1d546574e6d5d6e76ad'\n"
     ]
    }
   ],
   "source": [
    "import hashlib, hmac, binascii\n",
    "\n",
    "mac = hmac.new(b'key', b'some msg', hashlib.sha256).digest()\n",
    "print(binascii.hexlify(mac))"
   ]
  },
  {
   "cell_type": "markdown",
   "metadata": {},
   "source": [
    "EL código MAC es un codigo de autentificación digital, como una firma digital, pero con prellave compartida. \n",
    "\n",
    "**Algoritmos MAC**\n",
    "\n",
    "- HMAC\n",
    "\n",
    "- KMAC\n",
    "\n",
    "- CMAC (basado en cifrado simetrico)\n",
    "\n",
    "- GMAC (Galoa MAC)\n",
    "\n",
    "- Poly1305\n",
    "\n",
    "- UMAC\n",
    "\n",
    "- VMAC (basado en cofrado de bloque)\n",
    "\n",
    "- SipHAsh\n",
    "\n",
    "![](https://wizardforcel.gitbooks.io/practical-cryptography-for-developers-book/content/assets/MAC-message-authentication-code.png)\n"
   ]
  },
  {
   "cell_type": "markdown",
   "metadata": {},
   "source": [
    "El HMAC se considera seguro\n",
    "\n",
    "<pre>HMAC(key, msg, hash_func) -> hash</pre>\n",
    "\n",
    "el resultado es el mensaje hash mezclado con la llave secreta, es irreversible y resistente a colisiones.\n",
    "\n",
    "\n",
    "### Funciones de derivación de llave.\n",
    "\n",
    "Es uan función que tranforma una contrasela en un a una llave fija (en bits). \n",
    "\n",
    "<pre>function(password) -> key</pre>\n",
    "\n",
    "_Los hashes simples son bulnerables a ataques de diccionario_ (brute-forcing, dictionary attacks, rainbow attacks). Los algroitmos recomendados de derivación de llaves, PBKDF2, Bcrypt, Scrypt Argon2. \n",
    "\n",
    "\n"
   ]
  },
  {
   "cell_type": "code",
   "execution_count": 93,
   "metadata": {},
   "outputs": [
    {
     "name": "stdout",
     "output_type": "stream",
     "text": [
      "b'ee40ca7bc90df844d2f5b5667b27361a2350fad99352d8a6ce061c69e41e5d32'\n"
     ]
    }
   ],
   "source": [
    "import hashlib, hmac, binascii\n",
    "\n",
    "def hmac_sha256(key, msg):\n",
    "  return hmac.new(key, msg, hashlib.sha256).digest()\n",
    "\n",
    "key = b\"12345\"\n",
    "msg = b\"sample message\"\n",
    "print(binascii.hexlify(hmac_sha256(key, msg)))"
   ]
  },
  {
   "cell_type": "markdown",
   "metadata": {},
   "source": [
    "# Generadores seguros de numeros aleatorios\n",
    "\n",
    "\n",
    "En criptogafia la aleatriedad (entropia) es importante. En varios algoritmos se necesitan numeros aleatorios (impredecibles). \n",
    "\n",
    "PRNG (Pseudo-Random Numbers Generators). \n",
    "\n",
    "CSPRNG (secure pseudo-random generators)\n",
    "\n",
    "Los PRNG son funciones qeu comienzan con un estado incial de entropia (**seed**), y calculan el siguiente nuemro aleatorio (de alguna fomra) pero es impredecible sin saber el seed, y asi sucesivamente\n",
    "\n",
    "\n",
    "![](https://wizardforcel.gitbooks.io/practical-cryptography-for-developers-book/content/assets/pseudo-random-function.png)\n",
    "\n",
    "En ciencias de la computación entropya significa aleatoriedad impredesible.\n",
    "\n",
    "la entropia s epuede recolectar de varios lugares de la computadora: teclas presionadas, movimientos del mause, actividad de lared, est acolección de aleatoriedad iniical, es recolectada por el OS. \n",
    "\n"
   ]
  },
  {
   "cell_type": "code",
   "execution_count": 94,
   "metadata": {},
   "outputs": [
    {
     "name": "stdout",
     "output_type": "stream",
     "text": [
      "62940777699810071862883745457596333710005299682219\n",
      "97305619885295615036382530760394030346722803351279\n"
     ]
    }
   ],
   "source": [
    "\n",
    "# si se sabe la semilla puedes predecir  \n",
    "\n",
    "import random, time\n",
    "\n",
    "random.seed(time.time())\n",
    "r1 = random.randrange(1e49, 1e50-1)\n",
    "\n",
    "random.seed(time.time())\n",
    "r2 = random.randrange(1e49, 1e50-1)\n",
    "\n",
    "print(r1)\n",
    "print(r2)"
   ]
  },
  {
   "cell_type": "code",
   "execution_count": 95,
   "metadata": {},
   "outputs": [
    {
     "name": "stdout",
     "output_type": "stream",
     "text": [
      "76917230436365640533194343708637578924277952358905\n"
     ]
    }
   ],
   "source": [
    "# genra numeros aleatorios \n",
    "import secrets\n",
    "print(secrets.randbelow(int(1e50)))\n",
    "\n",
    "# otra libreria os.urandom()\n",
    "\n"
   ]
  },
  {
   "cell_type": "markdown",
   "metadata": {},
   "source": [
    "Para qeu un PRNG sea seguro tiene que cumplir con dos requerimientos\n",
    "\n",
    "- next-bit test (no puede adivinar el bit $k+1$ conociendo todos los $k$ anteriores)\n",
    "\n",
    "- state compormise extensions (se se revela una estado, no se mueden calcular los estados anteriores a esta revelación)\n",
    "\n"
   ]
  },
  {
   "cell_type": "code",
   "execution_count": 96,
   "metadata": {},
   "outputs": [
    {
     "name": "stdout",
     "output_type": "stream",
     "text": [
      "1643212231.101256|0 64603154470443342759024039201610637583612433931437572858114338419351456172898 --> 14\n",
      "1643212231.101256|1 10633538314625549149938069611018965890596852469340864806614019577799542774414 --> 18\n",
      "1643212231.101256|2 29084884184406711323828428401667863075310880936522506621818202130419295033692 --> 14\n",
      "1643212231.101256|3 32028756503708968965370899547861144804984403211195176239105253285613290422439 --> 11\n",
      "1643212231.101256|4 28643665977654926824423263488447747581569657335124849970330137144742412167854 --> 18\n"
     ]
    }
   ],
   "source": [
    "# pseudo generador\n",
    "\n",
    "import hashlib, time\n",
    "\n",
    "startSeed = str(time.time()) + '|'\n",
    "min = 10\n",
    "max = 20\n",
    "for i in range(5):\n",
    "    nextSeed = startSeed + str(i)\n",
    "    hash = hashlib.sha256(nextSeed.encode('ascii')).digest()\n",
    "    bigRand = int.from_bytes(hash, 'big')\n",
    "    rand = min + bigRand % (max - min + 1)\n",
    "    print(nextSeed, bigRand, '-->', rand)"
   ]
  },
  {
   "cell_type": "code",
   "execution_count": 97,
   "metadata": {},
   "outputs": [
    {
     "name": "stdin",
     "output_type": "stream",
     "text": [
      "Enter something [1 of 5]:  3\n",
      "Enter something [2 of 5]:  4\n",
      "Enter something [3 of 5]:  5\n",
      "Enter something [4 of 5]:  6\n",
      "Enter something [5 of 5]:  7\n"
     ]
    },
    {
     "name": "stdout",
     "output_type": "stream",
     "text": [
      "Entropy: 3|1643212273.073476|4|1643212276.884243|5|1643212278.0801961|6|1643212279.302658|7|1643212280.473376|\n",
      "Start seed = SHA-256(entropy) = 3854149716277604d6dd6cc2c610bdd4b7db820604d0e442347dde82a9abfebd\n",
      "3854149716277604d6dd6cc2c610bdd4b7db820604d0e442347dde82a9abfebd|0 106989512360143808739129082697872646565951790023021023107811062624211225681552 --> 10\n",
      "3854149716277604d6dd6cc2c610bdd4b7db820604d0e442347dde82a9abfebd|1 108914952177941793218766844784489471630136856565163366080203500020388870914220 --> 15\n",
      "3854149716277604d6dd6cc2c610bdd4b7db820604d0e442347dde82a9abfebd|2 89791197888840861332502656991467681225034302459606735564206620962953792693031 --> 13\n",
      "3854149716277604d6dd6cc2c610bdd4b7db820604d0e442347dde82a9abfebd|3 40682780243746745188916698036888720846773703718108571193340335829591976078888 --> 20\n",
      "3854149716277604d6dd6cc2c610bdd4b7db820604d0e442347dde82a9abfebd|4 32875335871352222409015091240906905412138261853578496690495369705421664513150 --> 16\n"
     ]
    }
   ],
   "source": [
    "# el anterior no es seguro porque no viene de una fuente de entropia impredecible\n",
    "\n",
    "import hashlib, time, binascii\n",
    "\n",
    "entropy = ''\n",
    "for i in range(5):\n",
    "    s = input(\"Enter something [\" + str(i+1) + \" of 5]: \")\n",
    "    entropy = entropy + s + '|' + str(time.time()) + '|'\n",
    "print(\"Entropy:\", entropy)\n",
    "startSeed = str(binascii.hexlify(hashlib.sha256(entropy.encode('ascii')).digest()))[2:-1]\n",
    "print(\"Start seed = SHA-256(entropy) =\", startSeed)\n",
    "\n",
    "min = 10\n",
    "max = 20\n",
    "for i in range(5):\n",
    "    nextSeed = startSeed + '|' + str(i)\n",
    "    hash = hashlib.sha256(nextSeed.encode('ascii')).digest()\n",
    "    bigRand = int.from_bytes(hash, 'big')\n",
    "    rand = min + bigRand % (max - min + 1)\n",
    "    print(nextSeed, bigRand, '-->', rand)"
   ]
  },
  {
   "cell_type": "markdown",
   "metadata": {},
   "source": [
    "# Intercambio de llaves \n",
    "\n",
    "- En un esquema de key agreement ambas partes estan oncolucrada en compartir (Diffie-Hellman DHKE) y Elliptic-Curve Diffie-Hellman ECDH\n",
    "\n",
    "- En un esquema key transport una parte contribuye a compartir y la otra lo recibe. Estos esquemas se impelmentan atraves de criptografia de llave pública, ejemplo  RSA, \n",
    "\n",
    "Hay otros esquemas de intercambio de llaves RSA-KEM (RSA key transport), PSK (pre-shared key), SRP (Secure Remote Password protocol), FHMQV (Fully Hashed Menezes-Qu-Vanstone), ECMQV (Ellictic-Curve Menezes-Qu-Vanstone) y CECPQ1 (quantum-safe key agreement).\n",
    "\n",
    "\n"
   ]
  },
  {
   "cell_type": "markdown",
   "metadata": {},
   "source": [
    "## Intercambio Diffie - Hellman\n",
    "\n",
    "Es un metodo criptografico pa ral eintercambio se guro de llaves criptograficas, sobre un canal (inseguro) público, de tal forma qeu si la comunicación e escuchada no se revelan las lalaves. \n",
    "\n",
    "Fue uno de los primeros portocolos de llave pública. Es vulnerable al man-in-the-middle attacks (el atacante altera la cimunicación entre las dos partes).\n",
    "\n",
    "Puede ser implementado utilizando algoritmos discretos o criptgrafia de curvas elipticas.\n",
    "\n",
    "\n",
    "![](https://wizardforcel.gitbooks.io/practical-cryptography-for-developers-book/content/assets/key-exchange-by-color-mixing-part-1.png)\n",
    "\n",
    "![](https://wizardforcel.gitbooks.io/practical-cryptography-for-developers-book/content/assets/key-exchange-by-color-mixing-part-2.png)\n",
    "\n",
    "![](https://wizardforcel.gitbooks.io/practical-cryptography-for-developers-book/content/assets/Diffie-Hellman-Key-Exchange-Protocol.png)\n",
    "\n"
   ]
  },
  {
   "cell_type": "markdown",
   "metadata": {},
   "source": [
    "# Encriptación simetrica y asimetrica\n",
    "\n",
    "- Encriptación simetrica (Una sola llave encripta y decripta los datos)\n",
    "\n",
    "- Encriptación asimetrica (Se utiliza una llave publica y un aprivada henrado por un criptsistema de llave publica)\n",
    "\n",
    "\n",
    "\n",
    "## Encriptación simetrica\n",
    "\n",
    "![](https://wizardforcel.gitbooks.io/practical-cryptography-for-developers-book/content/assets/symmetric-encryption.png)\n",
    "\n",
    "\n",
    "Algunos algoritmos de encriptación simetrica modernos: AES (AES-128, AES-192, AES-256), ChaCha20, Twofish, IDEA, Serpent, Camelia, tambien hay block-ciphers (encriptan lso datos por bloque de tamaño fijo). Los stream-ciphers (ecriptan los datos byte por byte como un stream). Los block pueden ser omvertidos en stream\n",
    "\n",
    "\n",
    "## Encriptación asimetrica\n",
    "\n",
    "Encripta con publica decripta con privada, firma lso mensajes, verifca las firmas con un intercambio seguro de llaves. \n",
    "\n",
    "Criptosistemas de llave pública como: RSA (Rivest–Shamir–Adleman), ECC (elliptic curve cryptography), Diffie-Hellman, ECDH, ECDSA y EdDSA.\n",
    "\n",
    "![](https://wizardforcel.gitbooks.io/practical-cryptography-for-developers-book/content/assets/public-key-cryptography-encrypt-decrypt.png)\n",
    "\n",
    "\n",
    "![](https://wizardforcel.gitbooks.io/practical-cryptography-for-developers-book/content/assets/asymmetric-encryption-diagram.png)\n",
    "\n",
    "Pueden jugar papekes diferentesres las encriotaciónes, aquí hay conceptos como KEM. \n",
    "\n",
    "En ECC la llave publica puede ser creada a aprtir de llave privada,\n",
    "\n",
    "En RSA no ocurre lo anterior. \n",
    "\n",
    "RSA se basa en la exponenciación modular junto con la dificultad computacional de el problema de factorización entera. \n",
    "\n",
    "ECC se bas en las matematicas de las cutvas elipticas sobre campos finitos y la dificulatad del problema del algpritmo de logaritmo discreto en curvas elipticas (ECDLP). Usa llaves pequeñas que RSA, un 256-bit ECC es similar a un 3072-bit RSA, la generación de llaves es mas rápida en ECC \n",
    "\n",
    "Así las redes de cblockchain (Bitcoin Ethereum) usan ECC para comunicaciones seguras. No son cuanticamente seguros.\n",
    "\n",
    "Esquemas populares de encriptación asimetrica: RSA-OAEP (RSA y OAEP padding), RSAES-PKCS1-v1_5 (RSA y PKCS#1 v1.5 padding), DLIES (logaritmos discretos y encriptación simetrica) ECIES (ECC y encriptación simetrica).\n",
    "\n",
    "\n",
    "\n",
    "\n",
    "\n",
    "\n"
   ]
  },
  {
   "cell_type": "markdown",
   "metadata": {},
   "source": [
    "# Encriptación Simetrica\n",
    "\n",
    "Esta encriptación utiliza la misma llave (o password) para encriptar y decriptar datos (AES, ChaCha20, RC6, Twofish, CAST). Se combinaan frecuentemente con passwords con algoritmos de derivaciçon de llave. SOn quantum-resistance, lo que significa que computadoras con pider cuanticono pueden romper su seguridad, pueden encriptar datos en cloque o de tamaño fijo (block ciphers) o datos que vienen como secuencia de bytes (strema ciphers). Los cifrados de bloque pueden trasnfomrase acifrados stream mediante ciertas construcciones, conocidas como modos de cifrado de cbloque de operación. \n",
    "\n",
    "- Utilizan un secret key par aencriptación y decriptación\n",
    "- es de 128 bits o 256 bits\n",
    "- normalmente en exadecimal\n",
    "- puden ser derivados mediante esquemas de derivación passwort to key\n",
    "\n",
    "![](https://wizardforcel.gitbooks.io/practical-cryptography-for-developers-book/content/assets/symmetric-key-encryption-decryption.gif)\n",
    "\n",
    "Esta compuesto de pasaso qeu involucran diferentes algorimos de encriptación\n",
    "\n",
    "- derivación password to key, (Scryp Argon2) permite usar un password en vez de una llave\n",
    "- transformaciond e bloqeu a strema. (CBS o CTR) + message-padding (PKCS7) que permite encriptar datos de tamaño arbitrario usando un algoritmo  block cipher (AES)\n",
    "- algoritmo block cipher (AES). par aencriptar bloque sde datos o de longitud fija usando un secret key\n",
    "- Message authetication (HMAC) para verificar cuando desspues de la decriptación el resultado ontenido concuerda con el mensaje original antes de la encriptación\n",
    "\n",
    "\n",
    "EN los block ciphers (AES) son diseñados para encriptar un floque o un tamño fijo de datos la entrada y la salida son del mismo tamaño mienstras que l allave puede ser distinta de tamaño\n",
    "\n",
    "Los stream ciphers son mas flexibles, son diseñados para encriptar datos de tamaño arbitrario. (un pdf) pueden tener un strema (secuencias de bytes o frames eg video stream)\n",
    "\n",
    "LOs más populars son los blosck siphers, aunque se propnen tranformar a stream cipher para qeu el tamaño se a arbitrario cuando se hace estop se habla de un block cipher modo of operation y son aplicables a bloxk cipher stales como AES, RC6, Camellia, Serpent y muchos otros. algunos block mode of operation son \n",
    "\n",
    "- AES-256-GCM. AES + 256 bits key + GCM block mode\n",
    "- AES-18-CTR. similar al anterior\n",
    "- Serpent-128-CBS. analogo\n",
    "\n",
    "Salsa20 y sus variantes ChaCha. \n",
    "\n",
    "AES (Advanced Encryption Standard o Rijndael) se utiliza en los sitios web y es una parte del TLS ( Transport Layer Security) y SSL (Secure Sockets Layer). \n"
   ]
  },
  {
   "cell_type": "markdown",
   "metadata": {},
   "source": [
    "# Encriptación Asimetrica\n",
    "\n",
    "LOs criptosistemas de llave asimetrica / o criptosistemas de llave publica (like RSA, elliptic curve cryptography (ECC), Diffie-Hellman, ElGamal, McEliece, NTRU and others) usan un par de llaves matematicamente ligado: llave publica (llave de encriptación) y la llave privada (llave de decriptación).\n",
    "\n",
    "- key-pais genration. llave publica + llave privada\n",
    "- algorimto de encriptacion (RSA-OAEP, ECIES)\n",
    "- algortimos digital signature (DSA, ECDSA, EdDSA)\n",
    "- Lagoritmos de intercambio de llaves (DHKE, ECDH)\n",
    "\n",
    "Un mensaje encriptado con la llave publica es despues decriptado por la llave privada. Un mensaje firmado por la llave privada es dspue verificado por la llave publica. La llave publica tipicamente se comparte con todos, mientras qeu la llave privada se mantiene en secreto. Calculando la llave privada mediante su correspondiente llave publica (raro lo ultimo)\n",
    "\n",
    "El ECC se recomienda (CUrve25519, curve448), porque sus llaves son pequeñas, las fiemas se acortan y tienen un mejor desempeño. \n",
    "\n",
    "- RSA, hace exposnenciación modular y el problema de factorizción entera\n",
    "\n",
    "- ECC, basado en el algebra de curvas elipticas sobre campos finitoa, y el problema del algoritmo discreto (ECDLP), que es considerado invbiable para largas keys, viene junto con ECDSA (elliptic-curve digital signature algorith)\n",
    "\n",
    "\n",
    "Muchos de estos sistemas son quantum-breakable, qu esignifica (por lo menos en teoria) una computadora cuantica podría romper su seguridad y calcula ral llave privada a apartirde llave publica en segundos\n"
   ]
  },
  {
   "cell_type": "markdown",
   "metadata": {},
   "source": [
    "En RSA el mensajej se tranforma a un entre grande (OAEP), en ECC se necesita DH.\n",
    "\n",
    "Para permitir encriptacón de cualquier tamaño, utilizan esquemas/contrucciones/esquemas hibridos como KEM (key encapsulation mechanims) y esquemas integrados de encriotación que combiana encriptacion simetrica y asimetrica\n",
    "\n",
    "![](https://wizardforcel.gitbooks.io/practical-cryptography-for-developers-book/content/assets/hybrid-encryption.png)\n",
    "\n",
    "\n",
    "![](https://wizardforcel.gitbooks.io/practical-cryptography-for-developers-book/content/assets/hybrid-decryption.png)\n",
    "\n",
    "## Digital signatures\n",
    "\n",
    "Las firmas digitales proveen\n",
    "\n",
    "- Autentificación de mensaje\n",
    "- INtegridad \n",
    "- non-repudiation\n",
    "\n",
    "UNa firma del mensaje es echa por la llave privada y la verificación del mensaje es eleborada por la correspondiente llave publica\n",
    "\n",
    "Despues del qeu mensaje es firmado, el mensaje y la firma no pueden modificarse así se provee de autentificación e integridad. Cualquiera qeu conozca la llave publica del mensaje firmado puede verificar la firma. Despues de formar el author de la firma no puede rechazar el acto de firmar (esto se conoce como non-repudiation)\n",
    "\n",
    "\n",
    "Se utilizan para firmar contratos digitales, para autorizar opagos bancario, y para firmar transacciones en el sistema publico de blocl-chain para transferrir accione digotales.\n",
    "\n",
    "Los esquemas de formas en RSA y ECC, son DSA,ECDSA, EdDSA\n",
    "\n"
   ]
  },
  {
   "cell_type": "markdown",
   "metadata": {},
   "source": [
    "# RSA \n",
    "\n",
    "El algoritmo Provee\n",
    "\n",
    "- Key-pair generation. gebera la llave aleatoria privada (1024-4096 bits) y la llave publica correspondiente \n",
    "- encritación. Encripta el mensaje (entero en el rango 0,...,longitud de la lave) usando al llave publica, y decripta usando la llave privada\n",
    "- Digital signatures. Firma el mensaje (usando la llave privada) y verifica la firna de mensaje (utilizando la llave publica)\n",
    "- Key exchange. Transporta de foma segura una llave secreta, usada para la cimunicación encriptada posteriormente\n",
    "\n",
    "## RSA Generación de llave\n",
    "\n",
    "\n",
    "$$(m^e)^d \\equiv m \\bmod n$$\n",
    "\n",
    "- $m\\in\\{0,1,\\dots,n-1\\}$\n",
    "- $n$ define la longitud e la llave (numero primo grande)\n",
    "- $\\{n,e\\}$ es la llave publica, se compartira \n",
    "- $e$ exponen de llave publica usualmente es $e = 65537$\n",
    "- $\\{n,d\\}$ es la llave privada, esta diseñada par amantenerse en secreto\n",
    "- $d$ es el exponente de llave privada\n",
    "\n",
    "\n",
    "Decodificar llave de un RSA en su formato PKCS#8 PEM ASN.1 https://lapo.it/asn1js\n",
    "\n",
    "## RSA encriptación\n",
    "\n",
    "\n",
    "Encripta con la llave publica $\\{n,e\\}$ sigueindo la tranformación\n",
    "\n",
    "$$\\text{Mensaje encriotado} = \\text(mensaje)^e \\bmod n$$\n",
    "\n",
    "El mesaje debe de ser un nunmero (entre 0 y n-1) el mensaje se codifica como entero (EAOP) antes de encriptarse. Para textos largos la encriptación hibrida debe usarse (RSA-KEM)\n",
    "\n",
    "NO exitse un algoritmo eficiente para para invertir la operación \n",
    "\n",
    "\n",
    "## RSA decriptación\n",
    "\n",
    "Deciptar el mensaje utilziando la llave priuvada $\\{n,d\\}$ con la siguiente transformación\n",
    "\n",
    "$$\\text{mensaje} = \\text(Mensaje encriotado)^d \\bmod n$$\n",
    "\n",
    "despues pura aritmetica modular comprueba lo anterior\n",
    "\n",
    "\n",
    "    decryptedMsg = (encryptedMsg)d mod n = ((msg)e mod n)d = ((msg)e)d mod n = (msg) mod n = msg\n",
    "\n",
    "\n",
    "pagina con ejemplos https://doctrina.org/How-RSA-Works-With-Examples.html\n",
    "\n",
    "\n",
    "\n"
   ]
  },
  {
   "cell_type": "markdown",
   "metadata": {},
   "source": [
    "# Elliptic Curve Cryptography\n",
    "\n",
    "El ECC es un afamilia de criptsistemas de llave publica, es condiderado el sucesor natural de los RSA, porque utiliza llaves y firmas mas chicas que el RSA para el mismo nivel de seguridad y tiene un generación rapida de llaves, fast key agreement y fast signature\n",
    "\n",
    "## ECC llaves\n",
    "\n",
    "LAs llaves privadas en ECC son enteros (en el rango del tamaño del campo de la curva enteros de 256 bits usualmente). \n",
    "\n",
    "La llave geberada es muy rapida pues es un numero aleatorio en un rango\n",
    "\n",
    "La llave publica en ECC son puntos en la EC, $(x,y)$, estos puntos pueden ser comprimidos a una compoonete + 1 bot (impar o par) así un llave publica ompriida corresponde a una 256-boy llave privada ECC esta es un entero de 256 bits. \n",
    "\n",
    "## CUrva y longitud de llave\n",
    "\n",
    "Diferentes curvas proveen diferente nivel de seguridad, diferente desempño y diferente lsongitude de llave. y pude invoucrar diferentes algoritmos.\n",
    "\n",
    "LAs curvas tienen nombre en las librerias (secp256k1 or Curve25519), tamño de campo (qeu define la longitud e la llave), seguridad (security strength, tamlo de campo entre dos), desempeño (operaciones por cegundo) y otros parametros.\n",
    "\n",
    "La longitus de la llave normalmente es de 256-bits, pero dependientdo de la curva los tamaños son diferentes\n",
    "\n",
    "- 192-bit (curve secp192r1), \n",
    "- 233-bit (curve sect233k1), \n",
    "- 224-bit (curve secp224k1), \n",
    "- 256-bit (curves secp256k1 and Curve25519), \n",
    "- 283-bit (curve sect283k1), \n",
    "- 384-bit (curves p384 and secp384r1), \n",
    "- 409-bit (curve sect409r1), \n",
    "- 414-bit (curve Curve41417), \n",
    "- 448-bit (curve Curve448-Goldilocks), \n",
    "- 511-bit (curve M-511), \n",
    "- 521-bit (curve P-521), \n",
    "- 571-bit (curve sect571k1) \n",
    "\n",
    "y muchas otras. \n",
    "\n",
    "## ECC algoritmos\n",
    "\n",
    "- ECC digital signatures, algoritmos como ECDSA (curvas clasicas) EdDSA (curvas de Edwards)\n",
    "- ECC, pueden tener esqeumas hibridos de encriptación ECIES (integrated ebcription scheme) EEECC (EC- base ElGamal)\n",
    "- ECC key agreement, algrotimos como ECDH, X25519 y FHMQV\n",
    "\n",
    "La llave privada es un entero y la llave publica es un punto en la curva eliptica\n",
    "\n",
    "\n",
    "## Curvas elipticas\n",
    "\n",
    "Consisten en los puntos de un polinomio de tercer grado en dos variables.\n",
    "\n",
    "En al foram simplificada de Weierstrass, se define \n",
    "\n",
    "$$y ^2 = x^3 + ax +b$$\n",
    "\n",
    "La curva NIST curve secp2561 (https://en.bitcoin.it/wiki/Secp256k1) usada en Bitcoin, se basa en un curva de la forma \n",
    "\n",
    "$$y^2= x^3+7$$\n",
    "\n",
    "\n",
    "\n",
    "\n"
   ]
  },
  {
   "cell_type": "code",
   "execution_count": 98,
   "metadata": {},
   "outputs": [],
   "source": [
    "from IPython.display import IFrame, HTML, display"
   ]
  },
  {
   "cell_type": "code",
   "execution_count": 99,
   "metadata": {},
   "outputs": [],
   "source": [
    "#display(HTML('<iframe src=https://www.desmos.com/calculator/pvqawbnvak?embed width=700 height=350></iframe>'))\n",
    "#display(IFrame('https://www.desmos.com/calculator/pvqawbnvak', '100%', '600px'))"
   ]
  },
  {
   "cell_type": "code",
   "execution_count": 100,
   "metadata": {},
   "outputs": [
    {
     "data": {
      "text/html": [
       "\n",
       "        <iframe\n",
       "            width=\"700\"\n",
       "            height=\"350\"\n",
       "            src=\"https://www.desmos.com/calculator/pvqawbnvak\"\n",
       "            frameborder=\"0\"\n",
       "            allowfullscreen\n",
       "            \n",
       "        ></iframe>\n",
       "        "
      ],
      "text/plain": [
       "<IPython.lib.display.IFrame at 0x7fbeb29e3c70>"
      ]
     },
     "execution_count": 100,
     "metadata": {},
     "output_type": "execute_result"
    }
   ],
   "source": [
    "IFrame('https://www.desmos.com/calculator/pvqawbnvak', width=700, height=350)"
   ]
  },
  {
   "cell_type": "markdown",
   "metadata": {},
   "source": [
    "## Curvas elipticass sobre campos finitos\n",
    "\n",
    "Las curvs las utilizan sobre campos finitos $\\mathbb{F}_p$, con $p>3$ o $p=2^m$. \n",
    "\n",
    "La ECC usa puntos $(x,y)$ dentro del caompo de Galois $\\mathbb{F}_p$\n",
    "\n",
    "**Ejemplo:**\n",
    "\n",
    "$$y ^2 \\equiv x^3 + 7 \\bmod 17$$\n",
    "\n"
   ]
  },
  {
   "cell_type": "code",
   "execution_count": 107,
   "metadata": {},
   "outputs": [
    {
     "data": {
      "image/png": "[encoded data removed]",
      "text/latex": [
       "$\\displaystyle \\left\\{\\left( 1, \\  5\\right), \\left( 1, \\  12\\right), \\left( 2, \\  7\\right), \\left( 2, \\  10\\right), \\left( 3, \\  0\\right), \\left( 5, \\  8\\right), \\left( 5, \\  9\\right), \\left( 6, \\  6\\right), \\left( 6, \\  11\\right), \\left( 8, \\  3\\right), \\left( 8, \\  14\\right), \\left( 10, \\  2\\right), \\left( 10, \\  15\\right), \\left( 12, \\  1\\right), \\left( 12, \\  16\\right), \\left( 15, \\  4\\right), \\left( 15, \\  13\\right)\\right\\}$"
      ],
      "text/plain": [
       "{(1, 5), (1, 12), (2, 7), (2, 10), (3, 0), (5, 8), (5, 9), (6, 6), (6, 11), (8\n",
       ", 3), (8, 14), (10, 2), (10, 15), (12, 1), (12, 16), (15, 4), (15, 13)}"
      ]
     },
     "execution_count": 107,
     "metadata": {},
     "output_type": "execute_result"
    }
   ],
   "source": [
    "e = EllipticCurve(0,7,modulus = 17)\n",
    "e.points()"
   ]
  },
  {
   "cell_type": "markdown",
   "metadata": {},
   "source": [
    "Las curvas forman un grupo algebraico ciclico, el orden de la curva es el numero de elementos totalees de la curva. Algunas curvas tendrán subgrupos,  se satosface la condición de contabilidad $n=h*r$, $n$ es el numero total de elementos de l grupo $h$ numero de subgrupos y $r$ el orden. LOs subgrupos no se traslapan ni nada por el estilo.\n",
    "\n",
    "$h$ es llamado el cofactor. \n",
    "\n",
    "- cofactor = 1 curva secp256k1.\n",
    "- cofactor = 8 curva Curve25519.\n",
    "- cofactor = 4 curva Curve448.\n",
    "\n",
    "\n"
   ]
  },
  {
   "cell_type": "code",
   "execution_count": 109,
   "metadata": {},
   "outputs": [
    {
     "data": {
      "image/png": "[encoded data removed]",
      "text/latex": [
       "$\\displaystyle 17$"
      ],
      "text/plain": [
       "17"
      ]
     },
     "execution_count": 109,
     "metadata": {},
     "output_type": "execute_result"
    }
   ],
   "source": [
    "e.order"
   ]
  },
  {
   "cell_type": "code",
   "execution_count": 110,
   "metadata": {},
   "outputs": [
    {
     "data": {
      "image/png": "[encoded data removed]",
      "text/latex": [
       "$\\displaystyle 17$"
      ],
      "text/plain": [
       "17"
      ]
     },
     "execution_count": 110,
     "metadata": {},
     "output_type": "execute_result"
    }
   ],
   "source": [
    "e.characteristic"
   ]
  },
  {
   "cell_type": "code",
   "execution_count": 111,
   "metadata": {},
   "outputs": [
    {
     "data": {
      "image/png": "[encoded data removed]",
      "text/latex": [
       "$\\displaystyle -3$"
      ],
      "text/plain": [
       "-3"
      ]
     },
     "execution_count": 111,
     "metadata": {},
     "output_type": "execute_result"
    }
   ],
   "source": [
    "e.discriminant"
   ]
  },
  {
   "cell_type": "code",
   "execution_count": 113,
   "metadata": {},
   "outputs": [
    {
     "data": {
      "text/plain": [
       "False"
      ]
     },
     "execution_count": 113,
     "metadata": {},
     "output_type": "execute_result"
    }
   ],
   "source": [
    "e.is_singular"
   ]
  },
  {
   "cell_type": "code",
   "execution_count": 114,
   "metadata": {},
   "outputs": [
    {
     "data": {
      "image/png": "[encoded data removed]",
      "text/latex": [
       "$\\displaystyle 0$"
      ],
      "text/plain": [
       "0"
      ]
     },
     "execution_count": 114,
     "metadata": {},
     "output_type": "execute_result"
    }
   ],
   "source": [
    "e.j_invariant"
   ]
  },
  {
   "cell_type": "code",
   "execution_count": 116,
   "metadata": {},
   "outputs": [
    {
     "data": {
      "text/plain": [
       "E(GF(17)): Eq(y**2*z, x**3 + 5*z**3)"
      ]
     },
     "execution_count": 116,
     "metadata": {},
     "output_type": "execute_result"
    }
   ],
   "source": [
    "e.minimal()"
   ]
  },
  {
   "cell_type": "code",
   "execution_count": 117,
   "metadata": {},
   "outputs": [
    {
     "data": {
      "image/png": "[encoded data removed]",
      "text/latex": [
       "$\\displaystyle 17$"
      ],
      "text/plain": [
       "17"
      ]
     },
     "execution_count": 117,
     "metadata": {},
     "output_type": "execute_result"
    }
   ],
   "source": [
    "e.modulus"
   ]
  },
  {
   "cell_type": "code",
   "execution_count": 118,
   "metadata": {},
   "outputs": [
    {
     "data": {
      "image/png": "[encoded data removed]",
      "text/latex": [
       "$\\displaystyle 0$"
      ],
      "text/plain": [
       "0"
      ]
     },
     "execution_count": 118,
     "metadata": {},
     "output_type": "execute_result"
    }
   ],
   "source": [
    "e.rank"
   ]
  },
  {
   "cell_type": "code",
   "execution_count": null,
   "metadata": {},
   "outputs": [],
   "source": [
    "e.torsion_points()"
   ]
  },
  {
   "cell_type": "markdown",
   "metadata": {},
   "source": [
    "Si el grupo es pequeña la seguridad es debil, ( \"small-subgroup\" attacks.). En el ejemplo anterior tomamos dos diferentes eleemtos y los operramos de fiorma sucesiva, podemos observarcomo cada elemento genera diferentes grupos\n"
   ]
  },
  {
   "cell_type": "code",
   "execution_count": 130,
   "metadata": {},
   "outputs": [
    {
     "name": "stdout",
     "output_type": "stream",
     "text": [
      "(-2, -4),(2, -7),(8, 3),(-5, 1),(6, 6),(5, 8),(-7, -2),(1, -5),(3, 0),(1, 5),(-7, 2),(5, -8),(6, -6),(-5, -1),(8, -3),(2, 7),(-2, 4),O,\n",
      "\n",
      "\n",
      "(5, -8),(5, 8),O,"
     ]
    }
   ],
   "source": [
    "e1 = ec(0,7,modulus = 17)\n",
    "p1 = e1(15,13)\n",
    "p2 = e1(5,9)\n",
    "\n",
    "a = e1.point_at_infinity(e1)\n",
    "\n",
    "for i in range(1,19):\n",
    "    print(p1*i,end=\",\")\n",
    "    \n",
    "print(\"\\n\\n\")        \n",
    "\n",
    "for i in range(1,4):\n",
    "    print(p2*i,end=\",\")"
   ]
  },
  {
   "cell_type": "markdown",
   "metadata": {},
   "source": [
    "## Llave pública llave privada y generador \n",
    "\n",
    "Toamamos al \n",
    "\n",
    "- elemento $G$\n",
    "- entero $k$  **llave privada** \n",
    "- $P = k*G$  **llave pública**\n",
    "\n",
    "(e aquñi la rapidez) el tiempo de calulo de la llave pública es log2(k)\n",
    "\n",
    "Pero para grandes valores de $k$, calcular $k = P/G$ es muy lento\n",
    "\n",
    "\n",
    "Esto es lo que le da la seguridad a las ECC y se conoce como el problema de ECDLP"
   ]
  },
  {
   "cell_type": "markdown",
   "metadata": {},
   "source": [
    "## Problema de logaritmo discreto en CurvaS Elipticas (ECDLP)\n",
    "\n",
    "\n",
    "para una curva eliptica sobre un campo finito $\\mathbb{F}_p$ y un punto generador $G$ y un punto $P\\in EC$ encontrar el entero $k$ tal que $P = k*G$\n",
    "\n",
    "La suma en ECC es similar a la potencia en $\\mathbb{Z}_p$, una es un grupo muktiplicativo y el otro es un grupo aditivo (por eso la similaridad).\n",
    "\n",
    "El algorimto mas eficiente necesita $\\sqrt{k}$ pasos para encontrar el valor de una llave de longitud $k$, \n",
    "\n",
    "La curva eliptica de 256 bits (donde p es un numero de 256 bits) provee una seguridad de 128 bits. Mas detyales osbre la seguridad http://safecurves.cr.yp.to/rho.html\n",
    "\n",
    "\n",
    "\n",
    "\n"
   ]
  },
  {
   "cell_type": "markdown",
   "metadata": {},
   "source": [
    "## Compresion de llave publica\n",
    "\n",
    "EC sobre campos finitos, tiene a los mas dos  putnos que comparten la misma \"x\"\n",
    "\n",
    "![](https://wizardforcel.gitbooks.io/practical-cryptography-for-developers-book/content/assets/elliptic-curve-over-f17-points-per-y-coordinate.png)\n",
    "\n",
    "Asi se puede mapear un puntos $(x,y)$ a la forma $(x,impar/par)$ asi solo se utiiza un bit en $y$. Y con el valor de $x$ se puede calcular la $y$ correspondiente cuando sea necesario (descomprimir)\n",
    "\n",
    "\n",
    "    y1 = mod_sqrt(x^3 + ax + b, p)\n",
    "    y2 = p - mod_sqrt(x^3 + ax + b, p)\n",
    "\n",
    "La raíz modular puede ser calculada utilizando el algoritmo Tonelli–Shanks algorithm (https://en.wikipedia.org/wiki/Tonelli%E2%80%93Shanks_algorithm)\n",
    "\n",
    "Por ejemplo, $(10,15)\\rightarrow (10,\\text{impar})$ con las fomulas modulares anteriores se tiene que $y_1=2$ y $y_2=15$ cuando $x=10$, asi se puede recontruir el valor original\n",
    "\n",
    "\n"
   ]
  },
  {
   "cell_type": "markdown",
   "metadata": {},
   "source": [
    "## Estandar de criptgrafia pra ECC\n",
    "\n",
    "- http://www.secg.org/sec2-v2.pdf\n",
    "- https://nvlpubs.nist.gov/nistpubs/FIPS/NIST.FIPS.186-4.pdf\n",
    "- https://tools.ietf.org/html/rfc5639\n",
    "\n",
    "Estandares segun Daniel Berstein https://safecurves.cr.yp.to.\n",
    "\n",
    "## Elegir EC\n",
    "\n",
    "Por lo menos de 256 bits en la lista https://safecurves.cr.yp.to.\n",
    "\n",
    "un ejmplo de como se forma una curva secp256k1 (curva de bitcoin)\n",
    "\n",
    "\n",
    "    p (modulus) = 0xFFFFFFFFFFFFFFFFFFFFFFFFFFFFFFFFFFFFFFFFFFFFFFFFFFFFFFFEFFFFFC2F\n",
    "    n (order; size; the count of all possible EC points) = 0xFFFFFFFFFFFFFFFFFFFFFFFFFFFFFFFEBAAEDCE6AF48A03BBFD25E8CD0364141\n",
    "    a (the constant \"a\" in y^2 ≡ x^3 + a*x + b (mod p)) = 0x0000000000000000000000000000000000000000000000000000000000000000\n",
    "    b (the constant \"b\" in y^2 ≡ x^3 + a*x + b (mod p)) = 0x0000000000000000000000000000000000000000000000000000000000000007\n",
    "    g (the curve generator point G {x, y}) = (0x79BE667EF9DCBBAC55A06295CE870B07029BFCDB2DCE28D959F2815B16F81798, 0x483ada7726a3c4655da4fbfc0e1108a8fd17b448a68554199c47d08ffb10d4b8)\n",
    "    h (cofactor, typically 1) = 01\n",
    "\n",
    "el mejor algoritmo no cuantico puede llevar acabo $2^{128}$ operaciones. "
   ]
  },
  {
   "cell_type": "markdown",
   "metadata": {},
   "source": [
    "## Curvas de Edwards\n",
    "\n",
    "Hay fomas diferentes para representar a las curvas eliticas, \n",
    "\n",
    "**Forma de Weierstrass**\n",
    "\n",
    "$$y^2 = x^3+ax+b$$\n",
    "\n",
    "Un ehjemplo es la ECC `secp256k1` que tienen la forma $y^2=x^3+7$\n",
    "\n",
    "**Forma de Montgomery**\n",
    "\n",
    "$$By^2 = x^3+Ax^2+x$$\n",
    "\n",
    "Un ejemplo es la ECC `Curve25519` que tiene la forma $y^2 = x^3 + 486662x^2 + x$\n",
    "\n",
    "**Forma de Edwards**\n",
    "\n",
    "$$x^2+y^2=1 + dx^2y^2$$\n",
    "\n",
    "Un ejemplo es la ECC `Curve448`, que tienen la forma $x^2 + y^2 = 1-39081x^2y^2$\n",
    "\n",
    "Por cuestiones de desempeño, es usual utilizar las curvas en forma de Edwards "
   ]
  },
  {
   "cell_type": "code",
   "execution_count": 131,
   "metadata": {},
   "outputs": [
    {
     "data": {
      "text/html": [
       "\n",
       "        <iframe\n",
       "            width=\"700\"\n",
       "            height=\"350\"\n",
       "            src=\"https://www.desmos.com/calculator/55lmmdbalv\"\n",
       "            frameborder=\"0\"\n",
       "            allowfullscreen\n",
       "            \n",
       "        ></iframe>\n",
       "        "
      ],
      "text/plain": [
       "<IPython.lib.display.IFrame at 0x7fbeb393ec70>"
      ]
     },
     "execution_count": 131,
     "metadata": {},
     "output_type": "execute_result"
    }
   ],
   "source": [
    "IFrame('https://www.desmos.com/calculator/55lmmdbalv', width=700, height=350)"
   ]
  },
  {
   "cell_type": "markdown",
   "metadata": {},
   "source": [
    "Se puede pasar de la forma de Edwards a al forma de Weierstrass y tener las mismas propiedades de las curvas elipticas (isomorfas?)\n",
    "\n",
    "Ejmplos de curvas de Edwards\n",
    "\n",
    "- Curve1174 (251-bit), \n",
    "- Curve25519 (255-bit), \n",
    "- Curve383187 (383-bit), \n",
    "- Curve41417 (414-bit), \n",
    "- Curve448 (448-bit), \n",
    "- E-521 (521-bit)\n",
    "\n"
   ]
  },
  {
   "cell_type": "markdown",
   "metadata": {},
   "source": [
    "## Curve25519, X25519 y Ed25519\n",
    "\n",
    "Las curvas de Edwards sobre campos finitos, pueden implementar ECC criptosistemas capaces de preoveer ECDH key agreement schemes, digital sognatures y hybrid encryption schemes, con muy alto desempeño.\n",
    "\n",
    "La Curve25519 es una curva de Edwards definida por la sigueinte ecuación en la forma de Montgomery\n",
    "\n",
    "$$y^2 = x^3 + 486662x^2 +x$$\n",
    "\n",
    "Sobre el campo finito primo $\\mathbb{F}_p$ donde $p = 2^{255} - 19$ (curva de 255 bits)\n",
    "\n",
    "Esta curva es Isomorfa a la twisted Edwards curve (edwards25519)\n",
    "\n",
    "$$-x^2 + y^2 = 1 + 37095705934669439343138083508754565189542113879843219016388785533085940283555x^2y^2$$\n",
    "\n",
    "La curva `Curve25519` consiste en todos los puntos $(x,y)$ con coordenadas enteras defindas por las ecuación modular.\n",
    "\n",
    "\n",
    "$$y^2\\equiv  x^3 + 486662x^2 + x \\bmod  2^{255} - 19$$\n",
    "\n",
    "Fue diseñada por Daniel Bernstein para alcanzar altas velocidades son comprometer la seguridad.\n",
    "\n",
    "- Su orden $n = 2^{252} + 0x14def9dea2f79cd65812631a5cf5d3ed $\n",
    "\n",
    "- $h=8$\n",
    "\n",
    "- 128.8 bit security strength\n",
    "\n",
    "- Las llaves privadas se codifican como 256 bits\n",
    "\n",
    "- Las llaves publicas se codifican 256-bits\n",
    "\n",
    "\n",
    "Se deriva una función EDCH llamada X25519 (usada or ECDH key agreement schemes), y se deriva un digital signature scheme llamado Ed25519 basado en el algoritmo EdDSA. Estos esquemas son muy rapidos, X25519 y Ed25519 no son directamente compatibles y requieren conversión si se untilizan en mismopar de llaves"
   ]
  },
  {
   "cell_type": "markdown",
   "metadata": {},
   "source": [
    "## Curve448, X448 y Ed448\n",
    "\n",
    "La curva Curve448 es ima citva de Edwards definida como \n",
    "\n",
    "$$x^2 + y^2 = 1 - 39081x^2y^2$$\n",
    "\n",
    "Sobre el campo finito primo $\\mathbb{F}_p$ donde $p = 2^{448} -2^{224} -1 $ \n",
    "\n",
    "- Su orden $n = 2^{446} - 0x8335dc163bb124b65129c96fde933d8d723a70aadc873d6d54a7bb0d$\n",
    "- $h= 4$\n",
    "- 222.8 bits de seguridad\n",
    "- Llave privada de 446 bits -> 448\n",
    "- Laave publica de 448 bits\n",
    "\n",
    "La curva es apropiad para ECDH key agreement (X448), rapidas digital signatures (algoritmo EdDSA, conocido como Ed448 o edwards448) de igual forma  que antes, estos protocolos tienen que transformase para poder usarse. \n",
    "\n"
   ]
  },
  {
   "cell_type": "markdown",
   "metadata": {},
   "source": [
    "## ECDH intercambio de Llavs (Elliptic curve Diffie-Hellman Key Exchange)\n",
    "\n",
    "El ECDH es un anonymous key agreement scheme, que permite a las dos partes (que tienen ECC) establecer un **shared secret** sobre un canal inseguro. \n",
    "Es similar DHKE pero usa suma de puntos en ECC (multipkicación por enteros) en lugat de exponencia modular.\n",
    "\n",
    "El ECDH se basa en la siguiente propiedad de los puntos EC\n",
    "\n",
    "$$(a * G) * b = (b * G) * a$$\n",
    "\n",
    "Si se tienen dos numeros secretos a y b (dos llaves privadas, que pertenecen a ALice Y bob) y una ECC con genrador $G$, se pueden intercambiar los valores $(a*G)$ y $(b*G)$ (las llaves publicas de Alice y Bob) y entonces se puede derivar el secreto compartido $secret = (a * G) * b = (b * G) * a.$ Esta operación tiene la forma\n",
    "\n",
    "\n",
    "- alicePubKey * bobPrivKey = bobPubKey * alicePrivKey = secret\n",
    "\n",
    "El algoritmo ECDH:\n",
    "\n",
    "1. Alice genera un par de llaves de EC aleatoeio {alicePrivKey, alicePubKey = alicePrivKey * G}\n",
    "2. BoB genera un par de llaves de EC aleatoeio {bobPrivKey, bobPubKey = bobPrivKey * G}\n",
    "3. Alice y Bob intercambian sus llaves publicas a travez de un canal inseguro (e.g. internet)\n",
    "4. Alice calcula sharedKey = bobPubKey * alicePrivKey\n",
    "5. Bob calula sharedKey = alicePubKey * bobPrivKey\n",
    "6. Ahora Alice y Boob tienen el mismo sharedKey == bobPubKey * alicePrivKey == alicePubKey * bobPrivKey\n"
   ]
  },
  {
   "cell_type": "markdown",
   "metadata": {},
   "source": [
    "## ECC Encriptación / decriptación\n",
    "\n",
    "Esto noes trivial y en ocaciones requiere de diseño de esquemas de encriptación hibridos (ECC, ECDH, encriptación simetrica)\n",
    "\n",
    "Recordamos de que se trata la encriptación asimetrica\n",
    "\n",
    "![](https://wizardforcel.gitbooks.io/practical-cryptography-for-developers-book/content/assets/asymmetric-encryption-diagram.png)\n",
    "\n",
    "\n",
    "Lo anterior puede llevarse acabo meiante un proceso RSA, pero por un ECC no puede relizarlo de forma directa, por lo que se diseña un esquema hibrido de encriptación usando ECDH para derivar un shared secret key\n",
    "\n",
    "Proceso de encriptación hibrida\n",
    "\n",
    "![](https://wizardforcel.gitbooks.io/practical-cryptography-for-developers-book/content/assets/hybrid-encryption.png)\n",
    "\n",
    "Proceso de decriptación hibrida\n",
    "\n",
    "![](https://wizardforcel.gitbooks.io/practical-cryptography-for-developers-book/content/assets/hybrid-decryption.png)\n",
    "\n",
    "\n",
    "\n",
    "\n",
    "\n"
   ]
  },
  {
   "cell_type": "markdown",
   "metadata": {},
   "source": [
    "## ECC Basa en derivación de llave secreta (usando ECDH)\n",
    "\n",
    "Asumimos que tenemos ECC sobre un campo finito, sobre su generador $G$. Podemos uar las sogueintes dos funciones para calcular una llave secreta compartida para encriptar y decriptar (derivado del esqeuma ECDH):\n",
    "\n",
    "\n",
    "- calculateEncryptionKey(pubKey) --> (sharedECCKey, ciphertextPubKey)\n",
    "  - Generate ciphertextPrivKey = new random private key.\n",
    "  - Calculate ciphertextPubKey = ciphertextPrivKey * G.\n",
    "  - Calculate the ECDH shared secret: sharedECCKey = pubKey * ciphertextPrivKey.\n",
    "  - Return both the sharedECCKey + ciphertextPubKey. Use the sharedECCKey for symmetric encryption. Use the randomly generated ciphertextPubKey to calculate the decryption key later.\n",
    "\n",
    "- calculateDecryptionKey(privKey, ciphertextPubKey) --> sharedECCKey\n",
    "  - Calculate the the ECDH shared secret: sharedECCKey = ciphertextPubKey * privKey.\n",
    "  - Return the sharedECCKey and use it for the decryption.\n",
    "  \n",
    "\n",
    "Los calculos anteriores muestran utilizan la misma matematica que ECDH, recordemos al porpiedad \n",
    "\n",
    "$(a*G)*b = (b*G)*a\n",
    "\n",
    "ahora, se asume a = privKey, a * G = pubKey, b = ciphertextPrivKey, b * G = ciphertextPubKey.\n",
    "\n",
    "LA ecuación anterior toma la sigueinte forma\n",
    "\n",
    "\n",
    "    pubKey * ciphertextPrivKey = ciphertextPubKey * privKey = sharedECCKey\n",
    "\n",
    "Esto es como lo anterior directamente al seguir en ECDH key agreement. En el esquema de encriptación hibrida el encapsulamiento ciphertextPubKey, es tambien conocido como \"ephermal key\", porque este es usado temporalmente para derivar al llave de encriptación simetrica, usando el ECDH key agreement scheme. \n",
    "\n",
    "## ECIES esquema hibrido de encriptación\n",
    "\n",
    "## ECIES ejemplo encriptación\n",
    "\n",
    "## ECIES ejercicio\n",
    "\n",
    "\n"
   ]
  },
  {
   "cell_type": "markdown",
   "metadata": {},
   "source": [
    "# Firmas digitales (ECDSA, EdDSA)\n",
    "\n"
   ]
  },
  {
   "cell_type": "markdown",
   "metadata": {},
   "source": [
    "# Quantum-safe Cryptography\n",
    "\n",
    "\n",
    "post-quantum cryptography\n",
    "\n",
    "\n",
    "\n",
    "https://ianix.com/pqcrypto/pqcrypto-deployment.html "
   ]
  },
  {
   "cell_type": "markdown",
   "metadata": {},
   "source": [
    "# Referencias \n",
    "\n",
    "\n",
    "Number Theory SymPy [enlace](https://docs.sympy.org/latest/modules/ntheory.html#) \n",
    "\n",
    "https://datatracker.ietf.org/doc/html/rfc7748#section-5\n",
    "\n"
   ]
  },
  {
   "cell_type": "code",
   "execution_count": null,
   "metadata": {},
   "outputs": [],
   "source": []
  }
 ],
 "metadata": {
  "celltoolbar": "Slideshow",
  "kernelspec": {
   "display_name": "Python 3 (ipykernel)",
   "language": "python",
   "name": "python3"
  },
  "language_info": {
   "codemirror_mode": {
    "name": "ipython",
    "version": 3
   },
   "file_extension": ".py",
   "mimetype": "text/x-python",
   "name": "python",
   "nbconvert_exporter": "python",
   "pygments_lexer": "ipython3",
   "version": "3.8.5"
  },
  "toc": {
   "base_numbering": 1,
   "nav_menu": {},
   "number_sections": true,
   "sideBar": false,
   "skip_h1_title": false,
   "title_cell": "Contenido",
   "title_sidebar": "Contenido",
   "toc_cell": true,
   "toc_position": {
    "height": "1029px",
    "left": "1337px",
    "top": "137.133px",
    "width": "210.8px"
   },
   "toc_section_display": true,
   "toc_window_display": true
  }
 },
 "nbformat": 4,
 "nbformat_minor": 4
}
